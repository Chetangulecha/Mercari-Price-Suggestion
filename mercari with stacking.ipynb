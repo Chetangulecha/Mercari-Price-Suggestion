{
  "nbformat": 4,
  "nbformat_minor": 0,
  "metadata": {
    "kernelspec": {
      "display_name": "Python 3",
      "language": "python",
      "name": "python3"
    },
    "language_info": {
      "codemirror_mode": {
        "name": "ipython",
        "version": 3
      },
      "file_extension": ".py",
      "mimetype": "text/x-python",
      "name": "python",
      "nbconvert_exporter": "python",
      "pygments_lexer": "ipython3",
      "version": "3.6.8"
    },
    "colab": {
      "name": "mercari.ipynb",
      "provenance": [],
      "collapsed_sections": []
    }
  },
  "cells": [
    {
      "cell_type": "code",
      "metadata": {
        "id": "GA4eAiTyuL68"
      },
      "source": [
        "import pandas as pd\n",
        "from collections import Counter\n",
        "import matplotlib.pyplot as plt\n",
        "import seaborn as sns\n",
        "import numpy as np\n",
        "import re\n",
        "from tqdm import tqdm\n",
        "import gc\n",
        "from scipy import hstack\n",
        "from sklearn.feature_extraction.text import CountVectorizer\n",
        "from sklearn.feature_extraction.text import TfidfVectorizer\n",
        "from sklearn.metrics import mean_squared_error as mse\n",
        "from math import sqrt\n",
        "from sklearn.linear_model import Ridge"
      ],
      "execution_count": 2,
      "outputs": []
    },
    {
      "cell_type": "code",
      "metadata": {
        "colab": {
          "base_uri": "https://localhost:8080/"
        },
        "id": "j9EHlE5duVUq",
        "outputId": "4adf2a91-902a-466d-f5b7-37c10c1cf77e"
      },
      "source": [
        "from google.colab import drive\r\n",
        "drive.mount('/content/drive')"
      ],
      "execution_count": 3,
      "outputs": [
        {
          "output_type": "stream",
          "text": [
            "Drive already mounted at /content/drive; to attempt to forcibly remount, call drive.mount(\"/content/drive\", force_remount=True).\n"
          ],
          "name": "stdout"
        }
      ]
    },
    {
      "cell_type": "code",
      "metadata": {
        "id": "b9s-WRb3cyd6"
      },
      "source": [
        ""
      ],
      "execution_count": 3,
      "outputs": []
    },
    {
      "cell_type": "code",
      "metadata": {
        "id": "ciydZzxauL7P"
      },
      "source": [
        "def split_cat(text):\n",
        "    try:\n",
        "        return text.split(\"/\")\n",
        "    except:\n",
        "        return (\"No Label\", \"No Label\", \"No Label\")"
      ],
      "execution_count": 4,
      "outputs": []
    },
    {
      "cell_type": "code",
      "metadata": {
        "id": "uR4fJ9ABuL7R"
      },
      "source": [
        "train = pd.read_csv('/content/drive/MyDrive/Colab Notebooks/ML project/train.tsv', sep='\\t', \n",
        "                      dtype={'item_condition_id': 'category', 'shipping': 'category'}, \n",
        "                      converters={'category_name': split_cat})\n",
        "test = pd.read_csv('/content/drive/MyDrive/Colab Notebooks/ML project/test.tsv', sep='\\t', \n",
        "                     dtype={'item_condition_id': 'category', 'shipping': 'category'}, \n",
        "                     converters={'category_name': split_cat})"
      ],
      "execution_count": 5,
      "outputs": []
    },
    {
      "cell_type": "code",
      "metadata": {
        "colab": {
          "base_uri": "https://localhost:8080/",
          "height": 224
        },
        "id": "9dfr6spEuL7T",
        "outputId": "33a7900e-c007-4665-ca69-4d9200827a9a"
      },
      "source": [
        "print('Shape of train data: ', train.shape)\n",
        "print('Shape of test data: ', test.shape)\n",
        "test[test.id == 17]"
      ],
      "execution_count": 6,
      "outputs": [
        {
          "output_type": "stream",
          "text": [
            "Shape of train data:  (1037774, 8)\n",
            "Shape of test data:  (444761, 7)\n"
          ],
          "name": "stdout"
        },
        {
          "output_type": "execute_result",
          "data": {
            "text/html": [
              "<div>\n",
              "<style scoped>\n",
              "    .dataframe tbody tr th:only-of-type {\n",
              "        vertical-align: middle;\n",
              "    }\n",
              "\n",
              "    .dataframe tbody tr th {\n",
              "        vertical-align: top;\n",
              "    }\n",
              "\n",
              "    .dataframe thead th {\n",
              "        text-align: right;\n",
              "    }\n",
              "</style>\n",
              "<table border=\"1\" class=\"dataframe\">\n",
              "  <thead>\n",
              "    <tr style=\"text-align: right;\">\n",
              "      <th></th>\n",
              "      <th>id</th>\n",
              "      <th>name</th>\n",
              "      <th>item_condition_id</th>\n",
              "      <th>category_name</th>\n",
              "      <th>brand_name</th>\n",
              "      <th>shipping</th>\n",
              "      <th>item_description</th>\n",
              "    </tr>\n",
              "  </thead>\n",
              "  <tbody>\n",
              "    <tr>\n",
              "      <th>87057</th>\n",
              "      <td>17</td>\n",
              "      <td>New: Baby K'tan active baby carrier</td>\n",
              "      <td>1</td>\n",
              "      <td>[Kids, Gear, Backpacks &amp; Carriers]</td>\n",
              "      <td>NaN</td>\n",
              "      <td>1</td>\n",
              "      <td>Brand new in box Size: Medium Color: Coral Ret...</td>\n",
              "    </tr>\n",
              "  </tbody>\n",
              "</table>\n",
              "</div>"
            ],
            "text/plain": [
              "       id  ...                                   item_description\n",
              "87057  17  ...  Brand new in box Size: Medium Color: Coral Ret...\n",
              "\n",
              "[1 rows x 7 columns]"
            ]
          },
          "metadata": {
            "tags": []
          },
          "execution_count": 6
        }
      ]
    },
    {
      "cell_type": "code",
      "metadata": {
        "colab": {
          "base_uri": "https://localhost:8080/",
          "height": 153
        },
        "id": "64jZNYjUuL7Y",
        "outputId": "5fec458d-4d88-456d-e337-029e6927239b"
      },
      "source": [
        "train[train.train_id == 8]"
      ],
      "execution_count": 7,
      "outputs": [
        {
          "output_type": "execute_result",
          "data": {
            "text/html": [
              "<div>\n",
              "<style scoped>\n",
              "    .dataframe tbody tr th:only-of-type {\n",
              "        vertical-align: middle;\n",
              "    }\n",
              "\n",
              "    .dataframe tbody tr th {\n",
              "        vertical-align: top;\n",
              "    }\n",
              "\n",
              "    .dataframe thead th {\n",
              "        text-align: right;\n",
              "    }\n",
              "</style>\n",
              "<table border=\"1\" class=\"dataframe\">\n",
              "  <thead>\n",
              "    <tr style=\"text-align: right;\">\n",
              "      <th></th>\n",
              "      <th>train_id</th>\n",
              "      <th>name</th>\n",
              "      <th>item_condition_id</th>\n",
              "      <th>category_name</th>\n",
              "      <th>brand_name</th>\n",
              "      <th>price</th>\n",
              "      <th>shipping</th>\n",
              "      <th>item_description</th>\n",
              "    </tr>\n",
              "  </thead>\n",
              "  <tbody>\n",
              "    <tr>\n",
              "      <th>93039</th>\n",
              "      <td>8</td>\n",
              "      <td>Girls Nike Pro shorts</td>\n",
              "      <td>3</td>\n",
              "      <td>[Sports &amp; Outdoors, Apparel, Girls]</td>\n",
              "      <td>Nike</td>\n",
              "      <td>19.0</td>\n",
              "      <td>0</td>\n",
              "      <td>Girls Size small Plus green. Three shorts total.</td>\n",
              "    </tr>\n",
              "  </tbody>\n",
              "</table>\n",
              "</div>"
            ],
            "text/plain": [
              "       train_id  ...                                  item_description\n",
              "93039         8  ...  Girls Size small Plus green. Three shorts total.\n",
              "\n",
              "[1 rows x 8 columns]"
            ]
          },
          "metadata": {
            "tags": []
          },
          "execution_count": 7
        }
      ]
    },
    {
      "cell_type": "code",
      "metadata": {
        "colab": {
          "base_uri": "https://localhost:8080/"
        },
        "id": "0EvQGUSRuL7b",
        "outputId": "1dfa985f-4a6d-48f8-c9ae-83eefbc34112"
      },
      "source": [
        "train.isnull().any()"
      ],
      "execution_count": 8,
      "outputs": [
        {
          "output_type": "execute_result",
          "data": {
            "text/plain": [
              "train_id             False\n",
              "name                 False\n",
              "item_condition_id    False\n",
              "category_name        False\n",
              "brand_name            True\n",
              "price                False\n",
              "shipping             False\n",
              "item_description      True\n",
              "dtype: bool"
            ]
          },
          "metadata": {
            "tags": []
          },
          "execution_count": 8
        }
      ]
    },
    {
      "cell_type": "code",
      "metadata": {
        "colab": {
          "base_uri": "https://localhost:8080/"
        },
        "id": "Zy4l4jRruL7e",
        "outputId": "1465b430-4378-478c-cdcf-ceff9bc74d3f"
      },
      "source": [
        "test.isnull().any()"
      ],
      "execution_count": 9,
      "outputs": [
        {
          "output_type": "execute_result",
          "data": {
            "text/plain": [
              "id                   False\n",
              "name                 False\n",
              "item_condition_id    False\n",
              "category_name        False\n",
              "brand_name            True\n",
              "shipping             False\n",
              "item_description      True\n",
              "dtype: bool"
            ]
          },
          "metadata": {
            "tags": []
          },
          "execution_count": 9
        }
      ]
    },
    {
      "cell_type": "code",
      "metadata": {
        "id": "xr6EpH5_uL7g"
      },
      "source": [
        "# Split category_name by '/' into subcategories and replace nulls with 'missing'\n",
        "train['gencat_name'] = train['category_name'].str.get(0).replace('', 'missing').astype('category')\n",
        "train['subcat1_name'] = train['category_name'].str.get(1).fillna('missing').astype('category')\n",
        "train['subcat2_name'] = train['category_name'].str.get(2).fillna('missing').astype('category')\n",
        "train.drop('category_name', axis=1, inplace=True)\n",
        "\n",
        "# Split category_name by '/' into subcategories and replace nulls with 'missing'\n",
        "test['gencat_name'] = test['category_name'].str.get(0).replace('', 'missing').astype('category')\n",
        "test['subcat1_name'] = test['category_name'].str.get(1).fillna('missing').astype('category')\n",
        "test['subcat2_name'] = test['category_name'].str.get(2).fillna('missing').astype('category')\n",
        "test.drop('category_name', axis=1, inplace=True)\n",
        "\n",
        "train['item_description'].fillna('missing', inplace=True)\n",
        "train['brand_name'] = train['brand_name'].fillna('missing').astype('category')\n",
        "\n",
        "test['item_description'].fillna('missing', inplace=True)\n",
        "test['brand_name'] = test['brand_name'].fillna('missing').astype('category')"
      ],
      "execution_count": 10,
      "outputs": []
    },
    {
      "cell_type": "code",
      "metadata": {
        "colab": {
          "base_uri": "https://localhost:8080/",
          "height": 69
        },
        "id": "4Lb6aKacuL7i",
        "outputId": "50de2f84-f286-4b4d-b75c-fda96e4e514e"
      },
      "source": [
        "train[train.duplicated()] #Check for duplicate rows, NAs"
      ],
      "execution_count": 11,
      "outputs": [
        {
          "output_type": "execute_result",
          "data": {
            "text/html": [
              "<div>\n",
              "<style scoped>\n",
              "    .dataframe tbody tr th:only-of-type {\n",
              "        vertical-align: middle;\n",
              "    }\n",
              "\n",
              "    .dataframe tbody tr th {\n",
              "        vertical-align: top;\n",
              "    }\n",
              "\n",
              "    .dataframe thead th {\n",
              "        text-align: right;\n",
              "    }\n",
              "</style>\n",
              "<table border=\"1\" class=\"dataframe\">\n",
              "  <thead>\n",
              "    <tr style=\"text-align: right;\">\n",
              "      <th></th>\n",
              "      <th>train_id</th>\n",
              "      <th>name</th>\n",
              "      <th>item_condition_id</th>\n",
              "      <th>brand_name</th>\n",
              "      <th>price</th>\n",
              "      <th>shipping</th>\n",
              "      <th>item_description</th>\n",
              "      <th>gencat_name</th>\n",
              "      <th>subcat1_name</th>\n",
              "      <th>subcat2_name</th>\n",
              "    </tr>\n",
              "  </thead>\n",
              "  <tbody>\n",
              "  </tbody>\n",
              "</table>\n",
              "</div>"
            ],
            "text/plain": [
              "Empty DataFrame\n",
              "Columns: [train_id, name, item_condition_id, brand_name, price, shipping, item_description, gencat_name, subcat1_name, subcat2_name]\n",
              "Index: []"
            ]
          },
          "metadata": {
            "tags": []
          },
          "execution_count": 11
        }
      ]
    },
    {
      "cell_type": "code",
      "metadata": {
        "colab": {
          "base_uri": "https://localhost:8080/"
        },
        "id": "YSpJWCiauL7k",
        "outputId": "8410420b-6156-4391-80d2-9577ce660eb8"
      },
      "source": [
        "print('Removed {} rows' .format(len(train[train.price<=0])))\n",
        "train = train[train.price > 0].reset_index(drop=True)\n"
      ],
      "execution_count": 12,
      "outputs": [
        {
          "output_type": "stream",
          "text": [
            "Removed 604 rows\n"
          ],
          "name": "stdout"
        }
      ]
    },
    {
      "cell_type": "code",
      "metadata": {
        "colab": {
          "base_uri": "https://localhost:8080/"
        },
        "id": "5vwv4ucNuL7l",
        "outputId": "c906b759-4340-4a46-e5bc-a6862214280f"
      },
      "source": [
        "train.name.describe()"
      ],
      "execution_count": 13,
      "outputs": [
        {
          "output_type": "execute_result",
          "data": {
            "text/plain": [
              "count     1037170\n",
              "unique     877408\n",
              "top        Bundle\n",
              "freq         1553\n",
              "Name: name, dtype: object"
            ]
          },
          "metadata": {
            "tags": []
          },
          "execution_count": 13
        }
      ]
    },
    {
      "cell_type": "code",
      "metadata": {
        "colab": {
          "base_uri": "https://localhost:8080/"
        },
        "id": "4a-hwgz8uL7p",
        "outputId": "8d86041c-154c-466f-91e5-d5da7d9ef865"
      },
      "source": [
        "train.item_condition_id.describe()"
      ],
      "execution_count": 14,
      "outputs": [
        {
          "output_type": "execute_result",
          "data": {
            "text/plain": [
              "count     1037170\n",
              "unique          5\n",
              "top             1\n",
              "freq       448197\n",
              "Name: item_condition_id, dtype: object"
            ]
          },
          "metadata": {
            "tags": []
          },
          "execution_count": 14
        }
      ]
    },
    {
      "cell_type": "code",
      "metadata": {
        "colab": {
          "base_uri": "https://localhost:8080/",
          "height": 388
        },
        "id": "ooU8fTl6uL7r",
        "outputId": "e9e90c25-d408-4179-f31b-ce60a74e9612"
      },
      "source": [
        "condition_count = Counter(list(train.item_condition_id))\n",
        "x, y = zip(*condition_count.most_common())\n",
        "plt.figure(figsize=[8,6])\n",
        "plt.bar(x, y)\n",
        "for i, val in enumerate(y):\n",
        "           plt.annotate(val, (x[i], y[i]), color='b')\n",
        "plt.xlabel('item condition')\n",
        "plt.ylabel('count')\n",
        "plt.grid(True, axis='y')\n",
        "plt.show()"
      ],
      "execution_count": 15,
      "outputs": [
        {
          "output_type": "display_data",
          "data": {
            "image/png": "[encoded data removed]",
            "text/plain": [
              "<Figure size 576x432 with 1 Axes>"
            ]
          },
          "metadata": {
            "tags": [],
            "needs_background": "light"
          }
        }
      ]
    },
    {
      "cell_type": "code",
      "metadata": {
        "colab": {
          "base_uri": "https://localhost:8080/"
        },
        "id": "qOCnNkZtuL7t",
        "outputId": "22cfd13c-78ae-4a9a-9924-b4fcc18b91ec"
      },
      "source": [
        "train.brand_name.describe()"
      ],
      "execution_count": 16,
      "outputs": [
        {
          "output_type": "execute_result",
          "data": {
            "text/plain": [
              "count     1037170\n",
              "unique       4413\n",
              "top       missing\n",
              "freq       442715\n",
              "Name: brand_name, dtype: object"
            ]
          },
          "metadata": {
            "tags": []
          },
          "execution_count": 16
        }
      ]
    },
    {
      "cell_type": "code",
      "metadata": {
        "colab": {
          "base_uri": "https://localhost:8080/",
          "height": 497
        },
        "id": "CLzhrGgjuL7u",
        "outputId": "9e1319a9-b3ac-4139-a6be-3c83e847b8be"
      },
      "source": [
        "brand_count = Counter(list(train.brand_name.values))\n",
        "x, y = zip(*brand_count.most_common(15))\n",
        "\n",
        "plt.figure(figsize=[6,8])\n",
        "plt.barh(x, y)\n",
        "for i, val in enumerate(y):\n",
        "           plt.annotate(val, (y[i], x[i]), color='b')\n",
        "plt.gca().invert_yaxis()\n",
        "plt.ylabel('Brand name')\n",
        "plt.xlabel('count')\n",
        "plt.grid(True, axis='x')\n",
        "plt.show()"
      ],
      "execution_count": 17,
      "outputs": [
        {
          "output_type": "display_data",
          "data": {
            "image/png": "[encoded data removed]",
            "text/plain": [
              "<Figure size 432x576 with 1 Axes>"
            ]
          },
          "metadata": {
            "tags": [],
            "needs_background": "light"
          }
        }
      ]
    },
    {
      "cell_type": "code",
      "metadata": {
        "colab": {
          "base_uri": "https://localhost:8080/"
        },
        "id": "dlcta3X5uL7v",
        "outputId": "861787e6-88cb-457c-8154-cd2a13ca7f31"
      },
      "source": [
        "brand_missing = train[train.brand_name=='missing'].shape[0]\n",
        "print('Brand name is missing for {} datapoints, i.e. {:.2f} % of train data.' .format(brand_missing, 100.0*brand_missing/train.shape[0]))"
      ],
      "execution_count": 18,
      "outputs": [
        {
          "output_type": "stream",
          "text": [
            "Brand name is missing for 442715 datapoints, i.e. 42.68 % of train data.\n"
          ],
          "name": "stdout"
        }
      ]
    },
    {
      "cell_type": "code",
      "metadata": {
        "colab": {
          "base_uri": "https://localhost:8080/"
        },
        "id": "gFVGvulbuL7x",
        "outputId": "90d1caf1-7563-401f-a4f4-d1c4250d376a"
      },
      "source": [
        "train.gencat_name.describe()"
      ],
      "execution_count": 19,
      "outputs": [
        {
          "output_type": "execute_result",
          "data": {
            "text/plain": [
              "count     1037170\n",
              "unique         11\n",
              "top         Women\n",
              "freq       464350\n",
              "Name: gencat_name, dtype: object"
            ]
          },
          "metadata": {
            "tags": []
          },
          "execution_count": 19
        }
      ]
    },
    {
      "cell_type": "code",
      "metadata": {
        "colab": {
          "base_uri": "https://localhost:8080/",
          "height": 497
        },
        "id": "dEKGytQXuL7y",
        "outputId": "45080e97-3a42-4ff0-ff93-4365f4c1e506"
      },
      "source": [
        "gencat_count = Counter(list(train.gencat_name.values))\n",
        "x, y = zip(*gencat_count.most_common(15))\n",
        "plt.figure(figsize=[6,8])\n",
        "plt.barh(x, y)\n",
        "for i, val in enumerate(y):\n",
        "           plt.annotate(val, (y[i], x[i]), color='b')\n",
        "plt.gca().invert_yaxis()\n",
        "plt.ylabel('General category')\n",
        "plt.xlabel('count')\n",
        "plt.grid(True, axis='x')\n",
        "plt.show()"
      ],
      "execution_count": 20,
      "outputs": [
        {
          "output_type": "display_data",
          "data": {
            "image/png": "[encoded data removed]",
            "text/plain": [
              "<Figure size 432x576 with 1 Axes>"
            ]
          },
          "metadata": {
            "tags": [],
            "needs_background": "light"
          }
        }
      ]
    },
    {
      "cell_type": "code",
      "metadata": {
        "colab": {
          "base_uri": "https://localhost:8080/"
        },
        "id": "3AdtJKv_uL7z",
        "outputId": "10342171-35f1-4d79-9d2d-cbd654aa120f"
      },
      "source": [
        "gencat_missing = train[train.gencat_name=='missing'].shape[0]\n",
        "print('category name is missing for {} datapoints, i.e. {:.2f} % of train data.' .format(gencat_missing, 100.0*gencat_missing/train.shape[0]))"
      ],
      "execution_count": 21,
      "outputs": [
        {
          "output_type": "stream",
          "text": [
            "category name is missing for 4372 datapoints, i.e. 0.42 % of train data.\n"
          ],
          "name": "stdout"
        }
      ]
    },
    {
      "cell_type": "code",
      "metadata": {
        "colab": {
          "base_uri": "https://localhost:8080/"
        },
        "id": "R8cPFj2VuL70",
        "outputId": "8927336a-8773-477f-eb15-cc7733628d95"
      },
      "source": [
        "train.subcat1_name.describe()"
      ],
      "execution_count": 22,
      "outputs": [
        {
          "output_type": "execute_result",
          "data": {
            "text/plain": [
              "count              1037170\n",
              "unique                 114\n",
              "top       Athletic Apparel\n",
              "freq                 93933\n",
              "Name: subcat1_name, dtype: object"
            ]
          },
          "metadata": {
            "tags": []
          },
          "execution_count": 22
        }
      ]
    },
    {
      "cell_type": "code",
      "metadata": {
        "colab": {
          "base_uri": "https://localhost:8080/",
          "height": 606
        },
        "id": "XuZiaaBduL72",
        "outputId": "b615f3fe-f176-4456-bd5e-91157871b259"
      },
      "source": [
        "subcat1_count = Counter(list(train.subcat1_name.values))\n",
        "x, y = zip(*subcat1_count.most_common(15))\n",
        "plt.figure(figsize=[6,10])\n",
        "plt.barh(x, y)\n",
        "for i, val in enumerate(y):\n",
        "           plt.annotate(val, (y[i], x[i]), color='b')\n",
        "plt.gca().invert_yaxis()\n",
        "plt.ylabel('Sub-category1')\n",
        "plt.xlabel('count')\n",
        "plt.grid(True, axis='x')\n",
        "plt.show()"
      ],
      "execution_count": 23,
      "outputs": [
        {
          "output_type": "display_data",
          "data": {
            "image/png": "[encoded data removed]",
            "text/plain": [
              "<Figure size 432x720 with 1 Axes>"
            ]
          },
          "metadata": {
            "tags": [],
            "needs_background": "light"
          }
        }
      ]
    },
    {
      "cell_type": "code",
      "metadata": {
        "colab": {
          "base_uri": "https://localhost:8080/"
        },
        "id": "r1yNtVS6uL73",
        "outputId": "ab0ed3ef-637e-4141-fcc7-0f29c2ecd988"
      },
      "source": [
        "train.subcat2_name.describe()"
      ],
      "execution_count": 24,
      "outputs": [
        {
          "output_type": "execute_result",
          "data": {
            "text/plain": [
              "count                     1037170\n",
              "unique                        857\n",
              "top       Pants, Tights, Leggings\n",
              "freq                        42032\n",
              "Name: subcat2_name, dtype: object"
            ]
          },
          "metadata": {
            "tags": []
          },
          "execution_count": 24
        }
      ]
    },
    {
      "cell_type": "code",
      "metadata": {
        "colab": {
          "base_uri": "https://localhost:8080/",
          "height": 606
        },
        "id": "quoKZmF9uL74",
        "outputId": "1488d2ba-1a50-442f-a881-3e8c560c8d98"
      },
      "source": [
        "subcat2_count = Counter(list(train.subcat2_name.values))\n",
        "x, y = zip(*subcat2_count.most_common(15))\n",
        "plt.figure(figsize=[6,10])\n",
        "plt.barh(x, y)\n",
        "for i, val in enumerate(y):\n",
        "           plt.annotate(val, (y[i], x[i]), color='b')\n",
        "plt.gca().invert_yaxis()\n",
        "plt.ylabel('Sub-category2')\n",
        "plt.xlabel('count')\n",
        "plt.grid(True, axis='x')\n",
        "plt.show()"
      ],
      "execution_count": 25,
      "outputs": [
        {
          "output_type": "display_data",
          "data": {
            "image/png": "[encoded data removed]",
            "text/plain": [
              "<Figure size 432x720 with 1 Axes>"
            ]
          },
          "metadata": {
            "tags": [],
            "needs_background": "light"
          }
        }
      ]
    },
    {
      "cell_type": "code",
      "metadata": {
        "colab": {
          "base_uri": "https://localhost:8080/"
        },
        "id": "GyMC0yNxuL74",
        "outputId": "b8ed413e-b8f1-471c-e458-4184dc30f4a5"
      },
      "source": [
        "desc_missing = train[train.item_description=='missing'].shape[0]\n",
        "print('item description is missing for {} datapoints, i.e. {:.5f} % of train data.' .format(desc_missing, 100.0*desc_missing/train.shape[0]))"
      ],
      "execution_count": 26,
      "outputs": [
        {
          "output_type": "stream",
          "text": [
            "item description is missing for 2 datapoints, i.e. 0.00019 % of train data.\n"
          ],
          "name": "stdout"
        }
      ]
    },
    {
      "cell_type": "code",
      "metadata": {
        "colab": {
          "base_uri": "https://localhost:8080/",
          "height": 201
        },
        "id": "zZD6vDo_uL76",
        "outputId": "a5855a8f-23f0-42c7-e603-675abb914c1a"
      },
      "source": [
        "train[train.item_description=='missing']"
      ],
      "execution_count": 27,
      "outputs": [
        {
          "output_type": "execute_result",
          "data": {
            "text/html": [
              "<div>\n",
              "<style scoped>\n",
              "    .dataframe tbody tr th:only-of-type {\n",
              "        vertical-align: middle;\n",
              "    }\n",
              "\n",
              "    .dataframe tbody tr th {\n",
              "        vertical-align: top;\n",
              "    }\n",
              "\n",
              "    .dataframe thead th {\n",
              "        text-align: right;\n",
              "    }\n",
              "</style>\n",
              "<table border=\"1\" class=\"dataframe\">\n",
              "  <thead>\n",
              "    <tr style=\"text-align: right;\">\n",
              "      <th></th>\n",
              "      <th>train_id</th>\n",
              "      <th>name</th>\n",
              "      <th>item_condition_id</th>\n",
              "      <th>brand_name</th>\n",
              "      <th>price</th>\n",
              "      <th>shipping</th>\n",
              "      <th>item_description</th>\n",
              "      <th>gencat_name</th>\n",
              "      <th>subcat1_name</th>\n",
              "      <th>subcat2_name</th>\n",
              "    </tr>\n",
              "  </thead>\n",
              "  <tbody>\n",
              "    <tr>\n",
              "      <th>61467</th>\n",
              "      <td>1224924</td>\n",
              "      <td>Disney Minnie Head band</td>\n",
              "      <td>3</td>\n",
              "      <td>Disney</td>\n",
              "      <td>9.0</td>\n",
              "      <td>0</td>\n",
              "      <td>missing</td>\n",
              "      <td>Women</td>\n",
              "      <td>Women's Accessories</td>\n",
              "      <td>Hair Accessories</td>\n",
              "    </tr>\n",
              "    <tr>\n",
              "      <th>589297</th>\n",
              "      <td>1264242</td>\n",
              "      <td>For Bianca</td>\n",
              "      <td>3</td>\n",
              "      <td>missing</td>\n",
              "      <td>10.0</td>\n",
              "      <td>1</td>\n",
              "      <td>missing</td>\n",
              "      <td>Women</td>\n",
              "      <td>Women's Accessories</td>\n",
              "      <td>Scarves &amp; Wraps</td>\n",
              "    </tr>\n",
              "  </tbody>\n",
              "</table>\n",
              "</div>"
            ],
            "text/plain": [
              "        train_id  ...      subcat2_name\n",
              "61467    1224924  ...  Hair Accessories\n",
              "589297   1264242  ...   Scarves & Wraps\n",
              "\n",
              "[2 rows x 10 columns]"
            ]
          },
          "metadata": {
            "tags": []
          },
          "execution_count": 27
        }
      ]
    },
    {
      "cell_type": "code",
      "metadata": {
        "colab": {
          "base_uri": "https://localhost:8080/"
        },
        "id": "GHgoSgXnuL79",
        "outputId": "3344e9ca-21d8-48b9-e490-b6cbb599875d"
      },
      "source": [
        "train.price.describe()"
      ],
      "execution_count": 28,
      "outputs": [
        {
          "output_type": "execute_result",
          "data": {
            "text/plain": [
              "count    1.037170e+06\n",
              "mean     2.675051e+01\n",
              "std      3.862636e+01\n",
              "min      3.000000e+00\n",
              "25%      1.000000e+01\n",
              "50%      1.700000e+01\n",
              "75%      2.900000e+01\n",
              "max      2.004000e+03\n",
              "Name: price, dtype: float64"
            ]
          },
          "metadata": {
            "tags": []
          },
          "execution_count": 28
        }
      ]
    },
    {
      "cell_type": "code",
      "metadata": {
        "colab": {
          "base_uri": "https://localhost:8080/",
          "height": 255
        },
        "id": "e03Mb0twuL7-",
        "outputId": "3f295438-632c-4da3-9e65-a5cda33550b8"
      },
      "source": [
        "sns.boxplot(y='price', data=train, showfliers=False)\n",
        "plt.show()"
      ],
      "execution_count": 29,
      "outputs": [
        {
          "output_type": "display_data",
          "data": {
            "image/png": "[encoded data removed]",
            "text/plain": [
              "<Figure size 432x288 with 1 Axes>"
            ]
          },
          "metadata": {
            "tags": [],
            "needs_background": "light"
          }
        }
      ]
    },
    {
      "cell_type": "code",
      "metadata": {
        "colab": {
          "base_uri": "https://localhost:8080/",
          "height": 445
        },
        "id": "ocnyqbsluL8A",
        "outputId": "7885210a-5395-4642-bd08-9698e139d7e2"
      },
      "source": [
        "fig, ax = plt.subplots(figsize=(14, 8))\n",
        "ax.hist(train.price, bins=30, range=[0, 300], label=\"Price\")\n",
        "plt.title('Price distribution', fontsize = 15)\n",
        "ax.set_xlabel('Price', fontsize=15)\n",
        "ax.set_ylabel('No of items', fontsize=15)\n",
        "plt.show()"
      ],
      "execution_count": 30,
      "outputs": [
        {
          "output_type": "display_data",
          "data": {
            "image/png": "[encoded data removed]",
            "text/plain": [
              "<Figure size 1008x576 with 1 Axes>"
            ]
          },
          "metadata": {
            "tags": [],
            "needs_background": "light"
          }
        }
      ]
    },
    {
      "cell_type": "code",
      "metadata": {
        "id": "LNxgBWCXuL8B"
      },
      "source": [
        "def clean_cat(cat_values):\n",
        "    \n",
        "    catogories = list(cat_values)\n",
        "\n",
        "    cat_list = []\n",
        "    for i in (catogories):\n",
        "        i = re.sub('[^A-Za-z0-9]+', ' ', i)\n",
        "        i = i.replace(' ','')\n",
        "        i = i.replace('&','_')\n",
        "        cat_list.append(i.strip())\n",
        "    \n",
        "    return cat_list"
      ],
      "execution_count": 31,
      "outputs": []
    },
    {
      "cell_type": "code",
      "metadata": {
        "id": "yXppvG0BuL8C"
      },
      "source": [
        "train['gencat_name'] = clean_cat(train['gencat_name'].values)\n",
        "test['gencat_name'] = clean_cat(test['gencat_name'].values)\n",
        "\n",
        "train['subcat1_name'] = clean_cat(train['subcat1_name'].values)\n",
        "test['subcat1_name'] = clean_cat(test['subcat1_name'].values)\n",
        "\n",
        "train['subcat2_name'] = clean_cat(train['subcat2_name'].values)\n",
        "test['subcat2_name'] = clean_cat(test['subcat2_name'].values)"
      ],
      "execution_count": 32,
      "outputs": []
    },
    {
      "cell_type": "code",
      "metadata": {
        "colab": {
          "base_uri": "https://localhost:8080/",
          "height": 295
        },
        "id": "6DkcZ4uVuL8C",
        "outputId": "9d0136b3-9be3-4876-84bb-39ba78bcf32b"
      },
      "source": [
        "sns.barplot(y='brand_name', x='price', data=train)\n",
        "plt.title('Mean price according brand name')\n",
        "plt.show()"
      ],
      "execution_count": 33,
      "outputs": [
        {
          "output_type": "display_data",
          "data": {
            "image/png": "[encoded data removed]",
            "text/plain": [
              "<Figure size 432x288 with 1 Axes>"
            ]
          },
          "metadata": {
            "tags": [],
            "needs_background": "light"
          }
        }
      ]
    },
    {
      "cell_type": "code",
      "metadata": {
        "colab": {
          "base_uri": "https://localhost:8080/",
          "height": 295
        },
        "id": "-YxfRcdeuL8D",
        "outputId": "00375d03-8f6b-4707-dd28-4ce7cb7ed6a5"
      },
      "source": [
        "sns.barplot(y='gencat_name', x='price', data=train)\n",
        "plt.title('Mean price of various categories')\n",
        "plt.show()"
      ],
      "execution_count": 34,
      "outputs": [
        {
          "output_type": "display_data",
          "data": {
            "image/png": "[encoded data removed]",
            "text/plain": [
              "<Figure size 432x288 with 1 Axes>"
            ]
          },
          "metadata": {
            "tags": [],
            "needs_background": "light"
          }
        }
      ]
    },
    {
      "cell_type": "code",
      "metadata": {
        "colab": {
          "base_uri": "https://localhost:8080/",
          "height": 301
        },
        "id": "6e6RzSqKuL8E",
        "outputId": "142e1147-9c5f-41eb-9175-d087d94a8a93"
      },
      "source": [
        "sns.set(style='whitegrid')\n",
        "sns.boxplot(x='item_condition_id', y='price', data=train, showfliers=False)\n",
        "plt.title('item_condition-wise distribution of price')\n",
        "plt.show()"
      ],
      "execution_count": 35,
      "outputs": [
        {
          "output_type": "display_data",
          "data": {
            "image/png": "[encoded data removed]",
            "text/plain": [
              "<Figure size 432x288 with 1 Axes>"
            ]
          },
          "metadata": {
            "tags": []
          }
        }
      ]
    },
    {
      "cell_type": "code",
      "metadata": {
        "colab": {
          "base_uri": "https://localhost:8080/",
          "height": 301
        },
        "id": "QGbRxMUAuL8E",
        "outputId": "d7102a29-c8a8-453a-ec8e-e003566a6654"
      },
      "source": [
        "sns.barplot(y='price', x='item_condition_id', data=train)\n",
        "plt.title('Mean price of various categories')\n",
        "plt.show()"
      ],
      "execution_count": 36,
      "outputs": [
        {
          "output_type": "display_data",
          "data": {
            "image/png": "[encoded data removed]",
            "text/plain": [
              "<Figure size 432x288 with 1 Axes>"
            ]
          },
          "metadata": {
            "tags": []
          }
        }
      ]
    },
    {
      "cell_type": "code",
      "metadata": {
        "colab": {
          "base_uri": "https://localhost:8080/",
          "height": 301
        },
        "id": "0ySzHrs4uL8G",
        "outputId": "8ac9f3ff-2295-45ee-d9ef-690b48320a00"
      },
      "source": [
        "sns.set(style='whitegrid')\n",
        "sns.boxplot(x='shipping', y='price', data=train, showfliers=False)\n",
        "plt.title('item_shipping distribution of price')\n",
        "plt.show()"
      ],
      "execution_count": 37,
      "outputs": [
        {
          "output_type": "display_data",
          "data": {
            "image/png": "[encoded data removed]",
            "text/plain": [
              "<Figure size 432x288 with 1 Axes>"
            ]
          },
          "metadata": {
            "tags": []
          }
        }
      ]
    },
    {
      "cell_type": "code",
      "metadata": {
        "colab": {
          "base_uri": "https://localhost:8080/",
          "height": 301
        },
        "id": "bc2Hb1EWuL8H",
        "outputId": "8b9f3424-6914-4a39-e8b8-1994d0d58351"
      },
      "source": [
        "sns.barplot(y='price', x='shipping', data=train)\n",
        "plt.title('Mean price of various categories')\n",
        "plt.show()"
      ],
      "execution_count": 38,
      "outputs": [
        {
          "output_type": "display_data",
          "data": {
            "image/png": "[encoded data removed]",
            "text/plain": [
              "<Figure size 432x288 with 1 Axes>"
            ]
          },
          "metadata": {
            "tags": []
          }
        }
      ]
    },
    {
      "cell_type": "code",
      "metadata": {
        "colab": {
          "base_uri": "https://localhost:8080/"
        },
        "id": "CBVpEJ2PuL8J",
        "outputId": "9f04853e-dec8-407c-b27f-c2dec92b9881"
      },
      "source": [
        "train['name'].str.lower()"
      ],
      "execution_count": 39,
      "outputs": [
        {
          "output_type": "execute_result",
          "data": {
            "text/plain": [
              "0          tarte rainforest after dark colored clay\n",
              "1                        mac mineralize skin finish\n",
              "2                            white case iphone 6/6s\n",
              "3                  victoria's secret push-up plunge\n",
              "4             disney princess toddler boots size 10\n",
              "                             ...                   \n",
              "1037165                     nike dri fit hooded top\n",
              "1037166                       talk red hunter boots\n",
              "1037167     nwt free ship cc 2beanie hat beige+taup\n",
              "1037168                        winston cup snapback\n",
              "1037169           old navy rockstar skinny cords 10\n",
              "Name: name, Length: 1037170, dtype: object"
            ]
          },
          "metadata": {
            "tags": []
          },
          "execution_count": 39
        }
      ]
    },
    {
      "cell_type": "code",
      "metadata": {
        "colab": {
          "base_uri": "https://localhost:8080/"
        },
        "id": "JzgRy6lYuL8K",
        "outputId": "3b7fa18e-06ac-460c-8a93-3525d08879ee"
      },
      "source": [
        "test['name'].str.lower()"
      ],
      "execution_count": 40,
      "outputs": [
        {
          "output_type": "execute_result",
          "data": {
            "text/plain": [
              "0                       herschel retreat backpack\n",
              "1                               2 pairs of lebron\n",
              "2          mario kart double dash with bonus disc\n",
              "3          tokidoki unicorno kaiju and strawberry\n",
              "4              like ugg cardy, grey knit top boot\n",
              "                           ...                   \n",
              "444756                         ivory ella tie dye\n",
              "444757                      5 tier shoe organizer\n",
              "444758    toy bundle (fun fun fun fun fun 4 baby)\n",
              "444759                        adidas jogging suit\n",
              "444760                           artistry hydra-v\n",
              "Name: name, Length: 444761, dtype: object"
            ]
          },
          "metadata": {
            "tags": []
          },
          "execution_count": 40
        }
      ]
    },
    {
      "cell_type": "code",
      "metadata": {
        "colab": {
          "base_uri": "https://localhost:8080/"
        },
        "id": "ZL4E5d47uL8L",
        "outputId": "7ab253ca-5388-4412-d0aa-41fc59227964"
      },
      "source": [
        "test['item_description'].str.lower()\n",
        "test['item_description'].str.lower()"
      ],
      "execution_count": 41,
      "outputs": [
        {
          "output_type": "execute_result",
          "data": {
            "text/plain": [
              "0         in great condition! only issue is magnet that ...\n",
              "1         lebron soldier 10 size 10.5 9/10 condition leb...\n",
              "2                                good shape work no problem\n",
              "3                               both new with foil and box.\n",
              "4         brand new, not even a foot near them! size 8 b...\n",
              "                                ...                        \n",
              "444756    tags- american eagle, aeropostale, hollister, ...\n",
              "444757    5 tier shoe organizer brand new never used 100...\n",
              "444758    includes: fisher-price cozy fit tummy wedge ~ ...\n",
              "444759    women comfortable adidas 2pc jogging suit incl...\n",
              "444760                         full and great for your skin\n",
              "Name: item_description, Length: 444761, dtype: object"
            ]
          },
          "metadata": {
            "tags": []
          },
          "execution_count": 41
        }
      ]
    },
    {
      "cell_type": "code",
      "metadata": {
        "colab": {
          "base_uri": "https://localhost:8080/"
        },
        "id": "Ib-N9gJWuL8M",
        "outputId": "1cba88ac-eb5e-4877-c96a-3b28c6c23968"
      },
      "source": [
        "import nltk\n",
        "nltk.download('stopwords')\n",
        "from nltk.corpus import stopwords\n",
        "stopwords = stopwords.words('english')\n",
        "\n",
        "\n",
        "def preprocess_text(text_col):\n",
        "    preprocessed_text = []\n",
        "    for sentence in tqdm((text_col.values)):\n",
        "        sent = sentence.replace('\\\\r', ' ')\n",
        "        sent = sent.replace('\\\\\"', ' ')\n",
        "        sent = sent.replace('\\\\n', ' ')\n",
        "        sent = re.sub('[^A-Za-z0-9]+', ' ', sent)\n",
        "        sent = ' '.join(e for e in sent.split() if e not in stopwords)\n",
        "        preprocessed_text.append(sent.lower().strip())\n",
        "    return preprocessed_text"
      ],
      "execution_count": 42,
      "outputs": [
        {
          "output_type": "stream",
          "text": [
            "[nltk_data] Downloading package stopwords to /root/nltk_data...\n",
            "[nltk_data]   Package stopwords is already up-to-date!\n"
          ],
          "name": "stdout"
        }
      ]
    },
    {
      "cell_type": "code",
      "metadata": {
        "colab": {
          "base_uri": "https://localhost:8080/"
        },
        "id": "_M7Teiz0uL8M",
        "outputId": "2f48afcc-f307-4de4-cac5-4df533f24d8b"
      },
      "source": [
        "train['preprocessed_name'] = preprocess_text(train['name'])\n",
        "test['preprocessed_name'] = preprocess_text(test['name'])\n",
        "\n",
        "train['preprocessed_description'] = preprocess_text(train['item_description'])\n",
        "test['preprocessed_description'] = preprocess_text(test['item_description'])"
      ],
      "execution_count": 43,
      "outputs": [
        {
          "output_type": "stream",
          "text": [
            "100%|██████████| 1037170/1037170 [00:14<00:00, 71288.46it/s]\n",
            "100%|██████████| 444761/444761 [00:06<00:00, 70731.09it/s]\n",
            "100%|██████████| 1037170/1037170 [01:00<00:00, 17071.56it/s]\n",
            "100%|██████████| 444761/444761 [00:26<00:00, 17070.26it/s]\n"
          ],
          "name": "stderr"
        }
      ]
    },
    {
      "cell_type": "code",
      "metadata": {
        "id": "OcTqJACcuL8O"
      },
      "source": [
        "train['name_len'] = train['name'].apply(lambda x: len(x))\n",
        "train['des_len'] = train['item_description'].apply(lambda x: len(x))\n",
        "train['desc_word_count'] = train['item_description'].apply(lambda x: len(x.split()))\n",
        "train['name_word_count'] = train['name'].apply(lambda x: len(x.split()))\n",
        "train['desc_letters_per_word'] = train['des_len'] / train['desc_word_count']\n",
        "train['name_letters_per_word'] = train['name_len'] / train['name_word_count']\n",
        "train['price_in_description'] = train['item_description'].str.contains('[rm]', regex=False).astype('category')\n",
        "train['price_in_name'] = train['name'].str.contains('[rm]', regex=False).astype('category')"
      ],
      "execution_count": 44,
      "outputs": []
    },
    {
      "cell_type": "code",
      "metadata": {
        "id": "wOYGwuvyuL8P"
      },
      "source": [
        "test['name_len'] = test['name'].apply(lambda x: len(x))\n",
        "test['des_len'] = test['item_description'].apply(lambda x: len(x))\n",
        "test['desc_word_count'] = test['item_description'].apply(lambda x: len(x.split()))\n",
        "test['name_word_count'] = test['name'].apply(lambda x: len(x.split()))\n",
        "test['desc_letters_per_word'] = test['des_len'] / test['desc_word_count']\n",
        "test['name_letters_per_word'] = test['name_len'] / test['name_word_count']\n",
        "test['price_in_description'] = test['item_description'].str.contains('[rm]', regex=False).astype('category')\n",
        "test['price_in_name'] = test['name'].str.contains('[rm]', regex=False).astype('category')"
      ],
      "execution_count": 45,
      "outputs": []
    },
    {
      "cell_type": "code",
      "metadata": {
        "colab": {
          "base_uri": "https://localhost:8080/"
        },
        "id": "DvvEgLoDuL8R",
        "outputId": "e28664b8-c645-4738-d092-d5d2c2e35cce"
      },
      "source": [
        "train.columns"
      ],
      "execution_count": 46,
      "outputs": [
        {
          "output_type": "execute_result",
          "data": {
            "text/plain": [
              "Index(['train_id', 'name', 'item_condition_id', 'brand_name', 'price',\n",
              "       'shipping', 'item_description', 'gencat_name', 'subcat1_name',\n",
              "       'subcat2_name', 'preprocessed_name', 'preprocessed_description',\n",
              "       'name_len', 'des_len', 'desc_word_count', 'name_word_count',\n",
              "       'desc_letters_per_word', 'name_letters_per_word',\n",
              "       'price_in_description', 'price_in_name'],\n",
              "      dtype='object')"
            ]
          },
          "metadata": {
            "tags": []
          },
          "execution_count": 46
        }
      ]
    },
    {
      "cell_type": "code",
      "metadata": {
        "colab": {
          "base_uri": "https://localhost:8080/"
        },
        "id": "GLBhzMJ6uL8S",
        "outputId": "65e7840a-2af7-47f1-85a2-bddf5612b23d"
      },
      "source": [
        "train.shape\n",
        "train.columns"
      ],
      "execution_count": 47,
      "outputs": [
        {
          "output_type": "execute_result",
          "data": {
            "text/plain": [
              "Index(['train_id', 'name', 'item_condition_id', 'brand_name', 'price',\n",
              "       'shipping', 'item_description', 'gencat_name', 'subcat1_name',\n",
              "       'subcat2_name', 'preprocessed_name', 'preprocessed_description',\n",
              "       'name_len', 'des_len', 'desc_word_count', 'name_word_count',\n",
              "       'desc_letters_per_word', 'name_letters_per_word',\n",
              "       'price_in_description', 'price_in_name'],\n",
              "      dtype='object')"
            ]
          },
          "metadata": {
            "tags": []
          },
          "execution_count": 47
        }
      ]
    },
    {
      "cell_type": "code",
      "metadata": {
        "colab": {
          "base_uri": "https://localhost:8080/"
        },
        "id": "oSmMXNIwuL8S",
        "outputId": "692441ce-7c8e-4fe3-c692-34ecdff85c2f"
      },
      "source": [
        "test.shape\n"
      ],
      "execution_count": 48,
      "outputs": [
        {
          "output_type": "execute_result",
          "data": {
            "text/plain": [
              "(444761, 19)"
            ]
          },
          "metadata": {
            "tags": []
          },
          "execution_count": 48
        }
      ]
    },
    {
      "cell_type": "code",
      "metadata": {
        "colab": {
          "base_uri": "https://localhost:8080/"
        },
        "id": "ASV7xStiuL8T",
        "outputId": "d5a7a3cc-2300-497f-9de2-a987a4ddc740"
      },
      "source": [
        "n_rows = train.shape[0]\n",
        "train = train[train.preprocessed_name != ''].reset_index(drop=True)\n",
        "\n",
        "print('Dropped {} rows'.format(n_rows - train.shape[0]))"
      ],
      "execution_count": 49,
      "outputs": [
        {
          "output_type": "stream",
          "text": [
            "Dropped 19 rows\n"
          ],
          "name": "stdout"
        }
      ]
    },
    {
      "cell_type": "code",
      "metadata": {
        "colab": {
          "base_uri": "https://localhost:8080/"
        },
        "id": "u8D3DCcYuL8U",
        "outputId": "0f0b8e95-878a-45cf-ff15-b2c015fa3421"
      },
      "source": [
        "n_rows = train.shape[0]\n",
        "train = train[train.preprocessed_description != ''].reset_index(drop=True)\n",
        "\n",
        "print('Dropped {} rows'.format(n_rows - train.shape[0]))\n",
        "\n",
        "print('Shape of train data: ', train.shape)"
      ],
      "execution_count": 50,
      "outputs": [
        {
          "output_type": "stream",
          "text": [
            "Dropped 392 rows\n",
            "Shape of train data:  (1036759, 20)\n"
          ],
          "name": "stdout"
        }
      ]
    },
    {
      "cell_type": "code",
      "metadata": {
        "id": "CfcwPvqCuL8W"
      },
      "source": [
        "def transform_test(base_col, feat_col):\n",
        "    \n",
        "    di = pd.Series(train[feat_col].values, index=train[base_col].values).to_dict()\n",
        "    \n",
        "    if base_col == 'item_condition_id':\n",
        "        return test[base_col].map(di).astype(float)\n",
        "        \n",
        "    return test[base_col].map(di).fillna(0)"
      ],
      "execution_count": 51,
      "outputs": []
    },
    {
      "cell_type": "code",
      "metadata": {
        "id": "3LAKPIUfuL8X"
      },
      "source": [
        "train['brand_mean_price'] = train.groupby('brand_name')['price'].transform('mean')\n",
        "test['brand_mean_price'] = transform_test('brand_name', 'brand_mean_price')\n",
        "\n",
        "train['gencat_mean_price'] = train.groupby('gencat_name')['price'].transform('mean')\n",
        "test['gencat_mean_price'] = transform_test('gencat_name', 'gencat_mean_price')\n",
        "\n",
        "train['subcat1_mean_price'] = train.groupby('subcat1_name')['price'].transform('mean')\n",
        "test['subcat1_mean_price'] = transform_test('subcat1_name', 'subcat1_mean_price')\n",
        "\n",
        "train['subcat2_mean_price'] = train.groupby('subcat2_name')['price'].transform('mean')\n",
        "test['subcat2_mean_price'] = transform_test('subcat2_name', 'subcat2_mean_price')\n",
        "\n",
        "train['condition_mean_price'] = train.groupby('item_condition_id')['price'].transform('mean')\n",
        "test['condition_mean_price'] = transform_test('item_condition_id', 'condition_mean_price')"
      ],
      "execution_count": 52,
      "outputs": []
    },
    {
      "cell_type": "code",
      "metadata": {
        "id": "ChsSjAIIuL8a"
      },
      "source": [
        "train['brand_median_price'] = train.groupby('brand_name')['price'].transform('median')\n",
        "test['brand_median_price'] = transform_test('brand_name', 'brand_median_price')\n",
        "\n",
        "train['gencat_median_price'] = train.groupby('gencat_name')['price'].transform('median')\n",
        "test['gencat_median_price'] = transform_test('gencat_name', 'gencat_median_price')\n",
        "\n",
        "train['subcat1_median_price'] = train.groupby('subcat1_name')['price'].transform('median')\n",
        "test['subcat1_median_price'] = transform_test('subcat1_name', 'subcat1_median_price')\n",
        "\n",
        "train['subcat2_median_price'] = train.groupby('subcat2_name')['price'].transform('median')\n",
        "test['subcat2_median_price'] = transform_test('subcat2_name', 'subcat2_median_price')\n",
        "\n",
        "train['condition_median_price'] = train.groupby('item_condition_id')['price'].transform('median')\n",
        "test['condition_median_price'] = transform_test('item_condition_id', 'condition_median_price')"
      ],
      "execution_count": 53,
      "outputs": []
    },
    {
      "cell_type": "code",
      "metadata": {
        "id": "AcpCx53zuL8c"
      },
      "source": [
        "train['gencat_name_count'] = train.groupby('gencat_name')['gencat_name'].transform('count')\n",
        "test['gencat_name_count'] = transform_test('gencat_name', 'gencat_name_count')\n",
        "\n",
        "train['subcat1_name_count'] = train.groupby('subcat1_name')['subcat1_name'].transform('count')\n",
        "test['subcat1_name_count'] = transform_test('subcat1_name', 'subcat1_name_count')\n",
        "\n",
        "train['subcat2_name_count'] = train.groupby('subcat2_name')['subcat2_name'].transform('count')\n",
        "test['subcat2_name_count'] = transform_test('subcat2_name', 'subcat2_name_count')\n",
        "\n",
        "train['brand_name_count'] = train.groupby('brand_name')['brand_name'].transform('count')\n",
        "test['brand_name_count'] = transform_test('brand_name', 'brand_name_count')"
      ],
      "execution_count": 54,
      "outputs": []
    },
    {
      "cell_type": "code",
      "metadata": {
        "id": "Dksw4In8uL8c"
      },
      "source": [
        "test.drop(['name', 'item_description'], axis=1, inplace=True)\n",
        "train.drop(['name', 'item_description'], axis=1, inplace=True)"
      ],
      "execution_count": 55,
      "outputs": []
    },
    {
      "cell_type": "code",
      "metadata": {
        "colab": {
          "base_uri": "https://localhost:8080/"
        },
        "id": "pDZM8xBHuL8d",
        "outputId": "ce3a564f-d17a-4196-c281-bcfaaaf71ca7"
      },
      "source": [
        "train.shape"
      ],
      "execution_count": 56,
      "outputs": [
        {
          "output_type": "execute_result",
          "data": {
            "text/plain": [
              "(1036759, 32)"
            ]
          },
          "metadata": {
            "tags": []
          },
          "execution_count": 56
        }
      ]
    },
    {
      "cell_type": "code",
      "metadata": {
        "colab": {
          "base_uri": "https://localhost:8080/"
        },
        "id": "ND83edUWuL8e",
        "outputId": "310b24f2-2425-44a9-b662-391960de6a2b"
      },
      "source": [
        "test.shape"
      ],
      "execution_count": 57,
      "outputs": [
        {
          "output_type": "execute_result",
          "data": {
            "text/plain": [
              "(444761, 31)"
            ]
          },
          "metadata": {
            "tags": []
          },
          "execution_count": 57
        }
      ]
    },
    {
      "cell_type": "code",
      "metadata": {
        "colab": {
          "base_uri": "https://localhost:8080/"
        },
        "id": "xxpzh-jYuL8f",
        "outputId": "1e48f563-efd9-493c-a238-93e1dc7e007b"
      },
      "source": [
        "from sklearn.model_selection import train_test_split\n",
        "\n",
        "y_tr = np.log1p(train['price'])\n",
        "train.drop(['price'], axis=1, inplace=True)\n",
        "\n",
        "train_df, cv_df , y_train, y_cv = train_test_split(train, y_tr, test_size=0.15, random_state=56)\n",
        "\n",
        "print('Train size: {}, CV size: {}, Test size: {}' .format(train_df.shape, cv_df.shape, test.shape))"
      ],
      "execution_count": 58,
      "outputs": [
        {
          "output_type": "stream",
          "text": [
            "Train size: (881245, 31), CV size: (155514, 31), Test size: (444761, 31)\n"
          ],
          "name": "stdout"
        }
      ]
    },
    {
      "cell_type": "code",
      "metadata": {
        "id": "Q4TwcSv_uL8g"
      },
      "source": [
        "#del train, y_tr \n",
        "#gc.collect()"
      ],
      "execution_count": 59,
      "outputs": []
    },
    {
      "cell_type": "code",
      "metadata": {
        "colab": {
          "base_uri": "https://localhost:8080/"
        },
        "id": "P3s1nzvNuL8h",
        "outputId": "1285fe31-ceca-442b-886c-461e4a63e0f5"
      },
      "source": [
        "train_df['brand_name'] = clean_cat(train_df['brand_name'].values)\n",
        "cv_df['brand_name'] = clean_cat(cv_df['brand_name'].values)\n",
        "test['brand_name'] = clean_cat(test['brand_name'].values)"
      ],
      "execution_count": 60,
      "outputs": [
        {
          "output_type": "stream",
          "text": [
            "/usr/local/lib/python3.6/dist-packages/ipykernel_launcher.py:1: SettingWithCopyWarning: \n",
            "A value is trying to be set on a copy of a slice from a DataFrame.\n",
            "Try using .loc[row_indexer,col_indexer] = value instead\n",
            "\n",
            "See the caveats in the documentation: https://pandas.pydata.org/pandas-docs/stable/user_guide/indexing.html#returning-a-view-versus-a-copy\n",
            "  \"\"\"Entry point for launching an IPython kernel.\n",
            "/usr/local/lib/python3.6/dist-packages/ipykernel_launcher.py:2: SettingWithCopyWarning: \n",
            "A value is trying to be set on a copy of a slice from a DataFrame.\n",
            "Try using .loc[row_indexer,col_indexer] = value instead\n",
            "\n",
            "See the caveats in the documentation: https://pandas.pydata.org/pandas-docs/stable/user_guide/indexing.html#returning-a-view-versus-a-copy\n",
            "  \n"
          ],
          "name": "stderr"
        }
      ]
    },
    {
      "cell_type": "code",
      "metadata": {
        "colab": {
          "base_uri": "https://localhost:8080/"
        },
        "id": "TqqYKoKEuL8i",
        "outputId": "7bc58f46-7527-4041-bcdb-2da3eb915f95"
      },
      "source": [
        "vectorizer = CountVectorizer(lowercase=False, binary=True)\n",
        "train_brand_oneHot = vectorizer.fit_transform(train_df['brand_name'].values)\n",
        "\n",
        "cv_brand_oneHot = vectorizer.transform(cv_df['brand_name'].values)\n",
        "test_brand_oneHot = vectorizer.transform(test['brand_name'].values)\n",
        "\n",
        "print(\"Shape of matrices after one hot encoding\")\n",
        "print(train_brand_oneHot.shape, \"\\n\", cv_brand_oneHot.shape, \"\\n\", test_brand_oneHot.shape)"
      ],
      "execution_count": 61,
      "outputs": [
        {
          "output_type": "stream",
          "text": [
            "Shape of matrices after one hot encoding\n",
            "(881245, 4188) \n",
            " (155514, 4188) \n",
            " (444761, 4188)\n"
          ],
          "name": "stdout"
        }
      ]
    },
    {
      "cell_type": "code",
      "metadata": {
        "colab": {
          "base_uri": "https://localhost:8080/"
        },
        "id": "PwS25KmluL8j",
        "outputId": "bf01be6f-8391-411c-f44c-3bf71cf2f46a"
      },
      "source": [
        "vectorizer = CountVectorizer(lowercase=False, binary=True)\n",
        "train_gencat_oneHot = vectorizer.fit_transform(train_df['gencat_name'].values)\n",
        "\n",
        "cv_gencat_oneHot = vectorizer.transform(cv_df['gencat_name'].values)\n",
        "test_gencat_oneHot = vectorizer.transform(test['gencat_name'].values)\n",
        "\n",
        "print(\"Shape of matrices after one hot encoding\")\n",
        "print(train_gencat_oneHot.shape, \"\\n\", cv_gencat_oneHot.shape, \"\\n\", test_gencat_oneHot.shape)"
      ],
      "execution_count": 62,
      "outputs": [
        {
          "output_type": "stream",
          "text": [
            "Shape of matrices after one hot encoding\n",
            "(881245, 11) \n",
            " (155514, 11) \n",
            " (444761, 11)\n"
          ],
          "name": "stdout"
        }
      ]
    },
    {
      "cell_type": "code",
      "metadata": {
        "colab": {
          "base_uri": "https://localhost:8080/"
        },
        "id": "ZBwNgy76uL8l",
        "outputId": "4e8d3da9-d656-4cff-c929-cb033d30de1f"
      },
      "source": [
        "vectorizer = CountVectorizer(lowercase=False, binary=True)\n",
        "train_subcat1_oneHot = vectorizer.fit_transform(train_df['subcat1_name'].values)\n",
        "\n",
        "cv_subcat1_oneHot = vectorizer.transform(cv_df['subcat1_name'].values)\n",
        "test_subcat1_oneHot = vectorizer.transform(test['subcat1_name'].values)\n",
        "\n",
        "print(\"Shape of matrices after one hot encoding\")\n",
        "print(train_subcat1_oneHot.shape, \"\\n\", cv_subcat1_oneHot.shape, \"\\n\", test_subcat1_oneHot.shape)"
      ],
      "execution_count": 63,
      "outputs": [
        {
          "output_type": "stream",
          "text": [
            "Shape of matrices after one hot encoding\n",
            "(881245, 114) \n",
            " (155514, 114) \n",
            " (444761, 114)\n"
          ],
          "name": "stdout"
        }
      ]
    },
    {
      "cell_type": "code",
      "metadata": {
        "colab": {
          "base_uri": "https://localhost:8080/"
        },
        "id": "ullPkE_CuL8n",
        "outputId": "5476646f-98e4-4996-adfe-d47f10d095dc"
      },
      "source": [
        "vectorizer = CountVectorizer(lowercase=False, binary=True)\n",
        "train_subcat2_oneHot = vectorizer.fit_transform(train_df['subcat2_name'].values)\n",
        "\n",
        "cv_subcat2_oneHot = vectorizer.transform(cv_df['subcat2_name'].values)\n",
        "test_subcat2_oneHot = vectorizer.transform(test['subcat2_name'].values)\n",
        "\n",
        "print(\"Shape of matrices after one hot encoding\")\n",
        "print(train_subcat2_oneHot.shape, \"\\n\", cv_subcat2_oneHot.shape, \"\\n\", test_subcat2_oneHot.shape)"
      ],
      "execution_count": 64,
      "outputs": [
        {
          "output_type": "stream",
          "text": [
            "Shape of matrices after one hot encoding\n",
            "(881245, 842) \n",
            " (155514, 842) \n",
            " (444761, 842)\n"
          ],
          "name": "stdout"
        }
      ]
    },
    {
      "cell_type": "code",
      "metadata": {
        "id": "V0npbfUJuL8n"
      },
      "source": [
        "def concat_feature_text(df: pd.DataFrame):\n",
        "    df['preprocessed_name'] = df['preprocessed_name'].fillna('') + ' ' + df['brand_name'].fillna('')\n",
        "    df['preprocessed_description'] = df['preprocessed_description'].fillna('') + ' ' + df['preprocessed_name'] + ' ' + df['subcat2_name'].fillna('')"
      ],
      "execution_count": 65,
      "outputs": []
    },
    {
      "cell_type": "code",
      "metadata": {
        "colab": {
          "base_uri": "https://localhost:8080/"
        },
        "id": "LRaFieDruL8o",
        "outputId": "e2addd9c-0067-46c2-90ee-80b5fc3b822d"
      },
      "source": [
        "concat_feature_text(train_df)\n",
        "concat_feature_text(cv_df)\n",
        "concat_feature_text(test)"
      ],
      "execution_count": 66,
      "outputs": [
        {
          "output_type": "stream",
          "text": [
            "/usr/local/lib/python3.6/dist-packages/ipykernel_launcher.py:2: SettingWithCopyWarning: \n",
            "A value is trying to be set on a copy of a slice from a DataFrame.\n",
            "Try using .loc[row_indexer,col_indexer] = value instead\n",
            "\n",
            "See the caveats in the documentation: https://pandas.pydata.org/pandas-docs/stable/user_guide/indexing.html#returning-a-view-versus-a-copy\n",
            "  \n",
            "/usr/local/lib/python3.6/dist-packages/ipykernel_launcher.py:3: SettingWithCopyWarning: \n",
            "A value is trying to be set on a copy of a slice from a DataFrame.\n",
            "Try using .loc[row_indexer,col_indexer] = value instead\n",
            "\n",
            "See the caveats in the documentation: https://pandas.pydata.org/pandas-docs/stable/user_guide/indexing.html#returning-a-view-versus-a-copy\n",
            "  This is separate from the ipykernel package so we can avoid doing imports until\n"
          ],
          "name": "stderr"
        }
      ]
    },
    {
      "cell_type": "code",
      "metadata": {
        "colab": {
          "base_uri": "https://localhost:8080/"
        },
        "id": "7MfsjLCluL8q",
        "outputId": "473e0389-f6ce-4ef8-a810-cafd5a080882"
      },
      "source": [
        "vectorizer = TfidfVectorizer(ngram_range=(1, 3), min_df=3, max_features=250000)\n",
        "\n",
        "train_name_tfidf = vectorizer.fit_transform(train_df['preprocessed_name'].values)\n",
        "\n",
        "cv_name_tfidf = vectorizer.transform(cv_df['preprocessed_name'].values)\n",
        "test_name_tfidf = vectorizer.transform(test['preprocessed_name'].values)\n",
        "\n",
        "print(\"Shape of matrices after vectorization\")\n",
        "print(train_name_tfidf.shape, \"\\n\", cv_name_tfidf.shape, \"\\n\", test_name_tfidf.shape)"
      ],
      "execution_count": 67,
      "outputs": [
        {
          "output_type": "stream",
          "text": [
            "Shape of matrices after vectorization\n",
            "(881245, 250000) \n",
            " (155514, 250000) \n",
            " (444761, 250000)\n"
          ],
          "name": "stdout"
        }
      ]
    },
    {
      "cell_type": "code",
      "metadata": {
        "colab": {
          "base_uri": "https://localhost:8080/"
        },
        "id": "KFqqQTq5uL8q",
        "outputId": "fe6724fb-24fb-412f-84ba-eba01a2287a8"
      },
      "source": [
        "vectorizer = TfidfVectorizer(ngram_range=(1, 3), min_df=5, max_features=500000)\n",
        "\n",
        "train_description_tfidf = vectorizer.fit_transform(train_df['preprocessed_description'].values)\n",
        "\n",
        "cv_description_tfidf = vectorizer.transform(cv_df['preprocessed_description'].values)\n",
        "test_description_tfidf = vectorizer.transform(test['preprocessed_description'].values)\n",
        "\n",
        "print(\"Shape of matrices after vectorization\")\n",
        "print(train_description_tfidf.shape, \"\\n\", cv_description_tfidf.shape, \"\\n\", test_description_tfidf.shape)"
      ],
      "execution_count": 68,
      "outputs": [
        {
          "output_type": "stream",
          "text": [
            "Shape of matrices after vectorization\n",
            "(881245, 500000) \n",
            " (155514, 500000) \n",
            " (444761, 500000)\n"
          ],
          "name": "stdout"
        }
      ]
    },
    {
      "cell_type": "code",
      "metadata": {
        "colab": {
          "base_uri": "https://localhost:8080/",
          "height": 224
        },
        "id": "SDSbpweuuL8r",
        "outputId": "65eb713a-8fca-4760-cdf6-c3fdf6d57d8e"
      },
      "source": [
        "submission_df = pd.DataFrame(test['id'])\n",
        "print(submission_df.shape)\n",
        "submission_df.head()"
      ],
      "execution_count": 69,
      "outputs": [
        {
          "output_type": "stream",
          "text": [
            "(444761, 1)\n"
          ],
          "name": "stdout"
        },
        {
          "output_type": "execute_result",
          "data": {
            "text/html": [
              "<div>\n",
              "<style scoped>\n",
              "    .dataframe tbody tr th:only-of-type {\n",
              "        vertical-align: middle;\n",
              "    }\n",
              "\n",
              "    .dataframe tbody tr th {\n",
              "        vertical-align: top;\n",
              "    }\n",
              "\n",
              "    .dataframe thead th {\n",
              "        text-align: right;\n",
              "    }\n",
              "</style>\n",
              "<table border=\"1\" class=\"dataframe\">\n",
              "  <thead>\n",
              "    <tr style=\"text-align: right;\">\n",
              "      <th></th>\n",
              "      <th>id</th>\n",
              "    </tr>\n",
              "  </thead>\n",
              "  <tbody>\n",
              "    <tr>\n",
              "      <th>0</th>\n",
              "      <td>1048243</td>\n",
              "    </tr>\n",
              "    <tr>\n",
              "      <th>1</th>\n",
              "      <td>86986</td>\n",
              "    </tr>\n",
              "    <tr>\n",
              "      <th>2</th>\n",
              "      <td>698316</td>\n",
              "    </tr>\n",
              "    <tr>\n",
              "      <th>3</th>\n",
              "      <td>268868</td>\n",
              "    </tr>\n",
              "    <tr>\n",
              "      <th>4</th>\n",
              "      <td>1360398</td>\n",
              "    </tr>\n",
              "  </tbody>\n",
              "</table>\n",
              "</div>"
            ],
            "text/plain": [
              "        id\n",
              "0  1048243\n",
              "1    86986\n",
              "2   698316\n",
              "3   268868\n",
              "4  1360398"
            ]
          },
          "metadata": {
            "tags": []
          },
          "execution_count": 69
        }
      ]
    },
    {
      "cell_type": "code",
      "metadata": {
        "colab": {
          "base_uri": "https://localhost:8080/"
        },
        "id": "Ztoz2cIguL8t",
        "outputId": "119cd65f-648e-4337-d25c-5e9d17ebdbf0"
      },
      "source": [
        "train_df.columns"
      ],
      "execution_count": 70,
      "outputs": [
        {
          "output_type": "execute_result",
          "data": {
            "text/plain": [
              "Index(['train_id', 'item_condition_id', 'brand_name', 'shipping',\n",
              "       'gencat_name', 'subcat1_name', 'subcat2_name', 'preprocessed_name',\n",
              "       'preprocessed_description', 'name_len', 'des_len', 'desc_word_count',\n",
              "       'name_word_count', 'desc_letters_per_word', 'name_letters_per_word',\n",
              "       'price_in_description', 'price_in_name', 'brand_mean_price',\n",
              "       'gencat_mean_price', 'subcat1_mean_price', 'subcat2_mean_price',\n",
              "       'condition_mean_price', 'brand_median_price', 'gencat_median_price',\n",
              "       'subcat1_median_price', 'subcat2_median_price',\n",
              "       'condition_median_price', 'gencat_name_count', 'subcat1_name_count',\n",
              "       'subcat2_name_count', 'brand_name_count'],\n",
              "      dtype='object')"
            ]
          },
          "metadata": {
            "tags": []
          },
          "execution_count": 70
        }
      ]
    },
    {
      "cell_type": "code",
      "metadata": {
        "colab": {
          "base_uri": "https://localhost:8080/"
        },
        "id": "Jzf51rgEuL8t",
        "outputId": "0c58ba7e-6217-436a-d57d-868bc493c851"
      },
      "source": [
        "cols = set(train_df.columns.values) - {'train_id'}\n",
        "skip_cols = {'preprocessed_name', 'item_condition_id', 'brand_name',\n",
        "  'shipping', 'preprocessed_description', 'gencat_name',\n",
        "  'subcat1_name', 'subcat2_name', 'price_in_name', 'price_in_description'}\n",
        "\n",
        "cols_to_normalize = cols - skip_cols\n",
        "print(\"Normalizing following columns: \", cols_to_normalize)\n",
        "\n",
        "def normalize(df):\n",
        "    result1 = df.copy()\n",
        "    for feature_name in df.columns:\n",
        "        if (feature_name in cols_to_normalize):\n",
        "            print(feature_name)\n",
        "            max_value = df[feature_name].max()\n",
        "            min_value = df[feature_name].min()\n",
        "            result1[feature_name] = (df[feature_name] - min_value) / (max_value - min_value)\n",
        "    return result1"
      ],
      "execution_count": 71,
      "outputs": [
        {
          "output_type": "stream",
          "text": [
            "Normalizing following columns:  {'condition_median_price', 'subcat2_median_price', 'brand_name_count', 'subcat2_name_count', 'name_letters_per_word', 'condition_mean_price', 'subcat2_mean_price', 'subcat1_mean_price', 'gencat_name_count', 'name_word_count', 'desc_word_count', 'gencat_median_price', 'desc_letters_per_word', 'name_len', 'gencat_mean_price', 'brand_mean_price', 'subcat1_name_count', 'brand_median_price', 'subcat1_median_price', 'des_len'}\n"
          ],
          "name": "stdout"
        }
      ]
    },
    {
      "cell_type": "code",
      "metadata": {
        "colab": {
          "base_uri": "https://localhost:8080/"
        },
        "id": "ZegYQrsLuL8u",
        "outputId": "428a5e63-6db4-466e-85a8-3646314638d9"
      },
      "source": [
        "train_df.columns"
      ],
      "execution_count": 72,
      "outputs": [
        {
          "output_type": "execute_result",
          "data": {
            "text/plain": [
              "Index(['train_id', 'item_condition_id', 'brand_name', 'shipping',\n",
              "       'gencat_name', 'subcat1_name', 'subcat2_name', 'preprocessed_name',\n",
              "       'preprocessed_description', 'name_len', 'des_len', 'desc_word_count',\n",
              "       'name_word_count', 'desc_letters_per_word', 'name_letters_per_word',\n",
              "       'price_in_description', 'price_in_name', 'brand_mean_price',\n",
              "       'gencat_mean_price', 'subcat1_mean_price', 'subcat2_mean_price',\n",
              "       'condition_mean_price', 'brand_median_price', 'gencat_median_price',\n",
              "       'subcat1_median_price', 'subcat2_median_price',\n",
              "       'condition_median_price', 'gencat_name_count', 'subcat1_name_count',\n",
              "       'subcat2_name_count', 'brand_name_count'],\n",
              "      dtype='object')"
            ]
          },
          "metadata": {
            "tags": []
          },
          "execution_count": 72
        }
      ]
    },
    {
      "cell_type": "code",
      "metadata": {
        "colab": {
          "base_uri": "https://localhost:8080/"
        },
        "id": "6gXGTmLPuL8v",
        "outputId": "a781fd11-9cbf-4f58-d3d8-3b926215bc24"
      },
      "source": [
        "train_normalized = normalize(train_df)\n",
        "cv_normalized = normalize(cv_df)\n",
        "test_normalized = normalize(test)"
      ],
      "execution_count": 73,
      "outputs": [
        {
          "output_type": "stream",
          "text": [
            "name_len\n",
            "des_len\n",
            "desc_word_count\n",
            "name_word_count\n",
            "desc_letters_per_word\n",
            "name_letters_per_word\n",
            "brand_mean_price\n",
            "gencat_mean_price\n",
            "subcat1_mean_price\n",
            "subcat2_mean_price\n",
            "condition_mean_price\n",
            "brand_median_price\n",
            "gencat_median_price\n",
            "subcat1_median_price\n",
            "subcat2_median_price\n",
            "condition_median_price\n",
            "gencat_name_count\n",
            "subcat1_name_count\n",
            "subcat2_name_count\n",
            "brand_name_count\n",
            "name_len\n",
            "des_len\n",
            "desc_word_count\n",
            "name_word_count\n",
            "desc_letters_per_word\n",
            "name_letters_per_word\n",
            "brand_mean_price\n",
            "gencat_mean_price\n",
            "subcat1_mean_price\n",
            "subcat2_mean_price\n",
            "condition_mean_price\n",
            "brand_median_price\n",
            "gencat_median_price\n",
            "subcat1_median_price\n",
            "subcat2_median_price\n",
            "condition_median_price\n",
            "gencat_name_count\n",
            "subcat1_name_count\n",
            "subcat2_name_count\n",
            "brand_name_count\n",
            "name_len\n",
            "des_len\n",
            "desc_word_count\n",
            "name_word_count\n",
            "desc_letters_per_word\n",
            "name_letters_per_word\n",
            "brand_mean_price\n",
            "gencat_mean_price\n",
            "subcat1_mean_price\n",
            "subcat2_mean_price\n",
            "condition_mean_price\n",
            "brand_median_price\n",
            "gencat_median_price\n",
            "subcat1_median_price\n",
            "subcat2_median_price\n",
            "condition_median_price\n",
            "gencat_name_count\n",
            "subcat1_name_count\n",
            "subcat2_name_count\n",
            "brand_name_count\n"
          ],
          "name": "stdout"
        }
      ]
    },
    {
      "cell_type": "code",
      "metadata": {
        "colab": {
          "base_uri": "https://localhost:8080/",
          "height": 132
        },
        "id": "IHCFiTF4uL8w",
        "outputId": "95dc3a06-fa5c-40d3-ae21-b81c9234f07b"
      },
      "source": [
        "\n",
        "X_tr = train_normalized[list(cols_to_normalize)]\n",
        "X_val = cv_normalized[list(cols_to_normalize)]\n",
        "X_te = test_normalized[list(cols_to_normalize)]\n",
        "\n",
        "X_tr.head(2)"
      ],
      "execution_count": 74,
      "outputs": [
        {
          "output_type": "execute_result",
          "data": {
            "text/html": [
              "<div>\n",
              "<style scoped>\n",
              "    .dataframe tbody tr th:only-of-type {\n",
              "        vertical-align: middle;\n",
              "    }\n",
              "\n",
              "    .dataframe tbody tr th {\n",
              "        vertical-align: top;\n",
              "    }\n",
              "\n",
              "    .dataframe thead th {\n",
              "        text-align: right;\n",
              "    }\n",
              "</style>\n",
              "<table border=\"1\" class=\"dataframe\">\n",
              "  <thead>\n",
              "    <tr style=\"text-align: right;\">\n",
              "      <th></th>\n",
              "      <th>condition_median_price</th>\n",
              "      <th>subcat2_median_price</th>\n",
              "      <th>brand_name_count</th>\n",
              "      <th>subcat2_name_count</th>\n",
              "      <th>name_letters_per_word</th>\n",
              "      <th>condition_mean_price</th>\n",
              "      <th>subcat2_mean_price</th>\n",
              "      <th>subcat1_mean_price</th>\n",
              "      <th>gencat_name_count</th>\n",
              "      <th>name_word_count</th>\n",
              "      <th>desc_word_count</th>\n",
              "      <th>gencat_median_price</th>\n",
              "      <th>desc_letters_per_word</th>\n",
              "      <th>name_len</th>\n",
              "      <th>gencat_mean_price</th>\n",
              "      <th>brand_mean_price</th>\n",
              "      <th>subcat1_name_count</th>\n",
              "      <th>brand_median_price</th>\n",
              "      <th>subcat1_median_price</th>\n",
              "      <th>des_len</th>\n",
              "    </tr>\n",
              "  </thead>\n",
              "  <tbody>\n",
              "    <tr>\n",
              "      <th>268131</th>\n",
              "      <td>0.75</td>\n",
              "      <td>0.113725</td>\n",
              "      <td>1.000000</td>\n",
              "      <td>0.00802</td>\n",
              "      <td>0.106227</td>\n",
              "      <td>0.279897</td>\n",
              "      <td>0.101357</td>\n",
              "      <td>0.116826</td>\n",
              "      <td>0.307329</td>\n",
              "      <td>0.461538</td>\n",
              "      <td>0.028689</td>\n",
              "      <td>0.333333</td>\n",
              "      <td>0.025000</td>\n",
              "      <td>0.833333</td>\n",
              "      <td>0.103814</td>\n",
              "      <td>0.028220</td>\n",
              "      <td>0.058083</td>\n",
              "      <td>0.017121</td>\n",
              "      <td>0.264706</td>\n",
              "      <td>0.057416</td>\n",
              "    </tr>\n",
              "    <tr>\n",
              "      <th>971433</th>\n",
              "      <td>0.75</td>\n",
              "      <td>0.074510</td>\n",
              "      <td>0.006383</td>\n",
              "      <td>0.06409</td>\n",
              "      <td>0.145299</td>\n",
              "      <td>0.279897</td>\n",
              "      <td>0.077406</td>\n",
              "      <td>0.620983</td>\n",
              "      <td>1.000000</td>\n",
              "      <td>0.384615</td>\n",
              "      <td>0.069672</td>\n",
              "      <td>0.777778</td>\n",
              "      <td>0.023899</td>\n",
              "      <td>0.928571</td>\n",
              "      <td>0.638601</td>\n",
              "      <td>0.031099</td>\n",
              "      <td>0.341223</td>\n",
              "      <td>0.024903</td>\n",
              "      <td>0.735294</td>\n",
              "      <td>0.125359</td>\n",
              "    </tr>\n",
              "  </tbody>\n",
              "</table>\n",
              "</div>"
            ],
            "text/plain": [
              "        condition_median_price  ...   des_len\n",
              "268131                    0.75  ...  0.057416\n",
              "971433                    0.75  ...  0.125359\n",
              "\n",
              "[2 rows x 20 columns]"
            ]
          },
          "metadata": {
            "tags": []
          },
          "execution_count": 74
        }
      ]
    },
    {
      "cell_type": "code",
      "metadata": {
        "id": "NLKy_bAauL8z"
      },
      "source": [
        "#del train_df, cv_df, test\n",
        "#gc.collect()"
      ],
      "execution_count": 75,
      "outputs": []
    },
    {
      "cell_type": "code",
      "metadata": {
        "colab": {
          "base_uri": "https://localhost:8080/"
        },
        "id": "tVdPLWQUuL8z",
        "outputId": "e244ef6c-e389-4761-df4a-1cc926621283"
      },
      "source": [
        "from scipy.sparse import csr_matrix\n",
        "\n",
        "X_tr_cat = csr_matrix(pd.get_dummies(train_normalized[['item_condition_id', 'shipping', 'price_in_name']], sparse=True).values)\n",
        "\n",
        "X_cv_cat = csr_matrix(pd.get_dummies(cv_normalized[['item_condition_id', 'shipping', 'price_in_name']], sparse=True).values)\n",
        "\n",
        "X_te_cat = csr_matrix(pd.get_dummies(test_normalized[['item_condition_id', 'shipping', 'price_in_name']], sparse=True).values)\n",
        "\n",
        "print(X_tr_cat.shape, X_cv_cat.shape, X_te_cat.shape)"
      ],
      "execution_count": 76,
      "outputs": [
        {
          "output_type": "stream",
          "text": [
            "(881245, 9) (155514, 9) (444761, 9)\n"
          ],
          "name": "stdout"
        }
      ]
    },
    {
      "cell_type": "code",
      "metadata": {
        "id": "v71SlY-3uL83"
      },
      "source": [
        "from scipy.sparse import hstack\n",
        "\n",
        "train_sparse = hstack((train_brand_oneHot, train_gencat_oneHot, train_subcat1_oneHot, train_subcat2_oneHot, \\\n",
        "               train_name_tfidf, train_description_tfidf, X_tr_cat)).tocsr()\n",
        "\n",
        "cv_sparse = hstack((cv_brand_oneHot, cv_gencat_oneHot, cv_subcat1_oneHot, cv_subcat2_oneHot, \\\n",
        "               cv_name_tfidf, cv_description_tfidf, X_cv_cat)).tocsr()\n",
        "\n",
        "test_sparse = hstack((test_brand_oneHot, test_gencat_oneHot, test_subcat1_oneHot, test_subcat2_oneHot, \\\n",
        "               test_name_tfidf, test_description_tfidf, X_te_cat)).tocsr()"
      ],
      "execution_count": 77,
      "outputs": []
    },
    {
      "cell_type": "code",
      "metadata": {
        "colab": {
          "base_uri": "https://localhost:8080/"
        },
        "id": "derlpKKNuL85",
        "outputId": "57375aa6-fb1d-4b2f-da15-d2dbe1a2b7c8"
      },
      "source": [
        "print(train_sparse.shape, cv_sparse.shape, test_sparse.shape)"
      ],
      "execution_count": 78,
      "outputs": [
        {
          "output_type": "stream",
          "text": [
            "(881245, 755164) (155514, 755164) (444761, 755164)\n"
          ],
          "name": "stdout"
        }
      ]
    },
    {
      "cell_type": "code",
      "metadata": {
        "id": "XM64VoxEuL86"
      },
      "source": [
        "\n",
        "X_train = hstack((X_tr.values, train_sparse)).tocsr()\n",
        "\n",
        "X_cv = hstack((X_val.values, cv_sparse)).tocsr()\n",
        "\n",
        "X_test = hstack((X_te.values, test_sparse)).tocsr()"
      ],
      "execution_count": 79,
      "outputs": []
    },
    {
      "cell_type": "code",
      "metadata": {
        "colab": {
          "base_uri": "https://localhost:8080/"
        },
        "id": "WTnqFBeSuL87",
        "outputId": "f4f05e3e-887f-4fb3-a6a3-74bb9f218c46"
      },
      "source": [
        "print('Train size: {}, CV size: {}, Test size: {}' .format(X_train.shape, X_cv.shape, X_test.shape))"
      ],
      "execution_count": 80,
      "outputs": [
        {
          "output_type": "stream",
          "text": [
            "Train size: (881245, 755184), CV size: (155514, 755184), Test size: (444761, 755184)\n"
          ],
          "name": "stdout"
        }
      ]
    },
    {
      "cell_type": "code",
      "metadata": {
        "colab": {
          "base_uri": "https://localhost:8080/",
          "height": 185
        },
        "id": "cNOcmiJ1uL88",
        "outputId": "eb7025e2-743e-4d8d-fe1c-652d7098d180"
      },
      "source": [
        "\"\"\"\n",
        "alpha = [1, 2, 3, 3.5, 4, 4.5, 5, 6, 7] \n",
        "cv_rmsle_array=[] \n",
        "for i in tqdm(alpha):\n",
        "    model = Ridge(solver=\"sag\", random_state=56, alpha=i)\n",
        "    model.fit(X_train, y_train)\n",
        "    preds_cv = model.predict(X_cv)\n",
        "    cv_rmsle_array.append(sqrt(mse(y_cv, preds_cv)))\n",
        "\n",
        "for i in range(len(cv_rmsle_array)):\n",
        "    print ('RMSLE for alpha = ',alpha[i],'is',cv_rmsle_array[i])\n",
        "    \n",
        "best_alpha = np.argmin(cv_rmsle_array)\n",
        "\n",
        "fig, ax = plt.subplots()\n",
        "ax.plot(alpha, cv_rmsle_array)\n",
        "ax.scatter(alpha, cv_rmsle_array)\n",
        "for i, txt in enumerate(np.round(cv_rmsle_array,3)):\n",
        "    ax.annotate((alpha[i],np.round(txt,3)), (alpha[i],cv_rmsle_array[i]))\n",
        "\n",
        "plt.title(\"Cross Validation Error for each alpha\")\n",
        "plt.xlabel(\"Alpha\")\n",
        "plt.ylabel(\"Error\")\n",
        "plt.show()\n",
        "\"\"\""
      ],
      "execution_count": 81,
      "outputs": [
        {
          "output_type": "execute_result",
          "data": {
            "application/vnd.google.colaboratory.intrinsic+json": {
              "type": "string"
            },
            "text/plain": [
              "'\\nalpha = [1, 2, 3, 3.5, 4, 4.5, 5, 6, 7] \\ncv_rmsle_array=[] \\nfor i in tqdm(alpha):\\n    model = Ridge(solver=\"sag\", random_state=56, alpha=i)\\n    model.fit(X_train, y_train)\\n    preds_cv = model.predict(X_cv)\\n    cv_rmsle_array.append(sqrt(mse(y_cv, preds_cv)))\\n\\nfor i in range(len(cv_rmsle_array)):\\n    print (\\'RMSLE for alpha = \\',alpha[i],\\'is\\',cv_rmsle_array[i])\\n    \\nbest_alpha = np.argmin(cv_rmsle_array)\\n\\nfig, ax = plt.subplots()\\nax.plot(alpha, cv_rmsle_array)\\nax.scatter(alpha, cv_rmsle_array)\\nfor i, txt in enumerate(np.round(cv_rmsle_array,3)):\\n    ax.annotate((alpha[i],np.round(txt,3)), (alpha[i],cv_rmsle_array[i]))\\n\\nplt.title(\"Cross Validation Error for each alpha\")\\nplt.xlabel(\"Alpha\")\\nplt.ylabel(\"Error\")\\nplt.show()\\n'"
            ]
          },
          "metadata": {
            "tags": []
          },
          "execution_count": 81
        }
      ]
    },
    {
      "cell_type": "code",
      "metadata": {
        "colab": {
          "base_uri": "https://localhost:8080/",
          "height": 112
        },
        "id": "PT3hlkZIuL89",
        "outputId": "57bc270f-a9e1-46ff-b362-e1cc25fd6523"
      },
      "source": [
        "\"\"\"\n",
        "print(\"Best alpha: \",  alpha[best_alpha])\n",
        "model = Ridge(solver=\"sag\", random_state=56, alpha=alpha[best_alpha])\n",
        "model.fit(X_train, y_train)\n",
        "ridge_preds_tr = model.predict(X_train)\n",
        "ridge_preds_cv = model.predict(X_cv)\n",
        "ridge_preds_te = model.predict(X_test)\n",
        "\n",
        "print('Train RMSLE:', sqrt(mse(y_train, ridge_preds_tr)))\n",
        "\n",
        "ridge_rmsle = sqrt(mse(y_cv, ridge_preds_cv))\n",
        "print(\"Cross validation RMSLE: \", ridge_rmsle)\n",
        "\"\"\""
      ],
      "execution_count": 82,
      "outputs": [
        {
          "output_type": "execute_result",
          "data": {
            "application/vnd.google.colaboratory.intrinsic+json": {
              "type": "string"
            },
            "text/plain": [
              "'\\nprint(\"Best alpha: \",  alpha[best_alpha])\\nmodel = Ridge(solver=\"sag\", random_state=56, alpha=alpha[best_alpha])\\nmodel.fit(X_train, y_train)\\nridge_preds_tr = model.predict(X_train)\\nridge_preds_cv = model.predict(X_cv)\\nridge_preds_te = model.predict(X_test)\\n\\nprint(\\'Train RMSLE:\\', sqrt(mse(y_train, ridge_preds_tr)))\\n\\nridge_rmsle = sqrt(mse(y_cv, ridge_preds_cv))\\nprint(\"Cross validation RMSLE: \", ridge_rmsle)\\n'"
            ]
          },
          "metadata": {
            "tags": []
          },
          "execution_count": 82
        }
      ]
    },
    {
      "cell_type": "code",
      "metadata": {
        "colab": {
          "base_uri": "https://localhost:8080/",
          "height": 58
        },
        "id": "dpF4x1jXuL8-",
        "outputId": "99ef6441-9c71-48f6-b14c-a8bd80c8b221"
      },
      "source": [
        "\"\"\"\n",
        "submission_df['price'] = np.exp(ridge_preds_te) - 1\n",
        "\n",
        "submission_df.to_csv('ridge_submission_colab.csv', index=False)\n",
        "\"\"\""
      ],
      "execution_count": 83,
      "outputs": [
        {
          "output_type": "execute_result",
          "data": {
            "application/vnd.google.colaboratory.intrinsic+json": {
              "type": "string"
            },
            "text/plain": [
              "\"\\nsubmission_df['price'] = np.exp(ridge_preds_te) - 1\\n\\nsubmission_df.to_csv('ridge_submission_colab.csv', index=False)\\n\""
            ]
          },
          "metadata": {
            "tags": []
          },
          "execution_count": 83
        }
      ]
    },
    {
      "cell_type": "code",
      "metadata": {
        "colab": {
          "base_uri": "https://localhost:8080/"
        },
        "id": "z1s_y4NeuL8-",
        "outputId": "575bbb9e-3941-44d4-e44d-883d078cb299"
      },
      "source": [
        "#print(\"Best alpha: \",  alpha[best_alpha])\n",
        "model = Ridge(solver=\"sag\", random_state=56, alpha=2.5)\n",
        "model.fit(X_train, y_train)\n",
        "ridge_preds_tr = model.predict(X_train)\n",
        "ridge_preds_cv = model.predict(X_cv)\n",
        "ridge_preds_te = model.predict(X_test)\n",
        "\n",
        "print('Train RMSLE:', sqrt(mse(y_train, ridge_preds_tr)))\n",
        "\n",
        "ridge_rmsle = sqrt(mse(y_cv, ridge_preds_cv))\n",
        "print(\"Cross validation RMSLE: \", ridge_rmsle)"
      ],
      "execution_count": 84,
      "outputs": [
        {
          "output_type": "stream",
          "text": [
            "/usr/local/lib/python3.6/dist-packages/sklearn/linear_model/_ridge.py:558: UserWarning: \"sag\" solver requires many iterations to fit an intercept with sparse inputs. Either set the solver to \"auto\" or \"sparse_cg\", or set a low \"tol\" and a high \"max_iter\" (especially if inputs are not standardized).\n",
            "  '\"sag\" solver requires many iterations to fit '\n"
          ],
          "name": "stderr"
        },
        {
          "output_type": "stream",
          "text": [
            "Train RMSLE: 0.35721927416013455\n",
            "Cross validation RMSLE:  0.4517812813340723\n"
          ],
          "name": "stdout"
        }
      ]
    },
    {
      "cell_type": "code",
      "metadata": {
        "id": "-9iwo4PNuL8_"
      },
      "source": [
        "submission_df['price'] = np.exp(ridge_preds_te) - 1\n",
        "\n",
        "submission_df.to_csv('ridge_submission_colab.csv', index=False)"
      ],
      "execution_count": 85,
      "outputs": []
    },
    {
      "cell_type": "code",
      "metadata": {
        "id": "SBKgyDn_uL9A"
      },
      "source": [
        "  # import scipy\n",
        "  # scipy.sparse.save_npz(\"cv_final.npz\", X_cv)\n",
        "  # np.save('y_cv', y_cv)"
      ],
      "execution_count": 86,
      "outputs": []
    },
    {
      "cell_type": "code",
      "metadata": {
        "id": "eGtbVNR8uL9B"
      },
      "source": [
        "  # scipy.sparse.save_npz(\"train_final.npz\", X_train)\n",
        "  # np.save('y_train', y_train)"
      ],
      "execution_count": 87,
      "outputs": []
    },
    {
      "cell_type": "code",
      "metadata": {
        "id": "azHgMX0buL9B"
      },
      "source": [
        "# scipy.sparse.save_npz(\"test_final.npz\", X_test)"
      ],
      "execution_count": 88,
      "outputs": []
    },
    {
      "cell_type": "code",
      "metadata": {
        "colab": {
          "base_uri": "https://localhost:8080/",
          "height": 112
        },
        "id": "GOEQUl9SuL9C",
        "outputId": "f27ed0de-217c-4edf-ab7a-f8913479038f"
      },
      "source": [
        "\"\"\"\"\n",
        "X_train_saved = scipy.sparse.load_npz(\"train_final.npz\")\n",
        "y_train_saved = np.load('y_train.npy')\n",
        "\n",
        "X_cv_saved = scipy.sparse.load_npz(\"cv_final.npz\")\n",
        "y_cv_saved = np.load('y_cv.npy')\n",
        "\n",
        "X_test_saved = scipy.sparse.load_npz(\"test_final.npz\")\n",
        "X_train_saved.shape, y_train_saved.shape, X_cv_saved.shape, y_cv_saved.shape, X_test_saved.shape \n",
        "\"\"\""
      ],
      "execution_count": 89,
      "outputs": [
        {
          "output_type": "execute_result",
          "data": {
            "application/vnd.google.colaboratory.intrinsic+json": {
              "type": "string"
            },
            "text/plain": [
              "'\"\\nX_train_saved = scipy.sparse.load_npz(\"train_final.npz\")\\ny_train_saved = np.load(\\'y_train.npy\\')\\n\\nX_cv_saved = scipy.sparse.load_npz(\"cv_final.npz\")\\ny_cv_saved = np.load(\\'y_cv.npy\\')\\n\\nX_test_saved = scipy.sparse.load_npz(\"test_final.npz\")\\nX_train_saved.shape, y_train_saved.shape, X_cv_saved.shape, y_cv_saved.shape, X_test_saved.shape \\n'"
            ]
          },
          "metadata": {
            "tags": []
          },
          "execution_count": 89
        }
      ]
    },
    {
      "cell_type": "code",
      "metadata": {
        "id": "SOc1A9H3uL9D"
      },
      "source": [
        "# np.save('ridge_preds_tr', ridge_preds_tr)\n",
        "# np.save('ridge_preds_cv', ridge_preds_cv)\n",
        "# np.save('ridge_preds_te', ridge_preds_te)\n",
        "# np.save('train_sparse',train_sparse) \n",
        "# np.save('cv_sparse', cv_sparse)\n",
        "# np.save('test_sparse',test_sparse)"
      ],
      "execution_count": 90,
      "outputs": []
    },
    {
      "cell_type": "code",
      "metadata": {
        "id": "yfqzCScEuL9E"
      },
      "source": [
        "# from lightgbm import LGBMRegressor\r\n",
        "# lgbm_regressor=LGBMRegressor(learning_rate=0.4,max_depth=10,n_estimators=500,num_leaves=100,boosting_type='gbdt',colsample_bytree=0.8,min_child_samples=50)\r\n",
        "# lgbm_regressor.fit(X_train,y_train)"
      ],
      "execution_count": 91,
      "outputs": []
    },
    {
      "cell_type": "code",
      "metadata": {
        "id": "0Hx-VZ5Z1GOQ"
      },
      "source": [
        "# ytrain_predict_lgbm=lgbm_regressor.predict(X_train)\r\n",
        "# ycv_predict_lgbm=lgbm_regressor.predict(X_cv)\r\n",
        "# training = np.sqrt(mean_squared_error(y_train, ytrain_predict_lgbm))\r\n",
        "# cving=np.sqrt(mean_squared_error(y_cv,ycv_predict_lgbm))\r\n",
        "# print(\"RMSLE of train is {} RMSLE of test is {}\".format(training,cving))\r\n",
        "# ytest_lgbm=lgbm_regressor.predict(X_test)"
      ],
      "execution_count": 92,
      "outputs": []
    },
    {
      "cell_type": "code",
      "metadata": {
        "id": "F_UZVQLF1iM8"
      },
      "source": [
        "# submission_df['price'] = np.exp(ytest_lgbm) - 1\r\n",
        "# submission_df.to_csv('lgbm_submission_colab.csv', index=False)"
      ],
      "execution_count": 93,
      "outputs": []
    },
    {
      "cell_type": "code",
      "metadata": {
        "id": "iqxAxLLedWQu"
      },
      "source": [
        "\r\n",
        "\r\n",
        "from sklearn.naive_bayes import MultinomialNB\r\n",
        "\r\n",
        "model = MultinomialNB(alpha=0.01)\r\n",
        "model.fit(X_train, y_train>= 4)\r\n",
        "\r\n",
        "mnb_preds_tr = model.predict_proba(X_train)[:, 1]\r\n",
        "mnb_preds_cv = model.predict_proba(X_cv)[:, 1]\r\n",
        "mnb_preds_te = model.predict_proba(X_test)[:, 1]\r\n"
      ],
      "execution_count": 94,
      "outputs": []
    },
    {
      "cell_type": "code",
      "metadata": {
        "colab": {
          "base_uri": "https://localhost:8080/"
        },
        "id": "4fbA_FETc1AH",
        "outputId": "60a49f1f-2d39-43b9-9440-08dbbaae1151"
      },
      "source": [
        "from sklearn.feature_selection.univariate_selection import SelectKBest, f_regression\r\n",
        "\r\n",
        "fselect = SelectKBest(f_regression, k=48000)\r\n",
        "train_features = fselect.fit_transform(train_sparse, y_train)\r\n",
        "\r\n",
        "cv_features = fselect.transform(cv_sparse)\r\n",
        "test_features = fselect.transform(test_sparse)"
      ],
      "execution_count": 95,
      "outputs": [
        {
          "output_type": "stream",
          "text": [
            "/usr/local/lib/python3.6/dist-packages/sklearn/utils/deprecation.py:144: FutureWarning: The sklearn.feature_selection.univariate_selection module is  deprecated in version 0.22 and will be removed in version 0.24. The corresponding classes / functions should instead be imported from sklearn.feature_selection. Anything that cannot be imported from sklearn.feature_selection is now part of the private API.\n",
            "  warnings.warn(message, FutureWarning)\n"
          ],
          "name": "stderr"
        }
      ]
    },
    {
      "cell_type": "code",
      "metadata": {
        "colab": {
          "base_uri": "https://localhost:8080/"
        },
        "id": "oo70efwAc3_x",
        "outputId": "780c1b7c-a584-4c9a-daa9-71c6fdd4e14a"
      },
      "source": [
        "# stack feature matrix with Ridge, MNB model predictions, engineered features\r\n",
        "X_train = hstack((X_tr.values, ridge_preds_tr.reshape(-1,1), mnb_preds_tr.reshape(-1,1), train_features)).tocsr()\r\n",
        "\r\n",
        "X_cv = hstack((X_val.values, ridge_preds_cv.reshape(-1,1), mnb_preds_cv.reshape(-1,1), cv_features)).tocsr()\r\n",
        "\r\n",
        "X_test = hstack((X_te.values, ridge_preds_te.reshape(-1,1), mnb_preds_te.reshape(-1,1), test_features)).tocsr()\r\n",
        "\r\n",
        "print('Train size: {}, CV size: {}, Test size: {}' .format(X_train.shape, X_cv.shape, X_test.shape))"
      ],
      "execution_count": 96,
      "outputs": [
        {
          "output_type": "stream",
          "text": [
            "Train size: (881245, 48022), CV size: (155514, 48022), Test size: (444761, 48022)\n"
          ],
          "name": "stdout"
        }
      ]
    },
    {
      "cell_type": "code",
      "metadata": {
        "colab": {
          "base_uri": "https://localhost:8080/",
          "height": 167
        },
        "id": "hcIn6h4mgaR9",
        "outputId": "08cc45c0-6ad6-4dbe-a3ca-a44b521b6246"
      },
      "source": [
        "\"\"\"\r\n",
        "c_param = [0.1, 0.15, 0.2, 0.25, 0.3, 0.4]\r\n",
        "cv_rmsle_array=[]\r\n",
        "\r\n",
        "for i in c_param:\r\n",
        "    model = SVR(C=i, max_iter=200)\r\n",
        "    model.fit(X_train, y_train)\r\n",
        "    preds_cv = model.predict(X_cv)\r\n",
        "    cv_err = sqrt(mse(y_cv, preds_cv))\r\n",
        "    cv_rmsle_array.append(cv_err)\r\n",
        "\r\n",
        "    print('RMSLE for C=',i, 'is', cv_err)\r\n",
        "\r\n",
        "best_C = np.argmin(cv_rmsle_array)\r\n",
        "\r\n",
        "fig, ax = plt.subplots()\r\n",
        "ax.plot(c_param, cv_rmsle_array)\r\n",
        "ax.scatter(c_param, cv_rmsle_array)\r\n",
        "for i, txt in enumerate(np.round(cv_rmsle_array,3)):\r\n",
        "    ax.annotate((c_param[i],np.round(txt,3)), (c_param[i],cv_rmsle_array[i]))\r\n",
        "plt.title(\"Cross Validation Error for each C\")\r\n",
        "plt.xlabel(\"C\")\r\n",
        "plt.ylabel(\"Error\")\r\n",
        "plt.show()\r\n",
        "\"\"\""
      ],
      "execution_count": 97,
      "outputs": [
        {
          "output_type": "execute_result",
          "data": {
            "application/vnd.google.colaboratory.intrinsic+json": {
              "type": "string"
            },
            "text/plain": [
              "'\\nc_param = [0.1, 0.15, 0.2, 0.25, 0.3, 0.4]\\ncv_rmsle_array=[]\\n\\nfor i in c_param:\\n    model = SVR(C=i, max_iter=200)\\n    model.fit(X_train, y_train)\\n    preds_cv = model.predict(X_cv)\\n    cv_err = sqrt(mse(y_cv, preds_cv))\\n    cv_rmsle_array.append(cv_err)\\n\\n    print(\\'RMSLE for C=\\',i, \\'is\\', cv_err)\\n\\nbest_C = np.argmin(cv_rmsle_array)\\n\\nfig, ax = plt.subplots()\\nax.plot(c_param, cv_rmsle_array)\\nax.scatter(c_param, cv_rmsle_array)\\nfor i, txt in enumerate(np.round(cv_rmsle_array,3)):\\n    ax.annotate((c_param[i],np.round(txt,3)), (c_param[i],cv_rmsle_array[i]))\\nplt.title(\"Cross Validation Error for each C\")\\nplt.xlabel(\"C\")\\nplt.ylabel(\"Error\")\\nplt.show()\\n'"
            ]
          },
          "metadata": {
            "tags": []
          },
          "execution_count": 97
        }
      ]
    },
    {
      "cell_type": "code",
      "metadata": {
        "colab": {
          "base_uri": "https://localhost:8080/"
        },
        "id": "lpR3TunndIw9",
        "outputId": "38f8f41a-e10d-43ac-fdc3-66c7a0488877"
      },
      "source": [
        "from sklearn.svm import SVR\r\n",
        "best_C = 0.2\r\n",
        "print('Best C: ', best_C)\r\n",
        "model = SVR(C=best_C, max_iter=200)\r\n",
        "model.fit(X_train, y_train)"
      ],
      "execution_count": 98,
      "outputs": [
        {
          "output_type": "stream",
          "text": [
            "Best C:  0.2\n"
          ],
          "name": "stdout"
        },
        {
          "output_type": "stream",
          "text": [
            "/usr/local/lib/python3.6/dist-packages/sklearn/svm/_base.py:231: ConvergenceWarning: Solver terminated early (max_iter=200).  Consider pre-processing your data with StandardScaler or MinMaxScaler.\n",
            "  % self.max_iter, ConvergenceWarning)\n"
          ],
          "name": "stderr"
        },
        {
          "output_type": "execute_result",
          "data": {
            "text/plain": [
              "SVR(C=0.2, cache_size=200, coef0=0.0, degree=3, epsilon=0.1, gamma='scale',\n",
              "    kernel='rbf', max_iter=200, shrinking=True, tol=0.001, verbose=False)"
            ]
          },
          "metadata": {
            "tags": []
          },
          "execution_count": 98
        }
      ]
    },
    {
      "cell_type": "code",
      "metadata": {
        "colab": {
          "base_uri": "https://localhost:8080/"
        },
        "id": "9I29hshheGH_",
        "outputId": "ef575fb8-5613-46fd-8436-11cd7dadc63c"
      },
      "source": [
        "svr_preds_tr = model.predict(X_train)\r\n",
        "svr_preds_cv = model.predict(X_cv)\r\n",
        "print('Train RMSLE:', sqrt(mse(y_train, svr_preds_tr)))\r\n",
        "\r\n",
        "svr_rmsle = sqrt(mse(y_cv, svr_preds_cv))\r\n",
        "print(\"Cross validation RMSLE: \", svr_rmsle)"
      ],
      "execution_count": 99,
      "outputs": [
        {
          "output_type": "stream",
          "text": [
            "Train RMSLE: 0.4085402597404695\n",
            "Cross validation RMSLE:  0.4488255239288679\n"
          ],
          "name": "stdout"
        }
      ]
    },
    {
      "cell_type": "code",
      "metadata": {
        "colab": {
          "base_uri": "https://localhost:8080/",
          "height": 206
        },
        "id": "9Pa8hHfDnosk",
        "outputId": "cff057e0-bef8-4857-fe89-44eca8af306e"
      },
      "source": [
        "submission_df_svr = pd.DataFrame(test['id'])\r\n",
        "svr_preds_te = model.predict(X_test)\r\n",
        "submission_df_svr['price'] = np.exp(svr_preds_te) - 1\r\n",
        "submission_df_svr.to_csv('svr_submission_colab.csv', index=False)\r\n",
        "submission_df_svr.head()"
      ],
      "execution_count": 100,
      "outputs": [
        {
          "output_type": "execute_result",
          "data": {
            "text/html": [
              "<div>\n",
              "<style scoped>\n",
              "    .dataframe tbody tr th:only-of-type {\n",
              "        vertical-align: middle;\n",
              "    }\n",
              "\n",
              "    .dataframe tbody tr th {\n",
              "        vertical-align: top;\n",
              "    }\n",
              "\n",
              "    .dataframe thead th {\n",
              "        text-align: right;\n",
              "    }\n",
              "</style>\n",
              "<table border=\"1\" class=\"dataframe\">\n",
              "  <thead>\n",
              "    <tr style=\"text-align: right;\">\n",
              "      <th></th>\n",
              "      <th>id</th>\n",
              "      <th>price</th>\n",
              "    </tr>\n",
              "  </thead>\n",
              "  <tbody>\n",
              "    <tr>\n",
              "      <th>0</th>\n",
              "      <td>1048243</td>\n",
              "      <td>34.453731</td>\n",
              "    </tr>\n",
              "    <tr>\n",
              "      <th>1</th>\n",
              "      <td>86986</td>\n",
              "      <td>47.294192</td>\n",
              "    </tr>\n",
              "    <tr>\n",
              "      <th>2</th>\n",
              "      <td>698316</td>\n",
              "      <td>20.431827</td>\n",
              "    </tr>\n",
              "    <tr>\n",
              "      <th>3</th>\n",
              "      <td>268868</td>\n",
              "      <td>14.767620</td>\n",
              "    </tr>\n",
              "    <tr>\n",
              "      <th>4</th>\n",
              "      <td>1360398</td>\n",
              "      <td>27.204126</td>\n",
              "    </tr>\n",
              "  </tbody>\n",
              "</table>\n",
              "</div>"
            ],
            "text/plain": [
              "        id      price\n",
              "0  1048243  34.453731\n",
              "1    86986  47.294192\n",
              "2   698316  20.431827\n",
              "3   268868  14.767620\n",
              "4  1360398  27.204126"
            ]
          },
          "metadata": {
            "tags": []
          },
          "execution_count": 100
        }
      ]
    },
    {
      "cell_type": "code",
      "metadata": {
        "colab": {
          "base_uri": "https://localhost:8080/"
        },
        "id": "cqQ_DTje5vnb",
        "outputId": "eaa1faa2-fde0-48e7-e58b-1144bb928972"
      },
      "source": [
        "svr_preds_tr.shape"
      ],
      "execution_count": 101,
      "outputs": [
        {
          "output_type": "execute_result",
          "data": {
            "text/plain": [
              "(881245,)"
            ]
          },
          "metadata": {
            "tags": []
          },
          "execution_count": 101
        }
      ]
    },
    {
      "cell_type": "code",
      "metadata": {
        "id": "QC_SMSifouhk"
      },
      "source": [
        "stack_train = np.vstack((svr_preds_tr, ridge_preds_tr)).T"
      ],
      "execution_count": 110,
      "outputs": []
    },
    {
      "cell_type": "code",
      "metadata": {
        "colab": {
          "base_uri": "https://localhost:8080/"
        },
        "id": "jHlY5cfW5zQy",
        "outputId": "d8d2f03b-e1ac-4d02-c3b5-66b8aa538137"
      },
      "source": [
        "ridge_preds_tr.shape"
      ],
      "execution_count": 102,
      "outputs": [
        {
          "output_type": "execute_result",
          "data": {
            "text/plain": [
              "(881245,)"
            ]
          },
          "metadata": {
            "tags": []
          },
          "execution_count": 102
        }
      ]
    },
    {
      "cell_type": "code",
      "metadata": {
        "colab": {
          "base_uri": "https://localhost:8080/"
        },
        "id": "ypBbcn0S5ifF",
        "outputId": "d1c94988-62f0-4fcd-95be-2004500c8f8a"
      },
      "source": [
        "stack_train.shape"
      ],
      "execution_count": 111,
      "outputs": [
        {
          "output_type": "execute_result",
          "data": {
            "text/plain": [
              "(881245, 2)"
            ]
          },
          "metadata": {
            "tags": []
          },
          "execution_count": 111
        }
      ]
    },
    {
      "cell_type": "code",
      "metadata": {
        "id": "KDsr5WbSr8MD"
      },
      "source": [
        "from sklearn.linear_model import LinearRegression"
      ],
      "execution_count": 113,
      "outputs": []
    },
    {
      "cell_type": "code",
      "metadata": {
        "id": "uTnsKhWA7nqV"
      },
      "source": [
        "lr = LinearRegression()"
      ],
      "execution_count": 114,
      "outputs": []
    },
    {
      "cell_type": "code",
      "metadata": {
        "colab": {
          "base_uri": "https://localhost:8080/"
        },
        "id": "gMuFLKt774vh",
        "outputId": "77d66849-2293-4195-c9ad-0eab4d5db392"
      },
      "source": [
        "lr.fit(stack_train,y_train)"
      ],
      "execution_count": 115,
      "outputs": [
        {
          "output_type": "execute_result",
          "data": {
            "text/plain": [
              "LinearRegression(copy_X=True, fit_intercept=True, n_jobs=None, normalize=False)"
            ]
          },
          "metadata": {
            "tags": []
          },
          "execution_count": 115
        }
      ]
    },
    {
      "cell_type": "code",
      "metadata": {
        "id": "Wz-l2oD78ILT"
      },
      "source": [
        "test_stack_train = np.vstack((np.exp(svr_preds_te) -1, np.exp(ridge_preds_te) -1)).T"
      ],
      "execution_count": 119,
      "outputs": []
    },
    {
      "cell_type": "code",
      "metadata": {
        "id": "bMtEU5du8nWB"
      },
      "source": [
        "stack_predict = lr.predict(test_stack_train)"
      ],
      "execution_count": 120,
      "outputs": []
    },
    {
      "cell_type": "code",
      "metadata": {
        "colab": {
          "base_uri": "https://localhost:8080/",
          "height": 206
        },
        "id": "milMB7mq85mM",
        "outputId": "07f1d9e8-0d10-4151-d361-851a5ef42a27"
      },
      "source": [
        "submission_df_stack = pd.DataFrame(test['id'])\r\n",
        "submission_df_stack['price'] = stack_predict\r\n",
        "submission_df_stack.to_csv('stack_submission_colab.csv', index=False)\r\n",
        "submission_df_stack.head()"
      ],
      "execution_count": 121,
      "outputs": [
        {
          "output_type": "execute_result",
          "data": {
            "text/html": [
              "<div>\n",
              "<style scoped>\n",
              "    .dataframe tbody tr th:only-of-type {\n",
              "        vertical-align: middle;\n",
              "    }\n",
              "\n",
              "    .dataframe tbody tr th {\n",
              "        vertical-align: top;\n",
              "    }\n",
              "\n",
              "    .dataframe thead th {\n",
              "        text-align: right;\n",
              "    }\n",
              "</style>\n",
              "<table border=\"1\" class=\"dataframe\">\n",
              "  <thead>\n",
              "    <tr style=\"text-align: right;\">\n",
              "      <th></th>\n",
              "      <th>id</th>\n",
              "      <th>price</th>\n",
              "    </tr>\n",
              "  </thead>\n",
              "  <tbody>\n",
              "    <tr>\n",
              "      <th>0</th>\n",
              "      <td>1048243</td>\n",
              "      <td>44.068961</td>\n",
              "    </tr>\n",
              "    <tr>\n",
              "      <th>1</th>\n",
              "      <td>86986</td>\n",
              "      <td>59.140901</td>\n",
              "    </tr>\n",
              "    <tr>\n",
              "      <th>2</th>\n",
              "      <td>698316</td>\n",
              "      <td>29.449590</td>\n",
              "    </tr>\n",
              "    <tr>\n",
              "      <th>3</th>\n",
              "      <td>268868</td>\n",
              "      <td>21.331010</td>\n",
              "    </tr>\n",
              "    <tr>\n",
              "      <th>4</th>\n",
              "      <td>1360398</td>\n",
              "      <td>34.146904</td>\n",
              "    </tr>\n",
              "  </tbody>\n",
              "</table>\n",
              "</div>"
            ],
            "text/plain": [
              "        id      price\n",
              "0  1048243  44.068961\n",
              "1    86986  59.140901\n",
              "2   698316  29.449590\n",
              "3   268868  21.331010\n",
              "4  1360398  34.146904"
            ]
          },
          "metadata": {
            "tags": []
          },
          "execution_count": 121
        }
      ]
    },
    {
      "cell_type": "code",
      "metadata": {
        "id": "PIuDn3ZL-PXG"
      },
      "source": [
        ""
      ],
      "execution_count": null,
      "outputs": []
    }
  ]
}