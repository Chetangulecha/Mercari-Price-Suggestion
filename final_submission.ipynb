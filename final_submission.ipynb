{
 "cells": [
  {
   "cell_type": "code",
   "execution_count": 1,
   "metadata": {
    "executionInfo": {
     "elapsed": 1589,
     "status": "ok",
     "timestamp": 1608169885685,
     "user": {
      "displayName": "Pratik Pawar",
      "photoUrl": "",
      "userId": "07854545271556537314"
     },
     "user_tz": -330
    },
    "id": "GA4eAiTyuL68"
   },
   "outputs": [],
   "source": [
    "import pandas as pd\n",
    "from collections import Counter\n",
    "import matplotlib.pyplot as plt\n",
    "import seaborn as sns\n",
    "import numpy as np\n",
    "import re\n",
    "from tqdm import tqdm\n",
    "import gc\n",
    "from scipy import hstack\n",
    "from sklearn.feature_extraction.text import CountVectorizer\n",
    "from sklearn.feature_extraction.text import TfidfVectorizer\n",
    "from sklearn.metrics import mean_squared_error as mse\n",
    "from math import sqrt\n",
    "from sklearn.linear_model import Ridge"
   ]
  },
  {
   "cell_type": "code",
   "execution_count": 2,
   "metadata": {
    "colab": {
     "base_uri": "https://localhost:8080/"
    },
    "executionInfo": {
     "elapsed": 29332,
     "status": "ok",
     "timestamp": 1608169854868,
     "user": {
      "displayName": "Pratik Pawar",
      "photoUrl": "",
      "userId": "07854545271556537314"
     },
     "user_tz": -330
    },
    "id": "j9EHlE5duVUq",
    "outputId": "ff0c9e42-b3e6-4ff8-88b8-fc5f5916dad2"
   },
   "outputs": [
    {
     "name": "stdout",
     "output_type": "stream",
     "text": [
      "Mounted at /content/drive\n"
     ]
    }
   ],
   "source": [
    "from google.colab import drive\n",
    "drive.mount('/content/drive')"
   ]
  },
  {
   "cell_type": "code",
   "execution_count": null,
   "metadata": {
    "id": "b9s-WRb3cyd6"
   },
   "outputs": [],
   "source": []
  },
  {
   "cell_type": "code",
   "execution_count": 3,
   "metadata": {
    "executionInfo": {
     "elapsed": 1209,
     "status": "ok",
     "timestamp": 1608170074216,
     "user": {
      "displayName": "Pratik Pawar",
      "photoUrl": "",
      "userId": "07854545271556537314"
     },
     "user_tz": -330
    },
    "id": "ciydZzxauL7P"
   },
   "outputs": [],
   "source": [
    "def split_cat(text):\n",
    "    try:\n",
    "        return text.split(\"/\")\n",
    "    except:\n",
    "        return (\"No Label\", \"No Label\", \"No Label\")"
   ]
  },
  {
   "cell_type": "code",
   "execution_count": 4,
   "metadata": {
    "executionInfo": {
     "elapsed": 10542,
     "status": "ok",
     "timestamp": 1608170086955,
     "user": {
      "displayName": "Pratik Pawar",
      "photoUrl": "",
      "userId": "07854545271556537314"
     },
     "user_tz": -330
    },
    "id": "uR4fJ9ABuL7R"
   },
   "outputs": [],
   "source": [
    "train = pd.read_csv('./train.tsv', sep='\\t', \n",
    "                      dtype={'item_condition_id': 'category', 'shipping': 'category'}, \n",
    "                      converters={'category_name': split_cat})\n",
    "test = pd.read_csv('./test.tsv', sep='\\t', \n",
    "                     dtype={'item_condition_id': 'category', 'shipping': 'category'}, \n",
    "                     converters={'category_name': split_cat})"
   ]
  },
  {
   "cell_type": "code",
   "execution_count": 5,
   "metadata": {
    "colab": {
     "base_uri": "https://localhost:8080/",
     "height": 114
    },
    "executionInfo": {
     "elapsed": 42381,
     "status": "ok",
     "timestamp": 1608090551481,
     "user": {
      "displayName": "Pratik Pawar",
      "photoUrl": "",
      "userId": "07854545271556537314"
     },
     "user_tz": -330
    },
    "id": "9dfr6spEuL7T",
    "outputId": "6a2a9b48-ff0e-4b55-893a-461be0b9b01d"
   },
   "outputs": [
    {
     "name": "stdout",
     "output_type": "stream",
     "text": [
      "Shape of train data:  (1037774, 8)\n",
      "Shape of test data:  (444761, 7)\n"
     ]
    },
    {
     "data": {
      "text/html": [
       "<div>\n",
       "<style scoped>\n",
       "    .dataframe tbody tr th:only-of-type {\n",
       "        vertical-align: middle;\n",
       "    }\n",
       "\n",
       "    .dataframe tbody tr th {\n",
       "        vertical-align: top;\n",
       "    }\n",
       "\n",
       "    .dataframe thead th {\n",
       "        text-align: right;\n",
       "    }\n",
       "</style>\n",
       "<table border=\"1\" class=\"dataframe\">\n",
       "  <thead>\n",
       "    <tr style=\"text-align: right;\">\n",
       "      <th></th>\n",
       "      <th>train_id</th>\n",
       "      <th>name</th>\n",
       "      <th>item_condition_id</th>\n",
       "      <th>category_name</th>\n",
       "      <th>brand_name</th>\n",
       "      <th>price</th>\n",
       "      <th>shipping</th>\n",
       "      <th>item_description</th>\n",
       "    </tr>\n",
       "  </thead>\n",
       "  <tbody>\n",
       "    <tr>\n",
       "      <th>0</th>\n",
       "      <td>1436222</td>\n",
       "      <td>Tarte rainforest after dark colored clay</td>\n",
       "      <td>1</td>\n",
       "      <td>[Beauty, Makeup, Makeup Palettes]</td>\n",
       "      <td>Tarte</td>\n",
       "      <td>36.0</td>\n",
       "      <td>1</td>\n",
       "      <td>A brand-new, unused, unopened, undamaged item....</td>\n",
       "    </tr>\n",
       "    <tr>\n",
       "      <th>1</th>\n",
       "      <td>402989</td>\n",
       "      <td>Mac mineralize skin finish</td>\n",
       "      <td>3</td>\n",
       "      <td>[Beauty, Makeup, Face]</td>\n",
       "      <td>MAC</td>\n",
       "      <td>15.0</td>\n",
       "      <td>1</td>\n",
       "      <td>Color is gold deposit, about 85% of product left</td>\n",
       "    </tr>\n",
       "    <tr>\n",
       "      <th>2</th>\n",
       "      <td>638275</td>\n",
       "      <td>White Case iPhone 6/6s</td>\n",
       "      <td>1</td>\n",
       "      <td>[Electronics, Cell Phones &amp; Accessories, Cases...</td>\n",
       "      <td>NaN</td>\n",
       "      <td>3.0</td>\n",
       "      <td>1</td>\n",
       "      <td>New Ultra thin Candy TPU Silicone Rubber Soft</td>\n",
       "    </tr>\n",
       "    <tr>\n",
       "      <th>3</th>\n",
       "      <td>1113629</td>\n",
       "      <td>Victoria's Secret push-up plunge</td>\n",
       "      <td>3</td>\n",
       "      <td>[Women, Underwear, Bras]</td>\n",
       "      <td>Victoria's Secret</td>\n",
       "      <td>18.0</td>\n",
       "      <td>1</td>\n",
       "      <td>VS sexy little thing multi way bras both size ...</td>\n",
       "    </tr>\n",
       "    <tr>\n",
       "      <th>4</th>\n",
       "      <td>328823</td>\n",
       "      <td>Disney Princess Toddler Boots Size 10</td>\n",
       "      <td>2</td>\n",
       "      <td>[Kids, Girls 2T-5T, Shoes]</td>\n",
       "      <td>Disney</td>\n",
       "      <td>13.0</td>\n",
       "      <td>1</td>\n",
       "      <td>New with out box!</td>\n",
       "    </tr>\n",
       "  </tbody>\n",
       "</table>\n",
       "</div>"
      ],
      "text/plain": [
       "   train_id                                      name item_condition_id  \\\n",
       "0   1436222  Tarte rainforest after dark colored clay                 1   \n",
       "1    402989                Mac mineralize skin finish                 3   \n",
       "2    638275                    White Case iPhone 6/6s                 1   \n",
       "3   1113629          Victoria's Secret push-up plunge                 3   \n",
       "4    328823     Disney Princess Toddler Boots Size 10                 2   \n",
       "\n",
       "                                       category_name         brand_name  \\\n",
       "0                  [Beauty, Makeup, Makeup Palettes]              Tarte   \n",
       "1                             [Beauty, Makeup, Face]                MAC   \n",
       "2  [Electronics, Cell Phones & Accessories, Cases...                NaN   \n",
       "3                           [Women, Underwear, Bras]  Victoria's Secret   \n",
       "4                         [Kids, Girls 2T-5T, Shoes]             Disney   \n",
       "\n",
       "   price shipping                                   item_description  \n",
       "0   36.0        1  A brand-new, unused, unopened, undamaged item....  \n",
       "1   15.0        1   Color is gold deposit, about 85% of product left  \n",
       "2    3.0        1      New Ultra thin Candy TPU Silicone Rubber Soft  \n",
       "3   18.0        1  VS sexy little thing multi way bras both size ...  \n",
       "4   13.0        1                                  New with out box!  "
      ]
     },
     "execution_count": 5,
     "metadata": {},
     "output_type": "execute_result"
    }
   ],
   "source": [
    "print('Shape of train data: ', train.shape)\n",
    "print('Shape of test data: ', test.shape)\n",
    "train.head()"
   ]
  },
  {
   "cell_type": "code",
   "execution_count": null,
   "metadata": {
    "colab": {
     "base_uri": "https://localhost:8080/",
     "height": 80
    },
    "executionInfo": {
     "elapsed": 42363,
     "status": "ok",
     "timestamp": 1608090551482,
     "user": {
      "displayName": "Pratik Pawar",
      "photoUrl": "",
      "userId": "07854545271556537314"
     },
     "user_tz": -330
    },
    "id": "64jZNYjUuL7Y",
    "outputId": "b637a1aa-85c8-4b6e-c256-ccb06d8616eb"
   },
   "outputs": [
    {
     "data": {
      "text/html": [
       "<div>\n",
       "<style scoped>\n",
       "    .dataframe tbody tr th:only-of-type {\n",
       "        vertical-align: middle;\n",
       "    }\n",
       "\n",
       "    .dataframe tbody tr th {\n",
       "        vertical-align: top;\n",
       "    }\n",
       "\n",
       "    .dataframe thead th {\n",
       "        text-align: right;\n",
       "    }\n",
       "</style>\n",
       "<table border=\"1\" class=\"dataframe\">\n",
       "  <thead>\n",
       "    <tr style=\"text-align: right;\">\n",
       "      <th></th>\n",
       "      <th>train_id</th>\n",
       "      <th>name</th>\n",
       "      <th>item_condition_id</th>\n",
       "      <th>category_name</th>\n",
       "      <th>brand_name</th>\n",
       "      <th>price</th>\n",
       "      <th>shipping</th>\n",
       "      <th>item_description</th>\n",
       "    </tr>\n",
       "  </thead>\n",
       "  <tbody>\n",
       "    <tr>\n",
       "      <th>93039</th>\n",
       "      <td>8</td>\n",
       "      <td>Girls Nike Pro shorts</td>\n",
       "      <td>3</td>\n",
       "      <td>[Sports &amp; Outdoors, Apparel, Girls]</td>\n",
       "      <td>Nike</td>\n",
       "      <td>19.0</td>\n",
       "      <td>0</td>\n",
       "      <td>Girls Size small Plus green. Three shorts total.</td>\n",
       "    </tr>\n",
       "  </tbody>\n",
       "</table>\n",
       "</div>"
      ],
      "text/plain": [
       "       train_id  ...                                  item_description\n",
       "93039         8  ...  Girls Size small Plus green. Three shorts total.\n",
       "\n",
       "[1 rows x 8 columns]"
      ]
     },
     "execution_count": 7,
     "metadata": {
      "tags": []
     },
     "output_type": "execute_result"
    }
   ],
   "source": [
    "train[train.train_id == 8]"
   ]
  },
  {
   "cell_type": "code",
   "execution_count": null,
   "metadata": {
    "colab": {
     "base_uri": "https://localhost:8080/"
    },
    "executionInfo": {
     "elapsed": 42348,
     "status": "ok",
     "timestamp": 1608090551483,
     "user": {
      "displayName": "Pratik Pawar",
      "photoUrl": "",
      "userId": "07854545271556537314"
     },
     "user_tz": -330
    },
    "id": "0EvQGUSRuL7b",
    "outputId": "877f250f-e630-4882-dcca-d332e26f5c95"
   },
   "outputs": [
    {
     "data": {
      "text/plain": [
       "train_id             False\n",
       "name                 False\n",
       "item_condition_id    False\n",
       "category_name        False\n",
       "brand_name            True\n",
       "price                False\n",
       "shipping             False\n",
       "item_description      True\n",
       "dtype: bool"
      ]
     },
     "execution_count": 8,
     "metadata": {
      "tags": []
     },
     "output_type": "execute_result"
    }
   ],
   "source": [
    "train.isnull().any()"
   ]
  },
  {
   "cell_type": "code",
   "execution_count": null,
   "metadata": {
    "colab": {
     "base_uri": "https://localhost:8080/"
    },
    "executionInfo": {
     "elapsed": 42325,
     "status": "ok",
     "timestamp": 1608090551486,
     "user": {
      "displayName": "Pratik Pawar",
      "photoUrl": "",
      "userId": "07854545271556537314"
     },
     "user_tz": -330
    },
    "id": "Zy4l4jRruL7e",
    "outputId": "9e6c153d-1a6c-4c20-816e-548559ce01be"
   },
   "outputs": [
    {
     "data": {
      "text/plain": [
       "id                   False\n",
       "name                 False\n",
       "item_condition_id    False\n",
       "category_name        False\n",
       "brand_name            True\n",
       "shipping             False\n",
       "item_description      True\n",
       "dtype: bool"
      ]
     },
     "execution_count": 9,
     "metadata": {
      "tags": []
     },
     "output_type": "execute_result"
    }
   ],
   "source": [
    "test.isnull().any()"
   ]
  },
  {
   "cell_type": "code",
   "execution_count": null,
   "metadata": {
    "id": "xr6EpH5_uL7g"
   },
   "outputs": [],
   "source": [
    "# Split category_name by '/' into subcategories and replace nulls with 'missing'\n",
    "train['gencat_name'] = train['category_name'].str.get(0).replace('', 'missing').astype('category')\n",
    "train['subcat1_name'] = train['category_name'].str.get(1).fillna('missing').astype('category')\n",
    "train['subcat2_name'] = train['category_name'].str.get(2).fillna('missing').astype('category')\n",
    "train.drop('category_name', axis=1, inplace=True)\n",
    "\n",
    "# Split category_name by '/' into subcategories and replace nulls with 'missing'\n",
    "test['gencat_name'] = test['category_name'].str.get(0).replace('', 'missing').astype('category')\n",
    "test['subcat1_name'] = test['category_name'].str.get(1).fillna('missing').astype('category')\n",
    "test['subcat2_name'] = test['category_name'].str.get(2).fillna('missing').astype('category')\n",
    "test.drop('category_name', axis=1, inplace=True)\n",
    "\n",
    "train['item_description'].fillna('missing', inplace=True)\n",
    "train['brand_name'] = train['brand_name'].fillna('missing').astype('category')\n",
    "\n",
    "test['item_description'].fillna('missing', inplace=True)\n",
    "test['brand_name'] = test['brand_name'].fillna('missing').astype('category')"
   ]
  },
  {
   "cell_type": "code",
   "execution_count": null,
   "metadata": {
    "colab": {
     "base_uri": "https://localhost:8080/",
     "height": 49
    },
    "executionInfo": {
     "elapsed": 47737,
     "status": "ok",
     "timestamp": 1608090556921,
     "user": {
      "displayName": "Pratik Pawar",
      "photoUrl": "",
      "userId": "07854545271556537314"
     },
     "user_tz": -330
    },
    "id": "4Lb6aKacuL7i",
    "outputId": "e4c08177-a046-40c9-d502-3a0ecff8e2f0"
   },
   "outputs": [
    {
     "data": {
      "text/html": [
       "<div>\n",
       "<style scoped>\n",
       "    .dataframe tbody tr th:only-of-type {\n",
       "        vertical-align: middle;\n",
       "    }\n",
       "\n",
       "    .dataframe tbody tr th {\n",
       "        vertical-align: top;\n",
       "    }\n",
       "\n",
       "    .dataframe thead th {\n",
       "        text-align: right;\n",
       "    }\n",
       "</style>\n",
       "<table border=\"1\" class=\"dataframe\">\n",
       "  <thead>\n",
       "    <tr style=\"text-align: right;\">\n",
       "      <th></th>\n",
       "      <th>train_id</th>\n",
       "      <th>name</th>\n",
       "      <th>item_condition_id</th>\n",
       "      <th>brand_name</th>\n",
       "      <th>price</th>\n",
       "      <th>shipping</th>\n",
       "      <th>item_description</th>\n",
       "      <th>gencat_name</th>\n",
       "      <th>subcat1_name</th>\n",
       "      <th>subcat2_name</th>\n",
       "    </tr>\n",
       "  </thead>\n",
       "  <tbody>\n",
       "  </tbody>\n",
       "</table>\n",
       "</div>"
      ],
      "text/plain": [
       "Empty DataFrame\n",
       "Columns: [train_id, name, item_condition_id, brand_name, price, shipping, item_description, gencat_name, subcat1_name, subcat2_name]\n",
       "Index: []"
      ]
     },
     "execution_count": 11,
     "metadata": {
      "tags": []
     },
     "output_type": "execute_result"
    }
   ],
   "source": [
    "train[train.duplicated()] #Check for duplicate rows, NAs"
   ]
  },
  {
   "cell_type": "code",
   "execution_count": null,
   "metadata": {
    "colab": {
     "base_uri": "https://localhost:8080/"
    },
    "executionInfo": {
     "elapsed": 47717,
     "status": "ok",
     "timestamp": 1608090556922,
     "user": {
      "displayName": "Pratik Pawar",
      "photoUrl": "",
      "userId": "07854545271556537314"
     },
     "user_tz": -330
    },
    "id": "YSpJWCiauL7k",
    "outputId": "2bc214bc-3103-408d-db9e-baf3363e261e"
   },
   "outputs": [
    {
     "name": "stdout",
     "output_type": "stream",
     "text": [
      "Removed 604 rows\n"
     ]
    }
   ],
   "source": [
    "print('Removed {} rows' .format(len(train[train.price<=0])))\n",
    "train = train[train.price > 0].reset_index(drop=True)\n"
   ]
  },
  {
   "cell_type": "code",
   "execution_count": null,
   "metadata": {
    "colab": {
     "base_uri": "https://localhost:8080/"
    },
    "executionInfo": {
     "elapsed": 49023,
     "status": "ok",
     "timestamp": 1608090558246,
     "user": {
      "displayName": "Pratik Pawar",
      "photoUrl": "",
      "userId": "07854545271556537314"
     },
     "user_tz": -330
    },
    "id": "5vwv4ucNuL7l",
    "outputId": "f2e0d7e4-a0da-4db6-9107-ecb53e6eee0d"
   },
   "outputs": [
    {
     "data": {
      "text/plain": [
       "count     1037170\n",
       "unique     877408\n",
       "top        Bundle\n",
       "freq         1553\n",
       "Name: name, dtype: object"
      ]
     },
     "execution_count": 13,
     "metadata": {
      "tags": []
     },
     "output_type": "execute_result"
    }
   ],
   "source": [
    "train.name.describe()"
   ]
  },
  {
   "cell_type": "code",
   "execution_count": null,
   "metadata": {
    "colab": {
     "base_uri": "https://localhost:8080/"
    },
    "executionInfo": {
     "elapsed": 49011,
     "status": "ok",
     "timestamp": 1608090558249,
     "user": {
      "displayName": "Pratik Pawar",
      "photoUrl": "",
      "userId": "07854545271556537314"
     },
     "user_tz": -330
    },
    "id": "4a-hwgz8uL7p",
    "outputId": "36960ee8-aee3-48ed-f482-3a00d7f7d234"
   },
   "outputs": [
    {
     "data": {
      "text/plain": [
       "count     1037170\n",
       "unique          5\n",
       "top             1\n",
       "freq       448197\n",
       "Name: item_condition_id, dtype: object"
      ]
     },
     "execution_count": 14,
     "metadata": {
      "tags": []
     },
     "output_type": "execute_result"
    }
   ],
   "source": [
    "train.item_condition_id.describe()"
   ]
  },
  {
   "cell_type": "code",
   "execution_count": null,
   "metadata": {
    "colab": {
     "base_uri": "https://localhost:8080/",
     "height": 388
    },
    "executionInfo": {
     "elapsed": 48988,
     "status": "ok",
     "timestamp": 1608090558251,
     "user": {
      "displayName": "Pratik Pawar",
      "photoUrl": "",
      "userId": "07854545271556537314"
     },
     "user_tz": -330
    },
    "id": "ooU8fTl6uL7r",
    "outputId": "09b1c768-496b-447f-a653-49b58092555f"
   },
   "outputs": [
    {
     "data": {
      "image/png": "[encoded data removed]",
      "text/plain": [
       "<Figure size 576x432 with 1 Axes>"
      ]
     },
     "metadata": {
      "needs_background": "light",
      "tags": []
     },
     "output_type": "display_data"
    }
   ],
   "source": [
    "condition_count = Counter(list(train.item_condition_id))\n",
    "x, y = zip(*condition_count.most_common())\n",
    "plt.figure(figsize=[8,6])\n",
    "plt.bar(x, y)\n",
    "for i, val in enumerate(y):\n",
    "           plt.annotate(val, (x[i], y[i]), color='b')\n",
    "plt.xlabel('item condition')\n",
    "plt.ylabel('count')\n",
    "plt.grid(True, axis='y')\n",
    "plt.show()"
   ]
  },
  {
   "cell_type": "code",
   "execution_count": null,
   "metadata": {
    "colab": {
     "base_uri": "https://localhost:8080/"
    },
    "executionInfo": {
     "elapsed": 48971,
     "status": "ok",
     "timestamp": 1608090558252,
     "user": {
      "displayName": "Pratik Pawar",
      "photoUrl": "",
      "userId": "07854545271556537314"
     },
     "user_tz": -330
    },
    "id": "qOCnNkZtuL7t",
    "outputId": "07eda4dd-ce31-4b55-9afa-51ad6e9e5bff"
   },
   "outputs": [
    {
     "data": {
      "text/plain": [
       "count     1037170\n",
       "unique       4413\n",
       "top       missing\n",
       "freq       442715\n",
       "Name: brand_name, dtype: object"
      ]
     },
     "execution_count": 16,
     "metadata": {
      "tags": []
     },
     "output_type": "execute_result"
    }
   ],
   "source": [
    "train.brand_name.describe()"
   ]
  },
  {
   "cell_type": "code",
   "execution_count": null,
   "metadata": {
    "colab": {
     "base_uri": "https://localhost:8080/",
     "height": 497
    },
    "executionInfo": {
     "elapsed": 50716,
     "status": "ok",
     "timestamp": 1608090560016,
     "user": {
      "displayName": "Pratik Pawar",
      "photoUrl": "",
      "userId": "07854545271556537314"
     },
     "user_tz": -330
    },
    "id": "CLzhrGgjuL7u",
    "outputId": "19853444-924a-446f-e018-a3eff76f4ef5"
   },
   "outputs": [
    {
     "data": {
      "image/png": "[encoded data removed]",
      "text/plain": [
       "<Figure size 432x576 with 1 Axes>"
      ]
     },
     "metadata": {
      "needs_background": "light",
      "tags": []
     },
     "output_type": "display_data"
    }
   ],
   "source": [
    "brand_count = Counter(list(train.brand_name.values))\n",
    "x, y = zip(*brand_count.most_common(15))\n",
    "\n",
    "plt.figure(figsize=[6,8])\n",
    "plt.barh(x, y)\n",
    "for i, val in enumerate(y):\n",
    "           plt.annotate(val, (y[i], x[i]), color='b')\n",
    "plt.gca().invert_yaxis()\n",
    "plt.ylabel('Brand name')\n",
    "plt.xlabel('count')\n",
    "plt.grid(True, axis='x')\n",
    "plt.show()"
   ]
  },
  {
   "cell_type": "code",
   "execution_count": null,
   "metadata": {
    "colab": {
     "base_uri": "https://localhost:8080/"
    },
    "executionInfo": {
     "elapsed": 50701,
     "status": "ok",
     "timestamp": 1608090560017,
     "user": {
      "displayName": "Pratik Pawar",
      "photoUrl": "",
      "userId": "07854545271556537314"
     },
     "user_tz": -330
    },
    "id": "dlcta3X5uL7v",
    "outputId": "b2903a38-1e39-400c-fe9c-b74b53a8fb22"
   },
   "outputs": [
    {
     "name": "stdout",
     "output_type": "stream",
     "text": [
      "Brand name is missing for 442715 datapoints, i.e. 42.68 % of train data.\n"
     ]
    }
   ],
   "source": [
    "brand_missing = train[train.brand_name=='missing'].shape[0]\n",
    "print('Brand name is missing for {} datapoints, i.e. {:.2f} % of train data.' .format(brand_missing, 100.0*brand_missing/train.shape[0]))"
   ]
  },
  {
   "cell_type": "code",
   "execution_count": null,
   "metadata": {
    "colab": {
     "base_uri": "https://localhost:8080/"
    },
    "executionInfo": {
     "elapsed": 50687,
     "status": "ok",
     "timestamp": 1608090560019,
     "user": {
      "displayName": "Pratik Pawar",
      "photoUrl": "",
      "userId": "07854545271556537314"
     },
     "user_tz": -330
    },
    "id": "gFVGvulbuL7x",
    "outputId": "90b8d878-f490-4fb2-9005-abb3b64b8466"
   },
   "outputs": [
    {
     "data": {
      "text/plain": [
       "count     1037170\n",
       "unique         11\n",
       "top         Women\n",
       "freq       464350\n",
       "Name: gencat_name, dtype: object"
      ]
     },
     "execution_count": 19,
     "metadata": {
      "tags": []
     },
     "output_type": "execute_result"
    }
   ],
   "source": [
    "train.gencat_name.describe()"
   ]
  },
  {
   "cell_type": "code",
   "execution_count": null,
   "metadata": {
    "colab": {
     "base_uri": "https://localhost:8080/",
     "height": 497
    },
    "executionInfo": {
     "elapsed": 50671,
     "status": "ok",
     "timestamp": 1608090560022,
     "user": {
      "displayName": "Pratik Pawar",
      "photoUrl": "",
      "userId": "07854545271556537314"
     },
     "user_tz": -330
    },
    "id": "dEKGytQXuL7y",
    "outputId": "3a26ee42-7ba2-424f-f1f0-13dab8a11527"
   },
   "outputs": [
    {
     "data": {
      "image/png": "[encoded data removed]",
      "text/plain": [
       "<Figure size 432x576 with 1 Axes>"
      ]
     },
     "metadata": {
      "needs_background": "light",
      "tags": []
     },
     "output_type": "display_data"
    }
   ],
   "source": [
    "gencat_count = Counter(list(train.gencat_name.values))\n",
    "x, y = zip(*gencat_count.most_common(15))\n",
    "plt.figure(figsize=[6,8])\n",
    "plt.barh(x, y)\n",
    "for i, val in enumerate(y):\n",
    "           plt.annotate(val, (y[i], x[i]), color='b')\n",
    "plt.gca().invert_yaxis()\n",
    "plt.ylabel('General category')\n",
    "plt.xlabel('count')\n",
    "plt.grid(True, axis='x')\n",
    "plt.show()"
   ]
  },
  {
   "cell_type": "code",
   "execution_count": null,
   "metadata": {
    "colab": {
     "base_uri": "https://localhost:8080/"
    },
    "executionInfo": {
     "elapsed": 50657,
     "status": "ok",
     "timestamp": 1608090560024,
     "user": {
      "displayName": "Pratik Pawar",
      "photoUrl": "",
      "userId": "07854545271556537314"
     },
     "user_tz": -330
    },
    "id": "3AdtJKv_uL7z",
    "outputId": "90e890f1-c6b1-4f20-f37c-797fc3b17ecf"
   },
   "outputs": [
    {
     "name": "stdout",
     "output_type": "stream",
     "text": [
      "category name is missing for 4372 datapoints, i.e. 0.42 % of train data.\n"
     ]
    }
   ],
   "source": [
    "gencat_missing = train[train.gencat_name=='missing'].shape[0]\n",
    "print('category name is missing for {} datapoints, i.e. {:.2f} % of train data.' .format(gencat_missing, 100.0*gencat_missing/train.shape[0]))"
   ]
  },
  {
   "cell_type": "code",
   "execution_count": null,
   "metadata": {
    "colab": {
     "base_uri": "https://localhost:8080/"
    },
    "executionInfo": {
     "elapsed": 50640,
     "status": "ok",
     "timestamp": 1608090560025,
     "user": {
      "displayName": "Pratik Pawar",
      "photoUrl": "",
      "userId": "07854545271556537314"
     },
     "user_tz": -330
    },
    "id": "R8cPFj2VuL70",
    "outputId": "84983205-b0dc-4ba5-ba02-ec39fd9feba2"
   },
   "outputs": [
    {
     "data": {
      "text/plain": [
       "count              1037170\n",
       "unique                 114\n",
       "top       Athletic Apparel\n",
       "freq                 93933\n",
       "Name: subcat1_name, dtype: object"
      ]
     },
     "execution_count": 22,
     "metadata": {
      "tags": []
     },
     "output_type": "execute_result"
    }
   ],
   "source": [
    "train.subcat1_name.describe()"
   ]
  },
  {
   "cell_type": "code",
   "execution_count": null,
   "metadata": {
    "colab": {
     "base_uri": "https://localhost:8080/",
     "height": 606
    },
    "executionInfo": {
     "elapsed": 50621,
     "status": "ok",
     "timestamp": 1608090560026,
     "user": {
      "displayName": "Pratik Pawar",
      "photoUrl": "",
      "userId": "07854545271556537314"
     },
     "user_tz": -330
    },
    "id": "XuZiaaBduL72",
    "outputId": "dbbaa28f-446f-433c-b10d-d546848e606f"
   },
   "outputs": [
    {
     "data": {
      "image/png": "[encoded data removed]",
      "text/plain": [
       "<Figure size 432x720 with 1 Axes>"
      ]
     },
     "metadata": {
      "needs_background": "light",
      "tags": []
     },
     "output_type": "display_data"
    }
   ],
   "source": [
    "subcat1_count = Counter(list(train.subcat1_name.values))\n",
    "x, y = zip(*subcat1_count.most_common(15))\n",
    "plt.figure(figsize=[6,10])\n",
    "plt.barh(x, y)\n",
    "for i, val in enumerate(y):\n",
    "           plt.annotate(val, (y[i], x[i]), color='b')\n",
    "plt.gca().invert_yaxis()\n",
    "plt.ylabel('Sub-category1')\n",
    "plt.xlabel('count')\n",
    "plt.grid(True, axis='x')\n",
    "plt.show()"
   ]
  },
  {
   "cell_type": "code",
   "execution_count": null,
   "metadata": {
    "colab": {
     "base_uri": "https://localhost:8080/"
    },
    "executionInfo": {
     "elapsed": 50606,
     "status": "ok",
     "timestamp": 1608090560027,
     "user": {
      "displayName": "Pratik Pawar",
      "photoUrl": "",
      "userId": "07854545271556537314"
     },
     "user_tz": -330
    },
    "id": "r1yNtVS6uL73",
    "outputId": "18db99da-a700-4cb8-ca62-aa13fb85a4b5"
   },
   "outputs": [
    {
     "data": {
      "text/plain": [
       "count                     1037170\n",
       "unique                        857\n",
       "top       Pants, Tights, Leggings\n",
       "freq                        42032\n",
       "Name: subcat2_name, dtype: object"
      ]
     },
     "execution_count": 24,
     "metadata": {
      "tags": []
     },
     "output_type": "execute_result"
    }
   ],
   "source": [
    "train.subcat2_name.describe()"
   ]
  },
  {
   "cell_type": "code",
   "execution_count": null,
   "metadata": {
    "colab": {
     "base_uri": "https://localhost:8080/",
     "height": 606
    },
    "executionInfo": {
     "elapsed": 50588,
     "status": "ok",
     "timestamp": 1608090560028,
     "user": {
      "displayName": "Pratik Pawar",
      "photoUrl": "",
      "userId": "07854545271556537314"
     },
     "user_tz": -330
    },
    "id": "quoKZmF9uL74",
    "outputId": "39a7857c-b23d-4e43-fab1-db95fc06e4b3"
   },
   "outputs": [
    {
     "data": {
      "image/png": "[encoded data removed]",
      "text/plain": [
       "<Figure size 432x720 with 1 Axes>"
      ]
     },
     "metadata": {
      "needs_background": "light",
      "tags": []
     },
     "output_type": "display_data"
    }
   ],
   "source": [
    "subcat2_count = Counter(list(train.subcat2_name.values))\n",
    "x, y = zip(*subcat2_count.most_common(15))\n",
    "plt.figure(figsize=[6,10])\n",
    "plt.barh(x, y)\n",
    "for i, val in enumerate(y):\n",
    "           plt.annotate(val, (y[i], x[i]), color='b')\n",
    "plt.gca().invert_yaxis()\n",
    "plt.ylabel('Sub-category2')\n",
    "plt.xlabel('count')\n",
    "plt.grid(True, axis='x')\n",
    "plt.show()"
   ]
  },
  {
   "cell_type": "code",
   "execution_count": null,
   "metadata": {
    "colab": {
     "base_uri": "https://localhost:8080/"
    },
    "executionInfo": {
     "elapsed": 51852,
     "status": "ok",
     "timestamp": 1608090561307,
     "user": {
      "displayName": "Pratik Pawar",
      "photoUrl": "",
      "userId": "07854545271556537314"
     },
     "user_tz": -330
    },
    "id": "GyMC0yNxuL74",
    "outputId": "8d141e28-e964-4854-ddb0-0c0858f5b239"
   },
   "outputs": [
    {
     "name": "stdout",
     "output_type": "stream",
     "text": [
      "item description is missing for 2 datapoints, i.e. 0.00019 % of train data.\n"
     ]
    }
   ],
   "source": [
    "desc_missing = train[train.item_description=='missing'].shape[0]\n",
    "print('item description is missing for {} datapoints, i.e. {:.5f} % of train data.' .format(desc_missing, 100.0*desc_missing/train.shape[0]))"
   ]
  },
  {
   "cell_type": "code",
   "execution_count": null,
   "metadata": {
    "colab": {
     "base_uri": "https://localhost:8080/",
     "height": 111
    },
    "executionInfo": {
     "elapsed": 51834,
     "status": "ok",
     "timestamp": 1608090561310,
     "user": {
      "displayName": "Pratik Pawar",
      "photoUrl": "",
      "userId": "07854545271556537314"
     },
     "user_tz": -330
    },
    "id": "zZD6vDo_uL76",
    "outputId": "ad67dd12-ba11-4e83-cc48-81ad6d1b7c3f"
   },
   "outputs": [
    {
     "data": {
      "text/html": [
       "<div>\n",
       "<style scoped>\n",
       "    .dataframe tbody tr th:only-of-type {\n",
       "        vertical-align: middle;\n",
       "    }\n",
       "\n",
       "    .dataframe tbody tr th {\n",
       "        vertical-align: top;\n",
       "    }\n",
       "\n",
       "    .dataframe thead th {\n",
       "        text-align: right;\n",
       "    }\n",
       "</style>\n",
       "<table border=\"1\" class=\"dataframe\">\n",
       "  <thead>\n",
       "    <tr style=\"text-align: right;\">\n",
       "      <th></th>\n",
       "      <th>train_id</th>\n",
       "      <th>name</th>\n",
       "      <th>item_condition_id</th>\n",
       "      <th>brand_name</th>\n",
       "      <th>price</th>\n",
       "      <th>shipping</th>\n",
       "      <th>item_description</th>\n",
       "      <th>gencat_name</th>\n",
       "      <th>subcat1_name</th>\n",
       "      <th>subcat2_name</th>\n",
       "    </tr>\n",
       "  </thead>\n",
       "  <tbody>\n",
       "    <tr>\n",
       "      <th>61467</th>\n",
       "      <td>1224924</td>\n",
       "      <td>Disney Minnie Head band</td>\n",
       "      <td>3</td>\n",
       "      <td>Disney</td>\n",
       "      <td>9.0</td>\n",
       "      <td>0</td>\n",
       "      <td>missing</td>\n",
       "      <td>Women</td>\n",
       "      <td>Women's Accessories</td>\n",
       "      <td>Hair Accessories</td>\n",
       "    </tr>\n",
       "    <tr>\n",
       "      <th>589297</th>\n",
       "      <td>1264242</td>\n",
       "      <td>For Bianca</td>\n",
       "      <td>3</td>\n",
       "      <td>missing</td>\n",
       "      <td>10.0</td>\n",
       "      <td>1</td>\n",
       "      <td>missing</td>\n",
       "      <td>Women</td>\n",
       "      <td>Women's Accessories</td>\n",
       "      <td>Scarves &amp; Wraps</td>\n",
       "    </tr>\n",
       "  </tbody>\n",
       "</table>\n",
       "</div>"
      ],
      "text/plain": [
       "        train_id  ...      subcat2_name\n",
       "61467    1224924  ...  Hair Accessories\n",
       "589297   1264242  ...   Scarves & Wraps\n",
       "\n",
       "[2 rows x 10 columns]"
      ]
     },
     "execution_count": 27,
     "metadata": {
      "tags": []
     },
     "output_type": "execute_result"
    }
   ],
   "source": [
    "train[train.item_description=='missing']"
   ]
  },
  {
   "cell_type": "code",
   "execution_count": null,
   "metadata": {
    "colab": {
     "base_uri": "https://localhost:8080/"
    },
    "executionInfo": {
     "elapsed": 51819,
     "status": "ok",
     "timestamp": 1608090561312,
     "user": {
      "displayName": "Pratik Pawar",
      "photoUrl": "",
      "userId": "07854545271556537314"
     },
     "user_tz": -330
    },
    "id": "GHgoSgXnuL79",
    "outputId": "5b79c36b-80a2-4327-a263-7ae0c21c87c9"
   },
   "outputs": [
    {
     "data": {
      "text/plain": [
       "count    1.037170e+06\n",
       "mean     2.675051e+01\n",
       "std      3.862636e+01\n",
       "min      3.000000e+00\n",
       "25%      1.000000e+01\n",
       "50%      1.700000e+01\n",
       "75%      2.900000e+01\n",
       "max      2.004000e+03\n",
       "Name: price, dtype: float64"
      ]
     },
     "execution_count": 28,
     "metadata": {
      "tags": []
     },
     "output_type": "execute_result"
    }
   ],
   "source": [
    "train.price.describe()"
   ]
  },
  {
   "cell_type": "code",
   "execution_count": null,
   "metadata": {
    "colab": {
     "base_uri": "https://localhost:8080/",
     "height": 255
    },
    "executionInfo": {
     "elapsed": 51801,
     "status": "ok",
     "timestamp": 1608090561313,
     "user": {
      "displayName": "Pratik Pawar",
      "photoUrl": "",
      "userId": "07854545271556537314"
     },
     "user_tz": -330
    },
    "id": "e03Mb0twuL7-",
    "outputId": "584d15fd-19d9-4716-a010-d98403931a96"
   },
   "outputs": [
    {
     "data": {
      "image/png": "[encoded data removed]",
      "text/plain": [
       "<Figure size 432x288 with 1 Axes>"
      ]
     },
     "metadata": {
      "needs_background": "light",
      "tags": []
     },
     "output_type": "display_data"
    }
   ],
   "source": [
    "sns.boxplot(y='price', data=train, showfliers=False)\n",
    "plt.show()"
   ]
  },
  {
   "cell_type": "code",
   "execution_count": null,
   "metadata": {
    "colab": {
     "base_uri": "https://localhost:8080/",
     "height": 520
    },
    "executionInfo": {
     "elapsed": 51783,
     "status": "ok",
     "timestamp": 1608090561314,
     "user": {
      "displayName": "Pratik Pawar",
      "photoUrl": "",
      "userId": "07854545271556537314"
     },
     "user_tz": -330
    },
    "id": "ocnyqbsluL8A",
    "outputId": "a4c397aa-6d17-4975-ce9c-45314a79f565"
   },
   "outputs": [
    {
     "data": {
      "image/png": "[encoded data removed]",
      "text/plain": [
       "<Figure size 1008x576 with 1 Axes>"
      ]
     },
     "metadata": {
      "needs_background": "light",
      "tags": []
     },
     "output_type": "display_data"
    }
   ],
   "source": [
    "fig, ax = plt.subplots(figsize=(14, 8))\n",
    "ax.hist(train.price, bins=30, range=[0, 300], label=\"Price\")\n",
    "plt.title('Price distribution', fontsize = 15)\n",
    "ax.set_xlabel('Price', fontsize=15)\n",
    "ax.set_ylabel('No of items', fontsize=15)\n",
    "plt.show()"
   ]
  },
  {
   "cell_type": "code",
   "execution_count": null,
   "metadata": {
    "id": "LNxgBWCXuL8B"
   },
   "outputs": [],
   "source": [
    "def clean_cat(cat_values):\n",
    "    \n",
    "    catogories = list(cat_values)\n",
    "\n",
    "    cat_list = []\n",
    "    for i in (catogories):\n",
    "        i = re.sub('[^A-Za-z0-9]+', ' ', i)\n",
    "        i = i.replace(' ','')\n",
    "        i = i.replace('&','_')\n",
    "        cat_list.append(i.strip())\n",
    "    \n",
    "    return cat_list"
   ]
  },
  {
   "cell_type": "code",
   "execution_count": null,
   "metadata": {
    "id": "yXppvG0BuL8C"
   },
   "outputs": [],
   "source": [
    "train['gencat_name'] = clean_cat(train['gencat_name'].values)\n",
    "test['gencat_name'] = clean_cat(test['gencat_name'].values)\n",
    "\n",
    "train['subcat1_name'] = clean_cat(train['subcat1_name'].values)\n",
    "test['subcat1_name'] = clean_cat(test['subcat1_name'].values)\n",
    "\n",
    "train['subcat2_name'] = clean_cat(train['subcat2_name'].values)\n",
    "test['subcat2_name'] = clean_cat(test['subcat2_name'].values)"
   ]
  },
  {
   "cell_type": "code",
   "execution_count": null,
   "metadata": {
    "colab": {
     "base_uri": "https://localhost:8080/",
     "height": 295
    },
    "executionInfo": {
     "elapsed": 165619,
     "status": "ok",
     "timestamp": 1608090675182,
     "user": {
      "displayName": "Pratik Pawar",
      "photoUrl": "",
      "userId": "07854545271556537314"
     },
     "user_tz": -330
    },
    "id": "6DkcZ4uVuL8C",
    "outputId": "3ab34cfc-3d9e-40dc-fd58-178b6756d9b3"
   },
   "outputs": [
    {
     "data": {
      "image/png": "[encoded data removed]",
      "text/plain": [
       "<Figure size 432x288 with 1 Axes>"
      ]
     },
     "metadata": {
      "needs_background": "light",
      "tags": []
     },
     "output_type": "display_data"
    }
   ],
   "source": [
    "sns.barplot(y='brand_name', x='price', data=train)\n",
    "plt.title('Mean price according brand name')\n",
    "plt.show()"
   ]
  },
  {
   "cell_type": "code",
   "execution_count": null,
   "metadata": {
    "colab": {
     "base_uri": "https://localhost:8080/",
     "height": 295
    },
    "executionInfo": {
     "elapsed": 174206,
     "status": "ok",
     "timestamp": 1608090683791,
     "user": {
      "displayName": "Pratik Pawar",
      "photoUrl": "",
      "userId": "07854545271556537314"
     },
     "user_tz": -330
    },
    "id": "-YxfRcdeuL8D",
    "outputId": "ca247b04-9914-442c-84aa-b932ebeb53a7"
   },
   "outputs": [
    {
     "data": {
      "image/png": "[encoded data removed]",
      "text/plain": [
       "<Figure size 432x288 with 1 Axes>"
      ]
     },
     "metadata": {
      "needs_background": "light",
      "tags": []
     },
     "output_type": "display_data"
    }
   ],
   "source": [
    "sns.barplot(y='gencat_name', x='price', data=train)\n",
    "plt.title('Mean price of various categories')\n",
    "plt.show()"
   ]
  },
  {
   "cell_type": "code",
   "execution_count": null,
   "metadata": {
    "colab": {
     "base_uri": "https://localhost:8080/",
     "height": 301
    },
    "executionInfo": {
     "elapsed": 174190,
     "status": "ok",
     "timestamp": 1608090683796,
     "user": {
      "displayName": "Pratik Pawar",
      "photoUrl": "",
      "userId": "07854545271556537314"
     },
     "user_tz": -330
    },
    "id": "6e6RzSqKuL8E",
    "outputId": "257ff0d0-913a-4d12-be57-2a93f3051a15"
   },
   "outputs": [
    {
     "data": {
      "image/png": "[encoded data removed]",
      "text/plain": [
       "<Figure size 432x288 with 1 Axes>"
      ]
     },
     "metadata": {
      "tags": []
     },
     "output_type": "display_data"
    }
   ],
   "source": [
    "sns.set(style='whitegrid')\n",
    "sns.boxplot(x='item_condition_id', y='price', data=train, showfliers=False)\n",
    "plt.title('item_condition-wise distribution of price')\n",
    "plt.show()"
   ]
  },
  {
   "cell_type": "code",
   "execution_count": null,
   "metadata": {
    "colab": {
     "base_uri": "https://localhost:8080/",
     "height": 301
    },
    "executionInfo": {
     "elapsed": 181978,
     "status": "ok",
     "timestamp": 1608090691612,
     "user": {
      "displayName": "Pratik Pawar",
      "photoUrl": "",
      "userId": "07854545271556537314"
     },
     "user_tz": -330
    },
    "id": "QGbRxMUAuL8E",
    "outputId": "93adc561-1564-418c-c5ca-f9c2a0b6eb3e"
   },
   "outputs": [
    {
     "data": {
      "image/png": "[encoded data removed]",
      "text/plain": [
       "<Figure size 432x288 with 1 Axes>"
      ]
     },
     "metadata": {
      "tags": []
     },
     "output_type": "display_data"
    }
   ],
   "source": [
    "sns.barplot(y='price', x='item_condition_id', data=train)\n",
    "plt.title('Mean price of various categories')\n",
    "plt.show()"
   ]
  },
  {
   "cell_type": "code",
   "execution_count": null,
   "metadata": {
    "colab": {
     "base_uri": "https://localhost:8080/",
     "height": 301
    },
    "executionInfo": {
     "elapsed": 181961,
     "status": "ok",
     "timestamp": 1608090691615,
     "user": {
      "displayName": "Pratik Pawar",
      "photoUrl": "",
      "userId": "07854545271556537314"
     },
     "user_tz": -330
    },
    "id": "0ySzHrs4uL8G",
    "outputId": "b3082bec-b259-494a-d4bd-7bef9964ab00"
   },
   "outputs": [
    {
     "data": {
      "image/png": "[encoded data removed]",
      "text/plain": [
       "<Figure size 432x288 with 1 Axes>"
      ]
     },
     "metadata": {
      "tags": []
     },
     "output_type": "display_data"
    }
   ],
   "source": [
    "sns.set(style='whitegrid')\n",
    "sns.boxplot(x='shipping', y='price', data=train, showfliers=False)\n",
    "plt.title('item_shipping distribution of price')\n",
    "plt.show()"
   ]
  },
  {
   "cell_type": "code",
   "execution_count": null,
   "metadata": {
    "colab": {
     "base_uri": "https://localhost:8080/",
     "height": 301
    },
    "executionInfo": {
     "elapsed": 191540,
     "status": "ok",
     "timestamp": 1608090701213,
     "user": {
      "displayName": "Pratik Pawar",
      "photoUrl": "",
      "userId": "07854545271556537314"
     },
     "user_tz": -330
    },
    "id": "bc2Hb1EWuL8H",
    "outputId": "d50431be-3b6e-4553-e6f9-19ab1dc8f71b"
   },
   "outputs": [
    {
     "data": {
      "image/png": "[encoded data removed]",
      "text/plain": [
       "<Figure size 432x288 with 1 Axes>"
      ]
     },
     "metadata": {
      "tags": []
     },
     "output_type": "display_data"
    }
   ],
   "source": [
    "sns.barplot(y='price', x='shipping', data=train)\n",
    "plt.title('Mean price of various categories')\n",
    "plt.show()"
   ]
  },
  {
   "cell_type": "code",
   "execution_count": null,
   "metadata": {
    "colab": {
     "base_uri": "https://localhost:8080/"
    },
    "executionInfo": {
     "elapsed": 191522,
     "status": "ok",
     "timestamp": 1608090701214,
     "user": {
      "displayName": "Pratik Pawar",
      "photoUrl": "",
      "userId": "07854545271556537314"
     },
     "user_tz": -330
    },
    "id": "CBVpEJ2PuL8J",
    "outputId": "babe5ea5-d806-4388-ae07-732d5aac9230"
   },
   "outputs": [
    {
     "data": {
      "text/plain": [
       "0          tarte rainforest after dark colored clay\n",
       "1                        mac mineralize skin finish\n",
       "2                            white case iphone 6/6s\n",
       "3                  victoria's secret push-up plunge\n",
       "4             disney princess toddler boots size 10\n",
       "                             ...                   \n",
       "1037165                     nike dri fit hooded top\n",
       "1037166                       talk red hunter boots\n",
       "1037167     nwt free ship cc 2beanie hat beige+taup\n",
       "1037168                        winston cup snapback\n",
       "1037169           old navy rockstar skinny cords 10\n",
       "Name: name, Length: 1037170, dtype: object"
      ]
     },
     "execution_count": 39,
     "metadata": {
      "tags": []
     },
     "output_type": "execute_result"
    }
   ],
   "source": [
    "train['name'].str.lower()"
   ]
  },
  {
   "cell_type": "code",
   "execution_count": null,
   "metadata": {
    "colab": {
     "base_uri": "https://localhost:8080/"
    },
    "executionInfo": {
     "elapsed": 191509,
     "status": "ok",
     "timestamp": 1608090701216,
     "user": {
      "displayName": "Pratik Pawar",
      "photoUrl": "",
      "userId": "07854545271556537314"
     },
     "user_tz": -330
    },
    "id": "JzgRy6lYuL8K",
    "outputId": "aa3a7712-a6be-4cb6-d359-a3f16689c2a2"
   },
   "outputs": [
    {
     "data": {
      "text/plain": [
       "0                       herschel retreat backpack\n",
       "1                               2 pairs of lebron\n",
       "2          mario kart double dash with bonus disc\n",
       "3          tokidoki unicorno kaiju and strawberry\n",
       "4              like ugg cardy, grey knit top boot\n",
       "                           ...                   \n",
       "444756                         ivory ella tie dye\n",
       "444757                      5 tier shoe organizer\n",
       "444758    toy bundle (fun fun fun fun fun 4 baby)\n",
       "444759                        adidas jogging suit\n",
       "444760                           artistry hydra-v\n",
       "Name: name, Length: 444761, dtype: object"
      ]
     },
     "execution_count": 40,
     "metadata": {
      "tags": []
     },
     "output_type": "execute_result"
    }
   ],
   "source": [
    "test['name'].str.lower()"
   ]
  },
  {
   "cell_type": "code",
   "execution_count": null,
   "metadata": {
    "colab": {
     "base_uri": "https://localhost:8080/"
    },
    "executionInfo": {
     "elapsed": 192714,
     "status": "ok",
     "timestamp": 1608090702437,
     "user": {
      "displayName": "Pratik Pawar",
      "photoUrl": "",
      "userId": "07854545271556537314"
     },
     "user_tz": -330
    },
    "id": "ZL4E5d47uL8L",
    "outputId": "843027e1-7c60-4aa1-9fde-56f257459796"
   },
   "outputs": [
    {
     "data": {
      "text/plain": [
       "0         in great condition! only issue is magnet that ...\n",
       "1         lebron soldier 10 size 10.5 9/10 condition leb...\n",
       "2                                good shape work no problem\n",
       "3                               both new with foil and box.\n",
       "4         brand new, not even a foot near them! size 8 b...\n",
       "                                ...                        \n",
       "444756    tags- american eagle, aeropostale, hollister, ...\n",
       "444757    5 tier shoe organizer brand new never used 100...\n",
       "444758    includes: fisher-price cozy fit tummy wedge ~ ...\n",
       "444759    women comfortable adidas 2pc jogging suit incl...\n",
       "444760                         full and great for your skin\n",
       "Name: item_description, Length: 444761, dtype: object"
      ]
     },
     "execution_count": 41,
     "metadata": {
      "tags": []
     },
     "output_type": "execute_result"
    }
   ],
   "source": [
    "test['item_description'].str.lower()\n",
    "test['item_description'].str.lower()"
   ]
  },
  {
   "cell_type": "code",
   "execution_count": null,
   "metadata": {
    "colab": {
     "base_uri": "https://localhost:8080/"
    },
    "executionInfo": {
     "elapsed": 192698,
     "status": "ok",
     "timestamp": 1608090702438,
     "user": {
      "displayName": "Pratik Pawar",
      "photoUrl": "",
      "userId": "07854545271556537314"
     },
     "user_tz": -330
    },
    "id": "Ib-N9gJWuL8M",
    "outputId": "ee3153e5-287e-4d29-a73f-bca617094351"
   },
   "outputs": [
    {
     "name": "stdout",
     "output_type": "stream",
     "text": [
      "[nltk_data] Downloading package stopwords to /root/nltk_data...\n",
      "[nltk_data]   Unzipping corpora/stopwords.zip.\n"
     ]
    }
   ],
   "source": [
    "import nltk\n",
    "nltk.download('stopwords')\n",
    "from nltk.corpus import stopwords\n",
    "stopwords = stopwords.words('english')\n",
    "\n",
    "\n",
    "def preprocess_text(text_col):\n",
    "    preprocessed_text = []\n",
    "    for sentence in tqdm((text_col.values)):\n",
    "        sent = sentence.replace('\\\\r', ' ')\n",
    "        sent = sent.replace('\\\\\"', ' ')\n",
    "        sent = sent.replace('\\\\n', ' ')\n",
    "        sent = re.sub('[^A-Za-z0-9]+', ' ', sent)\n",
    "        sent = ' '.join(e for e in sent.split() if e not in stopwords)\n",
    "        preprocessed_text.append(sent.lower().strip())\n",
    "    return preprocessed_text"
   ]
  },
  {
   "cell_type": "code",
   "execution_count": null,
   "metadata": {
    "colab": {
     "base_uri": "https://localhost:8080/"
    },
    "executionInfo": {
     "elapsed": 293920,
     "status": "ok",
     "timestamp": 1608090803676,
     "user": {
      "displayName": "Pratik Pawar",
      "photoUrl": "",
      "userId": "07854545271556537314"
     },
     "user_tz": -330
    },
    "id": "_M7Teiz0uL8M",
    "outputId": "ce21c78a-6949-4faa-b329-29e48f45e670"
   },
   "outputs": [
    {
     "name": "stderr",
     "output_type": "stream",
     "text": [
      "100%|██████████| 1037170/1037170 [00:13<00:00, 79586.98it/s]\n",
      "100%|██████████| 444761/444761 [00:05<00:00, 80671.68it/s]\n",
      "100%|██████████| 1037170/1037170 [00:57<00:00, 18118.23it/s]\n",
      "100%|██████████| 444761/444761 [00:25<00:00, 17682.23it/s]\n"
     ]
    }
   ],
   "source": [
    "train['preprocessed_name'] = preprocess_text(train['name'])\n",
    "test['preprocessed_name'] = preprocess_text(test['name'])\n",
    "\n",
    "train['preprocessed_description'] = preprocess_text(train['item_description'])\n",
    "test['preprocessed_description'] = preprocess_text(test['item_description'])"
   ]
  },
  {
   "cell_type": "code",
   "execution_count": null,
   "metadata": {
    "id": "OcTqJACcuL8O"
   },
   "outputs": [],
   "source": [
    "train['name_len'] = train['name'].apply(lambda x: len(x))\n",
    "train['des_len'] = train['item_description'].apply(lambda x: len(x))\n",
    "train['desc_word_count'] = train['item_description'].apply(lambda x: len(x.split()))\n",
    "train['name_word_count'] = train['name'].apply(lambda x: len(x.split()))\n",
    "train['desc_letters_per_word'] = train['des_len'] / train['desc_word_count']\n",
    "train['name_letters_per_word'] = train['name_len'] / train['name_word_count']\n",
    "train['price_in_description'] = train['item_description'].str.contains('[rm]', regex=False).astype('category')\n",
    "train['price_in_name'] = train['name'].str.contains('[rm]', regex=False).astype('category')"
   ]
  },
  {
   "cell_type": "code",
   "execution_count": null,
   "metadata": {
    "id": "wOYGwuvyuL8P"
   },
   "outputs": [],
   "source": [
    "test['name_len'] = test['name'].apply(lambda x: len(x))\n",
    "test['des_len'] = test['item_description'].apply(lambda x: len(x))\n",
    "test['desc_word_count'] = test['item_description'].apply(lambda x: len(x.split()))\n",
    "test['name_word_count'] = test['name'].apply(lambda x: len(x.split()))\n",
    "test['desc_letters_per_word'] = test['des_len'] / test['desc_word_count']\n",
    "test['name_letters_per_word'] = test['name_len'] / test['name_word_count']\n",
    "test['price_in_description'] = test['item_description'].str.contains('[rm]', regex=False).astype('category')\n",
    "test['price_in_name'] = test['name'].str.contains('[rm]', regex=False).astype('category')"
   ]
  },
  {
   "cell_type": "code",
   "execution_count": null,
   "metadata": {
    "colab": {
     "base_uri": "https://localhost:8080/"
    },
    "executionInfo": {
     "elapsed": 299567,
     "status": "ok",
     "timestamp": 1608090809355,
     "user": {
      "displayName": "Pratik Pawar",
      "photoUrl": "",
      "userId": "07854545271556537314"
     },
     "user_tz": -330
    },
    "id": "DvvEgLoDuL8R",
    "outputId": "f1389bac-16c5-4f36-9b56-663ec3ac8289"
   },
   "outputs": [
    {
     "data": {
      "text/plain": [
       "Index(['train_id', 'name', 'item_condition_id', 'brand_name', 'price',\n",
       "       'shipping', 'item_description', 'gencat_name', 'subcat1_name',\n",
       "       'subcat2_name', 'preprocessed_name', 'preprocessed_description',\n",
       "       'name_len', 'des_len', 'desc_word_count', 'name_word_count',\n",
       "       'desc_letters_per_word', 'name_letters_per_word',\n",
       "       'price_in_description', 'price_in_name'],\n",
       "      dtype='object')"
      ]
     },
     "execution_count": 46,
     "metadata": {
      "tags": []
     },
     "output_type": "execute_result"
    }
   ],
   "source": [
    "train.columns"
   ]
  },
  {
   "cell_type": "code",
   "execution_count": null,
   "metadata": {
    "colab": {
     "base_uri": "https://localhost:8080/"
    },
    "executionInfo": {
     "elapsed": 299551,
     "status": "ok",
     "timestamp": 1608090809356,
     "user": {
      "displayName": "Pratik Pawar",
      "photoUrl": "",
      "userId": "07854545271556537314"
     },
     "user_tz": -330
    },
    "id": "GLBhzMJ6uL8S",
    "outputId": "53beb659-d9ac-4a3b-f867-5fd705109232"
   },
   "outputs": [
    {
     "data": {
      "text/plain": [
       "Index(['train_id', 'name', 'item_condition_id', 'brand_name', 'price',\n",
       "       'shipping', 'item_description', 'gencat_name', 'subcat1_name',\n",
       "       'subcat2_name', 'preprocessed_name', 'preprocessed_description',\n",
       "       'name_len', 'des_len', 'desc_word_count', 'name_word_count',\n",
       "       'desc_letters_per_word', 'name_letters_per_word',\n",
       "       'price_in_description', 'price_in_name'],\n",
       "      dtype='object')"
      ]
     },
     "execution_count": 47,
     "metadata": {
      "tags": []
     },
     "output_type": "execute_result"
    }
   ],
   "source": [
    "train.shape\n",
    "train.columns"
   ]
  },
  {
   "cell_type": "code",
   "execution_count": null,
   "metadata": {
    "colab": {
     "base_uri": "https://localhost:8080/"
    },
    "executionInfo": {
     "elapsed": 299536,
     "status": "ok",
     "timestamp": 1608090809357,
     "user": {
      "displayName": "Pratik Pawar",
      "photoUrl": "",
      "userId": "07854545271556537314"
     },
     "user_tz": -330
    },
    "id": "oSmMXNIwuL8S",
    "outputId": "7c52acbb-111b-408e-87aa-26ed78993267"
   },
   "outputs": [
    {
     "data": {
      "text/plain": [
       "(444761, 19)"
      ]
     },
     "execution_count": 48,
     "metadata": {
      "tags": []
     },
     "output_type": "execute_result"
    }
   ],
   "source": [
    "test.shape\n"
   ]
  },
  {
   "cell_type": "code",
   "execution_count": null,
   "metadata": {
    "colab": {
     "base_uri": "https://localhost:8080/"
    },
    "executionInfo": {
     "elapsed": 300154,
     "status": "ok",
     "timestamp": 1608090810024,
     "user": {
      "displayName": "Pratik Pawar",
      "photoUrl": "",
      "userId": "07854545271556537314"
     },
     "user_tz": -330
    },
    "id": "ASV7xStiuL8T",
    "outputId": "91d33dd6-beb6-4f74-b4c4-013b6a65a6d3"
   },
   "outputs": [
    {
     "name": "stdout",
     "output_type": "stream",
     "text": [
      "Dropped 19 rows\n"
     ]
    }
   ],
   "source": [
    "n_rows = train.shape[0]\n",
    "train = train[train.preprocessed_name != ''].reset_index(drop=True)\n",
    "\n",
    "print('Dropped {} rows'.format(n_rows - train.shape[0]))"
   ]
  },
  {
   "cell_type": "code",
   "execution_count": null,
   "metadata": {
    "colab": {
     "base_uri": "https://localhost:8080/"
    },
    "executionInfo": {
     "elapsed": 300580,
     "status": "ok",
     "timestamp": 1608090810485,
     "user": {
      "displayName": "Pratik Pawar",
      "photoUrl": "",
      "userId": "07854545271556537314"
     },
     "user_tz": -330
    },
    "id": "u8D3DCcYuL8U",
    "outputId": "3fc514c0-ff15-495d-dad5-b9ad17ceb5df"
   },
   "outputs": [
    {
     "name": "stdout",
     "output_type": "stream",
     "text": [
      "Dropped 392 rows\n",
      "Shape of train data:  (1036759, 20)\n"
     ]
    }
   ],
   "source": [
    "n_rows = train.shape[0]\n",
    "train = train[train.preprocessed_description != ''].reset_index(drop=True)\n",
    "\n",
    "print('Dropped {} rows'.format(n_rows - train.shape[0]))\n",
    "\n",
    "print('Shape of train data: ', train.shape)"
   ]
  },
  {
   "cell_type": "code",
   "execution_count": null,
   "metadata": {
    "id": "CfcwPvqCuL8W"
   },
   "outputs": [],
   "source": [
    "def transform_test(base_col, feat_col):\n",
    "    \n",
    "    di = pd.Series(train[feat_col].values, index=train[base_col].values).to_dict()\n",
    "    \n",
    "    if base_col == 'item_condition_id':\n",
    "        return test[base_col].map(di).astype(float)\n",
    "        \n",
    "    return test[base_col].map(di).fillna(0)"
   ]
  },
  {
   "cell_type": "code",
   "execution_count": null,
   "metadata": {
    "id": "3LAKPIUfuL8X"
   },
   "outputs": [],
   "source": [
    "train['brand_mean_price'] = train.groupby('brand_name')['price'].transform('mean')\n",
    "test['brand_mean_price'] = transform_test('brand_name', 'brand_mean_price')\n",
    "\n",
    "train['gencat_mean_price'] = train.groupby('gencat_name')['price'].transform('mean')\n",
    "test['gencat_mean_price'] = transform_test('gencat_name', 'gencat_mean_price')\n",
    "\n",
    "train['subcat1_mean_price'] = train.groupby('subcat1_name')['price'].transform('mean')\n",
    "test['subcat1_mean_price'] = transform_test('subcat1_name', 'subcat1_mean_price')\n",
    "\n",
    "train['subcat2_mean_price'] = train.groupby('subcat2_name')['price'].transform('mean')\n",
    "test['subcat2_mean_price'] = transform_test('subcat2_name', 'subcat2_mean_price')\n",
    "\n",
    "train['condition_mean_price'] = train.groupby('item_condition_id')['price'].transform('mean')\n",
    "test['condition_mean_price'] = transform_test('item_condition_id', 'condition_mean_price')"
   ]
  },
  {
   "cell_type": "code",
   "execution_count": null,
   "metadata": {
    "id": "ChsSjAIIuL8a"
   },
   "outputs": [],
   "source": [
    "train['brand_median_price'] = train.groupby('brand_name')['price'].transform('median')\n",
    "test['brand_median_price'] = transform_test('brand_name', 'brand_median_price')\n",
    "\n",
    "train['gencat_median_price'] = train.groupby('gencat_name')['price'].transform('median')\n",
    "test['gencat_median_price'] = transform_test('gencat_name', 'gencat_median_price')\n",
    "\n",
    "train['subcat1_median_price'] = train.groupby('subcat1_name')['price'].transform('median')\n",
    "test['subcat1_median_price'] = transform_test('subcat1_name', 'subcat1_median_price')\n",
    "\n",
    "train['subcat2_median_price'] = train.groupby('subcat2_name')['price'].transform('median')\n",
    "test['subcat2_median_price'] = transform_test('subcat2_name', 'subcat2_median_price')\n",
    "\n",
    "train['condition_median_price'] = train.groupby('item_condition_id')['price'].transform('median')\n",
    "test['condition_median_price'] = transform_test('item_condition_id', 'condition_median_price')"
   ]
  },
  {
   "cell_type": "code",
   "execution_count": null,
   "metadata": {
    "id": "AcpCx53zuL8c"
   },
   "outputs": [],
   "source": [
    "train['gencat_name_count'] = train.groupby('gencat_name')['gencat_name'].transform('count')\n",
    "test['gencat_name_count'] = transform_test('gencat_name', 'gencat_name_count')\n",
    "\n",
    "train['subcat1_name_count'] = train.groupby('subcat1_name')['subcat1_name'].transform('count')\n",
    "test['subcat1_name_count'] = transform_test('subcat1_name', 'subcat1_name_count')\n",
    "\n",
    "train['subcat2_name_count'] = train.groupby('subcat2_name')['subcat2_name'].transform('count')\n",
    "test['subcat2_name_count'] = transform_test('subcat2_name', 'subcat2_name_count')\n",
    "\n",
    "train['brand_name_count'] = train.groupby('brand_name')['brand_name'].transform('count')\n",
    "test['brand_name_count'] = transform_test('brand_name', 'brand_name_count')"
   ]
  },
  {
   "cell_type": "code",
   "execution_count": null,
   "metadata": {
    "id": "Dksw4In8uL8c"
   },
   "outputs": [],
   "source": [
    "test.drop(['name', 'item_description'], axis=1, inplace=True)\n",
    "train.drop(['name', 'item_description'], axis=1, inplace=True)"
   ]
  },
  {
   "cell_type": "code",
   "execution_count": null,
   "metadata": {
    "colab": {
     "base_uri": "https://localhost:8080/"
    },
    "executionInfo": {
     "elapsed": 304625,
     "status": "ok",
     "timestamp": 1608090814604,
     "user": {
      "displayName": "Pratik Pawar",
      "photoUrl": "",
      "userId": "07854545271556537314"
     },
     "user_tz": -330
    },
    "id": "pDZM8xBHuL8d",
    "outputId": "90a755d2-7a4a-483c-b3ed-fcaa59c14fc2"
   },
   "outputs": [
    {
     "data": {
      "text/plain": [
       "(1036759, 32)"
      ]
     },
     "execution_count": 56,
     "metadata": {
      "tags": []
     },
     "output_type": "execute_result"
    }
   ],
   "source": [
    "train.shape"
   ]
  },
  {
   "cell_type": "code",
   "execution_count": null,
   "metadata": {
    "colab": {
     "base_uri": "https://localhost:8080/"
    },
    "executionInfo": {
     "elapsed": 304602,
     "status": "ok",
     "timestamp": 1608090814605,
     "user": {
      "displayName": "Pratik Pawar",
      "photoUrl": "",
      "userId": "07854545271556537314"
     },
     "user_tz": -330
    },
    "id": "ND83edUWuL8e",
    "outputId": "25c7e6a4-9579-4c36-c817-49f2a2f0f3ef"
   },
   "outputs": [
    {
     "data": {
      "text/plain": [
       "(444761, 31)"
      ]
     },
     "execution_count": 57,
     "metadata": {
      "tags": []
     },
     "output_type": "execute_result"
    }
   ],
   "source": [
    "test.shape"
   ]
  },
  {
   "cell_type": "code",
   "execution_count": null,
   "metadata": {
    "colab": {
     "base_uri": "https://localhost:8080/"
    },
    "executionInfo": {
     "elapsed": 305756,
     "status": "ok",
     "timestamp": 1608090815781,
     "user": {
      "displayName": "Pratik Pawar",
      "photoUrl": "",
      "userId": "07854545271556537314"
     },
     "user_tz": -330
    },
    "id": "xxpzh-jYuL8f",
    "outputId": "d6f01b92-f367-4711-92f2-b2e55fc22091"
   },
   "outputs": [
    {
     "name": "stdout",
     "output_type": "stream",
     "text": [
      "Train size: (881245, 31), CV size: (155514, 31), Test size: (444761, 31)\n"
     ]
    }
   ],
   "source": [
    "from sklearn.model_selection import train_test_split\n",
    "\n",
    "y_tr = np.log1p(train['price'])\n",
    "train.drop(['price'], axis=1, inplace=True)\n",
    "\n",
    "train_df, cv_df , y_train, y_cv = train_test_split(train, y_tr, test_size=0.15, random_state=56)\n",
    "\n",
    "print('Train size: {}, CV size: {}, Test size: {}' .format(train_df.shape, cv_df.shape, test.shape))"
   ]
  },
  {
   "cell_type": "code",
   "execution_count": null,
   "metadata": {
    "id": "Q4TwcSv_uL8g"
   },
   "outputs": [],
   "source": [
    "#del train, y_tr \n",
    "#gc.collect()"
   ]
  },
  {
   "cell_type": "code",
   "execution_count": null,
   "metadata": {
    "colab": {
     "base_uri": "https://localhost:8080/"
    },
    "executionInfo": {
     "elapsed": 307693,
     "status": "ok",
     "timestamp": 1608090817748,
     "user": {
      "displayName": "Pratik Pawar",
      "photoUrl": "",
      "userId": "07854545271556537314"
     },
     "user_tz": -330
    },
    "id": "P3s1nzvNuL8h",
    "outputId": "6fdb312d-3b49-4657-b525-f62aab3e249e"
   },
   "outputs": [
    {
     "name": "stderr",
     "output_type": "stream",
     "text": [
      "/usr/local/lib/python3.6/dist-packages/ipykernel_launcher.py:1: SettingWithCopyWarning: \n",
      "A value is trying to be set on a copy of a slice from a DataFrame.\n",
      "Try using .loc[row_indexer,col_indexer] = value instead\n",
      "\n",
      "See the caveats in the documentation: https://pandas.pydata.org/pandas-docs/stable/user_guide/indexing.html#returning-a-view-versus-a-copy\n",
      "  \"\"\"Entry point for launching an IPython kernel.\n",
      "/usr/local/lib/python3.6/dist-packages/ipykernel_launcher.py:2: SettingWithCopyWarning: \n",
      "A value is trying to be set on a copy of a slice from a DataFrame.\n",
      "Try using .loc[row_indexer,col_indexer] = value instead\n",
      "\n",
      "See the caveats in the documentation: https://pandas.pydata.org/pandas-docs/stable/user_guide/indexing.html#returning-a-view-versus-a-copy\n",
      "  \n"
     ]
    }
   ],
   "source": [
    "train_df['brand_name'] = clean_cat(train_df['brand_name'].values)\n",
    "cv_df['brand_name'] = clean_cat(cv_df['brand_name'].values)\n",
    "test['brand_name'] = clean_cat(test['brand_name'].values)"
   ]
  },
  {
   "cell_type": "code",
   "execution_count": null,
   "metadata": {
    "colab": {
     "base_uri": "https://localhost:8080/"
    },
    "executionInfo": {
     "elapsed": 311151,
     "status": "ok",
     "timestamp": 1608090821224,
     "user": {
      "displayName": "Pratik Pawar",
      "photoUrl": "",
      "userId": "07854545271556537314"
     },
     "user_tz": -330
    },
    "id": "TqqYKoKEuL8i",
    "outputId": "f5a19c99-86a6-4668-8fce-a8f1e7555691"
   },
   "outputs": [
    {
     "name": "stdout",
     "output_type": "stream",
     "text": [
      "Shape of matrices after one hot encoding\n",
      "(881245, 4188) \n",
      " (155514, 4188) \n",
      " (444761, 4188)\n"
     ]
    }
   ],
   "source": [
    "vectorizer = CountVectorizer(lowercase=False, binary=True)\n",
    "train_brand_oneHot = vectorizer.fit_transform(train_df['brand_name'].values)\n",
    "\n",
    "cv_brand_oneHot = vectorizer.transform(cv_df['brand_name'].values)\n",
    "test_brand_oneHot = vectorizer.transform(test['brand_name'].values)\n",
    "\n",
    "print(\"Shape of matrices after one hot encoding\")\n",
    "print(train_brand_oneHot.shape, \"\\n\", cv_brand_oneHot.shape, \"\\n\", test_brand_oneHot.shape)"
   ]
  },
  {
   "cell_type": "code",
   "execution_count": null,
   "metadata": {
    "colab": {
     "base_uri": "https://localhost:8080/"
    },
    "executionInfo": {
     "elapsed": 314779,
     "status": "ok",
     "timestamp": 1608090824869,
     "user": {
      "displayName": "Pratik Pawar",
      "photoUrl": "",
      "userId": "07854545271556537314"
     },
     "user_tz": -330
    },
    "id": "PwS25KmluL8j",
    "outputId": "ea9c8a2c-0f9d-4816-f2d0-a09d8f4d706e"
   },
   "outputs": [
    {
     "name": "stdout",
     "output_type": "stream",
     "text": [
      "Shape of matrices after one hot encoding\n",
      "(881245, 11) \n",
      " (155514, 11) \n",
      " (444761, 11)\n"
     ]
    }
   ],
   "source": [
    "vectorizer = CountVectorizer(lowercase=False, binary=True)\n",
    "train_gencat_oneHot = vectorizer.fit_transform(train_df['gencat_name'].values)\n",
    "\n",
    "cv_gencat_oneHot = vectorizer.transform(cv_df['gencat_name'].values)\n",
    "test_gencat_oneHot = vectorizer.transform(test['gencat_name'].values)\n",
    "\n",
    "print(\"Shape of matrices after one hot encoding\")\n",
    "print(train_gencat_oneHot.shape, \"\\n\", cv_gencat_oneHot.shape, \"\\n\", test_gencat_oneHot.shape)"
   ]
  },
  {
   "cell_type": "code",
   "execution_count": null,
   "metadata": {
    "colab": {
     "base_uri": "https://localhost:8080/"
    },
    "executionInfo": {
     "elapsed": 318671,
     "status": "ok",
     "timestamp": 1608090828779,
     "user": {
      "displayName": "Pratik Pawar",
      "photoUrl": "",
      "userId": "07854545271556537314"
     },
     "user_tz": -330
    },
    "id": "ZBwNgy76uL8l",
    "outputId": "e868ae70-0740-46d6-b5d5-083a69f952e6"
   },
   "outputs": [
    {
     "name": "stdout",
     "output_type": "stream",
     "text": [
      "Shape of matrices after one hot encoding\n",
      "(881245, 114) \n",
      " (155514, 114) \n",
      " (444761, 114)\n"
     ]
    }
   ],
   "source": [
    "vectorizer = CountVectorizer(lowercase=False, binary=True)\n",
    "train_subcat1_oneHot = vectorizer.fit_transform(train_df['subcat1_name'].values)\n",
    "\n",
    "cv_subcat1_oneHot = vectorizer.transform(cv_df['subcat1_name'].values)\n",
    "test_subcat1_oneHot = vectorizer.transform(test['subcat1_name'].values)\n",
    "\n",
    "print(\"Shape of matrices after one hot encoding\")\n",
    "print(train_subcat1_oneHot.shape, \"\\n\", cv_subcat1_oneHot.shape, \"\\n\", test_subcat1_oneHot.shape)"
   ]
  },
  {
   "cell_type": "code",
   "execution_count": null,
   "metadata": {
    "colab": {
     "base_uri": "https://localhost:8080/"
    },
    "executionInfo": {
     "elapsed": 322674,
     "status": "ok",
     "timestamp": 1608090832799,
     "user": {
      "displayName": "Pratik Pawar",
      "photoUrl": "",
      "userId": "07854545271556537314"
     },
     "user_tz": -330
    },
    "id": "ullPkE_CuL8n",
    "outputId": "53d28b4a-2065-4f77-dfcc-e989edef16ff"
   },
   "outputs": [
    {
     "name": "stdout",
     "output_type": "stream",
     "text": [
      "Shape of matrices after one hot encoding\n",
      "(881245, 842) \n",
      " (155514, 842) \n",
      " (444761, 842)\n"
     ]
    }
   ],
   "source": [
    "vectorizer = CountVectorizer(lowercase=False, binary=True)\n",
    "train_subcat2_oneHot = vectorizer.fit_transform(train_df['subcat2_name'].values)\n",
    "\n",
    "cv_subcat2_oneHot = vectorizer.transform(cv_df['subcat2_name'].values)\n",
    "test_subcat2_oneHot = vectorizer.transform(test['subcat2_name'].values)\n",
    "\n",
    "print(\"Shape of matrices after one hot encoding\")\n",
    "print(train_subcat2_oneHot.shape, \"\\n\", cv_subcat2_oneHot.shape, \"\\n\", test_subcat2_oneHot.shape)"
   ]
  },
  {
   "cell_type": "code",
   "execution_count": null,
   "metadata": {
    "id": "V0npbfUJuL8n"
   },
   "outputs": [],
   "source": [
    "def concat_feature_text(df: pd.DataFrame):\n",
    "    df['preprocessed_name'] = df['preprocessed_name'].fillna('') + ' ' + df['brand_name'].fillna('')\n",
    "    df['preprocessed_description'] = df['preprocessed_description'].fillna('') + ' ' + df['preprocessed_name'] + ' ' + df['subcat2_name'].fillna('')"
   ]
  },
  {
   "cell_type": "code",
   "execution_count": null,
   "metadata": {
    "colab": {
     "base_uri": "https://localhost:8080/"
    },
    "executionInfo": {
     "elapsed": 325669,
     "status": "ok",
     "timestamp": 1608090835816,
     "user": {
      "displayName": "Pratik Pawar",
      "photoUrl": "",
      "userId": "07854545271556537314"
     },
     "user_tz": -330
    },
    "id": "LRaFieDruL8o",
    "outputId": "4ec3b96d-1ac6-47fb-f568-13a0756d8f54"
   },
   "outputs": [
    {
     "name": "stderr",
     "output_type": "stream",
     "text": [
      "/usr/local/lib/python3.6/dist-packages/ipykernel_launcher.py:2: SettingWithCopyWarning: \n",
      "A value is trying to be set on a copy of a slice from a DataFrame.\n",
      "Try using .loc[row_indexer,col_indexer] = value instead\n",
      "\n",
      "See the caveats in the documentation: https://pandas.pydata.org/pandas-docs/stable/user_guide/indexing.html#returning-a-view-versus-a-copy\n",
      "  \n",
      "/usr/local/lib/python3.6/dist-packages/ipykernel_launcher.py:3: SettingWithCopyWarning: \n",
      "A value is trying to be set on a copy of a slice from a DataFrame.\n",
      "Try using .loc[row_indexer,col_indexer] = value instead\n",
      "\n",
      "See the caveats in the documentation: https://pandas.pydata.org/pandas-docs/stable/user_guide/indexing.html#returning-a-view-versus-a-copy\n",
      "  This is separate from the ipykernel package so we can avoid doing imports until\n"
     ]
    }
   ],
   "source": [
    "concat_feature_text(train_df)\n",
    "concat_feature_text(cv_df)\n",
    "concat_feature_text(test)"
   ]
  },
  {
   "cell_type": "code",
   "execution_count": null,
   "metadata": {
    "colab": {
     "base_uri": "https://localhost:8080/"
    },
    "executionInfo": {
     "elapsed": 357454,
     "status": "ok",
     "timestamp": 1608090867618,
     "user": {
      "displayName": "Pratik Pawar",
      "photoUrl": "",
      "userId": "07854545271556537314"
     },
     "user_tz": -330
    },
    "id": "7MfsjLCluL8q",
    "outputId": "b39ea405-aaee-4b24-dc96-3cf79b752bf1"
   },
   "outputs": [
    {
     "name": "stdout",
     "output_type": "stream",
     "text": [
      "Shape of matrices after vectorization\n",
      "(881245, 250000) \n",
      " (155514, 250000) \n",
      " (444761, 250000)\n"
     ]
    }
   ],
   "source": [
    "vectorizer = TfidfVectorizer(ngram_range=(1, 3), min_df=3, max_features=250000)\n",
    "\n",
    "train_name_tfidf = vectorizer.fit_transform(train_df['preprocessed_name'].values)\n",
    "\n",
    "cv_name_tfidf = vectorizer.transform(cv_df['preprocessed_name'].values)\n",
    "test_name_tfidf = vectorizer.transform(test['preprocessed_name'].values)\n",
    "\n",
    "print(\"Shape of matrices after vectorization\")\n",
    "print(train_name_tfidf.shape, \"\\n\", cv_name_tfidf.shape, \"\\n\", test_name_tfidf.shape)"
   ]
  },
  {
   "cell_type": "code",
   "execution_count": null,
   "metadata": {
    "colab": {
     "base_uri": "https://localhost:8080/"
    },
    "executionInfo": {
     "elapsed": 529493,
     "status": "ok",
     "timestamp": 1608091039674,
     "user": {
      "displayName": "Pratik Pawar",
      "photoUrl": "",
      "userId": "07854545271556537314"
     },
     "user_tz": -330
    },
    "id": "KFqqQTq5uL8q",
    "outputId": "59de2f71-803d-43da-ad31-fd6d23038721"
   },
   "outputs": [
    {
     "name": "stdout",
     "output_type": "stream",
     "text": [
      "Shape of matrices after vectorization\n",
      "(881245, 500000) \n",
      " (155514, 500000) \n",
      " (444761, 500000)\n"
     ]
    }
   ],
   "source": [
    "vectorizer = TfidfVectorizer(ngram_range=(1, 3), min_df=5, max_features=500000)\n",
    "\n",
    "train_description_tfidf = vectorizer.fit_transform(train_df['preprocessed_description'].values)\n",
    "\n",
    "cv_description_tfidf = vectorizer.transform(cv_df['preprocessed_description'].values)\n",
    "test_description_tfidf = vectorizer.transform(test['preprocessed_description'].values)\n",
    "\n",
    "print(\"Shape of matrices after vectorization\")\n",
    "print(train_description_tfidf.shape, \"\\n\", cv_description_tfidf.shape, \"\\n\", test_description_tfidf.shape)"
   ]
  },
  {
   "cell_type": "code",
   "execution_count": 11,
   "metadata": {
    "colab": {
     "base_uri": "https://localhost:8080/",
     "height": 221
    },
    "executionInfo": {
     "elapsed": 1469,
     "status": "ok",
     "timestamp": 1608170093498,
     "user": {
      "displayName": "Pratik Pawar",
      "photoUrl": "",
      "userId": "07854545271556537314"
     },
     "user_tz": -330
    },
    "id": "SDSbpweuuL8r",
    "outputId": "ed5e0139-3a18-4631-c328-033bcbc66844"
   },
   "outputs": [
    {
     "name": "stdout",
     "output_type": "stream",
     "text": [
      "(444761, 1)\n"
     ]
    },
    {
     "data": {
      "text/html": [
       "<div>\n",
       "<style scoped>\n",
       "    .dataframe tbody tr th:only-of-type {\n",
       "        vertical-align: middle;\n",
       "    }\n",
       "\n",
       "    .dataframe tbody tr th {\n",
       "        vertical-align: top;\n",
       "    }\n",
       "\n",
       "    .dataframe thead th {\n",
       "        text-align: right;\n",
       "    }\n",
       "</style>\n",
       "<table border=\"1\" class=\"dataframe\">\n",
       "  <thead>\n",
       "    <tr style=\"text-align: right;\">\n",
       "      <th></th>\n",
       "      <th>id</th>\n",
       "    </tr>\n",
       "  </thead>\n",
       "  <tbody>\n",
       "    <tr>\n",
       "      <th>0</th>\n",
       "      <td>1048243</td>\n",
       "    </tr>\n",
       "    <tr>\n",
       "      <th>1</th>\n",
       "      <td>86986</td>\n",
       "    </tr>\n",
       "    <tr>\n",
       "      <th>2</th>\n",
       "      <td>698316</td>\n",
       "    </tr>\n",
       "    <tr>\n",
       "      <th>3</th>\n",
       "      <td>268868</td>\n",
       "    </tr>\n",
       "    <tr>\n",
       "      <th>4</th>\n",
       "      <td>1360398</td>\n",
       "    </tr>\n",
       "  </tbody>\n",
       "</table>\n",
       "</div>"
      ],
      "text/plain": [
       "        id\n",
       "0  1048243\n",
       "1    86986\n",
       "2   698316\n",
       "3   268868\n",
       "4  1360398"
      ]
     },
     "execution_count": 11,
     "metadata": {
      "tags": []
     },
     "output_type": "execute_result"
    }
   ],
   "source": [
    "submission_df = pd.DataFrame(test['id'])\n",
    "print(submission_df.shape)\n",
    "submission_df.head()"
   ]
  },
  {
   "cell_type": "code",
   "execution_count": null,
   "metadata": {
    "colab": {
     "base_uri": "https://localhost:8080/"
    },
    "executionInfo": {
     "elapsed": 529463,
     "status": "ok",
     "timestamp": 1608091039682,
     "user": {
      "displayName": "Pratik Pawar",
      "photoUrl": "",
      "userId": "07854545271556537314"
     },
     "user_tz": -330
    },
    "id": "Ztoz2cIguL8t",
    "outputId": "e0b96a2d-c553-404e-8349-bc0673bb07ca"
   },
   "outputs": [
    {
     "data": {
      "text/plain": [
       "Index(['train_id', 'item_condition_id', 'brand_name', 'shipping',\n",
       "       'gencat_name', 'subcat1_name', 'subcat2_name', 'preprocessed_name',\n",
       "       'preprocessed_description', 'name_len', 'des_len', 'desc_word_count',\n",
       "       'name_word_count', 'desc_letters_per_word', 'name_letters_per_word',\n",
       "       'price_in_description', 'price_in_name', 'brand_mean_price',\n",
       "       'gencat_mean_price', 'subcat1_mean_price', 'subcat2_mean_price',\n",
       "       'condition_mean_price', 'brand_median_price', 'gencat_median_price',\n",
       "       'subcat1_median_price', 'subcat2_median_price',\n",
       "       'condition_median_price', 'gencat_name_count', 'subcat1_name_count',\n",
       "       'subcat2_name_count', 'brand_name_count'],\n",
       "      dtype='object')"
      ]
     },
     "execution_count": 70,
     "metadata": {
      "tags": []
     },
     "output_type": "execute_result"
    }
   ],
   "source": [
    "train_df.columns"
   ]
  },
  {
   "cell_type": "code",
   "execution_count": null,
   "metadata": {
    "colab": {
     "base_uri": "https://localhost:8080/"
    },
    "executionInfo": {
     "elapsed": 529450,
     "status": "ok",
     "timestamp": 1608091039684,
     "user": {
      "displayName": "Pratik Pawar",
      "photoUrl": "",
      "userId": "07854545271556537314"
     },
     "user_tz": -330
    },
    "id": "Jzf51rgEuL8t",
    "outputId": "4e746631-d6e0-4ca5-c4dd-b03d5b9ea0f8"
   },
   "outputs": [
    {
     "name": "stdout",
     "output_type": "stream",
     "text": [
      "Normalizing following columns:  {'name_word_count', 'name_letters_per_word', 'gencat_mean_price', 'subcat1_mean_price', 'name_len', 'brand_mean_price', 'condition_mean_price', 'gencat_median_price', 'subcat2_mean_price', 'brand_name_count', 'subcat2_median_price', 'subcat1_median_price', 'desc_word_count', 'gencat_name_count', 'subcat1_name_count', 'subcat2_name_count', 'brand_median_price', 'condition_median_price', 'desc_letters_per_word', 'des_len'}\n"
     ]
    }
   ],
   "source": [
    "cols = set(train_df.columns.values) - {'train_id'}\n",
    "skip_cols = {'preprocessed_name', 'item_condition_id', 'brand_name',\n",
    "  'shipping', 'preprocessed_description', 'gencat_name',\n",
    "  'subcat1_name', 'subcat2_name', 'price_in_name', 'price_in_description'}\n",
    "\n",
    "cols_to_normalize = cols - skip_cols\n",
    "print(\"Normalizing following columns: \", cols_to_normalize)\n",
    "\n",
    "def normalize(df):\n",
    "    result1 = df.copy()\n",
    "    for feature_name in df.columns:\n",
    "        if (feature_name in cols_to_normalize):\n",
    "            print(feature_name)\n",
    "            max_value = df[feature_name].max()\n",
    "            min_value = df[feature_name].min()\n",
    "            result1[feature_name] = (df[feature_name] - min_value) / (max_value - min_value)\n",
    "    return result1"
   ]
  },
  {
   "cell_type": "code",
   "execution_count": null,
   "metadata": {
    "colab": {
     "base_uri": "https://localhost:8080/"
    },
    "executionInfo": {
     "elapsed": 529433,
     "status": "ok",
     "timestamp": 1608091039685,
     "user": {
      "displayName": "Pratik Pawar",
      "photoUrl": "",
      "userId": "07854545271556537314"
     },
     "user_tz": -330
    },
    "id": "ZegYQrsLuL8u",
    "outputId": "485c5ebb-182c-4371-f5fd-f596de557360"
   },
   "outputs": [
    {
     "data": {
      "text/plain": [
       "Index(['train_id', 'item_condition_id', 'brand_name', 'shipping',\n",
       "       'gencat_name', 'subcat1_name', 'subcat2_name', 'preprocessed_name',\n",
       "       'preprocessed_description', 'name_len', 'des_len', 'desc_word_count',\n",
       "       'name_word_count', 'desc_letters_per_word', 'name_letters_per_word',\n",
       "       'price_in_description', 'price_in_name', 'brand_mean_price',\n",
       "       'gencat_mean_price', 'subcat1_mean_price', 'subcat2_mean_price',\n",
       "       'condition_mean_price', 'brand_median_price', 'gencat_median_price',\n",
       "       'subcat1_median_price', 'subcat2_median_price',\n",
       "       'condition_median_price', 'gencat_name_count', 'subcat1_name_count',\n",
       "       'subcat2_name_count', 'brand_name_count'],\n",
       "      dtype='object')"
      ]
     },
     "execution_count": 72,
     "metadata": {
      "tags": []
     },
     "output_type": "execute_result"
    }
   ],
   "source": [
    "train_df.columns"
   ]
  },
  {
   "cell_type": "code",
   "execution_count": null,
   "metadata": {
    "colab": {
     "base_uri": "https://localhost:8080/"
    },
    "executionInfo": {
     "elapsed": 529371,
     "status": "ok",
     "timestamp": 1608091039685,
     "user": {
      "displayName": "Pratik Pawar",
      "photoUrl": "",
      "userId": "07854545271556537314"
     },
     "user_tz": -330
    },
    "id": "6gXGTmLPuL8v",
    "outputId": "79ae876a-3863-4be7-e64c-b4e8583aa449"
   },
   "outputs": [
    {
     "name": "stdout",
     "output_type": "stream",
     "text": [
      "name_len\n",
      "des_len\n",
      "desc_word_count\n",
      "name_word_count\n",
      "desc_letters_per_word\n",
      "name_letters_per_word\n",
      "brand_mean_price\n",
      "gencat_mean_price\n",
      "subcat1_mean_price\n",
      "subcat2_mean_price\n",
      "condition_mean_price\n",
      "brand_median_price\n",
      "gencat_median_price\n",
      "subcat1_median_price\n",
      "subcat2_median_price\n",
      "condition_median_price\n",
      "gencat_name_count\n",
      "subcat1_name_count\n",
      "subcat2_name_count\n",
      "brand_name_count\n",
      "name_len\n",
      "des_len\n",
      "desc_word_count\n",
      "name_word_count\n",
      "desc_letters_per_word\n",
      "name_letters_per_word\n",
      "brand_mean_price\n",
      "gencat_mean_price\n",
      "subcat1_mean_price\n",
      "subcat2_mean_price\n",
      "condition_mean_price\n",
      "brand_median_price\n",
      "gencat_median_price\n",
      "subcat1_median_price\n",
      "subcat2_median_price\n",
      "condition_median_price\n",
      "gencat_name_count\n",
      "subcat1_name_count\n",
      "subcat2_name_count\n",
      "brand_name_count\n",
      "name_len\n",
      "des_len\n",
      "desc_word_count\n",
      "name_word_count\n",
      "desc_letters_per_word\n",
      "name_letters_per_word\n",
      "brand_mean_price\n",
      "gencat_mean_price\n",
      "subcat1_mean_price\n",
      "subcat2_mean_price\n",
      "condition_mean_price\n",
      "brand_median_price\n",
      "gencat_median_price\n",
      "subcat1_median_price\n",
      "subcat2_median_price\n",
      "condition_median_price\n",
      "gencat_name_count\n",
      "subcat1_name_count\n",
      "subcat2_name_count\n",
      "brand_name_count\n"
     ]
    }
   ],
   "source": [
    "train_normalized = normalize(train_df)\n",
    "cv_normalized = normalize(cv_df)\n",
    "test_normalized = normalize(test)"
   ]
  },
  {
   "cell_type": "code",
   "execution_count": null,
   "metadata": {
    "colab": {
     "base_uri": "https://localhost:8080/",
     "height": 131
    },
    "executionInfo": {
     "elapsed": 529353,
     "status": "ok",
     "timestamp": 1608091039686,
     "user": {
      "displayName": "Pratik Pawar",
      "photoUrl": "",
      "userId": "07854545271556537314"
     },
     "user_tz": -330
    },
    "id": "IHCFiTF4uL8w",
    "outputId": "0d77f10f-13b2-49aa-b04a-5fbdd754b7af"
   },
   "outputs": [
    {
     "data": {
      "text/html": [
       "<div>\n",
       "<style scoped>\n",
       "    .dataframe tbody tr th:only-of-type {\n",
       "        vertical-align: middle;\n",
       "    }\n",
       "\n",
       "    .dataframe tbody tr th {\n",
       "        vertical-align: top;\n",
       "    }\n",
       "\n",
       "    .dataframe thead th {\n",
       "        text-align: right;\n",
       "    }\n",
       "</style>\n",
       "<table border=\"1\" class=\"dataframe\">\n",
       "  <thead>\n",
       "    <tr style=\"text-align: right;\">\n",
       "      <th></th>\n",
       "      <th>name_word_count</th>\n",
       "      <th>name_letters_per_word</th>\n",
       "      <th>gencat_mean_price</th>\n",
       "      <th>subcat1_mean_price</th>\n",
       "      <th>name_len</th>\n",
       "      <th>brand_mean_price</th>\n",
       "      <th>condition_mean_price</th>\n",
       "      <th>gencat_median_price</th>\n",
       "      <th>subcat2_mean_price</th>\n",
       "      <th>brand_name_count</th>\n",
       "      <th>subcat2_median_price</th>\n",
       "      <th>subcat1_median_price</th>\n",
       "      <th>desc_word_count</th>\n",
       "      <th>gencat_name_count</th>\n",
       "      <th>subcat1_name_count</th>\n",
       "      <th>subcat2_name_count</th>\n",
       "      <th>brand_median_price</th>\n",
       "      <th>condition_median_price</th>\n",
       "      <th>desc_letters_per_word</th>\n",
       "      <th>des_len</th>\n",
       "    </tr>\n",
       "  </thead>\n",
       "  <tbody>\n",
       "    <tr>\n",
       "      <th>268131</th>\n",
       "      <td>0.461538</td>\n",
       "      <td>0.106227</td>\n",
       "      <td>0.103814</td>\n",
       "      <td>0.116826</td>\n",
       "      <td>0.833333</td>\n",
       "      <td>0.028220</td>\n",
       "      <td>0.279897</td>\n",
       "      <td>0.333333</td>\n",
       "      <td>0.101357</td>\n",
       "      <td>1.000000</td>\n",
       "      <td>0.113725</td>\n",
       "      <td>0.264706</td>\n",
       "      <td>0.028689</td>\n",
       "      <td>0.307329</td>\n",
       "      <td>0.058083</td>\n",
       "      <td>0.00802</td>\n",
       "      <td>0.017121</td>\n",
       "      <td>0.75</td>\n",
       "      <td>0.025000</td>\n",
       "      <td>0.057416</td>\n",
       "    </tr>\n",
       "    <tr>\n",
       "      <th>971433</th>\n",
       "      <td>0.384615</td>\n",
       "      <td>0.145299</td>\n",
       "      <td>0.638601</td>\n",
       "      <td>0.620983</td>\n",
       "      <td>0.928571</td>\n",
       "      <td>0.031099</td>\n",
       "      <td>0.279897</td>\n",
       "      <td>0.777778</td>\n",
       "      <td>0.077406</td>\n",
       "      <td>0.006383</td>\n",
       "      <td>0.074510</td>\n",
       "      <td>0.735294</td>\n",
       "      <td>0.069672</td>\n",
       "      <td>1.000000</td>\n",
       "      <td>0.341223</td>\n",
       "      <td>0.06409</td>\n",
       "      <td>0.024903</td>\n",
       "      <td>0.75</td>\n",
       "      <td>0.023899</td>\n",
       "      <td>0.125359</td>\n",
       "    </tr>\n",
       "  </tbody>\n",
       "</table>\n",
       "</div>"
      ],
      "text/plain": [
       "        name_word_count  name_letters_per_word  ...  desc_letters_per_word   des_len\n",
       "268131         0.461538               0.106227  ...               0.025000  0.057416\n",
       "971433         0.384615               0.145299  ...               0.023899  0.125359\n",
       "\n",
       "[2 rows x 20 columns]"
      ]
     },
     "execution_count": 74,
     "metadata": {
      "tags": []
     },
     "output_type": "execute_result"
    }
   ],
   "source": [
    "\n",
    "X_tr = train_normalized[list(cols_to_normalize)]\n",
    "X_val = cv_normalized[list(cols_to_normalize)]\n",
    "X_te = test_normalized[list(cols_to_normalize)]\n",
    "\n",
    "X_tr.head(2)"
   ]
  },
  {
   "cell_type": "code",
   "execution_count": null,
   "metadata": {
    "id": "NLKy_bAauL8z"
   },
   "outputs": [],
   "source": [
    "#del train_df, cv_df, test\n",
    "#gc.collect()"
   ]
  },
  {
   "cell_type": "code",
   "execution_count": null,
   "metadata": {
    "colab": {
     "base_uri": "https://localhost:8080/"
    },
    "executionInfo": {
     "elapsed": 531293,
     "status": "ok",
     "timestamp": 1608091041652,
     "user": {
      "displayName": "Pratik Pawar",
      "photoUrl": "",
      "userId": "07854545271556537314"
     },
     "user_tz": -330
    },
    "id": "tVdPLWQUuL8z",
    "outputId": "d50de44e-a076-409e-ea9a-c069b6131711"
   },
   "outputs": [
    {
     "name": "stdout",
     "output_type": "stream",
     "text": [
      "(881245, 9) (155514, 9) (444761, 9)\n"
     ]
    }
   ],
   "source": [
    "from scipy.sparse import csr_matrix\n",
    "\n",
    "X_tr_cat = csr_matrix(pd.get_dummies(train_normalized[['item_condition_id', 'shipping', 'price_in_name']], sparse=True).values)\n",
    "\n",
    "X_cv_cat = csr_matrix(pd.get_dummies(cv_normalized[['item_condition_id', 'shipping', 'price_in_name']], sparse=True).values)\n",
    "\n",
    "X_te_cat = csr_matrix(pd.get_dummies(test_normalized[['item_condition_id', 'shipping', 'price_in_name']], sparse=True).values)\n",
    "\n",
    "print(X_tr_cat.shape, X_cv_cat.shape, X_te_cat.shape)"
   ]
  },
  {
   "cell_type": "code",
   "execution_count": null,
   "metadata": {
    "id": "v71SlY-3uL83"
   },
   "outputs": [],
   "source": [
    "from scipy.sparse import hstack\n",
    "\n",
    "train_sparse = hstack((train_brand_oneHot, train_gencat_oneHot, train_subcat1_oneHot, train_subcat2_oneHot, \\\n",
    "               train_name_tfidf, train_description_tfidf, X_tr_cat)).tocsr()\n",
    "\n",
    "cv_sparse = hstack((cv_brand_oneHot, cv_gencat_oneHot, cv_subcat1_oneHot, cv_subcat2_oneHot, \\\n",
    "               cv_name_tfidf, cv_description_tfidf, X_cv_cat)).tocsr()\n",
    "\n",
    "test_sparse = hstack((test_brand_oneHot, test_gencat_oneHot, test_subcat1_oneHot, test_subcat2_oneHot, \\\n",
    "               test_name_tfidf, test_description_tfidf, X_te_cat)).tocsr()"
   ]
  },
  {
   "cell_type": "code",
   "execution_count": null,
   "metadata": {
    "colab": {
     "base_uri": "https://localhost:8080/"
    },
    "executionInfo": {
     "elapsed": 536800,
     "status": "ok",
     "timestamp": 1608091047185,
     "user": {
      "displayName": "Pratik Pawar",
      "photoUrl": "",
      "userId": "07854545271556537314"
     },
     "user_tz": -330
    },
    "id": "derlpKKNuL85",
    "outputId": "012e0bba-be88-46ea-8b1e-88ea617ee3d5"
   },
   "outputs": [
    {
     "name": "stdout",
     "output_type": "stream",
     "text": [
      "(881245, 755164) (155514, 755164) (444761, 755164)\n"
     ]
    }
   ],
   "source": [
    "print(train_sparse.shape, cv_sparse.shape, test_sparse.shape)"
   ]
  },
  {
   "cell_type": "code",
   "execution_count": null,
   "metadata": {
    "id": "XM64VoxEuL86"
   },
   "outputs": [],
   "source": [
    "X_train = hstack((X_tr.values, train_sparse)).tocsr()\n",
    "\n",
    "X_cv = hstack((X_val.values, cv_sparse)).tocsr()\n",
    "\n",
    "X_test = hstack((X_te.values, test_sparse)).tocsr()"
   ]
  },
  {
   "cell_type": "code",
   "execution_count": null,
   "metadata": {
    "colab": {
     "base_uri": "https://localhost:8080/"
    },
    "executionInfo": {
     "elapsed": 540118,
     "status": "ok",
     "timestamp": 1608091050525,
     "user": {
      "displayName": "Pratik Pawar",
      "photoUrl": "",
      "userId": "07854545271556537314"
     },
     "user_tz": -330
    },
    "id": "WTnqFBeSuL87",
    "outputId": "5339a5f0-5962-455c-87d0-47f82e66e50c"
   },
   "outputs": [
    {
     "name": "stdout",
     "output_type": "stream",
     "text": [
      "Train size: (881245, 755184), CV size: (155514, 755184), Test size: (444761, 755184)\n"
     ]
    }
   ],
   "source": [
    "print('Train size: {}, CV size: {}, Test size: {}' .format(X_train.shape, X_cv.shape, X_test.shape))"
   ]
  },
  {
   "cell_type": "code",
   "execution_count": null,
   "metadata": {
    "colab": {
     "base_uri": "https://localhost:8080/",
     "height": 103
    },
    "executionInfo": {
     "elapsed": 540111,
     "status": "ok",
     "timestamp": 1608091050534,
     "user": {
      "displayName": "Pratik Pawar",
      "photoUrl": "",
      "userId": "07854545271556537314"
     },
     "user_tz": -330
    },
    "id": "cNOcmiJ1uL88",
    "outputId": "b040e8f3-958a-4cce-f85d-e7cb7cd93257"
   },
   "outputs": [
    {
     "data": {
      "application/vnd.google.colaboratory.intrinsic+json": {
       "type": "string"
      },
      "text/plain": [
       "'\\nalpha = [1, 2, 3, 3.5, 4, 4.5, 5, 6, 7] \\ncv_rmsle_array=[] \\nfor i in tqdm(alpha):\\n    model = Ridge(solver=\"sag\", random_state=56, alpha=i)\\n    model.fit(X_train, y_train)\\n    preds_cv = model.predict(X_cv)\\n    cv_rmsle_array.append(sqrt(mse(y_cv, preds_cv)))\\n\\nfor i in range(len(cv_rmsle_array)):\\n    print (\\'RMSLE for alpha = \\',alpha[i],\\'is\\',cv_rmsle_array[i])\\n    \\nbest_alpha = np.argmin(cv_rmsle_array)\\n\\nfig, ax = plt.subplots()\\nax.plot(alpha, cv_rmsle_array)\\nax.scatter(alpha, cv_rmsle_array)\\nfor i, txt in enumerate(np.round(cv_rmsle_array,3)):\\n    ax.annotate((alpha[i],np.round(txt,3)), (alpha[i],cv_rmsle_array[i]))\\n\\nplt.title(\"Cross Validation Error for each alpha\")\\nplt.xlabel(\"Alpha\")\\nplt.ylabel(\"Error\")\\nplt.show()\\n'"
      ]
     },
     "execution_count": 81,
     "metadata": {
      "tags": []
     },
     "output_type": "execute_result"
    }
   ],
   "source": [
    "\"\"\"\n",
    "alpha = [1, 2, 3, 3.5, 4, 4.5, 5, 6, 7] \n",
    "cv_rmsle_array=[] \n",
    "for i in tqdm(alpha):\n",
    "    model = Ridge(solver=\"sag\", random_state=56, alpha=i)\n",
    "    model.fit(X_train, y_train)\n",
    "    preds_cv = model.predict(X_cv)\n",
    "    cv_rmsle_array.append(sqrt(mse(y_cv, preds_cv)))\n",
    "\n",
    "for i in range(len(cv_rmsle_array)):\n",
    "    print ('RMSLE for alpha = ',alpha[i],'is',cv_rmsle_array[i])\n",
    "    \n",
    "best_alpha = np.argmin(cv_rmsle_array)\n",
    "\n",
    "fig, ax = plt.subplots()\n",
    "ax.plot(alpha, cv_rmsle_array)\n",
    "ax.scatter(alpha, cv_rmsle_array)\n",
    "for i, txt in enumerate(np.round(cv_rmsle_array,3)):\n",
    "    ax.annotate((alpha[i],np.round(txt,3)), (alpha[i],cv_rmsle_array[i]))\n",
    "\n",
    "plt.title(\"Cross Validation Error for each alpha\")\n",
    "plt.xlabel(\"Alpha\")\n",
    "plt.ylabel(\"Error\")\n",
    "plt.show()\n",
    "\"\"\""
   ]
  },
  {
   "cell_type": "code",
   "execution_count": null,
   "metadata": {
    "colab": {
     "base_uri": "https://localhost:8080/",
     "height": 69
    },
    "executionInfo": {
     "elapsed": 540086,
     "status": "ok",
     "timestamp": 1608091050535,
     "user": {
      "displayName": "Pratik Pawar",
      "photoUrl": "",
      "userId": "07854545271556537314"
     },
     "user_tz": -330
    },
    "id": "PT3hlkZIuL89",
    "outputId": "e2235eb9-c440-41b3-fc1a-72af0da21f4b"
   },
   "outputs": [
    {
     "data": {
      "application/vnd.google.colaboratory.intrinsic+json": {
       "type": "string"
      },
      "text/plain": [
       "'\\nprint(\"Best alpha: \",  alpha[best_alpha])\\nmodel = Ridge(solver=\"sag\", random_state=56, alpha=alpha[best_alpha])\\nmodel.fit(X_train, y_train)\\nridge_preds_tr = model.predict(X_train)\\nridge_preds_cv = model.predict(X_cv)\\nridge_preds_te = model.predict(X_test)\\n\\nprint(\\'Train RMSLE:\\', sqrt(mse(y_train, ridge_preds_tr)))\\n\\nridge_rmsle = sqrt(mse(y_cv, ridge_preds_cv))\\nprint(\"Cross validation RMSLE: \", ridge_rmsle)\\n'"
      ]
     },
     "execution_count": 82,
     "metadata": {
      "tags": []
     },
     "output_type": "execute_result"
    }
   ],
   "source": [
    "\"\"\"\n",
    "print(\"Best alpha: \",  alpha[best_alpha])\n",
    "model = Ridge(solver=\"sag\", random_state=56, alpha=alpha[best_alpha])\n",
    "model.fit(X_train, y_train)\n",
    "ridge_preds_tr = model.predict(X_train)\n",
    "ridge_preds_cv = model.predict(X_cv)\n",
    "ridge_preds_te = model.predict(X_test)\n",
    "\n",
    "print('Train RMSLE:', sqrt(mse(y_train, ridge_preds_tr)))\n",
    "\n",
    "ridge_rmsle = sqrt(mse(y_cv, ridge_preds_cv))\n",
    "print(\"Cross validation RMSLE: \", ridge_rmsle)\n",
    "\"\"\""
   ]
  },
  {
   "cell_type": "code",
   "execution_count": null,
   "metadata": {
    "colab": {
     "base_uri": "https://localhost:8080/",
     "height": 35
    },
    "executionInfo": {
     "elapsed": 540072,
     "status": "ok",
     "timestamp": 1608091050545,
     "user": {
      "displayName": "Pratik Pawar",
      "photoUrl": "",
      "userId": "07854545271556537314"
     },
     "user_tz": -330
    },
    "id": "dpF4x1jXuL8-",
    "outputId": "4958f61c-cf99-4020-e5f2-3180a2d3ffb6"
   },
   "outputs": [
    {
     "data": {
      "application/vnd.google.colaboratory.intrinsic+json": {
       "type": "string"
      },
      "text/plain": [
       "\"\\nsubmission_df['price'] = np.exp(ridge_preds_te) - 1\\n\\nsubmission_df.to_csv('ridge_submission_colab.csv', index=False)\\n\""
      ]
     },
     "execution_count": 83,
     "metadata": {
      "tags": []
     },
     "output_type": "execute_result"
    }
   ],
   "source": [
    "\"\"\"\n",
    "submission_df['price'] = np.exp(ridge_preds_te) - 1\n",
    "\n",
    "submission_df.to_csv('ridge_submission_colab.csv', index=False)\n",
    "\"\"\""
   ]
  },
  {
   "cell_type": "code",
   "execution_count": null,
   "metadata": {
    "colab": {
     "base_uri": "https://localhost:8080/"
    },
    "executionInfo": {
     "elapsed": 587903,
     "status": "ok",
     "timestamp": 1608091098395,
     "user": {
      "displayName": "Pratik Pawar",
      "photoUrl": "",
      "userId": "07854545271556537314"
     },
     "user_tz": -330
    },
    "id": "z1s_y4NeuL8-",
    "outputId": "4381916c-b4b3-4dcc-cca3-a45c7bfc7b5a"
   },
   "outputs": [
    {
     "name": "stderr",
     "output_type": "stream",
     "text": [
      "/usr/local/lib/python3.6/dist-packages/sklearn/linear_model/_ridge.py:558: UserWarning: \"sag\" solver requires many iterations to fit an intercept with sparse inputs. Either set the solver to \"auto\" or \"sparse_cg\", or set a low \"tol\" and a high \"max_iter\" (especially if inputs are not standardized).\n",
      "  '\"sag\" solver requires many iterations to fit '\n"
     ]
    },
    {
     "name": "stdout",
     "output_type": "stream",
     "text": [
      "Train RMSLE: 0.35721927416013455\n",
      "Cross validation RMSLE:  0.45178128133407347\n"
     ]
    }
   ],
   "source": [
    "#print(\"Best alpha: \",  alpha[best_alpha])\n",
    "model = Ridge(solver=\"sag\", random_state=56, alpha=2.5)\n",
    "model.fit(X_train, y_train)\n",
    "ridge_preds_tr = model.predict(X_train)\n",
    "ridge_preds_cv = model.predict(X_cv)\n",
    "ridge_preds_te = model.predict(X_test)\n",
    "\n",
    "print('Train RMSLE:', sqrt(mse(y_train, ridge_preds_tr)))\n",
    "\n",
    "ridge_rmsle = sqrt(mse(y_cv, ridge_preds_cv))\n",
    "print(\"Cross validation RMSLE: \", ridge_rmsle)"
   ]
  },
  {
   "cell_type": "code",
   "execution_count": null,
   "metadata": {
    "colab": {
     "base_uri": "https://localhost:8080/",
     "height": 204
    },
    "executionInfo": {
     "elapsed": 590426,
     "status": "ok",
     "timestamp": 1608091100939,
     "user": {
      "displayName": "Pratik Pawar",
      "photoUrl": "",
      "userId": "07854545271556537314"
     },
     "user_tz": -330
    },
    "id": "-9iwo4PNuL8_",
    "outputId": "24de21eb-7cf9-4c16-9645-624edb67e12d"
   },
   "outputs": [
    {
     "data": {
      "text/html": [
       "<div>\n",
       "<style scoped>\n",
       "    .dataframe tbody tr th:only-of-type {\n",
       "        vertical-align: middle;\n",
       "    }\n",
       "\n",
       "    .dataframe tbody tr th {\n",
       "        vertical-align: top;\n",
       "    }\n",
       "\n",
       "    .dataframe thead th {\n",
       "        text-align: right;\n",
       "    }\n",
       "</style>\n",
       "<table border=\"1\" class=\"dataframe\">\n",
       "  <thead>\n",
       "    <tr style=\"text-align: right;\">\n",
       "      <th></th>\n",
       "      <th>id</th>\n",
       "      <th>price</th>\n",
       "    </tr>\n",
       "  </thead>\n",
       "  <tbody>\n",
       "    <tr>\n",
       "      <th>0</th>\n",
       "      <td>1048243</td>\n",
       "      <td>41.337689</td>\n",
       "    </tr>\n",
       "    <tr>\n",
       "      <th>1</th>\n",
       "      <td>86986</td>\n",
       "      <td>55.288085</td>\n",
       "    </tr>\n",
       "    <tr>\n",
       "      <th>2</th>\n",
       "      <td>698316</td>\n",
       "      <td>27.954819</td>\n",
       "    </tr>\n",
       "    <tr>\n",
       "      <th>3</th>\n",
       "      <td>268868</td>\n",
       "      <td>20.321576</td>\n",
       "    </tr>\n",
       "    <tr>\n",
       "      <th>4</th>\n",
       "      <td>1360398</td>\n",
       "      <td>32.039812</td>\n",
       "    </tr>\n",
       "  </tbody>\n",
       "</table>\n",
       "</div>"
      ],
      "text/plain": [
       "        id      price\n",
       "0  1048243  41.337689\n",
       "1    86986  55.288085\n",
       "2   698316  27.954819\n",
       "3   268868  20.321576\n",
       "4  1360398  32.039812"
      ]
     },
     "execution_count": 85,
     "metadata": {
      "tags": []
     },
     "output_type": "execute_result"
    }
   ],
   "source": [
    "submission_df['price'] = np.exp(ridge_preds_te) - 1\n",
    "\n",
    "submission_df.to_csv('/content/drive/MyDrive/Colab Notebooks/Mercari/ridge_submission_colab.csv', index=False)\n",
    "submission_df.head()"
   ]
  },
  {
   "cell_type": "markdown",
   "metadata": {
    "id": "cTCp7zqjrwFe"
   },
   "source": [
    "#LGBM"
   ]
  },
  {
   "cell_type": "code",
   "execution_count": null,
   "metadata": {
    "colab": {
     "base_uri": "https://localhost:8080/"
    },
    "executionInfo": {
     "elapsed": 326821,
     "status": "ok",
     "timestamp": 1608094046616,
     "user": {
      "displayName": "Pratik Pawar",
      "photoUrl": "",
      "userId": "07854545271556537314"
     },
     "user_tz": -330
    },
    "id": "BN9p0gjA43GO",
    "outputId": "c94c29a2-8153-42f0-de08-b767109a9c3a"
   },
   "outputs": [
    {
     "data": {
      "text/plain": [
       "LGBMRegressor(boosting_type='gbdt', class_weight=None, colsample_bytree=0.8,\n",
       "              importance_type='split', learning_rate=0.5, max_depth=8,\n",
       "              min_child_samples=50, min_child_weight=0.001, min_split_gain=0.0,\n",
       "              n_estimators=500, n_jobs=-1, num_leaves=80, objective=None,\n",
       "              random_state=None, reg_alpha=0.0, reg_lambda=0.0, silent=True,\n",
       "              sub_sample=0.9, subsample=1.0, subsample_for_bin=200000,\n",
       "              subsample_freq=0)"
      ]
     },
     "execution_count": 108,
     "metadata": {
      "tags": []
     },
     "output_type": "execute_result"
    }
   ],
   "source": [
    "from lightgbm import LGBMRegressor\n",
    "#params={'learning_rate':[0.1],'max_depth':[15],'n_estimators':[200],'num_leaves':[75],'boosting_type':['gbdt']}\n",
    "lgbm_regressor=LGBMRegressor(learning_rate=0.5,max_depth=8,n_estimators=500,num_leaves=80,boosting_type='gbdt',sub_sample=0.9,colsample_bytree=0.8,min_child_samples=50)\n",
    "lgbm_regressor.fit(X_train,y_train)"
   ]
  },
  {
   "cell_type": "code",
   "execution_count": null,
   "metadata": {
    "colab": {
     "base_uri": "https://localhost:8080/"
    },
    "executionInfo": {
     "elapsed": 23125,
     "status": "ok",
     "timestamp": 1608094069775,
     "user": {
      "displayName": "Pratik Pawar",
      "photoUrl": "",
      "userId": "07854545271556537314"
     },
     "user_tz": -330
    },
    "id": "ozvg2yLj5Dmt",
    "outputId": "5a72f3ce-4ce2-4931-8965-721afcb9e877"
   },
   "outputs": [
    {
     "name": "stdout",
     "output_type": "stream",
     "text": [
      "RMSLE of train is 0.3135858326846219 RMSLE of test is 0.4564597711769631\n"
     ]
    }
   ],
   "source": [
    "ytrain_predict=lgbm_regressor.predict(X_train)\n",
    "ycv_predict=lgbm_regressor.predict(X_cv)\n",
    "training = np.sqrt(mse(y_train, ytrain_predict))\n",
    "cving=np.sqrt(mse(y_cv, ycv_predict))\n",
    "print(\"RMSLE of train is {} RMSLE of test is {}\".format(training,cving))"
   ]
  },
  {
   "cell_type": "code",
   "execution_count": null,
   "metadata": {
    "id": "V8tbF7yA6aGt"
   },
   "outputs": [],
   "source": [
    "ytest_lgbm=lgbm_regressor.predict(X_test)"
   ]
  },
  {
   "cell_type": "code",
   "execution_count": null,
   "metadata": {
    "id": "aVaEThOI8bEo"
   },
   "outputs": [],
   "source": [
    "submission_df['price'] = np.exp(ytest_lgbm) - 1\n",
    "\n",
    "submission_df.to_csv('/content/drive/MyDrive/Colab Notebooks/Mercari/lgbm_submission_colab.csv', index=False)"
   ]
  },
  {
   "cell_type": "code",
   "execution_count": null,
   "metadata": {
    "id": "SBKgyDn_uL9A"
   },
   "outputs": [],
   "source": [
    "  # import scipy\n",
    "  # scipy.sparse.save_npz(\"cv_final.npz\", X_cv)\n",
    "  # np.save('y_cv', y_cv)"
   ]
  },
  {
   "cell_type": "code",
   "execution_count": null,
   "metadata": {
    "id": "eGtbVNR8uL9B"
   },
   "outputs": [],
   "source": [
    "  # scipy.sparse.save_npz(\"train_final.npz\", X_train)\n",
    "  # np.save('y_train', y_train)"
   ]
  },
  {
   "cell_type": "code",
   "execution_count": null,
   "metadata": {
    "id": "azHgMX0buL9B"
   },
   "outputs": [],
   "source": [
    "# scipy.sparse.save_npz(\"test_final.npz\", X_test)"
   ]
  },
  {
   "cell_type": "code",
   "execution_count": null,
   "metadata": {
    "id": "GOEQUl9SuL9C"
   },
   "outputs": [],
   "source": [
    "\"\"\"\"\n",
    "X_train_saved = scipy.sparse.load_npz(\"train_final.npz\")\n",
    "y_train_saved = np.load('y_train.npy')\n",
    "\n",
    "X_cv_saved = scipy.sparse.load_npz(\"cv_final.npz\")\n",
    "y_cv_saved = np.load('y_cv.npy')\n",
    "\n",
    "X_test_saved = scipy.sparse.load_npz(\"test_final.npz\")\n",
    "X_train_saved.shape, y_train_saved.shape, X_cv_saved.shape, y_cv_saved.shape, X_test_saved.shape \n",
    "\"\"\""
   ]
  },
  {
   "cell_type": "code",
   "execution_count": null,
   "metadata": {
    "id": "SOc1A9H3uL9D"
   },
   "outputs": [],
   "source": [
    "# np.save('ridge_preds_tr', ridge_preds_tr)\n",
    "# np.save('ridge_preds_cv', ridge_preds_cv)\n",
    "# np.save('ridge_preds_te', ridge_preds_te)\n",
    "# np.save('train_sparse',train_sparse) \n",
    "# np.save('cv_sparse', cv_sparse)\n",
    "# np.save('test_sparse',test_sparse)"
   ]
  },
  {
   "cell_type": "code",
   "execution_count": null,
   "metadata": {
    "id": "yfqzCScEuL9E"
   },
   "outputs": [],
   "source": [
    "# from lightgbm import LGBMRegressor\n",
    "# lgbm_regressor=LGBMRegressor(learning_rate=0.4,max_depth=10,n_estimators=500,num_leaves=100,boosting_type='gbdt',colsample_bytree=0.8,min_child_samples=50)\n",
    "# lgbm_regressor.fit(X_train,y_train)"
   ]
  },
  {
   "cell_type": "code",
   "execution_count": null,
   "metadata": {
    "id": "0Hx-VZ5Z1GOQ"
   },
   "outputs": [],
   "source": [
    "# ytrain_predict_lgbm=lgbm_regressor.predict(X_train)\n",
    "# ycv_predict_lgbm=lgbm_regressor.predict(X_cv)\n",
    "# training = np.sqrt(mean_squared_error(y_train, ytrain_predict_lgbm))\n",
    "# cving=np.sqrt(mean_squared_error(y_cv,ycv_predict_lgbm))\n",
    "# print(\"RMSLE of train is {} RMSLE of test is {}\".format(training,cving))\n",
    "# ytest_lgbm=lgbm_regressor.predict(X_test)"
   ]
  },
  {
   "cell_type": "code",
   "execution_count": null,
   "metadata": {
    "id": "F_UZVQLF1iM8"
   },
   "outputs": [],
   "source": [
    "# submission_df['price'] = np.exp(ytest_lgbm) - 1\n",
    "# submission_df.to_csv('lgbm_submission_colab.csv', index=False)"
   ]
  },
  {
   "cell_type": "markdown",
   "metadata": {
    "id": "QJmDxIbBrn8m"
   },
   "source": [
    "#SVR"
   ]
  },
  {
   "cell_type": "code",
   "execution_count": null,
   "metadata": {
    "id": "iqxAxLLedWQu"
   },
   "outputs": [],
   "source": [
    "from sklearn.naive_bayes import MultinomialNB\n",
    "\n",
    "model = MultinomialNB(alpha=0.01)\n",
    "model.fit(X_train, y_train>= 4)\n",
    "\n",
    "mnb_preds_tr = model.predict_proba(X_train)[:, 1]\n",
    "mnb_preds_cv = model.predict_proba(X_cv)[:, 1]\n",
    "mnb_preds_te = model.predict_proba(X_test)[:, 1]\n"
   ]
  },
  {
   "cell_type": "code",
   "execution_count": null,
   "metadata": {
    "colab": {
     "base_uri": "https://localhost:8080/"
    },
    "executionInfo": {
     "elapsed": 7400,
     "status": "ok",
     "timestamp": 1608091146445,
     "user": {
      "displayName": "Pratik Pawar",
      "photoUrl": "",
      "userId": "07854545271556537314"
     },
     "user_tz": -330
    },
    "id": "4fbA_FETc1AH",
    "outputId": "5f49b885-210b-4547-9a79-dcbfc2779af8"
   },
   "outputs": [
    {
     "name": "stderr",
     "output_type": "stream",
     "text": [
      "/usr/local/lib/python3.6/dist-packages/sklearn/utils/deprecation.py:144: FutureWarning: The sklearn.feature_selection.univariate_selection module is  deprecated in version 0.22 and will be removed in version 0.24. The corresponding classes / functions should instead be imported from sklearn.feature_selection. Anything that cannot be imported from sklearn.feature_selection is now part of the private API.\n",
      "  warnings.warn(message, FutureWarning)\n"
     ]
    }
   ],
   "source": [
    "from sklearn.feature_selection.univariate_selection import SelectKBest, f_regression\n",
    "\n",
    "fselect = SelectKBest(f_regression, k=48000)\n",
    "train_features = fselect.fit_transform(train_sparse, y_train)\n",
    "\n",
    "cv_features = fselect.transform(cv_sparse)\n",
    "test_features = fselect.transform(test_sparse)"
   ]
  },
  {
   "cell_type": "code",
   "execution_count": null,
   "metadata": {
    "colab": {
     "base_uri": "https://localhost:8080/"
    },
    "executionInfo": {
     "elapsed": 5378,
     "status": "ok",
     "timestamp": 1608091151846,
     "user": {
      "displayName": "Pratik Pawar",
      "photoUrl": "",
      "userId": "07854545271556537314"
     },
     "user_tz": -330
    },
    "id": "oo70efwAc3_x",
    "outputId": "0b0e6fa4-815a-4cad-c176-44a913273de5"
   },
   "outputs": [
    {
     "name": "stdout",
     "output_type": "stream",
     "text": [
      "Train size: (881245, 48022), CV size: (155514, 48022), Test size: (444761, 48022)\n"
     ]
    }
   ],
   "source": [
    "# stack feature matrix with Ridge, MNB model predictions, engineered features\n",
    "X_train = hstack((X_tr.values, ridge_preds_tr.reshape(-1,1), mnb_preds_tr.reshape(-1,1), train_features)).tocsr()\n",
    "\n",
    "X_cv = hstack((X_val.values, ridge_preds_cv.reshape(-1,1), mnb_preds_cv.reshape(-1,1), cv_features)).tocsr()\n",
    "\n",
    "X_test = hstack((X_te.values, ridge_preds_te.reshape(-1,1), mnb_preds_te.reshape(-1,1), test_features)).tocsr()\n",
    "\n",
    "print('Train size: {}, CV size: {}, Test size: {}' .format(X_train.shape, X_cv.shape, X_test.shape))"
   ]
  },
  {
   "cell_type": "code",
   "execution_count": null,
   "metadata": {
    "colab": {
     "base_uri": "https://localhost:8080/",
     "height": 627
    },
    "executionInfo": {
     "elapsed": 817368,
     "status": "ok",
     "timestamp": 1608091965349,
     "user": {
      "displayName": "Pratik Pawar",
      "photoUrl": "",
      "userId": "07854545271556537314"
     },
     "user_tz": -330
    },
    "id": "hcIn6h4mgaR9",
    "outputId": "ec666cda-8bb9-45f5-e674-d7023fe29164"
   },
   "outputs": [
    {
     "name": "stderr",
     "output_type": "stream",
     "text": [
      "/usr/local/lib/python3.6/dist-packages/sklearn/svm/_base.py:231: ConvergenceWarning: Solver terminated early (max_iter=200).  Consider pre-processing your data with StandardScaler or MinMaxScaler.\n",
      "  % self.max_iter, ConvergenceWarning)\n"
     ]
    },
    {
     "name": "stdout",
     "output_type": "stream",
     "text": [
      "RMSLE for C= 0.1 is 0.5737181389065168\n"
     ]
    },
    {
     "name": "stderr",
     "output_type": "stream",
     "text": [
      "/usr/local/lib/python3.6/dist-packages/sklearn/svm/_base.py:231: ConvergenceWarning: Solver terminated early (max_iter=200).  Consider pre-processing your data with StandardScaler or MinMaxScaler.\n",
      "  % self.max_iter, ConvergenceWarning)\n"
     ]
    },
    {
     "name": "stdout",
     "output_type": "stream",
     "text": [
      "RMSLE for C= 0.15 is 0.47003439294692445\n"
     ]
    },
    {
     "name": "stderr",
     "output_type": "stream",
     "text": [
      "/usr/local/lib/python3.6/dist-packages/sklearn/svm/_base.py:231: ConvergenceWarning: Solver terminated early (max_iter=200).  Consider pre-processing your data with StandardScaler or MinMaxScaler.\n",
      "  % self.max_iter, ConvergenceWarning)\n"
     ]
    },
    {
     "name": "stdout",
     "output_type": "stream",
     "text": [
      "RMSLE for C= 0.2 is 0.44882552392886793\n"
     ]
    },
    {
     "name": "stderr",
     "output_type": "stream",
     "text": [
      "/usr/local/lib/python3.6/dist-packages/sklearn/svm/_base.py:231: ConvergenceWarning: Solver terminated early (max_iter=200).  Consider pre-processing your data with StandardScaler or MinMaxScaler.\n",
      "  % self.max_iter, ConvergenceWarning)\n"
     ]
    },
    {
     "name": "stdout",
     "output_type": "stream",
     "text": [
      "RMSLE for C= 0.25 is 0.4847776931409227\n"
     ]
    },
    {
     "name": "stderr",
     "output_type": "stream",
     "text": [
      "/usr/local/lib/python3.6/dist-packages/sklearn/svm/_base.py:231: ConvergenceWarning: Solver terminated early (max_iter=200).  Consider pre-processing your data with StandardScaler or MinMaxScaler.\n",
      "  % self.max_iter, ConvergenceWarning)\n"
     ]
    },
    {
     "name": "stdout",
     "output_type": "stream",
     "text": [
      "RMSLE for C= 0.3 is 0.518932636299766\n"
     ]
    },
    {
     "name": "stderr",
     "output_type": "stream",
     "text": [
      "/usr/local/lib/python3.6/dist-packages/sklearn/svm/_base.py:231: ConvergenceWarning: Solver terminated early (max_iter=200).  Consider pre-processing your data with StandardScaler or MinMaxScaler.\n",
      "  % self.max_iter, ConvergenceWarning)\n"
     ]
    },
    {
     "name": "stdout",
     "output_type": "stream",
     "text": [
      "RMSLE for C= 0.4 is 0.6268182006518784\n"
     ]
    },
    {
     "data": {
      "image/png": "[encoded data removed]",
      "text/plain": [
       "<Figure size 432x288 with 1 Axes>"
      ]
     },
     "metadata": {
      "tags": []
     },
     "output_type": "display_data"
    }
   ],
   "source": [
    "from sklearn.svm import SVR\n",
    "c_param = [0.1, 0.15, 0.2, 0.25, 0.3, 0.4]\n",
    "cv_rmsle_array=[]\n",
    "\n",
    "for i in c_param:\n",
    "    model = SVR(C=i, max_iter=200)\n",
    "    model.fit(X_train, y_train)\n",
    "    preds_cv = model.predict(X_cv)\n",
    "    cv_err = sqrt(mse(y_cv, preds_cv))\n",
    "    cv_rmsle_array.append(cv_err)\n",
    "\n",
    "    print('RMSLE for C=',i, 'is', cv_err)\n",
    "\n",
    "best_C = np.argmin(cv_rmsle_array)\n",
    "\n",
    "fig, ax = plt.subplots()\n",
    "ax.plot(c_param, cv_rmsle_array)\n",
    "ax.scatter(c_param, cv_rmsle_array)\n",
    "for i, txt in enumerate(np.round(cv_rmsle_array,3)):\n",
    "    ax.annotate((c_param[i],np.round(txt,3)), (c_param[i],cv_rmsle_array[i]))\n",
    "plt.title(\"Cross Validation Error for each C\")\n",
    "plt.xlabel(\"C\")\n",
    "plt.ylabel(\"Error\")\n",
    "plt.show()"
   ]
  },
  {
   "cell_type": "code",
   "execution_count": null,
   "metadata": {
    "colab": {
     "base_uri": "https://localhost:8080/"
    },
    "executionInfo": {
     "elapsed": 122334,
     "status": "ok",
     "timestamp": 1608092087745,
     "user": {
      "displayName": "Pratik Pawar",
      "photoUrl": "",
      "userId": "07854545271556537314"
     },
     "user_tz": -330
    },
    "id": "lpR3TunndIw9",
    "outputId": "ac31e832-e052-48d3-b3ca-1ea6af8813d4"
   },
   "outputs": [
    {
     "name": "stdout",
     "output_type": "stream",
     "text": [
      "Best C:  0.2\n"
     ]
    },
    {
     "name": "stderr",
     "output_type": "stream",
     "text": [
      "/usr/local/lib/python3.6/dist-packages/sklearn/svm/_base.py:231: ConvergenceWarning: Solver terminated early (max_iter=200).  Consider pre-processing your data with StandardScaler or MinMaxScaler.\n",
      "  % self.max_iter, ConvergenceWarning)\n"
     ]
    },
    {
     "data": {
      "text/plain": [
       "SVR(C=0.2, cache_size=200, coef0=0.0, degree=3, epsilon=0.1, gamma='scale',\n",
       "    kernel='rbf', max_iter=200, shrinking=True, tol=0.001, verbose=False)"
      ]
     },
     "execution_count": 90,
     "metadata": {
      "tags": []
     },
     "output_type": "execute_result"
    }
   ],
   "source": [
    "from sklearn.svm import SVR\n",
    "best_C = c_param[best_C]\n",
    "print('Best C: ', best_C)\n",
    "model = SVR(C=best_C, max_iter=200)\n",
    "model.fit(X_train, y_train)"
   ]
  },
  {
   "cell_type": "code",
   "execution_count": null,
   "metadata": {
    "colab": {
     "base_uri": "https://localhost:8080/"
    },
    "executionInfo": {
     "elapsed": 237289,
     "status": "ok",
     "timestamp": 1608092202720,
     "user": {
      "displayName": "Pratik Pawar",
      "photoUrl": "",
      "userId": "07854545271556537314"
     },
     "user_tz": -330
    },
    "id": "9I29hshheGH_",
    "outputId": "83a04990-566e-4952-bb3b-e3d817dfd16c"
   },
   "outputs": [
    {
     "name": "stdout",
     "output_type": "stream",
     "text": [
      "Train RMSLE: 0.4085402597404695\n",
      "Cross validation RMSLE:  0.44882552392886793\n"
     ]
    }
   ],
   "source": [
    "svr_preds_tr = model.predict(X_train)\n",
    "svr_preds_cv = model.predict(X_cv)\n",
    "print('Train RMSLE:', sqrt(mse(y_train, svr_preds_tr)))\n",
    "\n",
    "svr_rmsle = sqrt(mse(y_cv, svr_preds_cv))\n",
    "print(\"Cross validation RMSLE: \", svr_rmsle)"
   ]
  },
  {
   "cell_type": "code",
   "execution_count": null,
   "metadata": {
    "colab": {
     "base_uri": "https://localhost:8080/",
     "height": 204
    },
    "executionInfo": {
     "elapsed": 289667,
     "status": "ok",
     "timestamp": 1608092255121,
     "user": {
      "displayName": "Pratik Pawar",
      "photoUrl": "",
      "userId": "07854545271556537314"
     },
     "user_tz": -330
    },
    "id": "9Pa8hHfDnosk",
    "outputId": "be5e3876-8d38-4939-eb07-da766fd15b22"
   },
   "outputs": [
    {
     "data": {
      "text/html": [
       "<div>\n",
       "<style scoped>\n",
       "    .dataframe tbody tr th:only-of-type {\n",
       "        vertical-align: middle;\n",
       "    }\n",
       "\n",
       "    .dataframe tbody tr th {\n",
       "        vertical-align: top;\n",
       "    }\n",
       "\n",
       "    .dataframe thead th {\n",
       "        text-align: right;\n",
       "    }\n",
       "</style>\n",
       "<table border=\"1\" class=\"dataframe\">\n",
       "  <thead>\n",
       "    <tr style=\"text-align: right;\">\n",
       "      <th></th>\n",
       "      <th>id</th>\n",
       "      <th>price</th>\n",
       "    </tr>\n",
       "  </thead>\n",
       "  <tbody>\n",
       "    <tr>\n",
       "      <th>0</th>\n",
       "      <td>1048243</td>\n",
       "      <td>34.453731</td>\n",
       "    </tr>\n",
       "    <tr>\n",
       "      <th>1</th>\n",
       "      <td>86986</td>\n",
       "      <td>47.294192</td>\n",
       "    </tr>\n",
       "    <tr>\n",
       "      <th>2</th>\n",
       "      <td>698316</td>\n",
       "      <td>20.431827</td>\n",
       "    </tr>\n",
       "    <tr>\n",
       "      <th>3</th>\n",
       "      <td>268868</td>\n",
       "      <td>14.767620</td>\n",
       "    </tr>\n",
       "    <tr>\n",
       "      <th>4</th>\n",
       "      <td>1360398</td>\n",
       "      <td>27.204126</td>\n",
       "    </tr>\n",
       "  </tbody>\n",
       "</table>\n",
       "</div>"
      ],
      "text/plain": [
       "        id      price\n",
       "0  1048243  34.453731\n",
       "1    86986  47.294192\n",
       "2   698316  20.431827\n",
       "3   268868  14.767620\n",
       "4  1360398  27.204126"
      ]
     },
     "execution_count": 92,
     "metadata": {
      "tags": []
     },
     "output_type": "execute_result"
    }
   ],
   "source": [
    "submission_df_svr = pd.DataFrame(test['id'])\n",
    "svr_preds_te = model.predict(X_test)\n",
    "submission_df_svr['price'] = np.exp(svr_preds_te) - 1\n",
    "submission_df_svr.to_csv('/content/drive/MyDrive/Colab Notebooks/Mercari/svr_submission_colab.csv', index=False)\n",
    "submission_df_svr.head()"
   ]
  },
  {
   "cell_type": "markdown",
   "metadata": {
    "id": "PCOgfyuHCb82"
   },
   "source": [
    "#Stacking"
   ]
  },
  {
   "cell_type": "code",
   "execution_count": null,
   "metadata": {
    "colab": {
     "base_uri": "https://localhost:8080/"
    },
    "executionInfo": {
     "elapsed": 1220,
     "status": "ok",
     "timestamp": 1608092315192,
     "user": {
      "displayName": "Pratik Pawar",
      "photoUrl": "",
      "userId": "07854545271556537314"
     },
     "user_tz": -330
    },
    "id": "QC_SMSifouhk",
    "outputId": "d98f3df9-03fe-4c50-c701-d648e17ae62a"
   },
   "outputs": [
    {
     "data": {
      "text/plain": [
       "(881245,)"
      ]
     },
     "execution_count": 93,
     "metadata": {
      "tags": []
     },
     "output_type": "execute_result"
    }
   ],
   "source": [
    "svr_preds_tr.shape\n",
    "#ridge_preds_tr.shape\n",
    "#ytrain_predict.shape"
   ]
  },
  {
   "cell_type": "code",
   "execution_count": null,
   "metadata": {
    "colab": {
     "base_uri": "https://localhost:8080/"
    },
    "executionInfo": {
     "elapsed": 1085,
     "status": "ok",
     "timestamp": 1608094085251,
     "user": {
      "displayName": "Pratik Pawar",
      "photoUrl": "",
      "userId": "07854545271556537314"
     },
     "user_tz": -330
    },
    "id": "KDsr5WbSr8MD",
    "outputId": "9c1e9bba-b02b-497e-f317-30e446ae6833"
   },
   "outputs": [
    {
     "data": {
      "text/plain": [
       "(881245, 3)"
      ]
     },
     "execution_count": 111,
     "metadata": {
      "tags": []
     },
     "output_type": "execute_result"
    }
   ],
   "source": [
    "stack_train = np.vstack((svr_preds_tr, ridge_preds_tr, ytrain_predict)).T\n",
    "#stack_cv = np.vstack((svr_preds_cv, ridge_preds_cv)).T\n",
    "stack_train.shape"
   ]
  },
  {
   "cell_type": "code",
   "execution_count": null,
   "metadata": {
    "colab": {
     "base_uri": "https://localhost:8080/",
     "height": 471
    },
    "executionInfo": {
     "elapsed": 39088,
     "status": "ok",
     "timestamp": 1608026556318,
     "user": {
      "displayName": "Pratik Pawar",
      "photoUrl": "",
      "userId": "07854545271556537314"
     },
     "user_tz": -330
    },
    "id": "ELt1wQqZzacB",
    "outputId": "13a9c74f-9c4f-4edc-e099-a732152285d0"
   },
   "outputs": [
    {
     "name": "stderr",
     "output_type": "stream",
     "text": [
      "100%|██████████| 9/9 [00:37<00:00,  4.16s/it]\n"
     ]
    },
    {
     "name": "stdout",
     "output_type": "stream",
     "text": [
      "RMSLE for alpha =  0.1 is 0.466710889555796\n",
      "RMSLE for alpha =  0.2 is 0.46670933043981516\n",
      "RMSLE for alpha =  0.3 is 0.46670777762630933\n",
      "RMSLE for alpha =  0.6 is 0.4667031568939682\n",
      "RMSLE for alpha =  1 is 0.4666970834624375\n",
      "RMSLE for alpha =  1.5 is 0.4666896311694426\n",
      "RMSLE for alpha =  2 is 0.46668233210445537\n",
      "RMSLE for alpha =  2.5 is 0.4666751841498357\n",
      "RMSLE for alpha =  3 is 0.46666818498502594\n"
     ]
    },
    {
     "data": {
      "image/png": "[encoded data removed]",
      "text/plain": [
       "<Figure size 432x288 with 1 Axes>"
      ]
     },
     "metadata": {
      "tags": []
     },
     "output_type": "display_data"
    }
   ],
   "source": [
    "\"\"\"#alpha = [1, 2, 3, 3.5, 4, 4.5, 5, 6, 7, 10, 15, 20, 25, 30, 35, 40]\n",
    "alpha = [0.1, 0.2, 0.3, 0.6, 1, 1.5, 2, 2.5, 3] \n",
    "cv_rmsle_array=[] \n",
    "for i in tqdm(alpha):\n",
    "    model = Ridge(solver=\"sag\", random_state=56, alpha=i)\n",
    "    model.fit(stack_train, y_train)\n",
    "    preds_cv = model.predict(stack_cv)\n",
    "    cv_rmsle_array.append(sqrt(mse(y_cv, preds_cv)))\n",
    "\n",
    "for i in range(len(cv_rmsle_array)):\n",
    "    print ('RMSLE for alpha = ',alpha[i],'is',cv_rmsle_array[i])\n",
    "    \n",
    "best_alpha = np.argmin(cv_rmsle_array)\n",
    "\n",
    "fig, ax = plt.subplots()\n",
    "ax.plot(alpha, cv_rmsle_array)\n",
    "ax.scatter(alpha, cv_rmsle_array)\n",
    "for i, txt in enumerate(np.round(cv_rmsle_array,3)):\n",
    "    ax.annotate((alpha[i],np.round(txt,3)), (alpha[i],cv_rmsle_array[i]))\n",
    "\n",
    "plt.title(\"Cross Validation Error for each alpha\")\n",
    "plt.xlabel(\"Alpha\")\n",
    "plt.ylabel(\"Error\")\n",
    "plt.show()\"\"\""
   ]
  },
  {
   "cell_type": "code",
   "execution_count": null,
   "metadata": {
    "colab": {
     "base_uri": "https://localhost:8080/"
    },
    "executionInfo": {
     "elapsed": 5376,
     "status": "ok",
     "timestamp": 1608026779472,
     "user": {
      "displayName": "Pratik Pawar",
      "photoUrl": "",
      "userId": "07854545271556537314"
     },
     "user_tz": -330
    },
    "id": "YDCCs_aL0wH3",
    "outputId": "bd544d6e-d8ef-4cc4-d75f-4718160b4745"
   },
   "outputs": [
    {
     "name": "stdout",
     "output_type": "stream",
     "text": [
      "Best alpha:  3\n",
      "Train RMSLE: 0.3109913312579536\n",
      "Cross validation RMSLE:  0.46666818498502594\n"
     ]
    }
   ],
   "source": [
    "\"\"\"test_stack_train = np.vstack((svr_preds_te, ridge_preds_te, ytest_lgbm)).T\n",
    "print(\"Best alpha: \",  alpha[best_alpha])\n",
    "model = Ridge(solver=\"sag\", random_state=56, alpha=alpha[best_alpha])\n",
    "model.fit(stack_train, y_train)\n",
    "\n",
    "stack_train_predict = model.predict(stack_train)\n",
    "stack_cv_predict = model.predict(stack_cv)\n",
    "stack_test_predict = model.predict(test_stack_train)\n",
    "\n",
    "print('Train RMSLE:', sqrt(mse(y_train, stack_train_predict)))\n",
    "\n",
    "ridge_rmsle = sqrt(mse(y_cv, stack_cv_predict))\n",
    "print(\"Cross validation RMSLE: \", ridge_rmsle)\"\"\""
   ]
  },
  {
   "cell_type": "code",
   "execution_count": null,
   "metadata": {
    "colab": {
     "base_uri": "https://localhost:8080/"
    },
    "executionInfo": {
     "elapsed": 1309,
     "status": "ok",
     "timestamp": 1608094094454,
     "user": {
      "displayName": "Pratik Pawar",
      "photoUrl": "",
      "userId": "07854545271556537314"
     },
     "user_tz": -330
    },
    "id": "wr6hkPCmBw-e",
    "outputId": "86947078-ed77-4f3a-b3b3-f090f1504c27"
   },
   "outputs": [
    {
     "data": {
      "text/plain": [
       "LinearRegression(copy_X=True, fit_intercept=True, n_jobs=None, normalize=False)"
      ]
     },
     "execution_count": 112,
     "metadata": {
      "tags": []
     },
     "output_type": "execute_result"
    }
   ],
   "source": [
    "from sklearn.linear_model import LinearRegression\n",
    "lr = LinearRegression()\n",
    "lr.fit(stack_train,y_train)"
   ]
  },
  {
   "cell_type": "code",
   "execution_count": null,
   "metadata": {
    "id": "JOPzcHfqBwzu"
   },
   "outputs": [],
   "source": [
    "test_stack_train = np.vstack((svr_preds_te, ridge_preds_te, ytest_lgbm)).T\n",
    "stack_predict = lr.predict(test_stack_train)"
   ]
  },
  {
   "cell_type": "code",
   "execution_count": null,
   "metadata": {
    "colab": {
     "base_uri": "https://localhost:8080/",
     "height": 204
    },
    "executionInfo": {
     "elapsed": 2203,
     "status": "ok",
     "timestamp": 1608094118061,
     "user": {
      "displayName": "Pratik Pawar",
      "photoUrl": "",
      "userId": "07854545271556537314"
     },
     "user_tz": -330
    },
    "id": "wAZxlGRZwFPF",
    "outputId": "5a4081a5-2608-42ed-ec34-cd0bb9bd10dd"
   },
   "outputs": [
    {
     "data": {
      "text/html": [
       "<div>\n",
       "<style scoped>\n",
       "    .dataframe tbody tr th:only-of-type {\n",
       "        vertical-align: middle;\n",
       "    }\n",
       "\n",
       "    .dataframe tbody tr th {\n",
       "        vertical-align: top;\n",
       "    }\n",
       "\n",
       "    .dataframe thead th {\n",
       "        text-align: right;\n",
       "    }\n",
       "</style>\n",
       "<table border=\"1\" class=\"dataframe\">\n",
       "  <thead>\n",
       "    <tr style=\"text-align: right;\">\n",
       "      <th></th>\n",
       "      <th>id</th>\n",
       "      <th>price</th>\n",
       "    </tr>\n",
       "  </thead>\n",
       "  <tbody>\n",
       "    <tr>\n",
       "      <th>0</th>\n",
       "      <td>1048243</td>\n",
       "      <td>38.397366</td>\n",
       "    </tr>\n",
       "    <tr>\n",
       "      <th>1</th>\n",
       "      <td>86986</td>\n",
       "      <td>57.510533</td>\n",
       "    </tr>\n",
       "    <tr>\n",
       "      <th>2</th>\n",
       "      <td>698316</td>\n",
       "      <td>38.039130</td>\n",
       "    </tr>\n",
       "    <tr>\n",
       "      <th>3</th>\n",
       "      <td>268868</td>\n",
       "      <td>18.774868</td>\n",
       "    </tr>\n",
       "    <tr>\n",
       "      <th>4</th>\n",
       "      <td>1360398</td>\n",
       "      <td>30.867500</td>\n",
       "    </tr>\n",
       "  </tbody>\n",
       "</table>\n",
       "</div>"
      ],
      "text/plain": [
       "        id      price\n",
       "0  1048243  38.397366\n",
       "1    86986  57.510533\n",
       "2   698316  38.039130\n",
       "3   268868  18.774868\n",
       "4  1360398  30.867500"
      ]
     },
     "execution_count": 114,
     "metadata": {
      "tags": []
     },
     "output_type": "execute_result"
    }
   ],
   "source": [
    "submission_df_stack = pd.DataFrame(test['id'])\n",
    "submission_df_stack['price'] = np.exp(stack_predict) - 1 \n",
    "submission_df_stack.to_csv('/content/drive/MyDrive/Colab Notebooks/Mercari/stacking_ridge_svr.csv', index=False)\n",
    "submission_df_stack.head()"
   ]
  },
  {
   "cell_type": "markdown",
   "metadata": {
    "id": "5qkWiZQbrFbi"
   },
   "source": [
    "#Blending"
   ]
  },
  {
   "cell_type": "code",
   "execution_count": 5,
   "metadata": {
    "executionInfo": {
     "elapsed": 2659,
     "status": "ok",
     "timestamp": 1608169895157,
     "user": {
      "displayName": "Pratik Pawar",
      "photoUrl": "",
      "userId": "07854545271556537314"
     },
     "user_tz": -330
    },
    "id": "sN1tbmpe8rHj"
   },
   "outputs": [],
   "source": [
    "one = pd.read_csv('/content/drive/MyDrive/Colab Notebooks/Mercari/stacking_ridge_svr.csv')\n",
    "two = pd.read_csv('/content/drive/MyDrive/Colab Notebooks/Mercari/0.98_output.csv')"
   ]
  },
  {
   "cell_type": "code",
   "execution_count": 21,
   "metadata": {
    "executionInfo": {
     "elapsed": 1101,
     "status": "ok",
     "timestamp": 1608170552352,
     "user": {
      "displayName": "Pratik Pawar",
      "photoUrl": "",
      "userId": "07854545271556537314"
     },
     "user_tz": -330
    },
    "id": "9cvWjE4c8q72"
   },
   "outputs": [],
   "source": [
    "avg = 0.34*one['price'] + 0.66*two['price']"
   ]
  },
  {
   "cell_type": "code",
   "execution_count": 24,
   "metadata": {
    "colab": {
     "base_uri": "https://localhost:8080/",
     "height": 669
    },
    "executionInfo": {
     "elapsed": 2300,
     "status": "ok",
     "timestamp": 1608170572695,
     "user": {
      "displayName": "Pratik Pawar",
      "photoUrl": "",
      "userId": "07854545271556537314"
     },
     "user_tz": -330
    },
    "id": "nUfBD9cZxrnp",
    "outputId": "24f73b8f-8faa-4eee-de83-606de60cdac2"
   },
   "outputs": [
    {
     "data": {
      "text/html": [
       "<div>\n",
       "<style scoped>\n",
       "    .dataframe tbody tr th:only-of-type {\n",
       "        vertical-align: middle;\n",
       "    }\n",
       "\n",
       "    .dataframe tbody tr th {\n",
       "        vertical-align: top;\n",
       "    }\n",
       "\n",
       "    .dataframe thead th {\n",
       "        text-align: right;\n",
       "    }\n",
       "</style>\n",
       "<table border=\"1\" class=\"dataframe\">\n",
       "  <thead>\n",
       "    <tr style=\"text-align: right;\">\n",
       "      <th></th>\n",
       "      <th>id</th>\n",
       "      <th>price</th>\n",
       "    </tr>\n",
       "  </thead>\n",
       "  <tbody>\n",
       "    <tr>\n",
       "      <th>0</th>\n",
       "      <td>1048243</td>\n",
       "      <td>35.035914</td>\n",
       "    </tr>\n",
       "    <tr>\n",
       "      <th>1</th>\n",
       "      <td>86986</td>\n",
       "      <td>51.518149</td>\n",
       "    </tr>\n",
       "    <tr>\n",
       "      <th>2</th>\n",
       "      <td>698316</td>\n",
       "      <td>28.576434</td>\n",
       "    </tr>\n",
       "    <tr>\n",
       "      <th>3</th>\n",
       "      <td>268868</td>\n",
       "      <td>17.803707</td>\n",
       "    </tr>\n",
       "    <tr>\n",
       "      <th>4</th>\n",
       "      <td>1360398</td>\n",
       "      <td>28.197011</td>\n",
       "    </tr>\n",
       "    <tr>\n",
       "      <th>5</th>\n",
       "      <td>1367482</td>\n",
       "      <td>14.517951</td>\n",
       "    </tr>\n",
       "    <tr>\n",
       "      <th>6</th>\n",
       "      <td>233786</td>\n",
       "      <td>12.306047</td>\n",
       "    </tr>\n",
       "    <tr>\n",
       "      <th>7</th>\n",
       "      <td>1390054</td>\n",
       "      <td>25.770109</td>\n",
       "    </tr>\n",
       "    <tr>\n",
       "      <th>8</th>\n",
       "      <td>302798</td>\n",
       "      <td>16.398469</td>\n",
       "    </tr>\n",
       "    <tr>\n",
       "      <th>9</th>\n",
       "      <td>22210</td>\n",
       "      <td>14.675295</td>\n",
       "    </tr>\n",
       "    <tr>\n",
       "      <th>10</th>\n",
       "      <td>916895</td>\n",
       "      <td>14.266833</td>\n",
       "    </tr>\n",
       "    <tr>\n",
       "      <th>11</th>\n",
       "      <td>1105690</td>\n",
       "      <td>17.938886</td>\n",
       "    </tr>\n",
       "    <tr>\n",
       "      <th>12</th>\n",
       "      <td>1397553</td>\n",
       "      <td>7.552628</td>\n",
       "    </tr>\n",
       "    <tr>\n",
       "      <th>13</th>\n",
       "      <td>575337</td>\n",
       "      <td>34.390213</td>\n",
       "    </tr>\n",
       "    <tr>\n",
       "      <th>14</th>\n",
       "      <td>364360</td>\n",
       "      <td>15.188227</td>\n",
       "    </tr>\n",
       "    <tr>\n",
       "      <th>15</th>\n",
       "      <td>989459</td>\n",
       "      <td>14.185852</td>\n",
       "    </tr>\n",
       "    <tr>\n",
       "      <th>16</th>\n",
       "      <td>296745</td>\n",
       "      <td>10.888725</td>\n",
       "    </tr>\n",
       "    <tr>\n",
       "      <th>17</th>\n",
       "      <td>473675</td>\n",
       "      <td>11.133259</td>\n",
       "    </tr>\n",
       "    <tr>\n",
       "      <th>18</th>\n",
       "      <td>1051494</td>\n",
       "      <td>36.250104</td>\n",
       "    </tr>\n",
       "    <tr>\n",
       "      <th>19</th>\n",
       "      <td>143019</td>\n",
       "      <td>41.711861</td>\n",
       "    </tr>\n",
       "  </tbody>\n",
       "</table>\n",
       "</div>"
      ],
      "text/plain": [
       "         id      price\n",
       "0   1048243  35.035914\n",
       "1     86986  51.518149\n",
       "2    698316  28.576434\n",
       "3    268868  17.803707\n",
       "4   1360398  28.197011\n",
       "5   1367482  14.517951\n",
       "6    233786  12.306047\n",
       "7   1390054  25.770109\n",
       "8    302798  16.398469\n",
       "9     22210  14.675295\n",
       "10   916895  14.266833\n",
       "11  1105690  17.938886\n",
       "12  1397553   7.552628\n",
       "13   575337  34.390213\n",
       "14   364360  15.188227\n",
       "15   989459  14.185852\n",
       "16   296745  10.888725\n",
       "17   473675  11.133259\n",
       "18  1051494  36.250104\n",
       "19   143019  41.711861"
      ]
     },
     "execution_count": 24,
     "metadata": {
      "tags": []
     },
     "output_type": "execute_result"
    }
   ],
   "source": [
    "submission_df['price'] = avg\n",
    "\n",
    "submission_df.to_csv('/content/drive/MyDrive/Colab Notebooks/Mercari/stacking5++_avg.csv', index=False)\n",
    "submission_df.head(20)"
   ]
  },
  {
   "cell_type": "code",
   "execution_count": null,
   "metadata": {
    "colab": {
     "base_uri": "https://localhost:8080/",
     "height": 669
    },
    "executionInfo": {
     "elapsed": 2658,
     "status": "ok",
     "timestamp": 1608028043361,
     "user": {
      "displayName": "Pratik Pawar",
      "photoUrl": "",
      "userId": "07854545271556537314"
     },
     "user_tz": -330
    },
    "id": "4xYl1NTJ8FSA",
    "outputId": "089c4a8e-cba7-499b-c73c-878ff7d221d1"
   },
   "outputs": [
    {
     "data": {
      "text/html": [
       "<div>\n",
       "<style scoped>\n",
       "    .dataframe tbody tr th:only-of-type {\n",
       "        vertical-align: middle;\n",
       "    }\n",
       "\n",
       "    .dataframe tbody tr th {\n",
       "        vertical-align: top;\n",
       "    }\n",
       "\n",
       "    .dataframe thead th {\n",
       "        text-align: right;\n",
       "    }\n",
       "</style>\n",
       "<table border=\"1\" class=\"dataframe\">\n",
       "  <thead>\n",
       "    <tr style=\"text-align: right;\">\n",
       "      <th></th>\n",
       "      <th>id</th>\n",
       "      <th>price</th>\n",
       "    </tr>\n",
       "  </thead>\n",
       "  <tbody>\n",
       "    <tr>\n",
       "      <th>0</th>\n",
       "      <td>1048243</td>\n",
       "      <td>33.406939</td>\n",
       "    </tr>\n",
       "    <tr>\n",
       "      <th>1</th>\n",
       "      <td>86986</td>\n",
       "      <td>51.199885</td>\n",
       "    </tr>\n",
       "    <tr>\n",
       "      <th>2</th>\n",
       "      <td>698316</td>\n",
       "      <td>24.903305</td>\n",
       "    </tr>\n",
       "    <tr>\n",
       "      <th>3</th>\n",
       "      <td>268868</td>\n",
       "      <td>17.549060</td>\n",
       "    </tr>\n",
       "    <tr>\n",
       "      <th>4</th>\n",
       "      <td>1360398</td>\n",
       "      <td>27.526797</td>\n",
       "    </tr>\n",
       "    <tr>\n",
       "      <th>5</th>\n",
       "      <td>1367482</td>\n",
       "      <td>15.420670</td>\n",
       "    </tr>\n",
       "    <tr>\n",
       "      <th>6</th>\n",
       "      <td>233786</td>\n",
       "      <td>11.759622</td>\n",
       "    </tr>\n",
       "    <tr>\n",
       "      <th>7</th>\n",
       "      <td>1390054</td>\n",
       "      <td>24.940171</td>\n",
       "    </tr>\n",
       "    <tr>\n",
       "      <th>8</th>\n",
       "      <td>302798</td>\n",
       "      <td>17.728182</td>\n",
       "    </tr>\n",
       "    <tr>\n",
       "      <th>9</th>\n",
       "      <td>22210</td>\n",
       "      <td>15.038086</td>\n",
       "    </tr>\n",
       "    <tr>\n",
       "      <th>10</th>\n",
       "      <td>916895</td>\n",
       "      <td>13.553545</td>\n",
       "    </tr>\n",
       "    <tr>\n",
       "      <th>11</th>\n",
       "      <td>1105690</td>\n",
       "      <td>19.179987</td>\n",
       "    </tr>\n",
       "    <tr>\n",
       "      <th>12</th>\n",
       "      <td>1397553</td>\n",
       "      <td>7.915278</td>\n",
       "    </tr>\n",
       "    <tr>\n",
       "      <th>13</th>\n",
       "      <td>575337</td>\n",
       "      <td>31.397461</td>\n",
       "    </tr>\n",
       "    <tr>\n",
       "      <th>14</th>\n",
       "      <td>364360</td>\n",
       "      <td>14.183345</td>\n",
       "    </tr>\n",
       "    <tr>\n",
       "      <th>15</th>\n",
       "      <td>989459</td>\n",
       "      <td>13.973927</td>\n",
       "    </tr>\n",
       "    <tr>\n",
       "      <th>16</th>\n",
       "      <td>296745</td>\n",
       "      <td>10.507224</td>\n",
       "    </tr>\n",
       "    <tr>\n",
       "      <th>17</th>\n",
       "      <td>473675</td>\n",
       "      <td>10.645017</td>\n",
       "    </tr>\n",
       "    <tr>\n",
       "      <th>18</th>\n",
       "      <td>1051494</td>\n",
       "      <td>35.999096</td>\n",
       "    </tr>\n",
       "    <tr>\n",
       "      <th>19</th>\n",
       "      <td>143019</td>\n",
       "      <td>38.434079</td>\n",
       "    </tr>\n",
       "  </tbody>\n",
       "</table>\n",
       "</div>"
      ],
      "text/plain": [
       "         id      price\n",
       "0   1048243  33.406939\n",
       "1     86986  51.199885\n",
       "2    698316  24.903305\n",
       "3    268868  17.549060\n",
       "4   1360398  27.526797\n",
       "5   1367482  15.420670\n",
       "6    233786  11.759622\n",
       "7   1390054  24.940171\n",
       "8    302798  17.728182\n",
       "9     22210  15.038086\n",
       "10   916895  13.553545\n",
       "11  1105690  19.179987\n",
       "12  1397553   7.915278\n",
       "13   575337  31.397461\n",
       "14   364360  14.183345\n",
       "15   989459  13.973927\n",
       "16   296745  10.507224\n",
       "17   473675  10.645017\n",
       "18  1051494  35.999096\n",
       "19   143019  38.434079"
      ]
     },
     "execution_count": 137,
     "metadata": {
      "tags": []
     },
     "output_type": "execute_result"
    }
   ],
   "source": [
    "submission_df['price'] = avg\n",
    "\n",
    "submission_df.to_csv('/content/drive/MyDrive/Colab Notebooks/Mercari/0.3_0.7.csv', index=False)\n",
    "submission_df.head(20)"
   ]
  }
 ],
 "metadata": {
  "colab": {
   "collapsed_sections": [],
   "name": "mercari_colab.ipynb",
   "provenance": []
  },
  "kernelspec": {
   "display_name": "Python 3",
   "language": "python",
   "name": "python3"
  },
  "language_info": {
   "codemirror_mode": {
    "name": "ipython",
    "version": 3
   },
   "file_extension": ".py",
   "mimetype": "text/x-python",
   "name": "python",
   "nbconvert_exporter": "python",
   "pygments_lexer": "ipython3",
   "version": "3.6.8"
  }
 },
 "nbformat": 4,
 "nbformat_minor": 1
}
