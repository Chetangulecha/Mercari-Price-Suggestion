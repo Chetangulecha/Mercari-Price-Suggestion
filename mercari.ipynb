{
 "cells": [
  {
   "cell_type": "code",
   "execution_count": 1,
   "metadata": {},
   "outputs": [],
   "source": [
    "import pandas as pd\n",
    "from collections import Counter\n",
    "import matplotlib.pyplot as plt\n",
    "import seaborn as sns\n",
    "import numpy as np\n",
    "import re\n",
    "from tqdm import tqdm\n",
    "import gc\n",
    "from scipy import hstack\n",
    "from sklearn.feature_extraction.text import CountVectorizer\n",
    "from sklearn.feature_extraction.text import TfidfVectorizer\n",
    "from sklearn.metrics import mean_squared_error as mse\n",
    "from math import sqrt\n",
    "from sklearn.linear_model import Ridge"
   ]
  },
  {
   "cell_type": "code",
   "execution_count": 2,
   "metadata": {},
   "outputs": [],
   "source": [
    "def split_cat(text):\n",
    "    try:\n",
    "        return text.split(\"/\")\n",
    "    except:\n",
    "        return (\"No Label\", \"No Label\", \"No Label\")"
   ]
  },
  {
   "cell_type": "code",
   "execution_count": 3,
   "metadata": {},
   "outputs": [],
   "source": [
    "train = pd.read_csv('./train.tsv', sep='\\t', \n",
    "                      dtype={'item_condition_id': 'category', 'shipping': 'category'}, \n",
    "                      converters={'category_name': split_cat})\n",
    "test = pd.read_csv('./test.tsv', sep='\\t', \n",
    "                     dtype={'item_condition_id': 'category', 'shipping': 'category'}, \n",
    "                     converters={'category_name': split_cat})"
   ]
  },
  {
   "cell_type": "code",
   "execution_count": 5,
   "metadata": {},
   "outputs": [
    {
     "name": "stdout",
     "output_type": "stream",
     "text": [
      "Shape of train data:  (1037774, 8)\n",
      "Shape of test data:  (444761, 7)\n"
     ]
    },
    {
     "data": {
      "text/html": [
       "<div>\n",
       "<style scoped>\n",
       "    .dataframe tbody tr th:only-of-type {\n",
       "        vertical-align: middle;\n",
       "    }\n",
       "\n",
       "    .dataframe tbody tr th {\n",
       "        vertical-align: top;\n",
       "    }\n",
       "\n",
       "    .dataframe thead th {\n",
       "        text-align: right;\n",
       "    }\n",
       "</style>\n",
       "<table border=\"1\" class=\"dataframe\">\n",
       "  <thead>\n",
       "    <tr style=\"text-align: right;\">\n",
       "      <th></th>\n",
       "      <th>id</th>\n",
       "      <th>name</th>\n",
       "      <th>item_condition_id</th>\n",
       "      <th>category_name</th>\n",
       "      <th>brand_name</th>\n",
       "      <th>shipping</th>\n",
       "      <th>item_description</th>\n",
       "    </tr>\n",
       "  </thead>\n",
       "  <tbody>\n",
       "    <tr>\n",
       "      <th>87057</th>\n",
       "      <td>17</td>\n",
       "      <td>New: Baby K'tan active baby carrier</td>\n",
       "      <td>1</td>\n",
       "      <td>[Kids, Gear, Backpacks &amp; Carriers]</td>\n",
       "      <td>NaN</td>\n",
       "      <td>1</td>\n",
       "      <td>Brand new in box Size: Medium Color: Coral Ret...</td>\n",
       "    </tr>\n",
       "  </tbody>\n",
       "</table>\n",
       "</div>"
      ],
      "text/plain": [
       "       id                                 name item_condition_id  \\\n",
       "87057  17  New: Baby K'tan active baby carrier                 1   \n",
       "\n",
       "                            category_name brand_name shipping  \\\n",
       "87057  [Kids, Gear, Backpacks & Carriers]        NaN        1   \n",
       "\n",
       "                                        item_description  \n",
       "87057  Brand new in box Size: Medium Color: Coral Ret...  "
      ]
     },
     "execution_count": 5,
     "metadata": {},
     "output_type": "execute_result"
    }
   ],
   "source": [
    "print('Shape of train data: ', train.shape)\n",
    "print('Shape of test data: ', test.shape)\n",
    "test[test.id == 17]"
   ]
  },
  {
   "cell_type": "code",
   "execution_count": 50,
   "metadata": {},
   "outputs": [
    {
     "data": {
      "text/html": [
       "<div>\n",
       "<style scoped>\n",
       "    .dataframe tbody tr th:only-of-type {\n",
       "        vertical-align: middle;\n",
       "    }\n",
       "\n",
       "    .dataframe tbody tr th {\n",
       "        vertical-align: top;\n",
       "    }\n",
       "\n",
       "    .dataframe thead th {\n",
       "        text-align: right;\n",
       "    }\n",
       "</style>\n",
       "<table border=\"1\" class=\"dataframe\">\n",
       "  <thead>\n",
       "    <tr style=\"text-align: right;\">\n",
       "      <th></th>\n",
       "      <th>train_id</th>\n",
       "      <th>name</th>\n",
       "      <th>item_condition_id</th>\n",
       "      <th>brand_name</th>\n",
       "      <th>price</th>\n",
       "      <th>shipping</th>\n",
       "      <th>item_description</th>\n",
       "      <th>gencat_name</th>\n",
       "      <th>subcat1_name</th>\n",
       "      <th>subcat2_name</th>\n",
       "    </tr>\n",
       "  </thead>\n",
       "  <tbody>\n",
       "    <tr>\n",
       "      <th>92985</th>\n",
       "      <td>8</td>\n",
       "      <td>Girls Nike Pro shorts</td>\n",
       "      <td>3</td>\n",
       "      <td>Nike</td>\n",
       "      <td>19.0</td>\n",
       "      <td>0</td>\n",
       "      <td>Girls Size small Plus green. Three shorts total.</td>\n",
       "      <td>SportsOutdoors</td>\n",
       "      <td>Apparel</td>\n",
       "      <td>Girls</td>\n",
       "    </tr>\n",
       "  </tbody>\n",
       "</table>\n",
       "</div>"
      ],
      "text/plain": [
       "       train_id                   name item_condition_id brand_name  price  \\\n",
       "92985         8  Girls Nike Pro shorts                 3       Nike   19.0   \n",
       "\n",
       "      shipping                                  item_description  \\\n",
       "92985        0  Girls Size small Plus green. Three shorts total.   \n",
       "\n",
       "          gencat_name subcat1_name subcat2_name  \n",
       "92985  SportsOutdoors      Apparel        Girls  "
      ]
     },
     "execution_count": 50,
     "metadata": {},
     "output_type": "execute_result"
    }
   ],
   "source": [
    "train[train.train_id == 8]"
   ]
  },
  {
   "cell_type": "code",
   "execution_count": 14,
   "metadata": {},
   "outputs": [
    {
     "data": {
      "text/plain": [
       "train_id             False\n",
       "name                 False\n",
       "item_condition_id    False\n",
       "category_name        False\n",
       "brand_name            True\n",
       "price                False\n",
       "shipping             False\n",
       "item_description      True\n",
       "dtype: bool"
      ]
     },
     "execution_count": 14,
     "metadata": {},
     "output_type": "execute_result"
    }
   ],
   "source": [
    "train.isnull().any()"
   ]
  },
  {
   "cell_type": "code",
   "execution_count": 15,
   "metadata": {},
   "outputs": [
    {
     "data": {
      "text/plain": [
       "id                   False\n",
       "name                 False\n",
       "item_condition_id    False\n",
       "category_name        False\n",
       "brand_name            True\n",
       "shipping             False\n",
       "item_description      True\n",
       "dtype: bool"
      ]
     },
     "execution_count": 15,
     "metadata": {},
     "output_type": "execute_result"
    }
   ],
   "source": [
    "test.isnull().any()"
   ]
  },
  {
   "cell_type": "code",
   "execution_count": 6,
   "metadata": {},
   "outputs": [],
   "source": [
    "# Split category_name by '/' into subcategories and replace nulls with 'missing'\n",
    "train['gencat_name'] = train['category_name'].str.get(0).replace('', 'missing').astype('category')\n",
    "train['subcat1_name'] = train['category_name'].str.get(1).fillna('missing').astype('category')\n",
    "train['subcat2_name'] = train['category_name'].str.get(2).fillna('missing').astype('category')\n",
    "train.drop('category_name', axis=1, inplace=True)\n",
    "\n",
    "# Split category_name by '/' into subcategories and replace nulls with 'missing'\n",
    "test['gencat_name'] = test['category_name'].str.get(0).replace('', 'missing').astype('category')\n",
    "test['subcat1_name'] = test['category_name'].str.get(1).fillna('missing').astype('category')\n",
    "test['subcat2_name'] = test['category_name'].str.get(2).fillna('missing').astype('category')\n",
    "test.drop('category_name', axis=1, inplace=True)\n",
    "\n",
    "train['item_description'].fillna('missing', inplace=True)\n",
    "train['brand_name'] = train['brand_name'].fillna('missing').astype('category')\n",
    "\n",
    "test['item_description'].fillna('missing', inplace=True)\n",
    "test['brand_name'] = test['brand_name'].fillna('missing').astype('category')"
   ]
  },
  {
   "cell_type": "code",
   "execution_count": 6,
   "metadata": {},
   "outputs": [
    {
     "data": {
      "text/html": [
       "<div>\n",
       "<style scoped>\n",
       "    .dataframe tbody tr th:only-of-type {\n",
       "        vertical-align: middle;\n",
       "    }\n",
       "\n",
       "    .dataframe tbody tr th {\n",
       "        vertical-align: top;\n",
       "    }\n",
       "\n",
       "    .dataframe thead th {\n",
       "        text-align: right;\n",
       "    }\n",
       "</style>\n",
       "<table border=\"1\" class=\"dataframe\">\n",
       "  <thead>\n",
       "    <tr style=\"text-align: right;\">\n",
       "      <th></th>\n",
       "      <th>train_id</th>\n",
       "      <th>name</th>\n",
       "      <th>item_condition_id</th>\n",
       "      <th>brand_name</th>\n",
       "      <th>price</th>\n",
       "      <th>shipping</th>\n",
       "      <th>item_description</th>\n",
       "      <th>gencat_name</th>\n",
       "      <th>subcat1_name</th>\n",
       "      <th>subcat2_name</th>\n",
       "    </tr>\n",
       "  </thead>\n",
       "  <tbody>\n",
       "  </tbody>\n",
       "</table>\n",
       "</div>"
      ],
      "text/plain": [
       "Empty DataFrame\n",
       "Columns: [train_id, name, item_condition_id, brand_name, price, shipping, item_description, gencat_name, subcat1_name, subcat2_name]\n",
       "Index: []"
      ]
     },
     "execution_count": 6,
     "metadata": {},
     "output_type": "execute_result"
    }
   ],
   "source": [
    "train[train.duplicated()] #Check for duplicate rows, NAs"
   ]
  },
  {
   "cell_type": "code",
   "execution_count": 7,
   "metadata": {},
   "outputs": [
    {
     "name": "stdout",
     "output_type": "stream",
     "text": [
      "Removed 604 rows\n"
     ]
    }
   ],
   "source": [
    "print('Removed {} rows' .format(len(train[train.price<=0])))\n",
    "train = train[train.price > 0].reset_index(drop=True)\n"
   ]
  },
  {
   "cell_type": "code",
   "execution_count": 19,
   "metadata": {},
   "outputs": [
    {
     "data": {
      "text/plain": [
       "count     1037170\n",
       "unique     877408\n",
       "top        Bundle\n",
       "freq         1553\n",
       "Name: name, dtype: object"
      ]
     },
     "execution_count": 19,
     "metadata": {},
     "output_type": "execute_result"
    }
   ],
   "source": [
    "train.name.describe()"
   ]
  },
  {
   "cell_type": "code",
   "execution_count": 20,
   "metadata": {},
   "outputs": [
    {
     "data": {
      "text/plain": [
       "count     1037170\n",
       "unique          5\n",
       "top             1\n",
       "freq       448197\n",
       "Name: item_condition_id, dtype: object"
      ]
     },
     "execution_count": 20,
     "metadata": {},
     "output_type": "execute_result"
    }
   ],
   "source": [
    "train.item_condition_id.describe()"
   ]
  },
  {
   "cell_type": "code",
   "execution_count": 21,
   "metadata": {},
   "outputs": [
    {
     "data": {
      "image/png": "[encoded data removed]",
      "text/plain": [
       "<Figure size 576x432 with 1 Axes>"
      ]
     },
     "metadata": {
      "needs_background": "light"
     },
     "output_type": "display_data"
    }
   ],
   "source": [
    "condition_count = Counter(list(train.item_condition_id))\n",
    "x, y = zip(*condition_count.most_common())\n",
    "plt.figure(figsize=[8,6])\n",
    "plt.bar(x, y)\n",
    "for i, val in enumerate(y):\n",
    "           plt.annotate(val, (x[i], y[i]), color='b')\n",
    "plt.xlabel('item condition')\n",
    "plt.ylabel('count')\n",
    "plt.grid(True, axis='y')\n",
    "plt.show()"
   ]
  },
  {
   "cell_type": "code",
   "execution_count": 22,
   "metadata": {},
   "outputs": [
    {
     "data": {
      "text/plain": [
       "count     1037170\n",
       "unique       4413\n",
       "top       missing\n",
       "freq       442715\n",
       "Name: brand_name, dtype: object"
      ]
     },
     "execution_count": 22,
     "metadata": {},
     "output_type": "execute_result"
    }
   ],
   "source": [
    "train.brand_name.describe()"
   ]
  },
  {
   "cell_type": "code",
   "execution_count": 23,
   "metadata": {},
   "outputs": [
    {
     "data": {
      "image/png": "[encoded data removed]",
      "text/plain": [
       "<Figure size 432x576 with 1 Axes>"
      ]
     },
     "metadata": {
      "needs_background": "light"
     },
     "output_type": "display_data"
    }
   ],
   "source": [
    "brand_count = Counter(list(train.brand_name.values))\n",
    "x, y = zip(*brand_count.most_common(15))\n",
    "\n",
    "plt.figure(figsize=[6,8])\n",
    "plt.barh(x, y)\n",
    "for i, val in enumerate(y):\n",
    "           plt.annotate(val, (y[i], x[i]), color='b')\n",
    "plt.gca().invert_yaxis()\n",
    "plt.ylabel('Brand name')\n",
    "plt.xlabel('count')\n",
    "plt.grid(True, axis='x')\n",
    "plt.show()"
   ]
  },
  {
   "cell_type": "code",
   "execution_count": 24,
   "metadata": {},
   "outputs": [
    {
     "name": "stdout",
     "output_type": "stream",
     "text": [
      "Brand name is missing for 442715 datapoints, i.e. 42.68 % of train data.\n"
     ]
    }
   ],
   "source": [
    "brand_missing = train[train.brand_name=='missing'].shape[0]\n",
    "print('Brand name is missing for {} datapoints, i.e. {:.2f} % of train data.' .format(brand_missing, 100.0*brand_missing/train.shape[0]))"
   ]
  },
  {
   "cell_type": "code",
   "execution_count": 25,
   "metadata": {},
   "outputs": [
    {
     "data": {
      "text/plain": [
       "count     1037170\n",
       "unique         11\n",
       "top         Women\n",
       "freq       464350\n",
       "Name: gencat_name, dtype: object"
      ]
     },
     "execution_count": 25,
     "metadata": {},
     "output_type": "execute_result"
    }
   ],
   "source": [
    "train.gencat_name.describe()"
   ]
  },
  {
   "cell_type": "code",
   "execution_count": 26,
   "metadata": {},
   "outputs": [
    {
     "data": {
      "image/png": "[encoded data removed]",
      "text/plain": [
       "<Figure size 432x576 with 1 Axes>"
      ]
     },
     "metadata": {
      "needs_background": "light"
     },
     "output_type": "display_data"
    }
   ],
   "source": [
    "gencat_count = Counter(list(train.gencat_name.values))\n",
    "x, y = zip(*gencat_count.most_common(15))\n",
    "plt.figure(figsize=[6,8])\n",
    "plt.barh(x, y)\n",
    "for i, val in enumerate(y):\n",
    "           plt.annotate(val, (y[i], x[i]), color='b')\n",
    "plt.gca().invert_yaxis()\n",
    "plt.ylabel('General category')\n",
    "plt.xlabel('count')\n",
    "plt.grid(True, axis='x')\n",
    "plt.show()"
   ]
  },
  {
   "cell_type": "code",
   "execution_count": 27,
   "metadata": {},
   "outputs": [
    {
     "name": "stdout",
     "output_type": "stream",
     "text": [
      "category name is missing for 4372 datapoints, i.e. 0.42 % of train data.\n"
     ]
    }
   ],
   "source": [
    "gencat_missing = train[train.gencat_name=='missing'].shape[0]\n",
    "print('category name is missing for {} datapoints, i.e. {:.2f} % of train data.' .format(gencat_missing, 100.0*gencat_missing/train.shape[0]))"
   ]
  },
  {
   "cell_type": "code",
   "execution_count": 28,
   "metadata": {},
   "outputs": [
    {
     "data": {
      "text/plain": [
       "count              1037170\n",
       "unique                 114\n",
       "top       Athletic Apparel\n",
       "freq                 93933\n",
       "Name: subcat1_name, dtype: object"
      ]
     },
     "execution_count": 28,
     "metadata": {},
     "output_type": "execute_result"
    }
   ],
   "source": [
    "train.subcat1_name.describe()"
   ]
  },
  {
   "cell_type": "code",
   "execution_count": 29,
   "metadata": {},
   "outputs": [
    {
     "data": {
      "image/png": "[encoded data removed]",
      "text/plain": [
       "<Figure size 432x720 with 1 Axes>"
      ]
     },
     "metadata": {
      "needs_background": "light"
     },
     "output_type": "display_data"
    }
   ],
   "source": [
    "subcat1_count = Counter(list(train.subcat1_name.values))\n",
    "x, y = zip(*subcat1_count.most_common(15))\n",
    "plt.figure(figsize=[6,10])\n",
    "plt.barh(x, y)\n",
    "for i, val in enumerate(y):\n",
    "           plt.annotate(val, (y[i], x[i]), color='b')\n",
    "plt.gca().invert_yaxis()\n",
    "plt.ylabel('Sub-category1')\n",
    "plt.xlabel('count')\n",
    "plt.grid(True, axis='x')\n",
    "plt.show()"
   ]
  },
  {
   "cell_type": "code",
   "execution_count": 30,
   "metadata": {},
   "outputs": [
    {
     "data": {
      "text/plain": [
       "count                     1037170\n",
       "unique                        857\n",
       "top       Pants, Tights, Leggings\n",
       "freq                        42032\n",
       "Name: subcat2_name, dtype: object"
      ]
     },
     "execution_count": 30,
     "metadata": {},
     "output_type": "execute_result"
    }
   ],
   "source": [
    "train.subcat2_name.describe()"
   ]
  },
  {
   "cell_type": "code",
   "execution_count": 31,
   "metadata": {},
   "outputs": [
    {
     "data": {
      "image/png": "[encoded data removed]",
      "text/plain": [
       "<Figure size 432x720 with 1 Axes>"
      ]
     },
     "metadata": {
      "needs_background": "light"
     },
     "output_type": "display_data"
    }
   ],
   "source": [
    "subcat2_count = Counter(list(train.subcat2_name.values))\n",
    "x, y = zip(*subcat2_count.most_common(15))\n",
    "plt.figure(figsize=[6,10])\n",
    "plt.barh(x, y)\n",
    "for i, val in enumerate(y):\n",
    "           plt.annotate(val, (y[i], x[i]), color='b')\n",
    "plt.gca().invert_yaxis()\n",
    "plt.ylabel('Sub-category2')\n",
    "plt.xlabel('count')\n",
    "plt.grid(True, axis='x')\n",
    "plt.show()"
   ]
  },
  {
   "cell_type": "code",
   "execution_count": 8,
   "metadata": {},
   "outputs": [
    {
     "name": "stdout",
     "output_type": "stream",
     "text": [
      "item description is missing for 2 datapoints, i.e. 0.00019 % of train data.\n"
     ]
    }
   ],
   "source": [
    "desc_missing = train[train.item_description=='missing'].shape[0]\n",
    "print('item description is missing for {} datapoints, i.e. {:.5f} % of train data.' .format(desc_missing, 100.0*desc_missing/train.shape[0]))"
   ]
  },
  {
   "cell_type": "code",
   "execution_count": 9,
   "metadata": {},
   "outputs": [
    {
     "data": {
      "text/html": [
       "<div>\n",
       "<style scoped>\n",
       "    .dataframe tbody tr th:only-of-type {\n",
       "        vertical-align: middle;\n",
       "    }\n",
       "\n",
       "    .dataframe tbody tr th {\n",
       "        vertical-align: top;\n",
       "    }\n",
       "\n",
       "    .dataframe thead th {\n",
       "        text-align: right;\n",
       "    }\n",
       "</style>\n",
       "<table border=\"1\" class=\"dataframe\">\n",
       "  <thead>\n",
       "    <tr style=\"text-align: right;\">\n",
       "      <th></th>\n",
       "      <th>train_id</th>\n",
       "      <th>name</th>\n",
       "      <th>item_condition_id</th>\n",
       "      <th>brand_name</th>\n",
       "      <th>price</th>\n",
       "      <th>shipping</th>\n",
       "      <th>item_description</th>\n",
       "      <th>gencat_name</th>\n",
       "      <th>subcat1_name</th>\n",
       "      <th>subcat2_name</th>\n",
       "    </tr>\n",
       "  </thead>\n",
       "  <tbody>\n",
       "    <tr>\n",
       "      <th>61467</th>\n",
       "      <td>1224924</td>\n",
       "      <td>Disney Minnie Head band</td>\n",
       "      <td>3</td>\n",
       "      <td>Disney</td>\n",
       "      <td>9.0</td>\n",
       "      <td>0</td>\n",
       "      <td>missing</td>\n",
       "      <td>Women</td>\n",
       "      <td>Women's Accessories</td>\n",
       "      <td>Hair Accessories</td>\n",
       "    </tr>\n",
       "    <tr>\n",
       "      <th>589297</th>\n",
       "      <td>1264242</td>\n",
       "      <td>For Bianca</td>\n",
       "      <td>3</td>\n",
       "      <td>missing</td>\n",
       "      <td>10.0</td>\n",
       "      <td>1</td>\n",
       "      <td>missing</td>\n",
       "      <td>Women</td>\n",
       "      <td>Women's Accessories</td>\n",
       "      <td>Scarves &amp; Wraps</td>\n",
       "    </tr>\n",
       "  </tbody>\n",
       "</table>\n",
       "</div>"
      ],
      "text/plain": [
       "        train_id                     name item_condition_id brand_name  price  \\\n",
       "61467    1224924  Disney Minnie Head band                 3     Disney    9.0   \n",
       "589297   1264242               For Bianca                 3    missing   10.0   \n",
       "\n",
       "       shipping item_description gencat_name         subcat1_name  \\\n",
       "61467         0          missing       Women  Women's Accessories   \n",
       "589297        1          missing       Women  Women's Accessories   \n",
       "\n",
       "            subcat2_name  \n",
       "61467   Hair Accessories  \n",
       "589297   Scarves & Wraps  "
      ]
     },
     "execution_count": 9,
     "metadata": {},
     "output_type": "execute_result"
    }
   ],
   "source": [
    "train[train.item_description=='missing']"
   ]
  },
  {
   "cell_type": "code",
   "execution_count": 34,
   "metadata": {},
   "outputs": [
    {
     "data": {
      "text/plain": [
       "count    1.037170e+06\n",
       "mean     2.675051e+01\n",
       "std      3.862636e+01\n",
       "min      3.000000e+00\n",
       "25%      1.000000e+01\n",
       "50%      1.700000e+01\n",
       "75%      2.900000e+01\n",
       "max      2.004000e+03\n",
       "Name: price, dtype: float64"
      ]
     },
     "execution_count": 34,
     "metadata": {},
     "output_type": "execute_result"
    }
   ],
   "source": [
    "train.price.describe()"
   ]
  },
  {
   "cell_type": "code",
   "execution_count": 35,
   "metadata": {},
   "outputs": [
    {
     "data": {
      "image/png": "[encoded data removed]",
      "text/plain": [
       "<Figure size 432x288 with 1 Axes>"
      ]
     },
     "metadata": {
      "needs_background": "light"
     },
     "output_type": "display_data"
    }
   ],
   "source": [
    "sns.boxplot(y='price', data=train, showfliers=False)\n",
    "plt.show()"
   ]
  },
  {
   "cell_type": "code",
   "execution_count": 36,
   "metadata": {},
   "outputs": [
    {
     "data": {
      "image/png": "[encoded data removed]",
      "text/plain": [
       "<Figure size 1008x576 with 1 Axes>"
      ]
     },
     "metadata": {
      "needs_background": "light"
     },
     "output_type": "display_data"
    }
   ],
   "source": [
    "fig, ax = plt.subplots(figsize=(14, 8))\n",
    "ax.hist(train.price, bins=30, range=[0, 300], label=\"Price\")\n",
    "plt.title('Price distribution', fontsize = 15)\n",
    "ax.set_xlabel('Price', fontsize=15)\n",
    "ax.set_ylabel('No of items', fontsize=15)\n",
    "plt.show()"
   ]
  },
  {
   "cell_type": "code",
   "execution_count": 10,
   "metadata": {},
   "outputs": [],
   "source": [
    "def clean_cat(cat_values):\n",
    "    \n",
    "    catogories = list(cat_values)\n",
    "\n",
    "    cat_list = []\n",
    "    for i in (catogories):\n",
    "        i = re.sub('[^A-Za-z0-9]+', ' ', i)\n",
    "        i = i.replace(' ','')\n",
    "        i = i.replace('&','_')\n",
    "        cat_list.append(i.strip())\n",
    "    \n",
    "    return cat_list"
   ]
  },
  {
   "cell_type": "code",
   "execution_count": 11,
   "metadata": {},
   "outputs": [],
   "source": [
    "train['gencat_name'] = clean_cat(train['gencat_name'].values)\n",
    "test['gencat_name'] = clean_cat(test['gencat_name'].values)\n",
    "\n",
    "train['subcat1_name'] = clean_cat(train['subcat1_name'].values)\n",
    "test['subcat1_name'] = clean_cat(test['subcat1_name'].values)\n",
    "\n",
    "train['subcat2_name'] = clean_cat(train['subcat2_name'].values)\n",
    "test['subcat2_name'] = clean_cat(test['subcat2_name'].values)"
   ]
  },
  {
   "cell_type": "code",
   "execution_count": 39,
   "metadata": {},
   "outputs": [
    {
     "data": {
      "image/png": "[encoded data removed]",
      "text/plain": [
       "<Figure size 432x288 with 1 Axes>"
      ]
     },
     "metadata": {
      "needs_background": "light"
     },
     "output_type": "display_data"
    }
   ],
   "source": [
    "sns.barplot(y='brand_name', x='price', data=train)\n",
    "plt.title('Mean price according brand name')\n",
    "plt.show()"
   ]
  },
  {
   "cell_type": "code",
   "execution_count": 40,
   "metadata": {},
   "outputs": [
    {
     "data": {
      "image/png": "[encoded data removed]",
      "text/plain": [
       "<Figure size 432x288 with 1 Axes>"
      ]
     },
     "metadata": {
      "needs_background": "light"
     },
     "output_type": "display_data"
    }
   ],
   "source": [
    "sns.barplot(y='gencat_name', x='price', data=train)\n",
    "plt.title('Mean price of various categories')\n",
    "plt.show()"
   ]
  },
  {
   "cell_type": "code",
   "execution_count": 41,
   "metadata": {},
   "outputs": [
    {
     "data": {
      "image/png": "[encoded data removed]",
      "text/plain": [
       "<Figure size 432x288 with 1 Axes>"
      ]
     },
     "metadata": {},
     "output_type": "display_data"
    }
   ],
   "source": [
    "sns.set(style='whitegrid')\n",
    "sns.boxplot(x='item_condition_id', y='price', data=train, showfliers=False)\n",
    "plt.title('item_condition-wise distribution of price')\n",
    "plt.show()"
   ]
  },
  {
   "cell_type": "code",
   "execution_count": 42,
   "metadata": {},
   "outputs": [
    {
     "data": {
      "image/png": "[encoded data removed]",
      "text/plain": [
       "<Figure size 432x288 with 1 Axes>"
      ]
     },
     "metadata": {},
     "output_type": "display_data"
    }
   ],
   "source": [
    "sns.barplot(y='price', x='item_condition_id', data=train)\n",
    "plt.title('Mean price of various categories')\n",
    "plt.show()"
   ]
  },
  {
   "cell_type": "code",
   "execution_count": 43,
   "metadata": {},
   "outputs": [
    {
     "data": {
      "image/png": "[encoded data removed]",
      "text/plain": [
       "<Figure size 432x288 with 1 Axes>"
      ]
     },
     "metadata": {},
     "output_type": "display_data"
    }
   ],
   "source": [
    "sns.set(style='whitegrid')\n",
    "sns.boxplot(x='shipping', y='price', data=train, showfliers=False)\n",
    "plt.title('item_shipping distribution of price')\n",
    "plt.show()"
   ]
  },
  {
   "cell_type": "code",
   "execution_count": 51,
   "metadata": {},
   "outputs": [
    {
     "data": {
      "image/png": "[encoded data removed]",
      "text/plain": [
       "<Figure size 432x288 with 1 Axes>"
      ]
     },
     "metadata": {},
     "output_type": "display_data"
    }
   ],
   "source": [
    "sns.barplot(y='price', x='shipping', data=train)\n",
    "plt.title('Mean price of various categories')\n",
    "plt.show()"
   ]
  },
  {
   "cell_type": "code",
   "execution_count": 12,
   "metadata": {},
   "outputs": [
    {
     "data": {
      "text/plain": [
       "0          tarte rainforest after dark colored clay\n",
       "1                        mac mineralize skin finish\n",
       "2                            white case iphone 6/6s\n",
       "3                  victoria's secret push-up plunge\n",
       "4             disney princess toddler boots size 10\n",
       "                             ...                   \n",
       "1037165                     nike dri fit hooded top\n",
       "1037166                       talk red hunter boots\n",
       "1037167     nwt free ship cc 2beanie hat beige+taup\n",
       "1037168                        winston cup snapback\n",
       "1037169           old navy rockstar skinny cords 10\n",
       "Name: name, Length: 1037170, dtype: object"
      ]
     },
     "execution_count": 12,
     "metadata": {},
     "output_type": "execute_result"
    }
   ],
   "source": [
    "train['name'].str.lower()"
   ]
  },
  {
   "cell_type": "code",
   "execution_count": 13,
   "metadata": {},
   "outputs": [
    {
     "data": {
      "text/plain": [
       "0                       herschel retreat backpack\n",
       "1                               2 pairs of lebron\n",
       "2          mario kart double dash with bonus disc\n",
       "3          tokidoki unicorno kaiju and strawberry\n",
       "4              like ugg cardy, grey knit top boot\n",
       "                           ...                   \n",
       "444756                         ivory ella tie dye\n",
       "444757                      5 tier shoe organizer\n",
       "444758    toy bundle (fun fun fun fun fun 4 baby)\n",
       "444759                        adidas jogging suit\n",
       "444760                           artistry hydra-v\n",
       "Name: name, Length: 444761, dtype: object"
      ]
     },
     "execution_count": 13,
     "metadata": {},
     "output_type": "execute_result"
    }
   ],
   "source": [
    "test['name'].str.lower()"
   ]
  },
  {
   "cell_type": "code",
   "execution_count": 14,
   "metadata": {},
   "outputs": [
    {
     "data": {
      "text/plain": [
       "0         in great condition! only issue is magnet that ...\n",
       "1         lebron soldier 10 size 10.5 9/10 condition leb...\n",
       "2                                good shape work no problem\n",
       "3                               both new with foil and box.\n",
       "4         brand new, not even a foot near them! size 8 b...\n",
       "                                ...                        \n",
       "444756    tags- american eagle, aeropostale, hollister, ...\n",
       "444757    5 tier shoe organizer brand new never used 100...\n",
       "444758    includes: fisher-price cozy fit tummy wedge ~ ...\n",
       "444759    women comfortable adidas 2pc jogging suit incl...\n",
       "444760                         full and great for your skin\n",
       "Name: item_description, Length: 444761, dtype: object"
      ]
     },
     "execution_count": 14,
     "metadata": {},
     "output_type": "execute_result"
    }
   ],
   "source": [
    "test['item_description'].str.lower()\n",
    "test['item_description'].str.lower()"
   ]
  },
  {
   "cell_type": "code",
   "execution_count": 15,
   "metadata": {},
   "outputs": [],
   "source": [
    "from nltk.corpus import stopwords\n",
    "stopwords = stopwords.words('english')\n",
    "\n",
    "\n",
    "def preprocess_text(text_col):\n",
    "    preprocessed_text = []\n",
    "    for sentence in tqdm((text_col.values)):\n",
    "        sent = sentence.replace('\\\\r', ' ')\n",
    "        sent = sent.replace('\\\\\"', ' ')\n",
    "        sent = sent.replace('\\\\n', ' ')\n",
    "        sent = re.sub('[^A-Za-z0-9]+', ' ', sent)\n",
    "        sent = ' '.join(e for e in sent.split() if e not in stopwords)\n",
    "        preprocessed_text.append(sent.lower().strip())\n",
    "    return preprocessed_text"
   ]
  },
  {
   "cell_type": "code",
   "execution_count": 16,
   "metadata": {},
   "outputs": [
    {
     "name": "stderr",
     "output_type": "stream",
     "text": [
      "100%|█████████████████████████████████████████████████████████████████████| 1037170/1037170 [00:21<00:00, 47784.88it/s]\n",
      "100%|███████████████████████████████████████████████████████████████████████| 444761/444761 [00:10<00:00, 41663.61it/s]\n",
      "100%|█████████████████████████████████████████████████████████████████████| 1037170/1037170 [01:37<00:00, 10648.60it/s]\n",
      "100%|███████████████████████████████████████████████████████████████████████| 444761/444761 [00:42<00:00, 10398.88it/s]\n"
     ]
    }
   ],
   "source": [
    "train['preprocessed_name'] = preprocess_text(train['name'])\n",
    "test['preprocessed_name'] = preprocess_text(test['name'])\n",
    "\n",
    "train['preprocessed_description'] = preprocess_text(train['item_description'])\n",
    "test['preprocessed_description'] = preprocess_text(test['item_description'])"
   ]
  },
  {
   "cell_type": "code",
   "execution_count": 17,
   "metadata": {},
   "outputs": [],
   "source": [
    "train['name_len'] = train['name'].apply(lambda x: len(x))\n",
    "train['des_len'] = train['item_description'].apply(lambda x: len(x))\n",
    "train['desc_word_count'] = train['item_description'].apply(lambda x: len(x.split()))\n",
    "train['name_word_count'] = train['name'].apply(lambda x: len(x.split()))\n",
    "train['desc_letters_per_word'] = train['des_len'] / train['desc_word_count']\n",
    "train['name_letters_per_word'] = train['name_len'] / train['name_word_count']\n",
    "train['price_in_description'] = train['item_description'].str.contains('[rm]', regex=False).astype('category')\n",
    "train['price_in_name'] = train['name'].str.contains('[rm]', regex=False).astype('category')"
   ]
  },
  {
   "cell_type": "code",
   "execution_count": 18,
   "metadata": {},
   "outputs": [],
   "source": [
    "test['name_len'] = test['name'].apply(lambda x: len(x))\n",
    "test['des_len'] = test['item_description'].apply(lambda x: len(x))\n",
    "test['desc_word_count'] = test['item_description'].apply(lambda x: len(x.split()))\n",
    "test['name_word_count'] = test['name'].apply(lambda x: len(x.split()))\n",
    "test['desc_letters_per_word'] = test['des_len'] / test['desc_word_count']\n",
    "test['name_letters_per_word'] = test['name_len'] / test['name_word_count']\n",
    "test['price_in_description'] = test['item_description'].str.contains('[rm]', regex=False).astype('category')\n",
    "test['price_in_name'] = test['name'].str.contains('[rm]', regex=False).astype('category')"
   ]
  },
  {
   "cell_type": "code",
   "execution_count": 19,
   "metadata": {},
   "outputs": [
    {
     "data": {
      "text/plain": [
       "Index(['train_id', 'name', 'item_condition_id', 'brand_name', 'price',\n",
       "       'shipping', 'item_description', 'gencat_name', 'subcat1_name',\n",
       "       'subcat2_name', 'preprocessed_name', 'preprocessed_description',\n",
       "       'name_len', 'des_len', 'desc_word_count', 'name_word_count',\n",
       "       'desc_letters_per_word', 'name_letters_per_word',\n",
       "       'price_in_description', 'price_in_name'],\n",
       "      dtype='object')"
      ]
     },
     "execution_count": 19,
     "metadata": {},
     "output_type": "execute_result"
    }
   ],
   "source": [
    "train.columns"
   ]
  },
  {
   "cell_type": "code",
   "execution_count": 20,
   "metadata": {},
   "outputs": [
    {
     "data": {
      "text/plain": [
       "Index(['train_id', 'name', 'item_condition_id', 'brand_name', 'price',\n",
       "       'shipping', 'item_description', 'gencat_name', 'subcat1_name',\n",
       "       'subcat2_name', 'preprocessed_name', 'preprocessed_description',\n",
       "       'name_len', 'des_len', 'desc_word_count', 'name_word_count',\n",
       "       'desc_letters_per_word', 'name_letters_per_word',\n",
       "       'price_in_description', 'price_in_name'],\n",
       "      dtype='object')"
      ]
     },
     "execution_count": 20,
     "metadata": {},
     "output_type": "execute_result"
    }
   ],
   "source": [
    "train.shape\n",
    "train.columns"
   ]
  },
  {
   "cell_type": "code",
   "execution_count": 21,
   "metadata": {},
   "outputs": [
    {
     "data": {
      "text/plain": [
       "(444761, 19)"
      ]
     },
     "execution_count": 21,
     "metadata": {},
     "output_type": "execute_result"
    }
   ],
   "source": [
    "test.shape\n"
   ]
  },
  {
   "cell_type": "code",
   "execution_count": 22,
   "metadata": {},
   "outputs": [
    {
     "name": "stdout",
     "output_type": "stream",
     "text": [
      "Dropped 19 rows\n"
     ]
    }
   ],
   "source": [
    "n_rows = train.shape[0]\n",
    "train = train[train.preprocessed_name != ''].reset_index(drop=True)\n",
    "\n",
    "print('Dropped {} rows'.format(n_rows - train.shape[0]))"
   ]
  },
  {
   "cell_type": "code",
   "execution_count": 23,
   "metadata": {},
   "outputs": [
    {
     "name": "stdout",
     "output_type": "stream",
     "text": [
      "Dropped 392 rows\n",
      "Shape of train data:  (1036759, 20)\n"
     ]
    }
   ],
   "source": [
    "n_rows = train.shape[0]\n",
    "train = train[train.preprocessed_description != ''].reset_index(drop=True)\n",
    "\n",
    "print('Dropped {} rows'.format(n_rows - train.shape[0]))\n",
    "\n",
    "print('Shape of train data: ', train.shape)"
   ]
  },
  {
   "cell_type": "code",
   "execution_count": 26,
   "metadata": {},
   "outputs": [],
   "source": [
    "def transform_test(base_col, feat_col):\n",
    "    \n",
    "    di = pd.Series(train[feat_col].values, index=train[base_col].values).to_dict()\n",
    "    \n",
    "    if base_col == 'item_condition_id':\n",
    "        return test[base_col].map(di).astype(float)\n",
    "        \n",
    "    return test[base_col].map(di).fillna(0)"
   ]
  },
  {
   "cell_type": "code",
   "execution_count": 27,
   "metadata": {},
   "outputs": [],
   "source": [
    "train['brand_mean_price'] = train.groupby('brand_name')['price'].transform('mean')\n",
    "test['brand_mean_price'] = transform_test('brand_name', 'brand_mean_price')\n",
    "\n",
    "train['gencat_mean_price'] = train.groupby('gencat_name')['price'].transform('mean')\n",
    "test['gencat_mean_price'] = transform_test('gencat_name', 'gencat_mean_price')\n",
    "\n",
    "train['subcat1_mean_price'] = train.groupby('subcat1_name')['price'].transform('mean')\n",
    "test['subcat1_mean_price'] = transform_test('subcat1_name', 'subcat1_mean_price')\n",
    "\n",
    "train['subcat2_mean_price'] = train.groupby('subcat2_name')['price'].transform('mean')\n",
    "test['subcat2_mean_price'] = transform_test('subcat2_name', 'subcat2_mean_price')\n",
    "\n",
    "train['condition_mean_price'] = train.groupby('item_condition_id')['price'].transform('mean')\n",
    "test['condition_mean_price'] = transform_test('item_condition_id', 'condition_mean_price')"
   ]
  },
  {
   "cell_type": "code",
   "execution_count": 28,
   "metadata": {},
   "outputs": [],
   "source": [
    "train['brand_median_price'] = train.groupby('brand_name')['price'].transform('median')\n",
    "test['brand_median_price'] = transform_test('brand_name', 'brand_median_price')\n",
    "\n",
    "train['gencat_median_price'] = train.groupby('gencat_name')['price'].transform('median')\n",
    "test['gencat_median_price'] = transform_test('gencat_name', 'gencat_median_price')\n",
    "\n",
    "train['subcat1_median_price'] = train.groupby('subcat1_name')['price'].transform('median')\n",
    "test['subcat1_median_price'] = transform_test('subcat1_name', 'subcat1_median_price')\n",
    "\n",
    "train['subcat2_median_price'] = train.groupby('subcat2_name')['price'].transform('median')\n",
    "test['subcat2_median_price'] = transform_test('subcat2_name', 'subcat2_median_price')\n",
    "\n",
    "train['condition_median_price'] = train.groupby('item_condition_id')['price'].transform('median')\n",
    "test['condition_median_price'] = transform_test('item_condition_id', 'condition_median_price')"
   ]
  },
  {
   "cell_type": "code",
   "execution_count": 29,
   "metadata": {},
   "outputs": [],
   "source": [
    "train['gencat_name_count'] = train.groupby('gencat_name')['gencat_name'].transform('count')\n",
    "test['gencat_name_count'] = transform_test('gencat_name', 'gencat_name_count')\n",
    "\n",
    "train['subcat1_name_count'] = train.groupby('subcat1_name')['subcat1_name'].transform('count')\n",
    "test['subcat1_name_count'] = transform_test('subcat1_name', 'subcat1_name_count')\n",
    "\n",
    "train['subcat2_name_count'] = train.groupby('subcat2_name')['subcat2_name'].transform('count')\n",
    "test['subcat2_name_count'] = transform_test('subcat2_name', 'subcat2_name_count')\n",
    "\n",
    "train['brand_name_count'] = train.groupby('brand_name')['brand_name'].transform('count')\n",
    "test['brand_name_count'] = transform_test('brand_name', 'brand_name_count')"
   ]
  },
  {
   "cell_type": "code",
   "execution_count": 30,
   "metadata": {},
   "outputs": [],
   "source": [
    "test.drop(['name', 'item_description'], axis=1, inplace=True)\n",
    "train.drop(['name', 'item_description'], axis=1, inplace=True)"
   ]
  },
  {
   "cell_type": "code",
   "execution_count": 31,
   "metadata": {},
   "outputs": [
    {
     "data": {
      "text/plain": [
       "(1036759, 32)"
      ]
     },
     "execution_count": 31,
     "metadata": {},
     "output_type": "execute_result"
    }
   ],
   "source": [
    "train.shape"
   ]
  },
  {
   "cell_type": "code",
   "execution_count": 32,
   "metadata": {},
   "outputs": [
    {
     "data": {
      "text/plain": [
       "(444761, 31)"
      ]
     },
     "execution_count": 32,
     "metadata": {},
     "output_type": "execute_result"
    }
   ],
   "source": [
    "test.shape"
   ]
  },
  {
   "cell_type": "code",
   "execution_count": 33,
   "metadata": {},
   "outputs": [
    {
     "name": "stdout",
     "output_type": "stream",
     "text": [
      "Train size: (881245, 31), CV size: (155514, 31), Test size: (444761, 31)\n"
     ]
    }
   ],
   "source": [
    "from sklearn.model_selection import train_test_split\n",
    "\n",
    "y_tr = np.log1p(train['price'])\n",
    "train.drop(['price'], axis=1, inplace=True)\n",
    "\n",
    "train_df, cv_df , y_train, y_cv = train_test_split(train, y_tr, test_size=0.15, random_state=56)\n",
    "\n",
    "print('Train size: {}, CV size: {}, Test size: {}' .format(train_df.shape, cv_df.shape, test.shape))"
   ]
  },
  {
   "cell_type": "code",
   "execution_count": 65,
   "metadata": {},
   "outputs": [
    {
     "data": {
      "text/plain": [
       "265"
      ]
     },
     "execution_count": 65,
     "metadata": {},
     "output_type": "execute_result"
    }
   ],
   "source": [
    "#del train, y_tr \n",
    "#gc.collect()"
   ]
  },
  {
   "cell_type": "code",
   "execution_count": 34,
   "metadata": {},
   "outputs": [
    {
     "name": "stderr",
     "output_type": "stream",
     "text": [
      "c:\\users\\gulec\\appdata\\local\\programs\\python\\python36\\lib\\site-packages\\ipykernel_launcher.py:1: SettingWithCopyWarning: \n",
      "A value is trying to be set on a copy of a slice from a DataFrame.\n",
      "Try using .loc[row_indexer,col_indexer] = value instead\n",
      "\n",
      "See the caveats in the documentation: https://pandas.pydata.org/pandas-docs/stable/user_guide/indexing.html#returning-a-view-versus-a-copy\n",
      "  \"\"\"Entry point for launching an IPython kernel.\n",
      "c:\\users\\gulec\\appdata\\local\\programs\\python\\python36\\lib\\site-packages\\ipykernel_launcher.py:2: SettingWithCopyWarning: \n",
      "A value is trying to be set on a copy of a slice from a DataFrame.\n",
      "Try using .loc[row_indexer,col_indexer] = value instead\n",
      "\n",
      "See the caveats in the documentation: https://pandas.pydata.org/pandas-docs/stable/user_guide/indexing.html#returning-a-view-versus-a-copy\n",
      "  \n"
     ]
    }
   ],
   "source": [
    "train_df['brand_name'] = clean_cat(train_df['brand_name'].values)\n",
    "cv_df['brand_name'] = clean_cat(cv_df['brand_name'].values)\n",
    "test['brand_name'] = clean_cat(test['brand_name'].values)"
   ]
  },
  {
   "cell_type": "code",
   "execution_count": 35,
   "metadata": {},
   "outputs": [
    {
     "name": "stdout",
     "output_type": "stream",
     "text": [
      "Shape of matrices after one hot encoding\n",
      "(881245, 4188) \n",
      " (155514, 4188) \n",
      " (444761, 4188)\n"
     ]
    }
   ],
   "source": [
    "vectorizer = CountVectorizer(lowercase=False, binary=True)\n",
    "train_brand_oneHot = vectorizer.fit_transform(train_df['brand_name'].values)\n",
    "\n",
    "cv_brand_oneHot = vectorizer.transform(cv_df['brand_name'].values)\n",
    "test_brand_oneHot = vectorizer.transform(test['brand_name'].values)\n",
    "\n",
    "print(\"Shape of matrices after one hot encoding\")\n",
    "print(train_brand_oneHot.shape, \"\\n\", cv_brand_oneHot.shape, \"\\n\", test_brand_oneHot.shape)"
   ]
  },
  {
   "cell_type": "code",
   "execution_count": 36,
   "metadata": {},
   "outputs": [
    {
     "name": "stdout",
     "output_type": "stream",
     "text": [
      "Shape of matrices after one hot encoding\n",
      "(881245, 11) \n",
      " (155514, 11) \n",
      " (444761, 11)\n"
     ]
    }
   ],
   "source": [
    "vectorizer = CountVectorizer(lowercase=False, binary=True)\n",
    "train_gencat_oneHot = vectorizer.fit_transform(train_df['gencat_name'].values)\n",
    "\n",
    "cv_gencat_oneHot = vectorizer.transform(cv_df['gencat_name'].values)\n",
    "test_gencat_oneHot = vectorizer.transform(test['gencat_name'].values)\n",
    "\n",
    "print(\"Shape of matrices after one hot encoding\")\n",
    "print(train_gencat_oneHot.shape, \"\\n\", cv_gencat_oneHot.shape, \"\\n\", test_gencat_oneHot.shape)"
   ]
  },
  {
   "cell_type": "code",
   "execution_count": 37,
   "metadata": {},
   "outputs": [
    {
     "name": "stdout",
     "output_type": "stream",
     "text": [
      "Shape of matrices after one hot encoding\n",
      "(881245, 114) \n",
      " (155514, 114) \n",
      " (444761, 114)\n"
     ]
    }
   ],
   "source": [
    "vectorizer = CountVectorizer(lowercase=False, binary=True)\n",
    "train_subcat1_oneHot = vectorizer.fit_transform(train_df['subcat1_name'].values)\n",
    "\n",
    "cv_subcat1_oneHot = vectorizer.transform(cv_df['subcat1_name'].values)\n",
    "test_subcat1_oneHot = vectorizer.transform(test['subcat1_name'].values)\n",
    "\n",
    "print(\"Shape of matrices after one hot encoding\")\n",
    "print(train_subcat1_oneHot.shape, \"\\n\", cv_subcat1_oneHot.shape, \"\\n\", test_subcat1_oneHot.shape)"
   ]
  },
  {
   "cell_type": "code",
   "execution_count": 38,
   "metadata": {},
   "outputs": [
    {
     "name": "stdout",
     "output_type": "stream",
     "text": [
      "Shape of matrices after one hot encoding\n",
      "(881245, 842) \n",
      " (155514, 842) \n",
      " (444761, 842)\n"
     ]
    }
   ],
   "source": [
    "vectorizer = CountVectorizer(lowercase=False, binary=True)\n",
    "train_subcat2_oneHot = vectorizer.fit_transform(train_df['subcat2_name'].values)\n",
    "\n",
    "cv_subcat2_oneHot = vectorizer.transform(cv_df['subcat2_name'].values)\n",
    "test_subcat2_oneHot = vectorizer.transform(test['subcat2_name'].values)\n",
    "\n",
    "print(\"Shape of matrices after one hot encoding\")\n",
    "print(train_subcat2_oneHot.shape, \"\\n\", cv_subcat2_oneHot.shape, \"\\n\", test_subcat2_oneHot.shape)"
   ]
  },
  {
   "cell_type": "code",
   "execution_count": 44,
   "metadata": {},
   "outputs": [],
   "source": [
    "def concat_feature_text(df: pd.DataFrame):\n",
    "    df['preprocessed_name'] = df['preprocessed_name'].fillna('') + ' ' + df['brand_name'].fillna('')\n",
    "    df['preprocessed_description'] = df['preprocessed_description'].fillna('') + ' ' + df['preprocessed_name'] + ' ' + df['subcat2_name'].fillna('')"
   ]
  },
  {
   "cell_type": "code",
   "execution_count": 45,
   "metadata": {},
   "outputs": [
    {
     "name": "stderr",
     "output_type": "stream",
     "text": [
      "c:\\users\\gulec\\appdata\\local\\programs\\python\\python36\\lib\\site-packages\\ipykernel_launcher.py:2: SettingWithCopyWarning: \n",
      "A value is trying to be set on a copy of a slice from a DataFrame.\n",
      "Try using .loc[row_indexer,col_indexer] = value instead\n",
      "\n",
      "See the caveats in the documentation: https://pandas.pydata.org/pandas-docs/stable/user_guide/indexing.html#returning-a-view-versus-a-copy\n",
      "  \n",
      "c:\\users\\gulec\\appdata\\local\\programs\\python\\python36\\lib\\site-packages\\ipykernel_launcher.py:3: SettingWithCopyWarning: \n",
      "A value is trying to be set on a copy of a slice from a DataFrame.\n",
      "Try using .loc[row_indexer,col_indexer] = value instead\n",
      "\n",
      "See the caveats in the documentation: https://pandas.pydata.org/pandas-docs/stable/user_guide/indexing.html#returning-a-view-versus-a-copy\n",
      "  This is separate from the ipykernel package so we can avoid doing imports until\n"
     ]
    }
   ],
   "source": [
    "concat_feature_text(train_df)\n",
    "concat_feature_text(cv_df)\n",
    "concat_feature_text(test)"
   ]
  },
  {
   "cell_type": "code",
   "execution_count": 46,
   "metadata": {},
   "outputs": [
    {
     "name": "stdout",
     "output_type": "stream",
     "text": [
      "Shape of matrices after vectorization\n",
      "(881245, 250000) \n",
      " (155514, 250000) \n",
      " (444761, 250000)\n"
     ]
    }
   ],
   "source": [
    "vectorizer = TfidfVectorizer(ngram_range=(1, 3), min_df=3, max_features=250000)\n",
    "\n",
    "train_name_tfidf = vectorizer.fit_transform(train_df['preprocessed_name'].values)\n",
    "\n",
    "cv_name_tfidf = vectorizer.transform(cv_df['preprocessed_name'].values)\n",
    "test_name_tfidf = vectorizer.transform(test['preprocessed_name'].values)\n",
    "\n",
    "print(\"Shape of matrices after vectorization\")\n",
    "print(train_name_tfidf.shape, \"\\n\", cv_name_tfidf.shape, \"\\n\", test_name_tfidf.shape)"
   ]
  },
  {
   "cell_type": "code",
   "execution_count": 47,
   "metadata": {},
   "outputs": [
    {
     "name": "stdout",
     "output_type": "stream",
     "text": [
      "Shape of matrices after vectorization\n",
      "(881245, 500000) \n",
      " (155514, 500000) \n",
      " (444761, 500000)\n"
     ]
    }
   ],
   "source": [
    "vectorizer = TfidfVectorizer(ngram_range=(1, 3), min_df=5, max_features=500000)\n",
    "\n",
    "train_description_tfidf = vectorizer.fit_transform(train_df['preprocessed_description'].values)\n",
    "\n",
    "cv_description_tfidf = vectorizer.transform(cv_df['preprocessed_description'].values)\n",
    "test_description_tfidf = vectorizer.transform(test['preprocessed_description'].values)\n",
    "\n",
    "print(\"Shape of matrices after vectorization\")\n",
    "print(train_description_tfidf.shape, \"\\n\", cv_description_tfidf.shape, \"\\n\", test_description_tfidf.shape)"
   ]
  },
  {
   "cell_type": "code",
   "execution_count": 48,
   "metadata": {},
   "outputs": [
    {
     "name": "stdout",
     "output_type": "stream",
     "text": [
      "(444761, 1)\n"
     ]
    },
    {
     "data": {
      "text/html": [
       "<div>\n",
       "<style scoped>\n",
       "    .dataframe tbody tr th:only-of-type {\n",
       "        vertical-align: middle;\n",
       "    }\n",
       "\n",
       "    .dataframe tbody tr th {\n",
       "        vertical-align: top;\n",
       "    }\n",
       "\n",
       "    .dataframe thead th {\n",
       "        text-align: right;\n",
       "    }\n",
       "</style>\n",
       "<table border=\"1\" class=\"dataframe\">\n",
       "  <thead>\n",
       "    <tr style=\"text-align: right;\">\n",
       "      <th></th>\n",
       "      <th>id</th>\n",
       "    </tr>\n",
       "  </thead>\n",
       "  <tbody>\n",
       "    <tr>\n",
       "      <th>0</th>\n",
       "      <td>1048243</td>\n",
       "    </tr>\n",
       "    <tr>\n",
       "      <th>1</th>\n",
       "      <td>86986</td>\n",
       "    </tr>\n",
       "    <tr>\n",
       "      <th>2</th>\n",
       "      <td>698316</td>\n",
       "    </tr>\n",
       "    <tr>\n",
       "      <th>3</th>\n",
       "      <td>268868</td>\n",
       "    </tr>\n",
       "    <tr>\n",
       "      <th>4</th>\n",
       "      <td>1360398</td>\n",
       "    </tr>\n",
       "  </tbody>\n",
       "</table>\n",
       "</div>"
      ],
      "text/plain": [
       "        id\n",
       "0  1048243\n",
       "1    86986\n",
       "2   698316\n",
       "3   268868\n",
       "4  1360398"
      ]
     },
     "execution_count": 48,
     "metadata": {},
     "output_type": "execute_result"
    }
   ],
   "source": [
    "submission_df = pd.DataFrame(test['id'])\n",
    "print(submission_df.shape)\n",
    "submission_df.head()"
   ]
  },
  {
   "cell_type": "code",
   "execution_count": 49,
   "metadata": {},
   "outputs": [
    {
     "data": {
      "text/plain": [
       "Index(['train_id', 'item_condition_id', 'brand_name', 'shipping',\n",
       "       'gencat_name', 'subcat1_name', 'subcat2_name', 'preprocessed_name',\n",
       "       'preprocessed_description', 'name_len', 'des_len', 'desc_word_count',\n",
       "       'name_word_count', 'desc_letters_per_word', 'name_letters_per_word',\n",
       "       'price_in_description', 'price_in_name', 'brand_mean_price',\n",
       "       'gencat_mean_price', 'subcat1_mean_price', 'subcat2_mean_price',\n",
       "       'condition_mean_price', 'brand_median_price', 'gencat_median_price',\n",
       "       'subcat1_median_price', 'subcat2_median_price',\n",
       "       'condition_median_price', 'gencat_name_count', 'subcat1_name_count',\n",
       "       'subcat2_name_count', 'brand_name_count'],\n",
       "      dtype='object')"
      ]
     },
     "execution_count": 49,
     "metadata": {},
     "output_type": "execute_result"
    }
   ],
   "source": [
    "train_df.columns"
   ]
  },
  {
   "cell_type": "code",
   "execution_count": 50,
   "metadata": {},
   "outputs": [
    {
     "name": "stdout",
     "output_type": "stream",
     "text": [
      "Normalizing following columns:  {'des_len', 'subcat2_name_count', 'subcat1_median_price', 'subcat1_mean_price', 'gencat_name_count', 'desc_letters_per_word', 'gencat_mean_price', 'brand_mean_price', 'subcat2_median_price', 'condition_median_price', 'desc_word_count', 'name_letters_per_word', 'name_word_count', 'subcat1_name_count', 'gencat_median_price', 'name_len', 'condition_mean_price', 'brand_median_price', 'brand_name_count', 'subcat2_mean_price'}\n"
     ]
    }
   ],
   "source": [
    "cols = set(train_df.columns.values) - {'train_id'}\n",
    "skip_cols = {'preprocessed_name', 'item_condition_id', 'brand_name',\n",
    "  'shipping', 'preprocessed_description', 'gencat_name',\n",
    "  'subcat1_name', 'subcat2_name', 'price_in_name', 'price_in_description'}\n",
    "\n",
    "cols_to_normalize = cols - skip_cols\n",
    "print(\"Normalizing following columns: \", cols_to_normalize)\n",
    "\n",
    "def normalize(df):\n",
    "    result1 = df.copy()\n",
    "    for feature_name in df.columns:\n",
    "        if (feature_name in cols_to_normalize):\n",
    "            print(feature_name)\n",
    "            max_value = df[feature_name].max()\n",
    "            min_value = df[feature_name].min()\n",
    "            result1[feature_name] = (df[feature_name] - min_value) / (max_value - min_value)\n",
    "    return result1"
   ]
  },
  {
   "cell_type": "code",
   "execution_count": 51,
   "metadata": {},
   "outputs": [
    {
     "data": {
      "text/plain": [
       "Index(['train_id', 'item_condition_id', 'brand_name', 'shipping',\n",
       "       'gencat_name', 'subcat1_name', 'subcat2_name', 'preprocessed_name',\n",
       "       'preprocessed_description', 'name_len', 'des_len', 'desc_word_count',\n",
       "       'name_word_count', 'desc_letters_per_word', 'name_letters_per_word',\n",
       "       'price_in_description', 'price_in_name', 'brand_mean_price',\n",
       "       'gencat_mean_price', 'subcat1_mean_price', 'subcat2_mean_price',\n",
       "       'condition_mean_price', 'brand_median_price', 'gencat_median_price',\n",
       "       'subcat1_median_price', 'subcat2_median_price',\n",
       "       'condition_median_price', 'gencat_name_count', 'subcat1_name_count',\n",
       "       'subcat2_name_count', 'brand_name_count'],\n",
       "      dtype='object')"
      ]
     },
     "execution_count": 51,
     "metadata": {},
     "output_type": "execute_result"
    }
   ],
   "source": [
    "train_df.columns"
   ]
  },
  {
   "cell_type": "code",
   "execution_count": 52,
   "metadata": {},
   "outputs": [
    {
     "name": "stdout",
     "output_type": "stream",
     "text": [
      "name_len\n",
      "des_len\n",
      "desc_word_count\n",
      "name_word_count\n",
      "desc_letters_per_word\n",
      "name_letters_per_word\n",
      "brand_mean_price\n",
      "gencat_mean_price\n",
      "subcat1_mean_price\n",
      "subcat2_mean_price\n",
      "condition_mean_price\n",
      "brand_median_price\n",
      "gencat_median_price\n",
      "subcat1_median_price\n",
      "subcat2_median_price\n",
      "condition_median_price\n",
      "gencat_name_count\n",
      "subcat1_name_count\n",
      "subcat2_name_count\n",
      "brand_name_count\n",
      "name_len\n",
      "des_len\n",
      "desc_word_count\n",
      "name_word_count\n",
      "desc_letters_per_word\n",
      "name_letters_per_word\n",
      "brand_mean_price\n",
      "gencat_mean_price\n",
      "subcat1_mean_price\n",
      "subcat2_mean_price\n",
      "condition_mean_price\n",
      "brand_median_price\n",
      "gencat_median_price\n",
      "subcat1_median_price\n",
      "subcat2_median_price\n",
      "condition_median_price\n",
      "gencat_name_count\n",
      "subcat1_name_count\n",
      "subcat2_name_count\n",
      "brand_name_count\n",
      "name_len\n",
      "des_len\n",
      "desc_word_count\n",
      "name_word_count\n",
      "desc_letters_per_word\n",
      "name_letters_per_word\n",
      "brand_mean_price\n",
      "gencat_mean_price\n",
      "subcat1_mean_price\n",
      "subcat2_mean_price\n",
      "condition_mean_price\n",
      "brand_median_price\n",
      "gencat_median_price\n",
      "subcat1_median_price\n",
      "subcat2_median_price\n",
      "condition_median_price\n",
      "gencat_name_count\n",
      "subcat1_name_count\n",
      "subcat2_name_count\n",
      "brand_name_count\n"
     ]
    }
   ],
   "source": [
    "train_normalized = normalize(train_df)\n",
    "cv_normalized = normalize(cv_df)\n",
    "test_normalized = normalize(test)"
   ]
  },
  {
   "cell_type": "code",
   "execution_count": 53,
   "metadata": {},
   "outputs": [
    {
     "data": {
      "text/html": [
       "<div>\n",
       "<style scoped>\n",
       "    .dataframe tbody tr th:only-of-type {\n",
       "        vertical-align: middle;\n",
       "    }\n",
       "\n",
       "    .dataframe tbody tr th {\n",
       "        vertical-align: top;\n",
       "    }\n",
       "\n",
       "    .dataframe thead th {\n",
       "        text-align: right;\n",
       "    }\n",
       "</style>\n",
       "<table border=\"1\" class=\"dataframe\">\n",
       "  <thead>\n",
       "    <tr style=\"text-align: right;\">\n",
       "      <th></th>\n",
       "      <th>des_len</th>\n",
       "      <th>subcat2_name_count</th>\n",
       "      <th>subcat1_median_price</th>\n",
       "      <th>subcat1_mean_price</th>\n",
       "      <th>gencat_name_count</th>\n",
       "      <th>desc_letters_per_word</th>\n",
       "      <th>gencat_mean_price</th>\n",
       "      <th>brand_mean_price</th>\n",
       "      <th>subcat2_median_price</th>\n",
       "      <th>condition_median_price</th>\n",
       "      <th>desc_word_count</th>\n",
       "      <th>name_letters_per_word</th>\n",
       "      <th>name_word_count</th>\n",
       "      <th>subcat1_name_count</th>\n",
       "      <th>gencat_median_price</th>\n",
       "      <th>name_len</th>\n",
       "      <th>condition_mean_price</th>\n",
       "      <th>brand_median_price</th>\n",
       "      <th>brand_name_count</th>\n",
       "      <th>subcat2_mean_price</th>\n",
       "    </tr>\n",
       "  </thead>\n",
       "  <tbody>\n",
       "    <tr>\n",
       "      <th>268131</th>\n",
       "      <td>0.057416</td>\n",
       "      <td>0.00802</td>\n",
       "      <td>0.264706</td>\n",
       "      <td>0.116826</td>\n",
       "      <td>0.307329</td>\n",
       "      <td>0.025000</td>\n",
       "      <td>0.103814</td>\n",
       "      <td>0.028220</td>\n",
       "      <td>0.113725</td>\n",
       "      <td>0.75</td>\n",
       "      <td>0.028689</td>\n",
       "      <td>0.106227</td>\n",
       "      <td>0.461538</td>\n",
       "      <td>0.058083</td>\n",
       "      <td>0.333333</td>\n",
       "      <td>0.833333</td>\n",
       "      <td>0.279897</td>\n",
       "      <td>0.017121</td>\n",
       "      <td>1.000000</td>\n",
       "      <td>0.101357</td>\n",
       "    </tr>\n",
       "    <tr>\n",
       "      <th>971433</th>\n",
       "      <td>0.125359</td>\n",
       "      <td>0.06409</td>\n",
       "      <td>0.735294</td>\n",
       "      <td>0.620983</td>\n",
       "      <td>1.000000</td>\n",
       "      <td>0.023899</td>\n",
       "      <td>0.638601</td>\n",
       "      <td>0.031099</td>\n",
       "      <td>0.074510</td>\n",
       "      <td>0.75</td>\n",
       "      <td>0.069672</td>\n",
       "      <td>0.145299</td>\n",
       "      <td>0.384615</td>\n",
       "      <td>0.341223</td>\n",
       "      <td>0.777778</td>\n",
       "      <td>0.928571</td>\n",
       "      <td>0.279897</td>\n",
       "      <td>0.024903</td>\n",
       "      <td>0.006383</td>\n",
       "      <td>0.077406</td>\n",
       "    </tr>\n",
       "  </tbody>\n",
       "</table>\n",
       "</div>"
      ],
      "text/plain": [
       "         des_len  subcat2_name_count  subcat1_median_price  \\\n",
       "268131  0.057416             0.00802              0.264706   \n",
       "971433  0.125359             0.06409              0.735294   \n",
       "\n",
       "        subcat1_mean_price  gencat_name_count  desc_letters_per_word  \\\n",
       "268131            0.116826           0.307329               0.025000   \n",
       "971433            0.620983           1.000000               0.023899   \n",
       "\n",
       "        gencat_mean_price  brand_mean_price  subcat2_median_price  \\\n",
       "268131           0.103814          0.028220              0.113725   \n",
       "971433           0.638601          0.031099              0.074510   \n",
       "\n",
       "        condition_median_price  desc_word_count  name_letters_per_word  \\\n",
       "268131                    0.75         0.028689               0.106227   \n",
       "971433                    0.75         0.069672               0.145299   \n",
       "\n",
       "        name_word_count  subcat1_name_count  gencat_median_price  name_len  \\\n",
       "268131         0.461538            0.058083             0.333333  0.833333   \n",
       "971433         0.384615            0.341223             0.777778  0.928571   \n",
       "\n",
       "        condition_mean_price  brand_median_price  brand_name_count  \\\n",
       "268131              0.279897            0.017121          1.000000   \n",
       "971433              0.279897            0.024903          0.006383   \n",
       "\n",
       "        subcat2_mean_price  \n",
       "268131            0.101357  \n",
       "971433            0.077406  "
      ]
     },
     "execution_count": 53,
     "metadata": {},
     "output_type": "execute_result"
    }
   ],
   "source": [
    "\n",
    "X_tr = train_normalized[list(cols_to_normalize)]\n",
    "X_val = cv_normalized[list(cols_to_normalize)]\n",
    "X_te = test_normalized[list(cols_to_normalize)]\n",
    "\n",
    "X_tr.head(2)"
   ]
  },
  {
   "cell_type": "code",
   "execution_count": null,
   "metadata": {},
   "outputs": [],
   "source": [
    "#del train_df, cv_df, test\n",
    "#gc.collect()"
   ]
  },
  {
   "cell_type": "code",
   "execution_count": 54,
   "metadata": {},
   "outputs": [
    {
     "name": "stdout",
     "output_type": "stream",
     "text": [
      "(881245, 9) (155514, 9) (444761, 9)\n"
     ]
    }
   ],
   "source": [
    "from scipy.sparse import csr_matrix\n",
    "\n",
    "X_tr_cat = csr_matrix(pd.get_dummies(train_normalized[['item_condition_id', 'shipping', 'price_in_name']], sparse=True).values)\n",
    "\n",
    "X_cv_cat = csr_matrix(pd.get_dummies(cv_normalized[['item_condition_id', 'shipping', 'price_in_name']], sparse=True).values)\n",
    "\n",
    "X_te_cat = csr_matrix(pd.get_dummies(test_normalized[['item_condition_id', 'shipping', 'price_in_name']], sparse=True).values)\n",
    "\n",
    "print(X_tr_cat.shape, X_cv_cat.shape, X_te_cat.shape)"
   ]
  },
  {
   "cell_type": "code",
   "execution_count": 55,
   "metadata": {},
   "outputs": [],
   "source": [
    "from scipy.sparse import hstack\n",
    "\n",
    "train_sparse = hstack((train_brand_oneHot, train_gencat_oneHot, train_subcat1_oneHot, train_subcat2_oneHot, \\\n",
    "               train_name_tfidf, train_description_tfidf, X_tr_cat)).tocsr()\n",
    "\n",
    "cv_sparse = hstack((cv_brand_oneHot, cv_gencat_oneHot, cv_subcat1_oneHot, cv_subcat2_oneHot, \\\n",
    "               cv_name_tfidf, cv_description_tfidf, X_cv_cat)).tocsr()\n",
    "\n",
    "test_sparse = hstack((test_brand_oneHot, test_gencat_oneHot, test_subcat1_oneHot, test_subcat2_oneHot, \\\n",
    "               test_name_tfidf, test_description_tfidf, X_te_cat)).tocsr()"
   ]
  },
  {
   "cell_type": "code",
   "execution_count": 57,
   "metadata": {},
   "outputs": [
    {
     "name": "stdout",
     "output_type": "stream",
     "text": [
      "(881245, 755164) (155514, 755164) (444761, 755164)\n"
     ]
    }
   ],
   "source": [
    "print(train_sparse.shape, cv_sparse.shape, test_sparse.shape)"
   ]
  },
  {
   "cell_type": "code",
   "execution_count": 58,
   "metadata": {},
   "outputs": [],
   "source": [
    "\n",
    "X_train = hstack((X_tr.values, train_sparse)).tocsr()\n",
    "\n",
    "X_cv = hstack((X_val.values, cv_sparse)).tocsr()\n",
    "\n",
    "X_test = hstack((X_te.values, test_sparse)).tocsr()"
   ]
  },
  {
   "cell_type": "code",
   "execution_count": 59,
   "metadata": {},
   "outputs": [
    {
     "name": "stdout",
     "output_type": "stream",
     "text": [
      "Train size: (881245, 755184), CV size: (155514, 755184), Test size: (444761, 755184)\n"
     ]
    }
   ],
   "source": [
    "print('Train size: {}, CV size: {}, Test size: {}' .format(X_train.shape, X_cv.shape, X_test.shape))"
   ]
  },
  {
   "cell_type": "code",
   "execution_count": 60,
   "metadata": {},
   "outputs": [
    {
     "name": "stderr",
     "output_type": "stream",
     "text": [
      "  0%|                                                                                            | 0/9 [00:00<?, ?it/s]c:\\users\\gulec\\appdata\\local\\programs\\python\\python36\\lib\\site-packages\\sklearn\\linear_model\\_ridge.py:556: UserWarning: \"sag\" solver requires many iterations to fit an intercept with sparse inputs. Either set the solver to \"auto\" or \"sparse_cg\", or set a low \"tol\" and a high \"max_iter\" (especially if inputs are not standardized).\n",
      "  '\"sag\" solver requires many iterations to fit '\n",
      " 11%|█████████▏                                                                         | 1/9 [02:41<21:35, 161.93s/it]c:\\users\\gulec\\appdata\\local\\programs\\python\\python36\\lib\\site-packages\\sklearn\\linear_model\\_ridge.py:556: UserWarning: \"sag\" solver requires many iterations to fit an intercept with sparse inputs. Either set the solver to \"auto\" or \"sparse_cg\", or set a low \"tol\" and a high \"max_iter\" (especially if inputs are not standardized).\n",
      "  '\"sag\" solver requires many iterations to fit '\n",
      " 22%|██████████████████▍                                                                | 2/9 [04:22<16:43, 143.39s/it]c:\\users\\gulec\\appdata\\local\\programs\\python\\python36\\lib\\site-packages\\sklearn\\linear_model\\_ridge.py:556: UserWarning: \"sag\" solver requires many iterations to fit an intercept with sparse inputs. Either set the solver to \"auto\" or \"sparse_cg\", or set a low \"tol\" and a high \"max_iter\" (especially if inputs are not standardized).\n",
      "  '\"sag\" solver requires many iterations to fit '\n",
      " 33%|███████████████████████████▋                                                       | 3/9 [05:52<12:44, 127.47s/it]c:\\users\\gulec\\appdata\\local\\programs\\python\\python36\\lib\\site-packages\\sklearn\\linear_model\\_ridge.py:556: UserWarning: \"sag\" solver requires many iterations to fit an intercept with sparse inputs. Either set the solver to \"auto\" or \"sparse_cg\", or set a low \"tol\" and a high \"max_iter\" (especially if inputs are not standardized).\n",
      "  '\"sag\" solver requires many iterations to fit '\n",
      " 44%|████████████████████████████████████▉                                              | 4/9 [07:19<09:36, 115.34s/it]c:\\users\\gulec\\appdata\\local\\programs\\python\\python36\\lib\\site-packages\\sklearn\\linear_model\\_ridge.py:556: UserWarning: \"sag\" solver requires many iterations to fit an intercept with sparse inputs. Either set the solver to \"auto\" or \"sparse_cg\", or set a low \"tol\" and a high \"max_iter\" (especially if inputs are not standardized).\n",
      "  '\"sag\" solver requires many iterations to fit '\n",
      " 56%|██████████████████████████████████████████████                                     | 5/9 [08:43<07:03, 105.93s/it]c:\\users\\gulec\\appdata\\local\\programs\\python\\python36\\lib\\site-packages\\sklearn\\linear_model\\_ridge.py:556: UserWarning: \"sag\" solver requires many iterations to fit an intercept with sparse inputs. Either set the solver to \"auto\" or \"sparse_cg\", or set a low \"tol\" and a high \"max_iter\" (especially if inputs are not standardized).\n",
      "  '\"sag\" solver requires many iterations to fit '\n",
      " 67%|████████████████████████████████████████████████████████                            | 6/9 [10:06<04:57, 99.02s/it]c:\\users\\gulec\\appdata\\local\\programs\\python\\python36\\lib\\site-packages\\sklearn\\linear_model\\_ridge.py:556: UserWarning: \"sag\" solver requires many iterations to fit an intercept with sparse inputs. Either set the solver to \"auto\" or \"sparse_cg\", or set a low \"tol\" and a high \"max_iter\" (especially if inputs are not standardized).\n",
      "  '\"sag\" solver requires many iterations to fit '\n",
      " 78%|█████████████████████████████████████████████████████████████████▎                  | 7/9 [11:30<03:09, 94.51s/it]c:\\users\\gulec\\appdata\\local\\programs\\python\\python36\\lib\\site-packages\\sklearn\\linear_model\\_ridge.py:556: UserWarning: \"sag\" solver requires many iterations to fit an intercept with sparse inputs. Either set the solver to \"auto\" or \"sparse_cg\", or set a low \"tol\" and a high \"max_iter\" (especially if inputs are not standardized).\n",
      "  '\"sag\" solver requires many iterations to fit '\n",
      " 89%|██████████████████████████████████████████████████████████████████████████▋         | 8/9 [12:52<01:30, 90.87s/it]c:\\users\\gulec\\appdata\\local\\programs\\python\\python36\\lib\\site-packages\\sklearn\\linear_model\\_ridge.py:556: UserWarning: \"sag\" solver requires many iterations to fit an intercept with sparse inputs. Either set the solver to \"auto\" or \"sparse_cg\", or set a low \"tol\" and a high \"max_iter\" (especially if inputs are not standardized).\n",
      "  '\"sag\" solver requires many iterations to fit '\n",
      "100%|████████████████████████████████████████████████████████████████████████████████████| 9/9 [14:06<00:00, 94.09s/it]\n"
     ]
    },
    {
     "name": "stdout",
     "output_type": "stream",
     "text": [
      "RMSLE for alpha =  1 is 0.45599134478870645\n",
      "RMSLE for alpha =  2 is 0.45344766215301313\n",
      "RMSLE for alpha =  3 is 0.45364483460020716\n",
      "RMSLE for alpha =  3.5 is 0.4542216750320535\n",
      "RMSLE for alpha =  4 is 0.45465992378534037\n",
      "RMSLE for alpha =  4.5 is 0.45519725193890453\n",
      "RMSLE for alpha =  5 is 0.4557347015035456\n",
      "RMSLE for alpha =  6 is 0.45654411971750214\n",
      "RMSLE for alpha =  7 is 0.4578489464634293\n"
     ]
    },
    {
     "data": {
      "image/png": "[encoded data removed]",
      "text/plain": [
       "<Figure size 432x288 with 1 Axes>"
      ]
     },
     "metadata": {
      "needs_background": "light"
     },
     "output_type": "display_data"
    }
   ],
   "source": [
    "alpha = [1, 2, 3, 3.5, 4, 4.5, 5, 6, 7] \n",
    "cv_rmsle_array=[] \n",
    "for i in tqdm(alpha):\n",
    "    model = Ridge(solver=\"sag\", random_state=56, alpha=i)\n",
    "    model.fit(X_train, y_train)\n",
    "    preds_cv = model.predict(X_cv)\n",
    "    cv_rmsle_array.append(sqrt(mse(y_cv, preds_cv)))\n",
    "\n",
    "for i in range(len(cv_rmsle_array)):\n",
    "    print ('RMSLE for alpha = ',alpha[i],'is',cv_rmsle_array[i])\n",
    "    \n",
    "best_alpha = np.argmin(cv_rmsle_array)\n",
    "\n",
    "fig, ax = plt.subplots()\n",
    "ax.plot(alpha, cv_rmsle_array)\n",
    "ax.scatter(alpha, cv_rmsle_array)\n",
    "for i, txt in enumerate(np.round(cv_rmsle_array,3)):\n",
    "    ax.annotate((alpha[i],np.round(txt,3)), (alpha[i],cv_rmsle_array[i]))\n",
    "\n",
    "plt.title(\"Cross Validation Error for each alpha\")\n",
    "plt.xlabel(\"Alpha\")\n",
    "plt.ylabel(\"Error\")\n",
    "plt.show()"
   ]
  },
  {
   "cell_type": "code",
   "execution_count": 61,
   "metadata": {},
   "outputs": [
    {
     "name": "stdout",
     "output_type": "stream",
     "text": [
      "Best alpha:  2\n"
     ]
    },
    {
     "name": "stderr",
     "output_type": "stream",
     "text": [
      "c:\\users\\gulec\\appdata\\local\\programs\\python\\python36\\lib\\site-packages\\sklearn\\linear_model\\_ridge.py:556: UserWarning: \"sag\" solver requires many iterations to fit an intercept with sparse inputs. Either set the solver to \"auto\" or \"sparse_cg\", or set a low \"tol\" and a high \"max_iter\" (especially if inputs are not standardized).\n",
      "  '\"sag\" solver requires many iterations to fit '\n"
     ]
    },
    {
     "name": "stdout",
     "output_type": "stream",
     "text": [
      "Train RMSLE: 0.3561881456310353\n",
      "Cross validation RMSLE:  0.45344766215301313\n"
     ]
    }
   ],
   "source": [
    "print(\"Best alpha: \",  alpha[best_alpha])\n",
    "model = Ridge(solver=\"sag\", random_state=56, alpha=alpha[best_alpha])\n",
    "model.fit(X_train, y_train)\n",
    "ridge_preds_tr = model.predict(X_train)\n",
    "ridge_preds_cv = model.predict(X_cv)\n",
    "ridge_preds_te = model.predict(X_test)\n",
    "\n",
    "print('Train RMSLE:', sqrt(mse(y_train, ridge_preds_tr)))\n",
    "\n",
    "ridge_rmsle = sqrt(mse(y_cv, ridge_preds_cv))\n",
    "print(\"Cross validation RMSLE: \", ridge_rmsle)"
   ]
  },
  {
   "cell_type": "code",
   "execution_count": 62,
   "metadata": {},
   "outputs": [],
   "source": [
    "submission_df['price'] = np.exp(ridge_preds_te) - 1\n",
    "\n",
    "submission_df.to_csv('ridge_submission_2.csv', index=False)"
   ]
  },
  {
   "cell_type": "code",
   "execution_count": 69,
   "metadata": {},
   "outputs": [
    {
     "name": "stderr",
     "output_type": "stream",
     "text": [
      "c:\\users\\gulec\\appdata\\local\\programs\\python\\python36\\lib\\site-packages\\sklearn\\linear_model\\_ridge.py:556: UserWarning: \"sag\" solver requires many iterations to fit an intercept with sparse inputs. Either set the solver to \"auto\" or \"sparse_cg\", or set a low \"tol\" and a high \"max_iter\" (especially if inputs are not standardized).\n",
      "  '\"sag\" solver requires many iterations to fit '\n"
     ]
    },
    {
     "name": "stdout",
     "output_type": "stream",
     "text": [
      "Train RMSLE: 0.3634728430968471\n",
      "Cross validation RMSLE:  0.4533832500185018\n"
     ]
    }
   ],
   "source": [
    "#print(\"Best alpha: \",  alpha[best_alpha])\n",
    "model = Ridge(solver=\"sag\", random_state=56, alpha=2.5)\n",
    "model.fit(X_train, y_train)\n",
    "ridge_preds_tr = model.predict(X_train)\n",
    "ridge_preds_cv = model.predict(X_cv)\n",
    "ridge_preds_te = model.predict(X_test)\n",
    "\n",
    "print('Train RMSLE:', sqrt(mse(y_train, ridge_preds_tr)))\n",
    "\n",
    "ridge_rmsle = sqrt(mse(y_cv, ridge_preds_cv))\n",
    "print(\"Cross validation RMSLE: \", ridge_rmsle)"
   ]
  },
  {
   "cell_type": "code",
   "execution_count": 70,
   "metadata": {},
   "outputs": [],
   "source": [
    "submission_df['price'] = np.exp(ridge_preds_te) - 1\n",
    "\n",
    "submission_df.to_csv('ridge_submission_3.csv', index=False)"
   ]
  },
  {
   "cell_type": "code",
   "execution_count": 65,
   "metadata": {},
   "outputs": [],
   "source": [
    "import scipy\n",
    "scipy.sparse.save_npz(\"cv_final.npz\", X_cv)\n",
    "np.save('y_cv', y_cv)"
   ]
  },
  {
   "cell_type": "code",
   "execution_count": 66,
   "metadata": {},
   "outputs": [],
   "source": [
    "scipy.sparse.save_npz(\"train_final.npz\", X_train)\n",
    "np.save('y_train', y_train)"
   ]
  },
  {
   "cell_type": "code",
   "execution_count": 67,
   "metadata": {},
   "outputs": [],
   "source": [
    "scipy.sparse.save_npz(\"test_final.npz\", X_test)"
   ]
  },
  {
   "cell_type": "code",
   "execution_count": 68,
   "metadata": {},
   "outputs": [
    {
     "data": {
      "text/plain": [
       "((881245, 755184), (881245,), (155514, 755184), (155514,), (444761, 755184))"
      ]
     },
     "execution_count": 68,
     "metadata": {},
     "output_type": "execute_result"
    }
   ],
   "source": [
    "\"\"\"\"\n",
    "X_train_saved = scipy.sparse.load_npz(\"train_final.npz\")\n",
    "y_train_saved = np.load('y_train.npy')\n",
    "\n",
    "X_cv_saved = scipy.sparse.load_npz(\"cv_final.npz\")\n",
    "y_cv_saved = np.load('y_cv.npy')\n",
    "\n",
    "X_test_saved = scipy.sparse.load_npz(\"test_final.npz\")\n",
    "X_train_saved.shape, y_train_saved.shape, X_cv_saved.shape, y_cv_saved.shape, X_test_saved.shape \n",
    "\"\"\""
   ]
  },
  {
   "cell_type": "code",
   "execution_count": 74,
   "metadata": {},
   "outputs": [],
   "source": [
    "np.save('ridge_preds_tr', ridge_preds_tr)\n",
    "np.save('ridge_preds_cv', ridge_preds_cv)\n",
    "np.save('ridge_preds_te', ridge_preds_te)\n",
    "np.save('train_sparse',train_sparse) \n",
    "np.save('cv_sparse', cv_sparse)\n",
    "np.save('test_sparse',test_sparse)"
   ]
  },
  {
   "cell_type": "code",
   "execution_count": null,
   "metadata": {},
   "outputs": [],
   "source": []
  }
 ],
 "metadata": {
  "kernelspec": {
   "display_name": "Python 3",
   "language": "python",
   "name": "python3"
  },
  "language_info": {
   "codemirror_mode": {
    "name": "ipython",
    "version": 3
   },
   "file_extension": ".py",
   "mimetype": "text/x-python",
   "name": "python",
   "nbconvert_exporter": "python",
   "pygments_lexer": "ipython3",
   "version": "3.6.8"
  }
 },
 "nbformat": 4,
 "nbformat_minor": 4
}
