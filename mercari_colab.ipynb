{
  "nbformat": 4,
  "nbformat_minor": 0,
  "metadata": {
    "kernelspec": {
      "display_name": "Python 3",
      "language": "python",
      "name": "python3"
    },
    "language_info": {
      "codemirror_mode": {
        "name": "ipython",
        "version": 3
      },
      "file_extension": ".py",
      "mimetype": "text/x-python",
      "name": "python",
      "nbconvert_exporter": "python",
      "pygments_lexer": "ipython3",
      "version": "3.6.8"
    },
    "colab": {
      "name": "mercari.ipynb",
      "provenance": [],
      "collapsed_sections": []
    }
  },
  "cells": [
    {
      "cell_type": "code",
      "metadata": {
        "id": "GA4eAiTyuL68"
      },
      "source": [
        "import pandas as pd\n",
        "from collections import Counter\n",
        "import matplotlib.pyplot as plt\n",
        "import seaborn as sns\n",
        "import numpy as np\n",
        "import re\n",
        "from tqdm import tqdm\n",
        "import gc\n",
        "from scipy import hstack\n",
        "from sklearn.feature_extraction.text import CountVectorizer\n",
        "from sklearn.feature_extraction.text import TfidfVectorizer\n",
        "from sklearn.metrics import mean_squared_error as mse\n",
        "from math import sqrt\n",
        "from sklearn.linear_model import Ridge"
      ],
      "execution_count": 1,
      "outputs": []
    },
    {
      "cell_type": "code",
      "metadata": {
        "colab": {
          "base_uri": "https://localhost:8080/"
        },
        "id": "j9EHlE5duVUq",
        "outputId": "41de60e5-846d-4666-c61d-eb3804bbbb31"
      },
      "source": [
        "from google.colab import drive\r\n",
        "drive.mount('/content/drive')"
      ],
      "execution_count": 2,
      "outputs": [
        {
          "output_type": "stream",
          "text": [
            "Mounted at /content/drive\n"
          ],
          "name": "stdout"
        }
      ]
    },
    {
      "cell_type": "code",
      "metadata": {
        "id": "b9s-WRb3cyd6"
      },
      "source": [
        ""
      ],
      "execution_count": null,
      "outputs": []
    },
    {
      "cell_type": "code",
      "metadata": {
        "id": "ciydZzxauL7P"
      },
      "source": [
        "def split_cat(text):\n",
        "    try:\n",
        "        return text.split(\"/\")\n",
        "    except:\n",
        "        return (\"No Label\", \"No Label\", \"No Label\")"
      ],
      "execution_count": 3,
      "outputs": []
    },
    {
      "cell_type": "code",
      "metadata": {
        "id": "uR4fJ9ABuL7R"
      },
      "source": [
        "train = pd.read_csv('/content/drive/MyDrive/Colab Notebooks/ML project/train.tsv', sep='\\t', \n",
        "                      dtype={'item_condition_id': 'category', 'shipping': 'category'}, \n",
        "                      converters={'category_name': split_cat})\n",
        "test = pd.read_csv('/content/drive/MyDrive/Colab Notebooks/ML project/test.tsv', sep='\\t', \n",
        "                     dtype={'item_condition_id': 'category', 'shipping': 'category'}, \n",
        "                     converters={'category_name': split_cat})"
      ],
      "execution_count": 4,
      "outputs": []
    },
    {
      "cell_type": "code",
      "metadata": {
        "colab": {
          "base_uri": "https://localhost:8080/",
          "height": 224
        },
        "id": "9dfr6spEuL7T",
        "outputId": "87561a8e-461d-4211-c0dd-3f2b3b460083"
      },
      "source": [
        "print('Shape of train data: ', train.shape)\n",
        "print('Shape of test data: ', test.shape)\n",
        "test[test.id == 17]"
      ],
      "execution_count": 5,
      "outputs": [
        {
          "output_type": "stream",
          "text": [
            "Shape of train data:  (1037774, 8)\n",
            "Shape of test data:  (444761, 7)\n"
          ],
          "name": "stdout"
        },
        {
          "output_type": "execute_result",
          "data": {
            "text/html": [
              "<div>\n",
              "<style scoped>\n",
              "    .dataframe tbody tr th:only-of-type {\n",
              "        vertical-align: middle;\n",
              "    }\n",
              "\n",
              "    .dataframe tbody tr th {\n",
              "        vertical-align: top;\n",
              "    }\n",
              "\n",
              "    .dataframe thead th {\n",
              "        text-align: right;\n",
              "    }\n",
              "</style>\n",
              "<table border=\"1\" class=\"dataframe\">\n",
              "  <thead>\n",
              "    <tr style=\"text-align: right;\">\n",
              "      <th></th>\n",
              "      <th>id</th>\n",
              "      <th>name</th>\n",
              "      <th>item_condition_id</th>\n",
              "      <th>category_name</th>\n",
              "      <th>brand_name</th>\n",
              "      <th>shipping</th>\n",
              "      <th>item_description</th>\n",
              "    </tr>\n",
              "  </thead>\n",
              "  <tbody>\n",
              "    <tr>\n",
              "      <th>87057</th>\n",
              "      <td>17</td>\n",
              "      <td>New: Baby K'tan active baby carrier</td>\n",
              "      <td>1</td>\n",
              "      <td>[Kids, Gear, Backpacks &amp; Carriers]</td>\n",
              "      <td>NaN</td>\n",
              "      <td>1</td>\n",
              "      <td>Brand new in box Size: Medium Color: Coral Ret...</td>\n",
              "    </tr>\n",
              "  </tbody>\n",
              "</table>\n",
              "</div>"
            ],
            "text/plain": [
              "       id  ...                                   item_description\n",
              "87057  17  ...  Brand new in box Size: Medium Color: Coral Ret...\n",
              "\n",
              "[1 rows x 7 columns]"
            ]
          },
          "metadata": {
            "tags": []
          },
          "execution_count": 5
        }
      ]
    },
    {
      "cell_type": "code",
      "metadata": {
        "colab": {
          "base_uri": "https://localhost:8080/",
          "height": 153
        },
        "id": "64jZNYjUuL7Y",
        "outputId": "574df9f7-9d4c-4589-ca24-604721a9f4af"
      },
      "source": [
        "train[train.train_id == 8]"
      ],
      "execution_count": 6,
      "outputs": [
        {
          "output_type": "execute_result",
          "data": {
            "text/html": [
              "<div>\n",
              "<style scoped>\n",
              "    .dataframe tbody tr th:only-of-type {\n",
              "        vertical-align: middle;\n",
              "    }\n",
              "\n",
              "    .dataframe tbody tr th {\n",
              "        vertical-align: top;\n",
              "    }\n",
              "\n",
              "    .dataframe thead th {\n",
              "        text-align: right;\n",
              "    }\n",
              "</style>\n",
              "<table border=\"1\" class=\"dataframe\">\n",
              "  <thead>\n",
              "    <tr style=\"text-align: right;\">\n",
              "      <th></th>\n",
              "      <th>train_id</th>\n",
              "      <th>name</th>\n",
              "      <th>item_condition_id</th>\n",
              "      <th>category_name</th>\n",
              "      <th>brand_name</th>\n",
              "      <th>price</th>\n",
              "      <th>shipping</th>\n",
              "      <th>item_description</th>\n",
              "    </tr>\n",
              "  </thead>\n",
              "  <tbody>\n",
              "    <tr>\n",
              "      <th>93039</th>\n",
              "      <td>8</td>\n",
              "      <td>Girls Nike Pro shorts</td>\n",
              "      <td>3</td>\n",
              "      <td>[Sports &amp; Outdoors, Apparel, Girls]</td>\n",
              "      <td>Nike</td>\n",
              "      <td>19.0</td>\n",
              "      <td>0</td>\n",
              "      <td>Girls Size small Plus green. Three shorts total.</td>\n",
              "    </tr>\n",
              "  </tbody>\n",
              "</table>\n",
              "</div>"
            ],
            "text/plain": [
              "       train_id  ...                                  item_description\n",
              "93039         8  ...  Girls Size small Plus green. Three shorts total.\n",
              "\n",
              "[1 rows x 8 columns]"
            ]
          },
          "metadata": {
            "tags": []
          },
          "execution_count": 6
        }
      ]
    },
    {
      "cell_type": "code",
      "metadata": {
        "colab": {
          "base_uri": "https://localhost:8080/"
        },
        "id": "0EvQGUSRuL7b",
        "outputId": "3915551a-2b40-4909-da3e-d05afc22a3b1"
      },
      "source": [
        "train.isnull().any()"
      ],
      "execution_count": 7,
      "outputs": [
        {
          "output_type": "execute_result",
          "data": {
            "text/plain": [
              "train_id             False\n",
              "name                 False\n",
              "item_condition_id    False\n",
              "category_name        False\n",
              "brand_name            True\n",
              "price                False\n",
              "shipping             False\n",
              "item_description      True\n",
              "dtype: bool"
            ]
          },
          "metadata": {
            "tags": []
          },
          "execution_count": 7
        }
      ]
    },
    {
      "cell_type": "code",
      "metadata": {
        "colab": {
          "base_uri": "https://localhost:8080/"
        },
        "id": "Zy4l4jRruL7e",
        "outputId": "42d803d0-24d4-463f-a01e-12005b55d86a"
      },
      "source": [
        "test.isnull().any()"
      ],
      "execution_count": 8,
      "outputs": [
        {
          "output_type": "execute_result",
          "data": {
            "text/plain": [
              "id                   False\n",
              "name                 False\n",
              "item_condition_id    False\n",
              "category_name        False\n",
              "brand_name            True\n",
              "shipping             False\n",
              "item_description      True\n",
              "dtype: bool"
            ]
          },
          "metadata": {
            "tags": []
          },
          "execution_count": 8
        }
      ]
    },
    {
      "cell_type": "code",
      "metadata": {
        "id": "xr6EpH5_uL7g"
      },
      "source": [
        "# Split category_name by '/' into subcategories and replace nulls with 'missing'\n",
        "train['gencat_name'] = train['category_name'].str.get(0).replace('', 'missing').astype('category')\n",
        "train['subcat1_name'] = train['category_name'].str.get(1).fillna('missing').astype('category')\n",
        "train['subcat2_name'] = train['category_name'].str.get(2).fillna('missing').astype('category')\n",
        "train.drop('category_name', axis=1, inplace=True)\n",
        "\n",
        "# Split category_name by '/' into subcategories and replace nulls with 'missing'\n",
        "test['gencat_name'] = test['category_name'].str.get(0).replace('', 'missing').astype('category')\n",
        "test['subcat1_name'] = test['category_name'].str.get(1).fillna('missing').astype('category')\n",
        "test['subcat2_name'] = test['category_name'].str.get(2).fillna('missing').astype('category')\n",
        "test.drop('category_name', axis=1, inplace=True)\n",
        "\n",
        "train['item_description'].fillna('missing', inplace=True)\n",
        "train['brand_name'] = train['brand_name'].fillna('missing').astype('category')\n",
        "\n",
        "test['item_description'].fillna('missing', inplace=True)\n",
        "test['brand_name'] = test['brand_name'].fillna('missing').astype('category')"
      ],
      "execution_count": 9,
      "outputs": []
    },
    {
      "cell_type": "code",
      "metadata": {
        "colab": {
          "base_uri": "https://localhost:8080/",
          "height": 69
        },
        "id": "4Lb6aKacuL7i",
        "outputId": "ab6ec718-bfcd-4c47-a7a3-d509be48a364"
      },
      "source": [
        "train[train.duplicated()] #Check for duplicate rows, NAs"
      ],
      "execution_count": 10,
      "outputs": [
        {
          "output_type": "execute_result",
          "data": {
            "text/html": [
              "<div>\n",
              "<style scoped>\n",
              "    .dataframe tbody tr th:only-of-type {\n",
              "        vertical-align: middle;\n",
              "    }\n",
              "\n",
              "    .dataframe tbody tr th {\n",
              "        vertical-align: top;\n",
              "    }\n",
              "\n",
              "    .dataframe thead th {\n",
              "        text-align: right;\n",
              "    }\n",
              "</style>\n",
              "<table border=\"1\" class=\"dataframe\">\n",
              "  <thead>\n",
              "    <tr style=\"text-align: right;\">\n",
              "      <th></th>\n",
              "      <th>train_id</th>\n",
              "      <th>name</th>\n",
              "      <th>item_condition_id</th>\n",
              "      <th>brand_name</th>\n",
              "      <th>price</th>\n",
              "      <th>shipping</th>\n",
              "      <th>item_description</th>\n",
              "      <th>gencat_name</th>\n",
              "      <th>subcat1_name</th>\n",
              "      <th>subcat2_name</th>\n",
              "    </tr>\n",
              "  </thead>\n",
              "  <tbody>\n",
              "  </tbody>\n",
              "</table>\n",
              "</div>"
            ],
            "text/plain": [
              "Empty DataFrame\n",
              "Columns: [train_id, name, item_condition_id, brand_name, price, shipping, item_description, gencat_name, subcat1_name, subcat2_name]\n",
              "Index: []"
            ]
          },
          "metadata": {
            "tags": []
          },
          "execution_count": 10
        }
      ]
    },
    {
      "cell_type": "code",
      "metadata": {
        "colab": {
          "base_uri": "https://localhost:8080/"
        },
        "id": "YSpJWCiauL7k",
        "outputId": "af976132-0ab5-4421-d9a6-83ba4c696b9b"
      },
      "source": [
        "print('Removed {} rows' .format(len(train[train.price<=0])))\n",
        "train = train[train.price > 0].reset_index(drop=True)\n"
      ],
      "execution_count": 11,
      "outputs": [
        {
          "output_type": "stream",
          "text": [
            "Removed 604 rows\n"
          ],
          "name": "stdout"
        }
      ]
    },
    {
      "cell_type": "code",
      "metadata": {
        "colab": {
          "base_uri": "https://localhost:8080/"
        },
        "id": "5vwv4ucNuL7l",
        "outputId": "f49aa882-957a-40ef-bf36-fee74c6ce34b"
      },
      "source": [
        "train.name.describe()"
      ],
      "execution_count": 12,
      "outputs": [
        {
          "output_type": "execute_result",
          "data": {
            "text/plain": [
              "count     1037170\n",
              "unique     877408\n",
              "top        Bundle\n",
              "freq         1553\n",
              "Name: name, dtype: object"
            ]
          },
          "metadata": {
            "tags": []
          },
          "execution_count": 12
        }
      ]
    },
    {
      "cell_type": "code",
      "metadata": {
        "colab": {
          "base_uri": "https://localhost:8080/"
        },
        "id": "4a-hwgz8uL7p",
        "outputId": "6555596f-5748-49dc-c1dd-aae0c8612d3d"
      },
      "source": [
        "train.item_condition_id.describe()"
      ],
      "execution_count": 13,
      "outputs": [
        {
          "output_type": "execute_result",
          "data": {
            "text/plain": [
              "count     1037170\n",
              "unique          5\n",
              "top             1\n",
              "freq       448197\n",
              "Name: item_condition_id, dtype: object"
            ]
          },
          "metadata": {
            "tags": []
          },
          "execution_count": 13
        }
      ]
    },
    {
      "cell_type": "code",
      "metadata": {
        "colab": {
          "base_uri": "https://localhost:8080/",
          "height": 388
        },
        "id": "ooU8fTl6uL7r",
        "outputId": "baf91ad6-7f4f-4087-c718-4eba83183617"
      },
      "source": [
        "condition_count = Counter(list(train.item_condition_id))\n",
        "x, y = zip(*condition_count.most_common())\n",
        "plt.figure(figsize=[8,6])\n",
        "plt.bar(x, y)\n",
        "for i, val in enumerate(y):\n",
        "           plt.annotate(val, (x[i], y[i]), color='b')\n",
        "plt.xlabel('item condition')\n",
        "plt.ylabel('count')\n",
        "plt.grid(True, axis='y')\n",
        "plt.show()"
      ],
      "execution_count": 14,
      "outputs": [
        {
          "output_type": "display_data",
          "data": {
            "image/png": "[encoded data removed]",
            "text/plain": [
              "<Figure size 576x432 with 1 Axes>"
            ]
          },
          "metadata": {
            "tags": [],
            "needs_background": "light"
          }
        }
      ]
    },
    {
      "cell_type": "code",
      "metadata": {
        "colab": {
          "base_uri": "https://localhost:8080/"
        },
        "id": "qOCnNkZtuL7t",
        "outputId": "2713e48d-72e1-486a-c367-9b7e98c863b1"
      },
      "source": [
        "train.brand_name.describe()"
      ],
      "execution_count": 15,
      "outputs": [
        {
          "output_type": "execute_result",
          "data": {
            "text/plain": [
              "count     1037170\n",
              "unique       4413\n",
              "top       missing\n",
              "freq       442715\n",
              "Name: brand_name, dtype: object"
            ]
          },
          "metadata": {
            "tags": []
          },
          "execution_count": 15
        }
      ]
    },
    {
      "cell_type": "code",
      "metadata": {
        "colab": {
          "base_uri": "https://localhost:8080/",
          "height": 497
        },
        "id": "CLzhrGgjuL7u",
        "outputId": "a4878cfe-cb52-4c8c-8b46-4103df8880f9"
      },
      "source": [
        "brand_count = Counter(list(train.brand_name.values))\n",
        "x, y = zip(*brand_count.most_common(15))\n",
        "\n",
        "plt.figure(figsize=[6,8])\n",
        "plt.barh(x, y)\n",
        "for i, val in enumerate(y):\n",
        "           plt.annotate(val, (y[i], x[i]), color='b')\n",
        "plt.gca().invert_yaxis()\n",
        "plt.ylabel('Brand name')\n",
        "plt.xlabel('count')\n",
        "plt.grid(True, axis='x')\n",
        "plt.show()"
      ],
      "execution_count": 16,
      "outputs": [
        {
          "output_type": "display_data",
          "data": {
            "image/png": "[encoded data removed]",
            "text/plain": [
              "<Figure size 432x576 with 1 Axes>"
            ]
          },
          "metadata": {
            "tags": [],
            "needs_background": "light"
          }
        }
      ]
    },
    {
      "cell_type": "code",
      "metadata": {
        "colab": {
          "base_uri": "https://localhost:8080/"
        },
        "id": "dlcta3X5uL7v",
        "outputId": "8af3e4a3-ff3f-4d73-d746-d2991bd24223"
      },
      "source": [
        "brand_missing = train[train.brand_name=='missing'].shape[0]\n",
        "print('Brand name is missing for {} datapoints, i.e. {:.2f} % of train data.' .format(brand_missing, 100.0*brand_missing/train.shape[0]))"
      ],
      "execution_count": 17,
      "outputs": [
        {
          "output_type": "stream",
          "text": [
            "Brand name is missing for 442715 datapoints, i.e. 42.68 % of train data.\n"
          ],
          "name": "stdout"
        }
      ]
    },
    {
      "cell_type": "code",
      "metadata": {
        "colab": {
          "base_uri": "https://localhost:8080/"
        },
        "id": "gFVGvulbuL7x",
        "outputId": "0ef1e965-ee68-47fc-968a-8488ecf82bba"
      },
      "source": [
        "train.gencat_name.describe()"
      ],
      "execution_count": 18,
      "outputs": [
        {
          "output_type": "execute_result",
          "data": {
            "text/plain": [
              "count     1037170\n",
              "unique         11\n",
              "top         Women\n",
              "freq       464350\n",
              "Name: gencat_name, dtype: object"
            ]
          },
          "metadata": {
            "tags": []
          },
          "execution_count": 18
        }
      ]
    },
    {
      "cell_type": "code",
      "metadata": {
        "colab": {
          "base_uri": "https://localhost:8080/",
          "height": 497
        },
        "id": "dEKGytQXuL7y",
        "outputId": "21c58768-cda8-4a33-a811-f0d86ea5c6ed"
      },
      "source": [
        "gencat_count = Counter(list(train.gencat_name.values))\n",
        "x, y = zip(*gencat_count.most_common(15))\n",
        "plt.figure(figsize=[6,8])\n",
        "plt.barh(x, y)\n",
        "for i, val in enumerate(y):\n",
        "           plt.annotate(val, (y[i], x[i]), color='b')\n",
        "plt.gca().invert_yaxis()\n",
        "plt.ylabel('General category')\n",
        "plt.xlabel('count')\n",
        "plt.grid(True, axis='x')\n",
        "plt.show()"
      ],
      "execution_count": 19,
      "outputs": [
        {
          "output_type": "display_data",
          "data": {
            "image/png": "[encoded data removed]",
            "text/plain": [
              "<Figure size 432x576 with 1 Axes>"
            ]
          },
          "metadata": {
            "tags": [],
            "needs_background": "light"
          }
        }
      ]
    },
    {
      "cell_type": "code",
      "metadata": {
        "colab": {
          "base_uri": "https://localhost:8080/"
        },
        "id": "3AdtJKv_uL7z",
        "outputId": "bdf8c8b5-d478-44c4-e2b0-8f31bda227a8"
      },
      "source": [
        "gencat_missing = train[train.gencat_name=='missing'].shape[0]\n",
        "print('category name is missing for {} datapoints, i.e. {:.2f} % of train data.' .format(gencat_missing, 100.0*gencat_missing/train.shape[0]))"
      ],
      "execution_count": 20,
      "outputs": [
        {
          "output_type": "stream",
          "text": [
            "category name is missing for 4372 datapoints, i.e. 0.42 % of train data.\n"
          ],
          "name": "stdout"
        }
      ]
    },
    {
      "cell_type": "code",
      "metadata": {
        "colab": {
          "base_uri": "https://localhost:8080/"
        },
        "id": "R8cPFj2VuL70",
        "outputId": "35de9695-da3d-4f64-ac93-286086db7af1"
      },
      "source": [
        "train.subcat1_name.describe()"
      ],
      "execution_count": 21,
      "outputs": [
        {
          "output_type": "execute_result",
          "data": {
            "text/plain": [
              "count              1037170\n",
              "unique                 114\n",
              "top       Athletic Apparel\n",
              "freq                 93933\n",
              "Name: subcat1_name, dtype: object"
            ]
          },
          "metadata": {
            "tags": []
          },
          "execution_count": 21
        }
      ]
    },
    {
      "cell_type": "code",
      "metadata": {
        "colab": {
          "base_uri": "https://localhost:8080/",
          "height": 606
        },
        "id": "XuZiaaBduL72",
        "outputId": "94c59458-847c-40dd-812c-fcc1f41a954f"
      },
      "source": [
        "subcat1_count = Counter(list(train.subcat1_name.values))\n",
        "x, y = zip(*subcat1_count.most_common(15))\n",
        "plt.figure(figsize=[6,10])\n",
        "plt.barh(x, y)\n",
        "for i, val in enumerate(y):\n",
        "           plt.annotate(val, (y[i], x[i]), color='b')\n",
        "plt.gca().invert_yaxis()\n",
        "plt.ylabel('Sub-category1')\n",
        "plt.xlabel('count')\n",
        "plt.grid(True, axis='x')\n",
        "plt.show()"
      ],
      "execution_count": 22,
      "outputs": [
        {
          "output_type": "display_data",
          "data": {
            "image/png": "[encoded data removed]",
            "text/plain": [
              "<Figure size 432x720 with 1 Axes>"
            ]
          },
          "metadata": {
            "tags": [],
            "needs_background": "light"
          }
        }
      ]
    },
    {
      "cell_type": "code",
      "metadata": {
        "colab": {
          "base_uri": "https://localhost:8080/"
        },
        "id": "r1yNtVS6uL73",
        "outputId": "6e7b2a2f-64b3-4586-f89a-dfa4a925dc00"
      },
      "source": [
        "train.subcat2_name.describe()"
      ],
      "execution_count": 23,
      "outputs": [
        {
          "output_type": "execute_result",
          "data": {
            "text/plain": [
              "count                     1037170\n",
              "unique                        857\n",
              "top       Pants, Tights, Leggings\n",
              "freq                        42032\n",
              "Name: subcat2_name, dtype: object"
            ]
          },
          "metadata": {
            "tags": []
          },
          "execution_count": 23
        }
      ]
    },
    {
      "cell_type": "code",
      "metadata": {
        "colab": {
          "base_uri": "https://localhost:8080/",
          "height": 606
        },
        "id": "quoKZmF9uL74",
        "outputId": "298fbf81-bb2a-4e1d-8096-2887c25cd00a"
      },
      "source": [
        "subcat2_count = Counter(list(train.subcat2_name.values))\n",
        "x, y = zip(*subcat2_count.most_common(15))\n",
        "plt.figure(figsize=[6,10])\n",
        "plt.barh(x, y)\n",
        "for i, val in enumerate(y):\n",
        "           plt.annotate(val, (y[i], x[i]), color='b')\n",
        "plt.gca().invert_yaxis()\n",
        "plt.ylabel('Sub-category2')\n",
        "plt.xlabel('count')\n",
        "plt.grid(True, axis='x')\n",
        "plt.show()"
      ],
      "execution_count": 24,
      "outputs": [
        {
          "output_type": "display_data",
          "data": {
            "image/png": "[encoded data removed]",
            "text/plain": [
              "<Figure size 432x720 with 1 Axes>"
            ]
          },
          "metadata": {
            "tags": [],
            "needs_background": "light"
          }
        }
      ]
    },
    {
      "cell_type": "code",
      "metadata": {
        "colab": {
          "base_uri": "https://localhost:8080/"
        },
        "id": "GyMC0yNxuL74",
        "outputId": "cd432f81-3aa0-4f5d-8151-c02cd02b330b"
      },
      "source": [
        "desc_missing = train[train.item_description=='missing'].shape[0]\n",
        "print('item description is missing for {} datapoints, i.e. {:.5f} % of train data.' .format(desc_missing, 100.0*desc_missing/train.shape[0]))"
      ],
      "execution_count": 25,
      "outputs": [
        {
          "output_type": "stream",
          "text": [
            "item description is missing for 2 datapoints, i.e. 0.00019 % of train data.\n"
          ],
          "name": "stdout"
        }
      ]
    },
    {
      "cell_type": "code",
      "metadata": {
        "colab": {
          "base_uri": "https://localhost:8080/",
          "height": 201
        },
        "id": "zZD6vDo_uL76",
        "outputId": "fc6f4805-5dec-4202-c913-6d5a8e325529"
      },
      "source": [
        "train[train.item_description=='missing']"
      ],
      "execution_count": 26,
      "outputs": [
        {
          "output_type": "execute_result",
          "data": {
            "text/html": [
              "<div>\n",
              "<style scoped>\n",
              "    .dataframe tbody tr th:only-of-type {\n",
              "        vertical-align: middle;\n",
              "    }\n",
              "\n",
              "    .dataframe tbody tr th {\n",
              "        vertical-align: top;\n",
              "    }\n",
              "\n",
              "    .dataframe thead th {\n",
              "        text-align: right;\n",
              "    }\n",
              "</style>\n",
              "<table border=\"1\" class=\"dataframe\">\n",
              "  <thead>\n",
              "    <tr style=\"text-align: right;\">\n",
              "      <th></th>\n",
              "      <th>train_id</th>\n",
              "      <th>name</th>\n",
              "      <th>item_condition_id</th>\n",
              "      <th>brand_name</th>\n",
              "      <th>price</th>\n",
              "      <th>shipping</th>\n",
              "      <th>item_description</th>\n",
              "      <th>gencat_name</th>\n",
              "      <th>subcat1_name</th>\n",
              "      <th>subcat2_name</th>\n",
              "    </tr>\n",
              "  </thead>\n",
              "  <tbody>\n",
              "    <tr>\n",
              "      <th>61467</th>\n",
              "      <td>1224924</td>\n",
              "      <td>Disney Minnie Head band</td>\n",
              "      <td>3</td>\n",
              "      <td>Disney</td>\n",
              "      <td>9.0</td>\n",
              "      <td>0</td>\n",
              "      <td>missing</td>\n",
              "      <td>Women</td>\n",
              "      <td>Women's Accessories</td>\n",
              "      <td>Hair Accessories</td>\n",
              "    </tr>\n",
              "    <tr>\n",
              "      <th>589297</th>\n",
              "      <td>1264242</td>\n",
              "      <td>For Bianca</td>\n",
              "      <td>3</td>\n",
              "      <td>missing</td>\n",
              "      <td>10.0</td>\n",
              "      <td>1</td>\n",
              "      <td>missing</td>\n",
              "      <td>Women</td>\n",
              "      <td>Women's Accessories</td>\n",
              "      <td>Scarves &amp; Wraps</td>\n",
              "    </tr>\n",
              "  </tbody>\n",
              "</table>\n",
              "</div>"
            ],
            "text/plain": [
              "        train_id  ...      subcat2_name\n",
              "61467    1224924  ...  Hair Accessories\n",
              "589297   1264242  ...   Scarves & Wraps\n",
              "\n",
              "[2 rows x 10 columns]"
            ]
          },
          "metadata": {
            "tags": []
          },
          "execution_count": 26
        }
      ]
    },
    {
      "cell_type": "code",
      "metadata": {
        "colab": {
          "base_uri": "https://localhost:8080/"
        },
        "id": "GHgoSgXnuL79",
        "outputId": "7e89587b-7657-49d9-c1f6-5a329ce497df"
      },
      "source": [
        "train.price.describe()"
      ],
      "execution_count": 27,
      "outputs": [
        {
          "output_type": "execute_result",
          "data": {
            "text/plain": [
              "count    1.037170e+06\n",
              "mean     2.675051e+01\n",
              "std      3.862636e+01\n",
              "min      3.000000e+00\n",
              "25%      1.000000e+01\n",
              "50%      1.700000e+01\n",
              "75%      2.900000e+01\n",
              "max      2.004000e+03\n",
              "Name: price, dtype: float64"
            ]
          },
          "metadata": {
            "tags": []
          },
          "execution_count": 27
        }
      ]
    },
    {
      "cell_type": "code",
      "metadata": {
        "colab": {
          "base_uri": "https://localhost:8080/",
          "height": 255
        },
        "id": "e03Mb0twuL7-",
        "outputId": "d805d842-c5b6-4052-91ed-6c2b337b87f1"
      },
      "source": [
        "sns.boxplot(y='price', data=train, showfliers=False)\n",
        "plt.show()"
      ],
      "execution_count": 28,
      "outputs": [
        {
          "output_type": "display_data",
          "data": {
            "image/png": "[encoded data removed]",
            "text/plain": [
              "<Figure size 432x288 with 1 Axes>"
            ]
          },
          "metadata": {
            "tags": [],
            "needs_background": "light"
          }
        }
      ]
    },
    {
      "cell_type": "code",
      "metadata": {
        "colab": {
          "base_uri": "https://localhost:8080/",
          "height": 445
        },
        "id": "ocnyqbsluL8A",
        "outputId": "85521407-0c41-49ec-e19c-ee7f7d9ce1b7"
      },
      "source": [
        "fig, ax = plt.subplots(figsize=(14, 8))\n",
        "ax.hist(train.price, bins=30, range=[0, 300], label=\"Price\")\n",
        "plt.title('Price distribution', fontsize = 15)\n",
        "ax.set_xlabel('Price', fontsize=15)\n",
        "ax.set_ylabel('No of items', fontsize=15)\n",
        "plt.show()"
      ],
      "execution_count": 29,
      "outputs": [
        {
          "output_type": "display_data",
          "data": {
            "image/png": "[encoded data removed]",
            "text/plain": [
              "<Figure size 1008x576 with 1 Axes>"
            ]
          },
          "metadata": {
            "tags": [],
            "needs_background": "light"
          }
        }
      ]
    },
    {
      "cell_type": "code",
      "metadata": {
        "id": "LNxgBWCXuL8B"
      },
      "source": [
        "def clean_cat(cat_values):\n",
        "    \n",
        "    catogories = list(cat_values)\n",
        "\n",
        "    cat_list = []\n",
        "    for i in (catogories):\n",
        "        i = re.sub('[^A-Za-z0-9]+', ' ', i)\n",
        "        i = i.replace(' ','')\n",
        "        i = i.replace('&','_')\n",
        "        cat_list.append(i.strip())\n",
        "    \n",
        "    return cat_list"
      ],
      "execution_count": 30,
      "outputs": []
    },
    {
      "cell_type": "code",
      "metadata": {
        "id": "yXppvG0BuL8C"
      },
      "source": [
        "train['gencat_name'] = clean_cat(train['gencat_name'].values)\n",
        "test['gencat_name'] = clean_cat(test['gencat_name'].values)\n",
        "\n",
        "train['subcat1_name'] = clean_cat(train['subcat1_name'].values)\n",
        "test['subcat1_name'] = clean_cat(test['subcat1_name'].values)\n",
        "\n",
        "train['subcat2_name'] = clean_cat(train['subcat2_name'].values)\n",
        "test['subcat2_name'] = clean_cat(test['subcat2_name'].values)"
      ],
      "execution_count": 31,
      "outputs": []
    },
    {
      "cell_type": "code",
      "metadata": {
        "colab": {
          "base_uri": "https://localhost:8080/",
          "height": 295
        },
        "id": "6DkcZ4uVuL8C",
        "outputId": "a8cccd17-c907-4c99-dbee-e8655d18abf8"
      },
      "source": [
        "sns.barplot(y='brand_name', x='price', data=train)\n",
        "plt.title('Mean price according brand name')\n",
        "plt.show()"
      ],
      "execution_count": 32,
      "outputs": [
        {
          "output_type": "display_data",
          "data": {
            "image/png": "[encoded data removed]",
            "text/plain": [
              "<Figure size 432x288 with 1 Axes>"
            ]
          },
          "metadata": {
            "tags": [],
            "needs_background": "light"
          }
        }
      ]
    },
    {
      "cell_type": "code",
      "metadata": {
        "colab": {
          "base_uri": "https://localhost:8080/",
          "height": 295
        },
        "id": "-YxfRcdeuL8D",
        "outputId": "ce352d6a-6652-47d7-e275-38d85048e99c"
      },
      "source": [
        "sns.barplot(y='gencat_name', x='price', data=train)\n",
        "plt.title('Mean price of various categories')\n",
        "plt.show()"
      ],
      "execution_count": 33,
      "outputs": [
        {
          "output_type": "display_data",
          "data": {
            "image/png": "[encoded data removed]",
            "text/plain": [
              "<Figure size 432x288 with 1 Axes>"
            ]
          },
          "metadata": {
            "tags": [],
            "needs_background": "light"
          }
        }
      ]
    },
    {
      "cell_type": "code",
      "metadata": {
        "colab": {
          "base_uri": "https://localhost:8080/",
          "height": 301
        },
        "id": "6e6RzSqKuL8E",
        "outputId": "e21a3b2e-794d-4596-f054-25adb3af350b"
      },
      "source": [
        "sns.set(style='whitegrid')\n",
        "sns.boxplot(x='item_condition_id', y='price', data=train, showfliers=False)\n",
        "plt.title('item_condition-wise distribution of price')\n",
        "plt.show()"
      ],
      "execution_count": 34,
      "outputs": [
        {
          "output_type": "display_data",
          "data": {
            "image/png": "[encoded data removed]",
            "text/plain": [
              "<Figure size 432x288 with 1 Axes>"
            ]
          },
          "metadata": {
            "tags": []
          }
        }
      ]
    },
    {
      "cell_type": "code",
      "metadata": {
        "colab": {
          "base_uri": "https://localhost:8080/",
          "height": 301
        },
        "id": "QGbRxMUAuL8E",
        "outputId": "4a4b198b-aca0-4c74-eb04-b2e994b4524f"
      },
      "source": [
        "sns.barplot(y='price', x='item_condition_id', data=train)\n",
        "plt.title('Mean price of various categories')\n",
        "plt.show()"
      ],
      "execution_count": 35,
      "outputs": [
        {
          "output_type": "display_data",
          "data": {
            "image/png": "[encoded data removed]",
            "text/plain": [
              "<Figure size 432x288 with 1 Axes>"
            ]
          },
          "metadata": {
            "tags": []
          }
        }
      ]
    },
    {
      "cell_type": "code",
      "metadata": {
        "colab": {
          "base_uri": "https://localhost:8080/",
          "height": 301
        },
        "id": "0ySzHrs4uL8G",
        "outputId": "b4c18a11-2113-4dee-828a-f658ca9d601c"
      },
      "source": [
        "sns.set(style='whitegrid')\n",
        "sns.boxplot(x='shipping', y='price', data=train, showfliers=False)\n",
        "plt.title('item_shipping distribution of price')\n",
        "plt.show()"
      ],
      "execution_count": 36,
      "outputs": [
        {
          "output_type": "display_data",
          "data": {
            "image/png": "[encoded data removed]",
            "text/plain": [
              "<Figure size 432x288 with 1 Axes>"
            ]
          },
          "metadata": {
            "tags": []
          }
        }
      ]
    },
    {
      "cell_type": "code",
      "metadata": {
        "colab": {
          "base_uri": "https://localhost:8080/",
          "height": 301
        },
        "id": "bc2Hb1EWuL8H",
        "outputId": "939f6a14-c8ef-4ed3-9f62-25709da51f05"
      },
      "source": [
        "sns.barplot(y='price', x='shipping', data=train)\n",
        "plt.title('Mean price of various categories')\n",
        "plt.show()"
      ],
      "execution_count": 37,
      "outputs": [
        {
          "output_type": "display_data",
          "data": {
            "image/png": "[encoded data removed]",
            "text/plain": [
              "<Figure size 432x288 with 1 Axes>"
            ]
          },
          "metadata": {
            "tags": []
          }
        }
      ]
    },
    {
      "cell_type": "code",
      "metadata": {
        "colab": {
          "base_uri": "https://localhost:8080/"
        },
        "id": "CBVpEJ2PuL8J",
        "outputId": "3eab8524-ca9d-4ee9-86d6-772c60483a30"
      },
      "source": [
        "train['name'].str.lower()"
      ],
      "execution_count": 38,
      "outputs": [
        {
          "output_type": "execute_result",
          "data": {
            "text/plain": [
              "0          tarte rainforest after dark colored clay\n",
              "1                        mac mineralize skin finish\n",
              "2                            white case iphone 6/6s\n",
              "3                  victoria's secret push-up plunge\n",
              "4             disney princess toddler boots size 10\n",
              "                             ...                   \n",
              "1037165                     nike dri fit hooded top\n",
              "1037166                       talk red hunter boots\n",
              "1037167     nwt free ship cc 2beanie hat beige+taup\n",
              "1037168                        winston cup snapback\n",
              "1037169           old navy rockstar skinny cords 10\n",
              "Name: name, Length: 1037170, dtype: object"
            ]
          },
          "metadata": {
            "tags": []
          },
          "execution_count": 38
        }
      ]
    },
    {
      "cell_type": "code",
      "metadata": {
        "colab": {
          "base_uri": "https://localhost:8080/"
        },
        "id": "JzgRy6lYuL8K",
        "outputId": "560ee549-c5da-4c67-fd63-e362060d08d7"
      },
      "source": [
        "test['name'].str.lower()"
      ],
      "execution_count": 39,
      "outputs": [
        {
          "output_type": "execute_result",
          "data": {
            "text/plain": [
              "0                       herschel retreat backpack\n",
              "1                               2 pairs of lebron\n",
              "2          mario kart double dash with bonus disc\n",
              "3          tokidoki unicorno kaiju and strawberry\n",
              "4              like ugg cardy, grey knit top boot\n",
              "                           ...                   \n",
              "444756                         ivory ella tie dye\n",
              "444757                      5 tier shoe organizer\n",
              "444758    toy bundle (fun fun fun fun fun 4 baby)\n",
              "444759                        adidas jogging suit\n",
              "444760                           artistry hydra-v\n",
              "Name: name, Length: 444761, dtype: object"
            ]
          },
          "metadata": {
            "tags": []
          },
          "execution_count": 39
        }
      ]
    },
    {
      "cell_type": "code",
      "metadata": {
        "colab": {
          "base_uri": "https://localhost:8080/"
        },
        "id": "ZL4E5d47uL8L",
        "outputId": "c4deaaec-51ef-45e9-f021-ab8c2130f3bf"
      },
      "source": [
        "test['item_description'].str.lower()\n",
        "test['item_description'].str.lower()"
      ],
      "execution_count": 40,
      "outputs": [
        {
          "output_type": "execute_result",
          "data": {
            "text/plain": [
              "0         in great condition! only issue is magnet that ...\n",
              "1         lebron soldier 10 size 10.5 9/10 condition leb...\n",
              "2                                good shape work no problem\n",
              "3                               both new with foil and box.\n",
              "4         brand new, not even a foot near them! size 8 b...\n",
              "                                ...                        \n",
              "444756    tags- american eagle, aeropostale, hollister, ...\n",
              "444757    5 tier shoe organizer brand new never used 100...\n",
              "444758    includes: fisher-price cozy fit tummy wedge ~ ...\n",
              "444759    women comfortable adidas 2pc jogging suit incl...\n",
              "444760                         full and great for your skin\n",
              "Name: item_description, Length: 444761, dtype: object"
            ]
          },
          "metadata": {
            "tags": []
          },
          "execution_count": 40
        }
      ]
    },
    {
      "cell_type": "code",
      "metadata": {
        "colab": {
          "base_uri": "https://localhost:8080/"
        },
        "id": "Ib-N9gJWuL8M",
        "outputId": "dba11c18-d721-4bb2-d7c8-22bc68a451ee"
      },
      "source": [
        "import nltk\n",
        "nltk.download('stopwords')\n",
        "from nltk.corpus import stopwords\n",
        "stopwords = stopwords.words('english')\n",
        "\n",
        "\n",
        "def preprocess_text(text_col):\n",
        "    preprocessed_text = []\n",
        "    for sentence in tqdm((text_col.values)):\n",
        "        sent = sentence.replace('\\\\r', ' ')\n",
        "        sent = sent.replace('\\\\\"', ' ')\n",
        "        sent = sent.replace('\\\\n', ' ')\n",
        "        sent = re.sub('[^A-Za-z0-9]+', ' ', sent)\n",
        "        sent = ' '.join(e for e in sent.split() if e not in stopwords)\n",
        "        preprocessed_text.append(sent.lower().strip())\n",
        "    return preprocessed_text"
      ],
      "execution_count": 41,
      "outputs": [
        {
          "output_type": "stream",
          "text": [
            "[nltk_data] Downloading package stopwords to /root/nltk_data...\n",
            "[nltk_data]   Unzipping corpora/stopwords.zip.\n"
          ],
          "name": "stdout"
        }
      ]
    },
    {
      "cell_type": "code",
      "metadata": {
        "colab": {
          "base_uri": "https://localhost:8080/"
        },
        "id": "_M7Teiz0uL8M",
        "outputId": "a272949f-6137-405f-a68e-dba1138c0121"
      },
      "source": [
        "train['preprocessed_name'] = preprocess_text(train['name'])\n",
        "test['preprocessed_name'] = preprocess_text(test['name'])\n",
        "\n",
        "train['preprocessed_description'] = preprocess_text(train['item_description'])\n",
        "test['preprocessed_description'] = preprocess_text(test['item_description'])"
      ],
      "execution_count": 42,
      "outputs": [
        {
          "output_type": "stream",
          "text": [
            "100%|██████████| 1037170/1037170 [00:13<00:00, 74612.66it/s]\n",
            "100%|██████████| 444761/444761 [00:06<00:00, 73659.00it/s]\n",
            "100%|██████████| 1037170/1037170 [00:58<00:00, 17838.59it/s]\n",
            "100%|██████████| 444761/444761 [00:24<00:00, 17855.16it/s]\n"
          ],
          "name": "stderr"
        }
      ]
    },
    {
      "cell_type": "code",
      "metadata": {
        "id": "OcTqJACcuL8O"
      },
      "source": [
        "train['name_len'] = train['name'].apply(lambda x: len(x))\n",
        "train['des_len'] = train['item_description'].apply(lambda x: len(x))\n",
        "train['desc_word_count'] = train['item_description'].apply(lambda x: len(x.split()))\n",
        "train['name_word_count'] = train['name'].apply(lambda x: len(x.split()))\n",
        "train['desc_letters_per_word'] = train['des_len'] / train['desc_word_count']\n",
        "train['name_letters_per_word'] = train['name_len'] / train['name_word_count']\n",
        "train['price_in_description'] = train['item_description'].str.contains('[rm]', regex=False).astype('category')\n",
        "train['price_in_name'] = train['name'].str.contains('[rm]', regex=False).astype('category')"
      ],
      "execution_count": 43,
      "outputs": []
    },
    {
      "cell_type": "code",
      "metadata": {
        "id": "wOYGwuvyuL8P"
      },
      "source": [
        "test['name_len'] = test['name'].apply(lambda x: len(x))\n",
        "test['des_len'] = test['item_description'].apply(lambda x: len(x))\n",
        "test['desc_word_count'] = test['item_description'].apply(lambda x: len(x.split()))\n",
        "test['name_word_count'] = test['name'].apply(lambda x: len(x.split()))\n",
        "test['desc_letters_per_word'] = test['des_len'] / test['desc_word_count']\n",
        "test['name_letters_per_word'] = test['name_len'] / test['name_word_count']\n",
        "test['price_in_description'] = test['item_description'].str.contains('[rm]', regex=False).astype('category')\n",
        "test['price_in_name'] = test['name'].str.contains('[rm]', regex=False).astype('category')"
      ],
      "execution_count": 44,
      "outputs": []
    },
    {
      "cell_type": "code",
      "metadata": {
        "colab": {
          "base_uri": "https://localhost:8080/"
        },
        "id": "DvvEgLoDuL8R",
        "outputId": "38ec23fd-eab5-45f0-d85b-d7de26589aad"
      },
      "source": [
        "train.columns"
      ],
      "execution_count": 45,
      "outputs": [
        {
          "output_type": "execute_result",
          "data": {
            "text/plain": [
              "Index(['train_id', 'name', 'item_condition_id', 'brand_name', 'price',\n",
              "       'shipping', 'item_description', 'gencat_name', 'subcat1_name',\n",
              "       'subcat2_name', 'preprocessed_name', 'preprocessed_description',\n",
              "       'name_len', 'des_len', 'desc_word_count', 'name_word_count',\n",
              "       'desc_letters_per_word', 'name_letters_per_word',\n",
              "       'price_in_description', 'price_in_name'],\n",
              "      dtype='object')"
            ]
          },
          "metadata": {
            "tags": []
          },
          "execution_count": 45
        }
      ]
    },
    {
      "cell_type": "code",
      "metadata": {
        "colab": {
          "base_uri": "https://localhost:8080/"
        },
        "id": "GLBhzMJ6uL8S",
        "outputId": "b5a60a96-792e-4c45-ef5e-809e89b7bfd3"
      },
      "source": [
        "train.shape\n",
        "train.columns"
      ],
      "execution_count": 46,
      "outputs": [
        {
          "output_type": "execute_result",
          "data": {
            "text/plain": [
              "Index(['train_id', 'name', 'item_condition_id', 'brand_name', 'price',\n",
              "       'shipping', 'item_description', 'gencat_name', 'subcat1_name',\n",
              "       'subcat2_name', 'preprocessed_name', 'preprocessed_description',\n",
              "       'name_len', 'des_len', 'desc_word_count', 'name_word_count',\n",
              "       'desc_letters_per_word', 'name_letters_per_word',\n",
              "       'price_in_description', 'price_in_name'],\n",
              "      dtype='object')"
            ]
          },
          "metadata": {
            "tags": []
          },
          "execution_count": 46
        }
      ]
    },
    {
      "cell_type": "code",
      "metadata": {
        "colab": {
          "base_uri": "https://localhost:8080/"
        },
        "id": "oSmMXNIwuL8S",
        "outputId": "37a9affb-2bc7-4a77-ff3d-bfdb4d645f70"
      },
      "source": [
        "test.shape\n"
      ],
      "execution_count": 47,
      "outputs": [
        {
          "output_type": "execute_result",
          "data": {
            "text/plain": [
              "(444761, 19)"
            ]
          },
          "metadata": {
            "tags": []
          },
          "execution_count": 47
        }
      ]
    },
    {
      "cell_type": "code",
      "metadata": {
        "colab": {
          "base_uri": "https://localhost:8080/"
        },
        "id": "ASV7xStiuL8T",
        "outputId": "c07fca8e-e71b-454f-8da8-19d042c2ec28"
      },
      "source": [
        "n_rows = train.shape[0]\n",
        "train = train[train.preprocessed_name != ''].reset_index(drop=True)\n",
        "\n",
        "print('Dropped {} rows'.format(n_rows - train.shape[0]))"
      ],
      "execution_count": 48,
      "outputs": [
        {
          "output_type": "stream",
          "text": [
            "Dropped 19 rows\n"
          ],
          "name": "stdout"
        }
      ]
    },
    {
      "cell_type": "code",
      "metadata": {
        "colab": {
          "base_uri": "https://localhost:8080/"
        },
        "id": "u8D3DCcYuL8U",
        "outputId": "62c599e0-9931-4266-b52e-499a8ffd15fc"
      },
      "source": [
        "n_rows = train.shape[0]\n",
        "train = train[train.preprocessed_description != ''].reset_index(drop=True)\n",
        "\n",
        "print('Dropped {} rows'.format(n_rows - train.shape[0]))\n",
        "\n",
        "print('Shape of train data: ', train.shape)"
      ],
      "execution_count": 49,
      "outputs": [
        {
          "output_type": "stream",
          "text": [
            "Dropped 392 rows\n",
            "Shape of train data:  (1036759, 20)\n"
          ],
          "name": "stdout"
        }
      ]
    },
    {
      "cell_type": "code",
      "metadata": {
        "id": "CfcwPvqCuL8W"
      },
      "source": [
        "def transform_test(base_col, feat_col):\n",
        "    \n",
        "    di = pd.Series(train[feat_col].values, index=train[base_col].values).to_dict()\n",
        "    \n",
        "    if base_col == 'item_condition_id':\n",
        "        return test[base_col].map(di).astype(float)\n",
        "        \n",
        "    return test[base_col].map(di).fillna(0)"
      ],
      "execution_count": 50,
      "outputs": []
    },
    {
      "cell_type": "code",
      "metadata": {
        "id": "3LAKPIUfuL8X"
      },
      "source": [
        "train['brand_mean_price'] = train.groupby('brand_name')['price'].transform('mean')\n",
        "test['brand_mean_price'] = transform_test('brand_name', 'brand_mean_price')\n",
        "\n",
        "train['gencat_mean_price'] = train.groupby('gencat_name')['price'].transform('mean')\n",
        "test['gencat_mean_price'] = transform_test('gencat_name', 'gencat_mean_price')\n",
        "\n",
        "train['subcat1_mean_price'] = train.groupby('subcat1_name')['price'].transform('mean')\n",
        "test['subcat1_mean_price'] = transform_test('subcat1_name', 'subcat1_mean_price')\n",
        "\n",
        "train['subcat2_mean_price'] = train.groupby('subcat2_name')['price'].transform('mean')\n",
        "test['subcat2_mean_price'] = transform_test('subcat2_name', 'subcat2_mean_price')\n",
        "\n",
        "train['condition_mean_price'] = train.groupby('item_condition_id')['price'].transform('mean')\n",
        "test['condition_mean_price'] = transform_test('item_condition_id', 'condition_mean_price')"
      ],
      "execution_count": 51,
      "outputs": []
    },
    {
      "cell_type": "code",
      "metadata": {
        "id": "ChsSjAIIuL8a"
      },
      "source": [
        "train['brand_median_price'] = train.groupby('brand_name')['price'].transform('median')\n",
        "test['brand_median_price'] = transform_test('brand_name', 'brand_median_price')\n",
        "\n",
        "train['gencat_median_price'] = train.groupby('gencat_name')['price'].transform('median')\n",
        "test['gencat_median_price'] = transform_test('gencat_name', 'gencat_median_price')\n",
        "\n",
        "train['subcat1_median_price'] = train.groupby('subcat1_name')['price'].transform('median')\n",
        "test['subcat1_median_price'] = transform_test('subcat1_name', 'subcat1_median_price')\n",
        "\n",
        "train['subcat2_median_price'] = train.groupby('subcat2_name')['price'].transform('median')\n",
        "test['subcat2_median_price'] = transform_test('subcat2_name', 'subcat2_median_price')\n",
        "\n",
        "train['condition_median_price'] = train.groupby('item_condition_id')['price'].transform('median')\n",
        "test['condition_median_price'] = transform_test('item_condition_id', 'condition_median_price')"
      ],
      "execution_count": 52,
      "outputs": []
    },
    {
      "cell_type": "code",
      "metadata": {
        "id": "AcpCx53zuL8c"
      },
      "source": [
        "train['gencat_name_count'] = train.groupby('gencat_name')['gencat_name'].transform('count')\n",
        "test['gencat_name_count'] = transform_test('gencat_name', 'gencat_name_count')\n",
        "\n",
        "train['subcat1_name_count'] = train.groupby('subcat1_name')['subcat1_name'].transform('count')\n",
        "test['subcat1_name_count'] = transform_test('subcat1_name', 'subcat1_name_count')\n",
        "\n",
        "train['subcat2_name_count'] = train.groupby('subcat2_name')['subcat2_name'].transform('count')\n",
        "test['subcat2_name_count'] = transform_test('subcat2_name', 'subcat2_name_count')\n",
        "\n",
        "train['brand_name_count'] = train.groupby('brand_name')['brand_name'].transform('count')\n",
        "test['brand_name_count'] = transform_test('brand_name', 'brand_name_count')"
      ],
      "execution_count": 53,
      "outputs": []
    },
    {
      "cell_type": "code",
      "metadata": {
        "id": "Dksw4In8uL8c"
      },
      "source": [
        "test.drop(['name', 'item_description'], axis=1, inplace=True)\n",
        "train.drop(['name', 'item_description'], axis=1, inplace=True)"
      ],
      "execution_count": 54,
      "outputs": []
    },
    {
      "cell_type": "code",
      "metadata": {
        "colab": {
          "base_uri": "https://localhost:8080/"
        },
        "id": "pDZM8xBHuL8d",
        "outputId": "50af8747-ae8f-41b6-eaa1-166b132efe4d"
      },
      "source": [
        "train.shape"
      ],
      "execution_count": 55,
      "outputs": [
        {
          "output_type": "execute_result",
          "data": {
            "text/plain": [
              "(1036759, 32)"
            ]
          },
          "metadata": {
            "tags": []
          },
          "execution_count": 55
        }
      ]
    },
    {
      "cell_type": "code",
      "metadata": {
        "colab": {
          "base_uri": "https://localhost:8080/"
        },
        "id": "ND83edUWuL8e",
        "outputId": "bdcc393f-8cfe-4fe9-8123-71149c7fafc0"
      },
      "source": [
        "test.shape"
      ],
      "execution_count": 56,
      "outputs": [
        {
          "output_type": "execute_result",
          "data": {
            "text/plain": [
              "(444761, 31)"
            ]
          },
          "metadata": {
            "tags": []
          },
          "execution_count": 56
        }
      ]
    },
    {
      "cell_type": "code",
      "metadata": {
        "colab": {
          "base_uri": "https://localhost:8080/"
        },
        "id": "xxpzh-jYuL8f",
        "outputId": "20301fa9-c92d-4ba2-c4a0-fed6d5474ce0"
      },
      "source": [
        "from sklearn.model_selection import train_test_split\n",
        "\n",
        "y_tr = np.log1p(train['price'])\n",
        "train.drop(['price'], axis=1, inplace=True)\n",
        "\n",
        "train_df, cv_df , y_train, y_cv = train_test_split(train, y_tr, test_size=0.15, random_state=56)\n",
        "\n",
        "print('Train size: {}, CV size: {}, Test size: {}' .format(train_df.shape, cv_df.shape, test.shape))"
      ],
      "execution_count": 57,
      "outputs": [
        {
          "output_type": "stream",
          "text": [
            "Train size: (881245, 31), CV size: (155514, 31), Test size: (444761, 31)\n"
          ],
          "name": "stdout"
        }
      ]
    },
    {
      "cell_type": "code",
      "metadata": {
        "id": "Q4TwcSv_uL8g"
      },
      "source": [
        "#del train, y_tr \n",
        "#gc.collect()"
      ],
      "execution_count": 58,
      "outputs": []
    },
    {
      "cell_type": "code",
      "metadata": {
        "colab": {
          "base_uri": "https://localhost:8080/"
        },
        "id": "P3s1nzvNuL8h",
        "outputId": "b316d6a7-6b2d-4ec3-a3b4-248da4de8ed9"
      },
      "source": [
        "train_df['brand_name'] = clean_cat(train_df['brand_name'].values)\n",
        "cv_df['brand_name'] = clean_cat(cv_df['brand_name'].values)\n",
        "test['brand_name'] = clean_cat(test['brand_name'].values)"
      ],
      "execution_count": 59,
      "outputs": [
        {
          "output_type": "stream",
          "text": [
            "/usr/local/lib/python3.6/dist-packages/ipykernel_launcher.py:1: SettingWithCopyWarning: \n",
            "A value is trying to be set on a copy of a slice from a DataFrame.\n",
            "Try using .loc[row_indexer,col_indexer] = value instead\n",
            "\n",
            "See the caveats in the documentation: https://pandas.pydata.org/pandas-docs/stable/user_guide/indexing.html#returning-a-view-versus-a-copy\n",
            "  \"\"\"Entry point for launching an IPython kernel.\n",
            "/usr/local/lib/python3.6/dist-packages/ipykernel_launcher.py:2: SettingWithCopyWarning: \n",
            "A value is trying to be set on a copy of a slice from a DataFrame.\n",
            "Try using .loc[row_indexer,col_indexer] = value instead\n",
            "\n",
            "See the caveats in the documentation: https://pandas.pydata.org/pandas-docs/stable/user_guide/indexing.html#returning-a-view-versus-a-copy\n",
            "  \n"
          ],
          "name": "stderr"
        }
      ]
    },
    {
      "cell_type": "code",
      "metadata": {
        "colab": {
          "base_uri": "https://localhost:8080/"
        },
        "id": "TqqYKoKEuL8i",
        "outputId": "62df9bec-ef5a-4a5d-f76a-3882acbddba9"
      },
      "source": [
        "vectorizer = CountVectorizer(lowercase=False, binary=True)\n",
        "train_brand_oneHot = vectorizer.fit_transform(train_df['brand_name'].values)\n",
        "\n",
        "cv_brand_oneHot = vectorizer.transform(cv_df['brand_name'].values)\n",
        "test_brand_oneHot = vectorizer.transform(test['brand_name'].values)\n",
        "\n",
        "print(\"Shape of matrices after one hot encoding\")\n",
        "print(train_brand_oneHot.shape, \"\\n\", cv_brand_oneHot.shape, \"\\n\", test_brand_oneHot.shape)"
      ],
      "execution_count": 60,
      "outputs": [
        {
          "output_type": "stream",
          "text": [
            "Shape of matrices after one hot encoding\n",
            "(881245, 4188) \n",
            " (155514, 4188) \n",
            " (444761, 4188)\n"
          ],
          "name": "stdout"
        }
      ]
    },
    {
      "cell_type": "code",
      "metadata": {
        "colab": {
          "base_uri": "https://localhost:8080/"
        },
        "id": "PwS25KmluL8j",
        "outputId": "b38506f4-712e-49bf-bef5-6ed3f4185aac"
      },
      "source": [
        "vectorizer = CountVectorizer(lowercase=False, binary=True)\n",
        "train_gencat_oneHot = vectorizer.fit_transform(train_df['gencat_name'].values)\n",
        "\n",
        "cv_gencat_oneHot = vectorizer.transform(cv_df['gencat_name'].values)\n",
        "test_gencat_oneHot = vectorizer.transform(test['gencat_name'].values)\n",
        "\n",
        "print(\"Shape of matrices after one hot encoding\")\n",
        "print(train_gencat_oneHot.shape, \"\\n\", cv_gencat_oneHot.shape, \"\\n\", test_gencat_oneHot.shape)"
      ],
      "execution_count": 61,
      "outputs": [
        {
          "output_type": "stream",
          "text": [
            "Shape of matrices after one hot encoding\n",
            "(881245, 11) \n",
            " (155514, 11) \n",
            " (444761, 11)\n"
          ],
          "name": "stdout"
        }
      ]
    },
    {
      "cell_type": "code",
      "metadata": {
        "colab": {
          "base_uri": "https://localhost:8080/"
        },
        "id": "ZBwNgy76uL8l",
        "outputId": "20a236b3-407b-478d-b006-b3443426998d"
      },
      "source": [
        "vectorizer = CountVectorizer(lowercase=False, binary=True)\n",
        "train_subcat1_oneHot = vectorizer.fit_transform(train_df['subcat1_name'].values)\n",
        "\n",
        "cv_subcat1_oneHot = vectorizer.transform(cv_df['subcat1_name'].values)\n",
        "test_subcat1_oneHot = vectorizer.transform(test['subcat1_name'].values)\n",
        "\n",
        "print(\"Shape of matrices after one hot encoding\")\n",
        "print(train_subcat1_oneHot.shape, \"\\n\", cv_subcat1_oneHot.shape, \"\\n\", test_subcat1_oneHot.shape)"
      ],
      "execution_count": 62,
      "outputs": [
        {
          "output_type": "stream",
          "text": [
            "Shape of matrices after one hot encoding\n",
            "(881245, 114) \n",
            " (155514, 114) \n",
            " (444761, 114)\n"
          ],
          "name": "stdout"
        }
      ]
    },
    {
      "cell_type": "code",
      "metadata": {
        "colab": {
          "base_uri": "https://localhost:8080/"
        },
        "id": "ullPkE_CuL8n",
        "outputId": "f3d293c6-a8c7-4420-a3a2-96ea7e155297"
      },
      "source": [
        "vectorizer = CountVectorizer(lowercase=False, binary=True)\n",
        "train_subcat2_oneHot = vectorizer.fit_transform(train_df['subcat2_name'].values)\n",
        "\n",
        "cv_subcat2_oneHot = vectorizer.transform(cv_df['subcat2_name'].values)\n",
        "test_subcat2_oneHot = vectorizer.transform(test['subcat2_name'].values)\n",
        "\n",
        "print(\"Shape of matrices after one hot encoding\")\n",
        "print(train_subcat2_oneHot.shape, \"\\n\", cv_subcat2_oneHot.shape, \"\\n\", test_subcat2_oneHot.shape)"
      ],
      "execution_count": 63,
      "outputs": [
        {
          "output_type": "stream",
          "text": [
            "Shape of matrices after one hot encoding\n",
            "(881245, 842) \n",
            " (155514, 842) \n",
            " (444761, 842)\n"
          ],
          "name": "stdout"
        }
      ]
    },
    {
      "cell_type": "code",
      "metadata": {
        "id": "V0npbfUJuL8n"
      },
      "source": [
        "def concat_feature_text(df: pd.DataFrame):\n",
        "    df['preprocessed_name'] = df['preprocessed_name'].fillna('') + ' ' + df['brand_name'].fillna('')\n",
        "    df['preprocessed_description'] = df['preprocessed_description'].fillna('') + ' ' + df['preprocessed_name'] + ' ' + df['subcat2_name'].fillna('')"
      ],
      "execution_count": 64,
      "outputs": []
    },
    {
      "cell_type": "code",
      "metadata": {
        "colab": {
          "base_uri": "https://localhost:8080/"
        },
        "id": "LRaFieDruL8o",
        "outputId": "8f5bda44-1c11-4f7f-8325-f3210d72caa1"
      },
      "source": [
        "concat_feature_text(train_df)\n",
        "concat_feature_text(cv_df)\n",
        "concat_feature_text(test)"
      ],
      "execution_count": 65,
      "outputs": [
        {
          "output_type": "stream",
          "text": [
            "/usr/local/lib/python3.6/dist-packages/ipykernel_launcher.py:2: SettingWithCopyWarning: \n",
            "A value is trying to be set on a copy of a slice from a DataFrame.\n",
            "Try using .loc[row_indexer,col_indexer] = value instead\n",
            "\n",
            "See the caveats in the documentation: https://pandas.pydata.org/pandas-docs/stable/user_guide/indexing.html#returning-a-view-versus-a-copy\n",
            "  \n",
            "/usr/local/lib/python3.6/dist-packages/ipykernel_launcher.py:3: SettingWithCopyWarning: \n",
            "A value is trying to be set on a copy of a slice from a DataFrame.\n",
            "Try using .loc[row_indexer,col_indexer] = value instead\n",
            "\n",
            "See the caveats in the documentation: https://pandas.pydata.org/pandas-docs/stable/user_guide/indexing.html#returning-a-view-versus-a-copy\n",
            "  This is separate from the ipykernel package so we can avoid doing imports until\n"
          ],
          "name": "stderr"
        }
      ]
    },
    {
      "cell_type": "code",
      "metadata": {
        "colab": {
          "base_uri": "https://localhost:8080/"
        },
        "id": "7MfsjLCluL8q",
        "outputId": "3fee5111-264a-421b-ab09-0266ee9fe8b1"
      },
      "source": [
        "vectorizer = TfidfVectorizer(ngram_range=(1, 3), min_df=3, max_features=250000)\n",
        "\n",
        "train_name_tfidf = vectorizer.fit_transform(train_df['preprocessed_name'].values)\n",
        "\n",
        "cv_name_tfidf = vectorizer.transform(cv_df['preprocessed_name'].values)\n",
        "test_name_tfidf = vectorizer.transform(test['preprocessed_name'].values)\n",
        "\n",
        "print(\"Shape of matrices after vectorization\")\n",
        "print(train_name_tfidf.shape, \"\\n\", cv_name_tfidf.shape, \"\\n\", test_name_tfidf.shape)"
      ],
      "execution_count": 66,
      "outputs": [
        {
          "output_type": "stream",
          "text": [
            "Shape of matrices after vectorization\n",
            "(881245, 250000) \n",
            " (155514, 250000) \n",
            " (444761, 250000)\n"
          ],
          "name": "stdout"
        }
      ]
    },
    {
      "cell_type": "code",
      "metadata": {
        "colab": {
          "base_uri": "https://localhost:8080/"
        },
        "id": "KFqqQTq5uL8q",
        "outputId": "2e9e8304-59b7-48cd-a496-1e803880d7fd"
      },
      "source": [
        "vectorizer = TfidfVectorizer(ngram_range=(1, 3), min_df=5, max_features=500000)\n",
        "\n",
        "train_description_tfidf = vectorizer.fit_transform(train_df['preprocessed_description'].values)\n",
        "\n",
        "cv_description_tfidf = vectorizer.transform(cv_df['preprocessed_description'].values)\n",
        "test_description_tfidf = vectorizer.transform(test['preprocessed_description'].values)\n",
        "\n",
        "print(\"Shape of matrices after vectorization\")\n",
        "print(train_description_tfidf.shape, \"\\n\", cv_description_tfidf.shape, \"\\n\", test_description_tfidf.shape)"
      ],
      "execution_count": 67,
      "outputs": [
        {
          "output_type": "stream",
          "text": [
            "Shape of matrices after vectorization\n",
            "(881245, 500000) \n",
            " (155514, 500000) \n",
            " (444761, 500000)\n"
          ],
          "name": "stdout"
        }
      ]
    },
    {
      "cell_type": "code",
      "metadata": {
        "colab": {
          "base_uri": "https://localhost:8080/",
          "height": 224
        },
        "id": "SDSbpweuuL8r",
        "outputId": "3d0fab53-0292-456e-b4d9-6b85d8f44595"
      },
      "source": [
        "submission_df = pd.DataFrame(test['id'])\n",
        "print(submission_df.shape)\n",
        "submission_df.head()"
      ],
      "execution_count": 68,
      "outputs": [
        {
          "output_type": "stream",
          "text": [
            "(444761, 1)\n"
          ],
          "name": "stdout"
        },
        {
          "output_type": "execute_result",
          "data": {
            "text/html": [
              "<div>\n",
              "<style scoped>\n",
              "    .dataframe tbody tr th:only-of-type {\n",
              "        vertical-align: middle;\n",
              "    }\n",
              "\n",
              "    .dataframe tbody tr th {\n",
              "        vertical-align: top;\n",
              "    }\n",
              "\n",
              "    .dataframe thead th {\n",
              "        text-align: right;\n",
              "    }\n",
              "</style>\n",
              "<table border=\"1\" class=\"dataframe\">\n",
              "  <thead>\n",
              "    <tr style=\"text-align: right;\">\n",
              "      <th></th>\n",
              "      <th>id</th>\n",
              "    </tr>\n",
              "  </thead>\n",
              "  <tbody>\n",
              "    <tr>\n",
              "      <th>0</th>\n",
              "      <td>1048243</td>\n",
              "    </tr>\n",
              "    <tr>\n",
              "      <th>1</th>\n",
              "      <td>86986</td>\n",
              "    </tr>\n",
              "    <tr>\n",
              "      <th>2</th>\n",
              "      <td>698316</td>\n",
              "    </tr>\n",
              "    <tr>\n",
              "      <th>3</th>\n",
              "      <td>268868</td>\n",
              "    </tr>\n",
              "    <tr>\n",
              "      <th>4</th>\n",
              "      <td>1360398</td>\n",
              "    </tr>\n",
              "  </tbody>\n",
              "</table>\n",
              "</div>"
            ],
            "text/plain": [
              "        id\n",
              "0  1048243\n",
              "1    86986\n",
              "2   698316\n",
              "3   268868\n",
              "4  1360398"
            ]
          },
          "metadata": {
            "tags": []
          },
          "execution_count": 68
        }
      ]
    },
    {
      "cell_type": "code",
      "metadata": {
        "colab": {
          "base_uri": "https://localhost:8080/"
        },
        "id": "Ztoz2cIguL8t",
        "outputId": "7b554527-2bb1-428a-8a47-f32e759dc290"
      },
      "source": [
        "train_df.columns"
      ],
      "execution_count": 69,
      "outputs": [
        {
          "output_type": "execute_result",
          "data": {
            "text/plain": [
              "Index(['train_id', 'item_condition_id', 'brand_name', 'shipping',\n",
              "       'gencat_name', 'subcat1_name', 'subcat2_name', 'preprocessed_name',\n",
              "       'preprocessed_description', 'name_len', 'des_len', 'desc_word_count',\n",
              "       'name_word_count', 'desc_letters_per_word', 'name_letters_per_word',\n",
              "       'price_in_description', 'price_in_name', 'brand_mean_price',\n",
              "       'gencat_mean_price', 'subcat1_mean_price', 'subcat2_mean_price',\n",
              "       'condition_mean_price', 'brand_median_price', 'gencat_median_price',\n",
              "       'subcat1_median_price', 'subcat2_median_price',\n",
              "       'condition_median_price', 'gencat_name_count', 'subcat1_name_count',\n",
              "       'subcat2_name_count', 'brand_name_count'],\n",
              "      dtype='object')"
            ]
          },
          "metadata": {
            "tags": []
          },
          "execution_count": 69
        }
      ]
    },
    {
      "cell_type": "code",
      "metadata": {
        "colab": {
          "base_uri": "https://localhost:8080/"
        },
        "id": "Jzf51rgEuL8t",
        "outputId": "57956b38-83ea-42f8-ca00-e0816dc2613f"
      },
      "source": [
        "cols = set(train_df.columns.values) - {'train_id'}\n",
        "skip_cols = {'preprocessed_name', 'item_condition_id', 'brand_name',\n",
        "  'shipping', 'preprocessed_description', 'gencat_name',\n",
        "  'subcat1_name', 'subcat2_name', 'price_in_name', 'price_in_description'}\n",
        "\n",
        "cols_to_normalize = cols - skip_cols\n",
        "print(\"Normalizing following columns: \", cols_to_normalize)\n",
        "\n",
        "def normalize(df):\n",
        "    result1 = df.copy()\n",
        "    for feature_name in df.columns:\n",
        "        if (feature_name in cols_to_normalize):\n",
        "            print(feature_name)\n",
        "            max_value = df[feature_name].max()\n",
        "            min_value = df[feature_name].min()\n",
        "            result1[feature_name] = (df[feature_name] - min_value) / (max_value - min_value)\n",
        "    return result1"
      ],
      "execution_count": 70,
      "outputs": [
        {
          "output_type": "stream",
          "text": [
            "Normalizing following columns:  {'name_letters_per_word', 'gencat_name_count', 'condition_mean_price', 'condition_median_price', 'desc_letters_per_word', 'desc_word_count', 'subcat1_name_count', 'des_len', 'gencat_mean_price', 'brand_name_count', 'brand_median_price', 'name_word_count', 'brand_mean_price', 'subcat1_mean_price', 'name_len', 'subcat2_median_price', 'subcat1_median_price', 'gencat_median_price', 'subcat2_name_count', 'subcat2_mean_price'}\n"
          ],
          "name": "stdout"
        }
      ]
    },
    {
      "cell_type": "code",
      "metadata": {
        "colab": {
          "base_uri": "https://localhost:8080/"
        },
        "id": "ZegYQrsLuL8u",
        "outputId": "0f1fd1f2-4f5c-414e-a0af-6059e6080e7d"
      },
      "source": [
        "train_df.columns"
      ],
      "execution_count": 71,
      "outputs": [
        {
          "output_type": "execute_result",
          "data": {
            "text/plain": [
              "Index(['train_id', 'item_condition_id', 'brand_name', 'shipping',\n",
              "       'gencat_name', 'subcat1_name', 'subcat2_name', 'preprocessed_name',\n",
              "       'preprocessed_description', 'name_len', 'des_len', 'desc_word_count',\n",
              "       'name_word_count', 'desc_letters_per_word', 'name_letters_per_word',\n",
              "       'price_in_description', 'price_in_name', 'brand_mean_price',\n",
              "       'gencat_mean_price', 'subcat1_mean_price', 'subcat2_mean_price',\n",
              "       'condition_mean_price', 'brand_median_price', 'gencat_median_price',\n",
              "       'subcat1_median_price', 'subcat2_median_price',\n",
              "       'condition_median_price', 'gencat_name_count', 'subcat1_name_count',\n",
              "       'subcat2_name_count', 'brand_name_count'],\n",
              "      dtype='object')"
            ]
          },
          "metadata": {
            "tags": []
          },
          "execution_count": 71
        }
      ]
    },
    {
      "cell_type": "code",
      "metadata": {
        "colab": {
          "base_uri": "https://localhost:8080/"
        },
        "id": "6gXGTmLPuL8v",
        "outputId": "7b6f9f14-6e51-4084-8689-93ffafb46f63"
      },
      "source": [
        "train_normalized = normalize(train_df)\n",
        "cv_normalized = normalize(cv_df)\n",
        "test_normalized = normalize(test)"
      ],
      "execution_count": 72,
      "outputs": [
        {
          "output_type": "stream",
          "text": [
            "name_len\n",
            "des_len\n",
            "desc_word_count\n",
            "name_word_count\n",
            "desc_letters_per_word\n",
            "name_letters_per_word\n",
            "brand_mean_price\n",
            "gencat_mean_price\n",
            "subcat1_mean_price\n",
            "subcat2_mean_price\n",
            "condition_mean_price\n",
            "brand_median_price\n",
            "gencat_median_price\n",
            "subcat1_median_price\n",
            "subcat2_median_price\n",
            "condition_median_price\n",
            "gencat_name_count\n",
            "subcat1_name_count\n",
            "subcat2_name_count\n",
            "brand_name_count\n",
            "name_len\n",
            "des_len\n",
            "desc_word_count\n",
            "name_word_count\n",
            "desc_letters_per_word\n",
            "name_letters_per_word\n",
            "brand_mean_price\n",
            "gencat_mean_price\n",
            "subcat1_mean_price\n",
            "subcat2_mean_price\n",
            "condition_mean_price\n",
            "brand_median_price\n",
            "gencat_median_price\n",
            "subcat1_median_price\n",
            "subcat2_median_price\n",
            "condition_median_price\n",
            "gencat_name_count\n",
            "subcat1_name_count\n",
            "subcat2_name_count\n",
            "brand_name_count\n",
            "name_len\n",
            "des_len\n",
            "desc_word_count\n",
            "name_word_count\n",
            "desc_letters_per_word\n",
            "name_letters_per_word\n",
            "brand_mean_price\n",
            "gencat_mean_price\n",
            "subcat1_mean_price\n",
            "subcat2_mean_price\n",
            "condition_mean_price\n",
            "brand_median_price\n",
            "gencat_median_price\n",
            "subcat1_median_price\n",
            "subcat2_median_price\n",
            "condition_median_price\n",
            "gencat_name_count\n",
            "subcat1_name_count\n",
            "subcat2_name_count\n",
            "brand_name_count\n"
          ],
          "name": "stdout"
        }
      ]
    },
    {
      "cell_type": "code",
      "metadata": {
        "colab": {
          "base_uri": "https://localhost:8080/",
          "height": 132
        },
        "id": "IHCFiTF4uL8w",
        "outputId": "70070de5-959c-4eba-cbbb-a0a937c8dd73"
      },
      "source": [
        "\n",
        "X_tr = train_normalized[list(cols_to_normalize)]\n",
        "X_val = cv_normalized[list(cols_to_normalize)]\n",
        "X_te = test_normalized[list(cols_to_normalize)]\n",
        "\n",
        "X_tr.head(2)"
      ],
      "execution_count": 73,
      "outputs": [
        {
          "output_type": "execute_result",
          "data": {
            "text/html": [
              "<div>\n",
              "<style scoped>\n",
              "    .dataframe tbody tr th:only-of-type {\n",
              "        vertical-align: middle;\n",
              "    }\n",
              "\n",
              "    .dataframe tbody tr th {\n",
              "        vertical-align: top;\n",
              "    }\n",
              "\n",
              "    .dataframe thead th {\n",
              "        text-align: right;\n",
              "    }\n",
              "</style>\n",
              "<table border=\"1\" class=\"dataframe\">\n",
              "  <thead>\n",
              "    <tr style=\"text-align: right;\">\n",
              "      <th></th>\n",
              "      <th>name_letters_per_word</th>\n",
              "      <th>gencat_name_count</th>\n",
              "      <th>condition_mean_price</th>\n",
              "      <th>condition_median_price</th>\n",
              "      <th>desc_letters_per_word</th>\n",
              "      <th>desc_word_count</th>\n",
              "      <th>subcat1_name_count</th>\n",
              "      <th>des_len</th>\n",
              "      <th>gencat_mean_price</th>\n",
              "      <th>brand_name_count</th>\n",
              "      <th>brand_median_price</th>\n",
              "      <th>name_word_count</th>\n",
              "      <th>brand_mean_price</th>\n",
              "      <th>subcat1_mean_price</th>\n",
              "      <th>name_len</th>\n",
              "      <th>subcat2_median_price</th>\n",
              "      <th>subcat1_median_price</th>\n",
              "      <th>gencat_median_price</th>\n",
              "      <th>subcat2_name_count</th>\n",
              "      <th>subcat2_mean_price</th>\n",
              "    </tr>\n",
              "  </thead>\n",
              "  <tbody>\n",
              "    <tr>\n",
              "      <th>268131</th>\n",
              "      <td>0.106227</td>\n",
              "      <td>0.307329</td>\n",
              "      <td>0.279897</td>\n",
              "      <td>0.75</td>\n",
              "      <td>0.025000</td>\n",
              "      <td>0.028689</td>\n",
              "      <td>0.058083</td>\n",
              "      <td>0.057416</td>\n",
              "      <td>0.103814</td>\n",
              "      <td>1.000000</td>\n",
              "      <td>0.017121</td>\n",
              "      <td>0.461538</td>\n",
              "      <td>0.028220</td>\n",
              "      <td>0.116826</td>\n",
              "      <td>0.833333</td>\n",
              "      <td>0.113725</td>\n",
              "      <td>0.264706</td>\n",
              "      <td>0.333333</td>\n",
              "      <td>0.00802</td>\n",
              "      <td>0.101357</td>\n",
              "    </tr>\n",
              "    <tr>\n",
              "      <th>971433</th>\n",
              "      <td>0.145299</td>\n",
              "      <td>1.000000</td>\n",
              "      <td>0.279897</td>\n",
              "      <td>0.75</td>\n",
              "      <td>0.023899</td>\n",
              "      <td>0.069672</td>\n",
              "      <td>0.341223</td>\n",
              "      <td>0.125359</td>\n",
              "      <td>0.638601</td>\n",
              "      <td>0.006383</td>\n",
              "      <td>0.024903</td>\n",
              "      <td>0.384615</td>\n",
              "      <td>0.031099</td>\n",
              "      <td>0.620983</td>\n",
              "      <td>0.928571</td>\n",
              "      <td>0.074510</td>\n",
              "      <td>0.735294</td>\n",
              "      <td>0.777778</td>\n",
              "      <td>0.06409</td>\n",
              "      <td>0.077406</td>\n",
              "    </tr>\n",
              "  </tbody>\n",
              "</table>\n",
              "</div>"
            ],
            "text/plain": [
              "        name_letters_per_word  ...  subcat2_mean_price\n",
              "268131               0.106227  ...            0.101357\n",
              "971433               0.145299  ...            0.077406\n",
              "\n",
              "[2 rows x 20 columns]"
            ]
          },
          "metadata": {
            "tags": []
          },
          "execution_count": 73
        }
      ]
    },
    {
      "cell_type": "code",
      "metadata": {
        "id": "NLKy_bAauL8z"
      },
      "source": [
        "#del train_df, cv_df, test\n",
        "#gc.collect()"
      ],
      "execution_count": 74,
      "outputs": []
    },
    {
      "cell_type": "code",
      "metadata": {
        "colab": {
          "base_uri": "https://localhost:8080/"
        },
        "id": "tVdPLWQUuL8z",
        "outputId": "e84dd2e1-20a5-42fb-8f3a-9aa2e9bc936f"
      },
      "source": [
        "from scipy.sparse import csr_matrix\n",
        "\n",
        "X_tr_cat = csr_matrix(pd.get_dummies(train_normalized[['item_condition_id', 'shipping', 'price_in_name']], sparse=True).values)\n",
        "\n",
        "X_cv_cat = csr_matrix(pd.get_dummies(cv_normalized[['item_condition_id', 'shipping', 'price_in_name']], sparse=True).values)\n",
        "\n",
        "X_te_cat = csr_matrix(pd.get_dummies(test_normalized[['item_condition_id', 'shipping', 'price_in_name']], sparse=True).values)\n",
        "\n",
        "print(X_tr_cat.shape, X_cv_cat.shape, X_te_cat.shape)"
      ],
      "execution_count": 75,
      "outputs": [
        {
          "output_type": "stream",
          "text": [
            "(881245, 9) (155514, 9) (444761, 9)\n"
          ],
          "name": "stdout"
        }
      ]
    },
    {
      "cell_type": "code",
      "metadata": {
        "id": "v71SlY-3uL83"
      },
      "source": [
        "from scipy.sparse import hstack\n",
        "\n",
        "train_sparse = hstack((train_brand_oneHot, train_gencat_oneHot, train_subcat1_oneHot, train_subcat2_oneHot, \\\n",
        "               train_name_tfidf, train_description_tfidf, X_tr_cat)).tocsr()\n",
        "\n",
        "cv_sparse = hstack((cv_brand_oneHot, cv_gencat_oneHot, cv_subcat1_oneHot, cv_subcat2_oneHot, \\\n",
        "               cv_name_tfidf, cv_description_tfidf, X_cv_cat)).tocsr()\n",
        "\n",
        "test_sparse = hstack((test_brand_oneHot, test_gencat_oneHot, test_subcat1_oneHot, test_subcat2_oneHot, \\\n",
        "               test_name_tfidf, test_description_tfidf, X_te_cat)).tocsr()"
      ],
      "execution_count": 76,
      "outputs": []
    },
    {
      "cell_type": "code",
      "metadata": {
        "colab": {
          "base_uri": "https://localhost:8080/"
        },
        "id": "derlpKKNuL85",
        "outputId": "641d0ff0-2736-4d6c-dd88-2acb5eaf63b0"
      },
      "source": [
        "print(train_sparse.shape, cv_sparse.shape, test_sparse.shape)"
      ],
      "execution_count": 77,
      "outputs": [
        {
          "output_type": "stream",
          "text": [
            "(881245, 755164) (155514, 755164) (444761, 755164)\n"
          ],
          "name": "stdout"
        }
      ]
    },
    {
      "cell_type": "code",
      "metadata": {
        "id": "XM64VoxEuL86"
      },
      "source": [
        "\n",
        "X_train = hstack((X_tr.values, train_sparse)).tocsr()\n",
        "\n",
        "X_cv = hstack((X_val.values, cv_sparse)).tocsr()\n",
        "\n",
        "X_test = hstack((X_te.values, test_sparse)).tocsr()"
      ],
      "execution_count": 78,
      "outputs": []
    },
    {
      "cell_type": "code",
      "metadata": {
        "colab": {
          "base_uri": "https://localhost:8080/"
        },
        "id": "WTnqFBeSuL87",
        "outputId": "9260bf05-2450-420b-d439-c1410d258d2b"
      },
      "source": [
        "print('Train size: {}, CV size: {}, Test size: {}' .format(X_train.shape, X_cv.shape, X_test.shape))"
      ],
      "execution_count": 79,
      "outputs": [
        {
          "output_type": "stream",
          "text": [
            "Train size: (881245, 755184), CV size: (155514, 755184), Test size: (444761, 755184)\n"
          ],
          "name": "stdout"
        }
      ]
    },
    {
      "cell_type": "code",
      "metadata": {
        "colab": {
          "base_uri": "https://localhost:8080/",
          "height": 185
        },
        "id": "cNOcmiJ1uL88",
        "outputId": "0a2cc078-6ed9-459b-c67d-b5f00563bef8"
      },
      "source": [
        "\"\"\"\n",
        "alpha = [1, 2, 3, 3.5, 4, 4.5, 5, 6, 7] \n",
        "cv_rmsle_array=[] \n",
        "for i in tqdm(alpha):\n",
        "    model = Ridge(solver=\"sag\", random_state=56, alpha=i)\n",
        "    model.fit(X_train, y_train)\n",
        "    preds_cv = model.predict(X_cv)\n",
        "    cv_rmsle_array.append(sqrt(mse(y_cv, preds_cv)))\n",
        "\n",
        "for i in range(len(cv_rmsle_array)):\n",
        "    print ('RMSLE for alpha = ',alpha[i],'is',cv_rmsle_array[i])\n",
        "    \n",
        "best_alpha = np.argmin(cv_rmsle_array)\n",
        "\n",
        "fig, ax = plt.subplots()\n",
        "ax.plot(alpha, cv_rmsle_array)\n",
        "ax.scatter(alpha, cv_rmsle_array)\n",
        "for i, txt in enumerate(np.round(cv_rmsle_array,3)):\n",
        "    ax.annotate((alpha[i],np.round(txt,3)), (alpha[i],cv_rmsle_array[i]))\n",
        "\n",
        "plt.title(\"Cross Validation Error for each alpha\")\n",
        "plt.xlabel(\"Alpha\")\n",
        "plt.ylabel(\"Error\")\n",
        "plt.show()\n",
        "\"\"\""
      ],
      "execution_count": 80,
      "outputs": [
        {
          "output_type": "execute_result",
          "data": {
            "application/vnd.google.colaboratory.intrinsic+json": {
              "type": "string"
            },
            "text/plain": [
              "'\\nalpha = [1, 2, 3, 3.5, 4, 4.5, 5, 6, 7] \\ncv_rmsle_array=[] \\nfor i in tqdm(alpha):\\n    model = Ridge(solver=\"sag\", random_state=56, alpha=i)\\n    model.fit(X_train, y_train)\\n    preds_cv = model.predict(X_cv)\\n    cv_rmsle_array.append(sqrt(mse(y_cv, preds_cv)))\\n\\nfor i in range(len(cv_rmsle_array)):\\n    print (\\'RMSLE for alpha = \\',alpha[i],\\'is\\',cv_rmsle_array[i])\\n    \\nbest_alpha = np.argmin(cv_rmsle_array)\\n\\nfig, ax = plt.subplots()\\nax.plot(alpha, cv_rmsle_array)\\nax.scatter(alpha, cv_rmsle_array)\\nfor i, txt in enumerate(np.round(cv_rmsle_array,3)):\\n    ax.annotate((alpha[i],np.round(txt,3)), (alpha[i],cv_rmsle_array[i]))\\n\\nplt.title(\"Cross Validation Error for each alpha\")\\nplt.xlabel(\"Alpha\")\\nplt.ylabel(\"Error\")\\nplt.show()\\n'"
            ]
          },
          "metadata": {
            "tags": []
          },
          "execution_count": 80
        }
      ]
    },
    {
      "cell_type": "code",
      "metadata": {
        "colab": {
          "base_uri": "https://localhost:8080/",
          "height": 112
        },
        "id": "PT3hlkZIuL89",
        "outputId": "39efa57a-48e6-4a0a-bdec-e516e1864b7d"
      },
      "source": [
        "\"\"\"\n",
        "print(\"Best alpha: \",  alpha[best_alpha])\n",
        "model = Ridge(solver=\"sag\", random_state=56, alpha=alpha[best_alpha])\n",
        "model.fit(X_train, y_train)\n",
        "ridge_preds_tr = model.predict(X_train)\n",
        "ridge_preds_cv = model.predict(X_cv)\n",
        "ridge_preds_te = model.predict(X_test)\n",
        "\n",
        "print('Train RMSLE:', sqrt(mse(y_train, ridge_preds_tr)))\n",
        "\n",
        "ridge_rmsle = sqrt(mse(y_cv, ridge_preds_cv))\n",
        "print(\"Cross validation RMSLE: \", ridge_rmsle)\n",
        "\"\"\""
      ],
      "execution_count": 81,
      "outputs": [
        {
          "output_type": "execute_result",
          "data": {
            "application/vnd.google.colaboratory.intrinsic+json": {
              "type": "string"
            },
            "text/plain": [
              "'\\nprint(\"Best alpha: \",  alpha[best_alpha])\\nmodel = Ridge(solver=\"sag\", random_state=56, alpha=alpha[best_alpha])\\nmodel.fit(X_train, y_train)\\nridge_preds_tr = model.predict(X_train)\\nridge_preds_cv = model.predict(X_cv)\\nridge_preds_te = model.predict(X_test)\\n\\nprint(\\'Train RMSLE:\\', sqrt(mse(y_train, ridge_preds_tr)))\\n\\nridge_rmsle = sqrt(mse(y_cv, ridge_preds_cv))\\nprint(\"Cross validation RMSLE: \", ridge_rmsle)\\n'"
            ]
          },
          "metadata": {
            "tags": []
          },
          "execution_count": 81
        }
      ]
    },
    {
      "cell_type": "code",
      "metadata": {
        "colab": {
          "base_uri": "https://localhost:8080/",
          "height": 58
        },
        "id": "dpF4x1jXuL8-",
        "outputId": "724aa8fc-2464-4bc9-efc1-e958b2a911d9"
      },
      "source": [
        "\"\"\"\n",
        "submission_df['price'] = np.exp(ridge_preds_te) - 1\n",
        "\n",
        "submission_df.to_csv('ridge_submission_colab.csv', index=False)\n",
        "\"\"\""
      ],
      "execution_count": 82,
      "outputs": [
        {
          "output_type": "execute_result",
          "data": {
            "application/vnd.google.colaboratory.intrinsic+json": {
              "type": "string"
            },
            "text/plain": [
              "\"\\nsubmission_df['price'] = np.exp(ridge_preds_te) - 1\\n\\nsubmission_df.to_csv('ridge_submission_colab.csv', index=False)\\n\""
            ]
          },
          "metadata": {
            "tags": []
          },
          "execution_count": 82
        }
      ]
    },
    {
      "cell_type": "code",
      "metadata": {
        "colab": {
          "base_uri": "https://localhost:8080/"
        },
        "id": "z1s_y4NeuL8-",
        "outputId": "d4537959-a339-4be3-905a-1431e8d8f993"
      },
      "source": [
        "#print(\"Best alpha: \",  alpha[best_alpha])\n",
        "model = Ridge(solver=\"sag\", random_state=56, alpha=2.5)\n",
        "model.fit(X_train, y_train)\n",
        "ridge_preds_tr = model.predict(X_train)\n",
        "ridge_preds_cv = model.predict(X_cv)\n",
        "ridge_preds_te = model.predict(X_test)\n",
        "\n",
        "print('Train RMSLE:', sqrt(mse(y_train, ridge_preds_tr)))\n",
        "\n",
        "ridge_rmsle = sqrt(mse(y_cv, ridge_preds_cv))\n",
        "print(\"Cross validation RMSLE: \", ridge_rmsle)"
      ],
      "execution_count": 83,
      "outputs": [
        {
          "output_type": "stream",
          "text": [
            "/usr/local/lib/python3.6/dist-packages/sklearn/linear_model/_ridge.py:558: UserWarning: \"sag\" solver requires many iterations to fit an intercept with sparse inputs. Either set the solver to \"auto\" or \"sparse_cg\", or set a low \"tol\" and a high \"max_iter\" (especially if inputs are not standardized).\n",
            "  '\"sag\" solver requires many iterations to fit '\n"
          ],
          "name": "stderr"
        },
        {
          "output_type": "stream",
          "text": [
            "Train RMSLE: 0.35721927416013455\n",
            "Cross validation RMSLE:  0.4517812813340747\n"
          ],
          "name": "stdout"
        }
      ]
    },
    {
      "cell_type": "code",
      "metadata": {
        "id": "-9iwo4PNuL8_"
      },
      "source": [
        "submission_df['price'] = np.exp(ridge_preds_te) - 1\n",
        "\n",
        "submission_df.to_csv('ridge_submission_colab.csv', index=False)"
      ],
      "execution_count": 84,
      "outputs": []
    },
    {
      "cell_type": "code",
      "metadata": {
        "id": "SBKgyDn_uL9A"
      },
      "source": [
        "  # import scipy\n",
        "  # scipy.sparse.save_npz(\"cv_final.npz\", X_cv)\n",
        "  # np.save('y_cv', y_cv)"
      ],
      "execution_count": 85,
      "outputs": []
    },
    {
      "cell_type": "code",
      "metadata": {
        "id": "eGtbVNR8uL9B"
      },
      "source": [
        "  # scipy.sparse.save_npz(\"train_final.npz\", X_train)\n",
        "  # np.save('y_train', y_train)"
      ],
      "execution_count": 86,
      "outputs": []
    },
    {
      "cell_type": "code",
      "metadata": {
        "id": "azHgMX0buL9B"
      },
      "source": [
        "# scipy.sparse.save_npz(\"test_final.npz\", X_test)"
      ],
      "execution_count": 87,
      "outputs": []
    },
    {
      "cell_type": "code",
      "metadata": {
        "colab": {
          "base_uri": "https://localhost:8080/",
          "height": 112
        },
        "id": "GOEQUl9SuL9C",
        "outputId": "d65f5e82-dd52-4d85-f66d-8269cc95a680"
      },
      "source": [
        "\"\"\"\"\n",
        "X_train_saved = scipy.sparse.load_npz(\"train_final.npz\")\n",
        "y_train_saved = np.load('y_train.npy')\n",
        "\n",
        "X_cv_saved = scipy.sparse.load_npz(\"cv_final.npz\")\n",
        "y_cv_saved = np.load('y_cv.npy')\n",
        "\n",
        "X_test_saved = scipy.sparse.load_npz(\"test_final.npz\")\n",
        "X_train_saved.shape, y_train_saved.shape, X_cv_saved.shape, y_cv_saved.shape, X_test_saved.shape \n",
        "\"\"\""
      ],
      "execution_count": 88,
      "outputs": [
        {
          "output_type": "execute_result",
          "data": {
            "application/vnd.google.colaboratory.intrinsic+json": {
              "type": "string"
            },
            "text/plain": [
              "'\"\\nX_train_saved = scipy.sparse.load_npz(\"train_final.npz\")\\ny_train_saved = np.load(\\'y_train.npy\\')\\n\\nX_cv_saved = scipy.sparse.load_npz(\"cv_final.npz\")\\ny_cv_saved = np.load(\\'y_cv.npy\\')\\n\\nX_test_saved = scipy.sparse.load_npz(\"test_final.npz\")\\nX_train_saved.shape, y_train_saved.shape, X_cv_saved.shape, y_cv_saved.shape, X_test_saved.shape \\n'"
            ]
          },
          "metadata": {
            "tags": []
          },
          "execution_count": 88
        }
      ]
    },
    {
      "cell_type": "code",
      "metadata": {
        "id": "SOc1A9H3uL9D"
      },
      "source": [
        "# np.save('ridge_preds_tr', ridge_preds_tr)\n",
        "# np.save('ridge_preds_cv', ridge_preds_cv)\n",
        "# np.save('ridge_preds_te', ridge_preds_te)\n",
        "# np.save('train_sparse',train_sparse) \n",
        "# np.save('cv_sparse', cv_sparse)\n",
        "# np.save('test_sparse',test_sparse)"
      ],
      "execution_count": 89,
      "outputs": []
    },
    {
      "cell_type": "code",
      "metadata": {
        "id": "yfqzCScEuL9E"
      },
      "source": [
        "# from lightgbm import LGBMRegressor\r\n",
        "# lgbm_regressor=LGBMRegressor(learning_rate=0.4,max_depth=10,n_estimators=500,num_leaves=100,boosting_type='gbdt',colsample_bytree=0.8,min_child_samples=50)\r\n",
        "# lgbm_regressor.fit(X_train,y_train)"
      ],
      "execution_count": 90,
      "outputs": []
    },
    {
      "cell_type": "code",
      "metadata": {
        "id": "0Hx-VZ5Z1GOQ"
      },
      "source": [
        "# ytrain_predict_lgbm=lgbm_regressor.predict(X_train)\r\n",
        "# ycv_predict_lgbm=lgbm_regressor.predict(X_cv)\r\n",
        "# training = np.sqrt(mean_squared_error(y_train, ytrain_predict_lgbm))\r\n",
        "# cving=np.sqrt(mean_squared_error(y_cv,ycv_predict_lgbm))\r\n",
        "# print(\"RMSLE of train is {} RMSLE of test is {}\".format(training,cving))\r\n",
        "# ytest_lgbm=lgbm_regressor.predict(X_test)"
      ],
      "execution_count": 91,
      "outputs": []
    },
    {
      "cell_type": "code",
      "metadata": {
        "id": "F_UZVQLF1iM8"
      },
      "source": [
        "# submission_df['price'] = np.exp(ytest_lgbm) - 1\r\n",
        "# submission_df.to_csv('lgbm_submission_colab.csv', index=False)"
      ],
      "execution_count": 92,
      "outputs": []
    },
    {
      "cell_type": "code",
      "metadata": {
        "id": "iqxAxLLedWQu"
      },
      "source": [
        "\r\n",
        "\r\n",
        "from sklearn.naive_bayes import MultinomialNB\r\n",
        "\r\n",
        "model = MultinomialNB(alpha=0.01)\r\n",
        "model.fit(X_train, y_train>= 4)\r\n",
        "\r\n",
        "mnb_preds_tr = model.predict_proba(X_train)[:, 1]\r\n",
        "mnb_preds_cv = model.predict_proba(X_cv)[:, 1]\r\n",
        "mnb_preds_te = model.predict_proba(X_test)[:, 1]\r\n"
      ],
      "execution_count": 95,
      "outputs": []
    },
    {
      "cell_type": "code",
      "metadata": {
        "id": "4fbA_FETc1AH"
      },
      "source": [
        "from sklearn.feature_selection.univariate_selection import SelectKBest, f_regression\r\n",
        "\r\n",
        "fselect = SelectKBest(f_regression, k=48000)\r\n",
        "train_features = fselect.fit_transform(train_sparse, y_train)\r\n",
        "\r\n",
        "cv_features = fselect.transform(cv_sparse)\r\n",
        "test_features = fselect.transform(test_sparse)"
      ],
      "execution_count": 96,
      "outputs": []
    },
    {
      "cell_type": "code",
      "metadata": {
        "colab": {
          "base_uri": "https://localhost:8080/"
        },
        "id": "oo70efwAc3_x",
        "outputId": "735c6336-325f-4bbc-f046-d439269de6e6"
      },
      "source": [
        "# stack feature matrix with Ridge, MNB model predictions, engineered features\r\n",
        "X_train = hstack((X_tr.values, ridge_preds_tr.reshape(-1,1), mnb_preds_tr.reshape(-1,1), train_features)).tocsr()\r\n",
        "\r\n",
        "X_cv = hstack((X_val.values, ridge_preds_cv.reshape(-1,1), mnb_preds_cv.reshape(-1,1), cv_features)).tocsr()\r\n",
        "\r\n",
        "X_test = hstack((X_te.values, ridge_preds_te.reshape(-1,1), mnb_preds_te.reshape(-1,1), test_features)).tocsr()\r\n",
        "\r\n",
        "print('Train size: {}, CV size: {}, Test size: {}' .format(X_train.shape, X_cv.shape, X_test.shape))"
      ],
      "execution_count": 97,
      "outputs": [
        {
          "output_type": "stream",
          "text": [
            "Train size: (881245, 48022), CV size: (155514, 48022), Test size: (444761, 48022)\n"
          ],
          "name": "stdout"
        }
      ]
    },
    {
      "cell_type": "code",
      "metadata": {
        "colab": {
          "base_uri": "https://localhost:8080/",
          "height": 758
        },
        "id": "hcIn6h4mgaR9",
        "outputId": "b84c88c5-a79c-4446-f4ec-e74316b70236"
      },
      "source": [
        "c_param = [0.1, 0.15, 0.2, 0.25, 0.3, 0.4]\r\n",
        "cv_rmsle_array=[]\r\n",
        "\r\n",
        "for i in c_param:\r\n",
        "    model = SVR(C=i, max_iter=200)\r\n",
        "    model.fit(X_train, y_train)\r\n",
        "    preds_cv = model.predict(X_cv)\r\n",
        "    cv_err = sqrt(mse(y_cv, preds_cv))\r\n",
        "    cv_rmsle_array.append(cv_err)\r\n",
        "\r\n",
        "    print('RMSLE for C=',i, 'is', cv_err)\r\n",
        "\r\n",
        "best_C = np.argmin(cv_rmsle_array)\r\n",
        "\r\n",
        "fig, ax = plt.subplots()\r\n",
        "ax.plot(c_param, cv_rmsle_array)\r\n",
        "ax.scatter(c_param, cv_rmsle_array)\r\n",
        "for i, txt in enumerate(np.round(cv_rmsle_array,3)):\r\n",
        "    ax.annotate((c_param[i],np.round(txt,3)), (c_param[i],cv_rmsle_array[i]))\r\n",
        "plt.title(\"Cross Validation Error for each C\")\r\n",
        "plt.xlabel(\"C\")\r\n",
        "plt.ylabel(\"Error\")\r\n",
        "plt.show()"
      ],
      "execution_count": 100,
      "outputs": [
        {
          "output_type": "stream",
          "text": [
            "/usr/local/lib/python3.6/dist-packages/sklearn/svm/_base.py:231: ConvergenceWarning: Solver terminated early (max_iter=200).  Consider pre-processing your data with StandardScaler or MinMaxScaler.\n",
            "  % self.max_iter, ConvergenceWarning)\n"
          ],
          "name": "stderr"
        },
        {
          "output_type": "stream",
          "text": [
            "RMSLE for C= 0.1 is 0.5737181389065177\n"
          ],
          "name": "stdout"
        },
        {
          "output_type": "stream",
          "text": [
            "/usr/local/lib/python3.6/dist-packages/sklearn/svm/_base.py:231: ConvergenceWarning: Solver terminated early (max_iter=200).  Consider pre-processing your data with StandardScaler or MinMaxScaler.\n",
            "  % self.max_iter, ConvergenceWarning)\n"
          ],
          "name": "stderr"
        },
        {
          "output_type": "stream",
          "text": [
            "RMSLE for C= 0.2 is 0.4488255239288677\n"
          ],
          "name": "stdout"
        },
        {
          "output_type": "stream",
          "text": [
            "/usr/local/lib/python3.6/dist-packages/sklearn/svm/_base.py:231: ConvergenceWarning: Solver terminated early (max_iter=200).  Consider pre-processing your data with StandardScaler or MinMaxScaler.\n",
            "  % self.max_iter, ConvergenceWarning)\n"
          ],
          "name": "stderr"
        },
        {
          "output_type": "stream",
          "text": [
            "RMSLE for C= 0.3 is 0.5189326362997628\n"
          ],
          "name": "stdout"
        },
        {
          "output_type": "stream",
          "text": [
            "/usr/local/lib/python3.6/dist-packages/sklearn/svm/_base.py:231: ConvergenceWarning: Solver terminated early (max_iter=200).  Consider pre-processing your data with StandardScaler or MinMaxScaler.\n",
            "  % self.max_iter, ConvergenceWarning)\n"
          ],
          "name": "stderr"
        },
        {
          "output_type": "stream",
          "text": [
            "RMSLE for C= 0.4 is 0.6268182006518739\n"
          ],
          "name": "stdout"
        },
        {
          "output_type": "stream",
          "text": [
            "/usr/local/lib/python3.6/dist-packages/sklearn/svm/_base.py:231: ConvergenceWarning: Solver terminated early (max_iter=200).  Consider pre-processing your data with StandardScaler or MinMaxScaler.\n",
            "  % self.max_iter, ConvergenceWarning)\n"
          ],
          "name": "stderr"
        },
        {
          "output_type": "stream",
          "text": [
            "RMSLE for C= 0.5 is 0.7160264792494454\n"
          ],
          "name": "stdout"
        },
        {
          "output_type": "stream",
          "text": [
            "/usr/local/lib/python3.6/dist-packages/sklearn/svm/_base.py:231: ConvergenceWarning: Solver terminated early (max_iter=200).  Consider pre-processing your data with StandardScaler or MinMaxScaler.\n",
            "  % self.max_iter, ConvergenceWarning)\n"
          ],
          "name": "stderr"
        },
        {
          "output_type": "stream",
          "text": [
            "RMSLE for C= 0.7 is 0.8069066233216957\n"
          ],
          "name": "stdout"
        },
        {
          "output_type": "stream",
          "text": [
            "/usr/local/lib/python3.6/dist-packages/sklearn/svm/_base.py:231: ConvergenceWarning: Solver terminated early (max_iter=200).  Consider pre-processing your data with StandardScaler or MinMaxScaler.\n",
            "  % self.max_iter, ConvergenceWarning)\n"
          ],
          "name": "stderr"
        },
        {
          "output_type": "stream",
          "text": [
            "RMSLE for C= 0.9 is 0.863918524632137\n"
          ],
          "name": "stdout"
        },
        {
          "output_type": "stream",
          "text": [
            "/usr/local/lib/python3.6/dist-packages/sklearn/svm/_base.py:231: ConvergenceWarning: Solver terminated early (max_iter=200).  Consider pre-processing your data with StandardScaler or MinMaxScaler.\n",
            "  % self.max_iter, ConvergenceWarning)\n"
          ],
          "name": "stderr"
        },
        {
          "output_type": "stream",
          "text": [
            "RMSLE for C= 1.1 is 0.849188927929573\n"
          ],
          "name": "stdout"
        },
        {
          "output_type": "display_data",
          "data": {
            "image/png": "[encoded data removed]",
            "text/plain": [
              "<Figure size 432x288 with 1 Axes>"
            ]
          },
          "metadata": {
            "tags": []
          }
        }
      ]
    },
    {
      "cell_type": "code",
      "metadata": {
        "colab": {
          "base_uri": "https://localhost:8080/"
        },
        "id": "lpR3TunndIw9",
        "outputId": "c671c781-ba9e-4b6e-a85b-1c1446548354"
      },
      "source": [
        "from sklearn.svm import SVR\r\n",
        "best_C = c_param[best_C]\r\n",
        "print('Best C: ', best_C)\r\n",
        "model = SVR(C=best_C, max_iter=200)\r\n",
        "model.fit(X_train, y_train)"
      ],
      "execution_count": 101,
      "outputs": [
        {
          "output_type": "stream",
          "text": [
            "Best C:  0.2\n"
          ],
          "name": "stdout"
        },
        {
          "output_type": "stream",
          "text": [
            "/usr/local/lib/python3.6/dist-packages/sklearn/svm/_base.py:231: ConvergenceWarning: Solver terminated early (max_iter=200).  Consider pre-processing your data with StandardScaler or MinMaxScaler.\n",
            "  % self.max_iter, ConvergenceWarning)\n"
          ],
          "name": "stderr"
        },
        {
          "output_type": "execute_result",
          "data": {
            "text/plain": [
              "SVR(C=0.2, cache_size=200, coef0=0.0, degree=3, epsilon=0.1, gamma='scale',\n",
              "    kernel='rbf', max_iter=200, shrinking=True, tol=0.001, verbose=False)"
            ]
          },
          "metadata": {
            "tags": []
          },
          "execution_count": 101
        }
      ]
    },
    {
      "cell_type": "code",
      "metadata": {
        "colab": {
          "base_uri": "https://localhost:8080/"
        },
        "id": "9I29hshheGH_",
        "outputId": "913768fa-33ed-46aa-aa8a-ae71420a7776"
      },
      "source": [
        "svr_preds_tr = model.predict(X_train)\r\n",
        "svr_preds_cv = model.predict(X_cv)\r\n",
        "print('Train RMSLE:', sqrt(mse(y_train, svr_preds_tr)))\r\n",
        "\r\n",
        "svr_rmsle = sqrt(mse(y_cv, svr_preds_cv))\r\n",
        "print(\"Cross validation RMSLE: \", svr_rmsle)"
      ],
      "execution_count": 102,
      "outputs": [
        {
          "output_type": "stream",
          "text": [
            "Train RMSLE: 0.4085402597404689\n",
            "Cross validation RMSLE:  0.4488255239288677\n"
          ],
          "name": "stdout"
        }
      ]
    },
    {
      "cell_type": "code",
      "metadata": {
        "colab": {
          "base_uri": "https://localhost:8080/",
          "height": 206
        },
        "id": "9Pa8hHfDnosk",
        "outputId": "9d5130ed-dcca-44de-c659-8f689ad1a679"
      },
      "source": [
        "submission_df_svr = pd.DataFrame(test['id'])\r\n",
        "svr_preds_te = model.predict(X_test)\r\n",
        "submission_df_svr['price'] = np.exp(svr_preds_te) - 1\r\n",
        "submission_df_svr.to_csv('svr_submission_colab.csv', index=False)\r\n",
        "submission_df_svr.head()"
      ],
      "execution_count": 104,
      "outputs": [
        {
          "output_type": "execute_result",
          "data": {
            "text/html": [
              "<div>\n",
              "<style scoped>\n",
              "    .dataframe tbody tr th:only-of-type {\n",
              "        vertical-align: middle;\n",
              "    }\n",
              "\n",
              "    .dataframe tbody tr th {\n",
              "        vertical-align: top;\n",
              "    }\n",
              "\n",
              "    .dataframe thead th {\n",
              "        text-align: right;\n",
              "    }\n",
              "</style>\n",
              "<table border=\"1\" class=\"dataframe\">\n",
              "  <thead>\n",
              "    <tr style=\"text-align: right;\">\n",
              "      <th></th>\n",
              "      <th>id</th>\n",
              "      <th>price</th>\n",
              "    </tr>\n",
              "  </thead>\n",
              "  <tbody>\n",
              "    <tr>\n",
              "      <th>0</th>\n",
              "      <td>1048243</td>\n",
              "      <td>34.453731</td>\n",
              "    </tr>\n",
              "    <tr>\n",
              "      <th>1</th>\n",
              "      <td>86986</td>\n",
              "      <td>47.294192</td>\n",
              "    </tr>\n",
              "    <tr>\n",
              "      <th>2</th>\n",
              "      <td>698316</td>\n",
              "      <td>20.431827</td>\n",
              "    </tr>\n",
              "    <tr>\n",
              "      <th>3</th>\n",
              "      <td>268868</td>\n",
              "      <td>14.767620</td>\n",
              "    </tr>\n",
              "    <tr>\n",
              "      <th>4</th>\n",
              "      <td>1360398</td>\n",
              "      <td>27.204126</td>\n",
              "    </tr>\n",
              "  </tbody>\n",
              "</table>\n",
              "</div>"
            ],
            "text/plain": [
              "        id      price\n",
              "0  1048243  34.453731\n",
              "1    86986  47.294192\n",
              "2   698316  20.431827\n",
              "3   268868  14.767620\n",
              "4  1360398  27.204126"
            ]
          },
          "metadata": {
            "tags": []
          },
          "execution_count": 104
        }
      ]
    },
    {
      "cell_type": "code",
      "metadata": {
        "id": "QC_SMSifouhk"
      },
      "source": [
        ""
      ],
      "execution_count": null,
      "outputs": []
    },
    {
      "cell_type": "code",
      "metadata": {
        "id": "KDsr5WbSr8MD"
      },
      "source": [
        ""
      ],
      "execution_count": null,
      "outputs": []
    }
  ]
}