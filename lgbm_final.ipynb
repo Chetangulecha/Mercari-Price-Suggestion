{
 "cells": [
  {
   "cell_type": "code",
   "execution_count": 216,
   "metadata": {
    "colab": {
     "base_uri": "https://localhost:8080/"
    },
    "executionInfo": {
     "elapsed": 1079,
     "status": "ok",
     "timestamp": 1606214346635,
     "user": {
      "displayName": "Pratik Pawar",
      "photoUrl": "",
      "userId": "07854545271556537314"
     },
     "user_tz": -330
    },
    "id": "5cKKND-CpJoq",
    "outputId": "d320fa52-4930-4073-b0b0-f100b89c54e2"
   },
   "outputs": [
    {
     "name": "stdout",
     "output_type": "stream",
     "text": [
      "Drive already mounted at /content/drive; to attempt to forcibly remount, call drive.mount(\"/content/drive\", force_remount=True).\n"
     ]
    }
   ],
   "source": [
    "from google.colab import drive\n",
    "drive.mount('/content/drive')"
   ]
  },
  {
   "cell_type": "code",
   "execution_count": 217,
   "metadata": {
    "colab": {
     "base_uri": "https://localhost:8080/"
    },
    "executionInfo": {
     "elapsed": 2428,
     "status": "ok",
     "timestamp": 1606214347998,
     "user": {
      "displayName": "Pratik Pawar",
      "photoUrl": "",
      "userId": "07854545271556537314"
     },
     "user_tz": -330
    },
    "id": "5w99OUP1l7ri",
    "outputId": "43aaca0b-cbd8-495d-bcef-2bdfb8fa048e"
   },
   "outputs": [
    {
     "name": "stdout",
     "output_type": "stream",
     "text": [
      "[nltk_data] Downloading package stopwords to /root/nltk_data...\n",
      "[nltk_data]   Package stopwords is already up-to-date!\n",
      "[nltk_data] Downloading package vader_lexicon to /root/nltk_data...\n",
      "[nltk_data]   Package vader_lexicon is already up-to-date!\n"
     ]
    }
   ],
   "source": [
    "import pandas as pd\n",
    "import numpy as np\n",
    "import matplotlib.pyplot as plt\n",
    "import seaborn as sns\n",
    "\n",
    "import warnings\n",
    "warnings.filterwarnings('ignore')\n",
    "from sklearn.model_selection import train_test_split\n",
    "from sklearn.model_selection import GridSearchCV\n",
    "import nltk\n",
    "nltk.download('stopwords')\n",
    "from nltk.corpus import stopwords\n",
    "from tqdm import tqdm\n",
    "import re\n",
    "import collections\n",
    "from wordcloud import STOPWORDS\n",
    "from scipy.sparse import csr_matrix\n",
    "from nltk.sentiment.vader import SentimentIntensityAnalyzer\n",
    "nltk.download('vader_lexicon')\n",
    "from sklearn.feature_extraction.text import TfidfVectorizer\n",
    "from sklearn.feature_extraction.text import CountVectorizer\n",
    "from sklearn.preprocessing import StandardScaler\n",
    "from sklearn.preprocessing import Normalizer\n",
    "from sklearn.preprocessing import MinMaxScaler\n",
    "from sklearn.linear_model import Ridge\n",
    "from sklearn.linear_model import Lasso\n",
    "from sklearn.linear_model import SGDRegressor\n",
    "from lightgbm import LGBMRegressor\n",
    "from sklearn.linear_model import LinearRegression\n",
    "from sklearn.metrics import mean_squared_error\n",
    "from sklearn.metrics import mean_squared_log_error\n",
    "from wordcloud import WordCloud"
   ]
  },
  {
   "cell_type": "code",
   "execution_count": 218,
   "metadata": {
    "colab": {
     "base_uri": "https://localhost:8080/",
     "height": 555
    },
    "executionInfo": {
     "elapsed": 10865,
     "status": "ok",
     "timestamp": 1606214356450,
     "user": {
      "displayName": "Pratik Pawar",
      "photoUrl": "",
      "userId": "07854545271556537314"
     },
     "user_tz": -330
    },
    "id": "O-FkkXwVl7rj",
    "outputId": "fc2f4419-29e0-4959-d16a-e4392af9d646"
   },
   "outputs": [
    {
     "data": {
      "text/html": [
       "<div>\n",
       "<style scoped>\n",
       "    .dataframe tbody tr th:only-of-type {\n",
       "        vertical-align: middle;\n",
       "    }\n",
       "\n",
       "    .dataframe tbody tr th {\n",
       "        vertical-align: top;\n",
       "    }\n",
       "\n",
       "    .dataframe thead th {\n",
       "        text-align: right;\n",
       "    }\n",
       "</style>\n",
       "<table border=\"1\" class=\"dataframe\">\n",
       "  <thead>\n",
       "    <tr style=\"text-align: right;\">\n",
       "      <th></th>\n",
       "      <th>train_id</th>\n",
       "      <th>name</th>\n",
       "      <th>item_condition_id</th>\n",
       "      <th>category_name</th>\n",
       "      <th>brand_name</th>\n",
       "      <th>price</th>\n",
       "      <th>shipping</th>\n",
       "      <th>item_description</th>\n",
       "    </tr>\n",
       "  </thead>\n",
       "  <tbody>\n",
       "    <tr>\n",
       "      <th>0</th>\n",
       "      <td>1436222</td>\n",
       "      <td>Tarte rainforest after dark colored clay</td>\n",
       "      <td>1</td>\n",
       "      <td>Beauty/Makeup/Makeup Palettes</td>\n",
       "      <td>Tarte</td>\n",
       "      <td>36.0</td>\n",
       "      <td>1</td>\n",
       "      <td>A brand-new, unused, unopened, undamaged item....</td>\n",
       "    </tr>\n",
       "    <tr>\n",
       "      <th>1</th>\n",
       "      <td>402989</td>\n",
       "      <td>Mac mineralize skin finish</td>\n",
       "      <td>3</td>\n",
       "      <td>Beauty/Makeup/Face</td>\n",
       "      <td>MAC</td>\n",
       "      <td>15.0</td>\n",
       "      <td>1</td>\n",
       "      <td>Color is gold deposit, about 85% of product left</td>\n",
       "    </tr>\n",
       "    <tr>\n",
       "      <th>2</th>\n",
       "      <td>638275</td>\n",
       "      <td>White Case iPhone 6/6s</td>\n",
       "      <td>1</td>\n",
       "      <td>Electronics/Cell Phones &amp; Accessories/Cases, C...</td>\n",
       "      <td>NaN</td>\n",
       "      <td>3.0</td>\n",
       "      <td>1</td>\n",
       "      <td>New Ultra thin Candy TPU Silicone Rubber Soft</td>\n",
       "    </tr>\n",
       "    <tr>\n",
       "      <th>3</th>\n",
       "      <td>1113629</td>\n",
       "      <td>Victoria's Secret push-up plunge</td>\n",
       "      <td>3</td>\n",
       "      <td>Women/Underwear/Bras</td>\n",
       "      <td>Victoria's Secret</td>\n",
       "      <td>18.0</td>\n",
       "      <td>1</td>\n",
       "      <td>VS sexy little thing multi way bras both size ...</td>\n",
       "    </tr>\n",
       "    <tr>\n",
       "      <th>4</th>\n",
       "      <td>328823</td>\n",
       "      <td>Disney Princess Toddler Boots Size 10</td>\n",
       "      <td>2</td>\n",
       "      <td>Kids/Girls 2T-5T/Shoes</td>\n",
       "      <td>Disney</td>\n",
       "      <td>13.0</td>\n",
       "      <td>1</td>\n",
       "      <td>New with out box!</td>\n",
       "    </tr>\n",
       "    <tr>\n",
       "      <th>...</th>\n",
       "      <td>...</td>\n",
       "      <td>...</td>\n",
       "      <td>...</td>\n",
       "      <td>...</td>\n",
       "      <td>...</td>\n",
       "      <td>...</td>\n",
       "      <td>...</td>\n",
       "      <td>...</td>\n",
       "    </tr>\n",
       "    <tr>\n",
       "      <th>1037769</th>\n",
       "      <td>674578</td>\n",
       "      <td>Nike Dri fit hooded top</td>\n",
       "      <td>2</td>\n",
       "      <td>Women/Athletic Apparel/Shirts &amp; Tops</td>\n",
       "      <td>Nike</td>\n",
       "      <td>20.0</td>\n",
       "      <td>1</td>\n",
       "      <td>Like new. Sz L. Thumb holes</td>\n",
       "    </tr>\n",
       "    <tr>\n",
       "      <th>1037770</th>\n",
       "      <td>276890</td>\n",
       "      <td>Talk Red Hunter Boots</td>\n",
       "      <td>3</td>\n",
       "      <td>Women/Shoes/Boots</td>\n",
       "      <td>Hunter Boots</td>\n",
       "      <td>66.0</td>\n",
       "      <td>0</td>\n",
       "      <td>❤️❤️Sadly reselling because they are a little ...</td>\n",
       "    </tr>\n",
       "    <tr>\n",
       "      <th>1037771</th>\n",
       "      <td>1069670</td>\n",
       "      <td>NWT FREE SHIP CC 2Beanie Hat Beige+Taup</td>\n",
       "      <td>1</td>\n",
       "      <td>Men/Men's Accessories/Hats</td>\n",
       "      <td>NaN</td>\n",
       "      <td>20.0</td>\n",
       "      <td>1</td>\n",
       "      <td>NWT Unisex Ribbed cable knit beanie slouchy th...</td>\n",
       "    </tr>\n",
       "    <tr>\n",
       "      <th>1037772</th>\n",
       "      <td>35382</td>\n",
       "      <td>Winston cup snapback</td>\n",
       "      <td>3</td>\n",
       "      <td>Men/Men's Accessories/Hats</td>\n",
       "      <td>NaN</td>\n",
       "      <td>8.0</td>\n",
       "      <td>0</td>\n",
       "      <td>In great condition</td>\n",
       "    </tr>\n",
       "    <tr>\n",
       "      <th>1037773</th>\n",
       "      <td>110009</td>\n",
       "      <td>Old Navy Rockstar Skinny Cords 10</td>\n",
       "      <td>3</td>\n",
       "      <td>Women/Jeans/Slim, Skinny</td>\n",
       "      <td>Old Navy</td>\n",
       "      <td>12.0</td>\n",
       "      <td>0</td>\n",
       "      <td>Dark burgundy Size 10 Excellent like new condi...</td>\n",
       "    </tr>\n",
       "  </tbody>\n",
       "</table>\n",
       "<p>1037774 rows × 8 columns</p>\n",
       "</div>"
      ],
      "text/plain": [
       "         train_id  ...                                   item_description\n",
       "0         1436222  ...  A brand-new, unused, unopened, undamaged item....\n",
       "1          402989  ...   Color is gold deposit, about 85% of product left\n",
       "2          638275  ...      New Ultra thin Candy TPU Silicone Rubber Soft\n",
       "3         1113629  ...  VS sexy little thing multi way bras both size ...\n",
       "4          328823  ...                                  New with out box!\n",
       "...           ...  ...                                                ...\n",
       "1037769    674578  ...                        Like new. Sz L. Thumb holes\n",
       "1037770    276890  ...  ❤️❤️Sadly reselling because they are a little ...\n",
       "1037771   1069670  ...  NWT Unisex Ribbed cable knit beanie slouchy th...\n",
       "1037772     35382  ...                                 In great condition\n",
       "1037773    110009  ...  Dark burgundy Size 10 Excellent like new condi...\n",
       "\n",
       "[1037774 rows x 8 columns]"
      ]
     },
     "execution_count": 218,
     "metadata": {
      "tags": []
     },
     "output_type": "execute_result"
    }
   ],
   "source": [
    "train_data = pd.read_csv(\"/content/drive/MyDrive/Colab Notebooks/train.tsv\", sep='\\t')\n",
    "train_data"
   ]
  },
  {
   "cell_type": "code",
   "execution_count": 219,
   "metadata": {
    "colab": {
     "base_uri": "https://localhost:8080/"
    },
    "executionInfo": {
     "elapsed": 10855,
     "status": "ok",
     "timestamp": 1606214356454,
     "user": {
      "displayName": "Pratik Pawar",
      "photoUrl": "",
      "userId": "07854545271556537314"
     },
     "user_tz": -330
    },
    "id": "AL9525hXl7rk",
    "outputId": "2b3479a4-202d-49ff-d9eb-b545f8e53dba"
   },
   "outputs": [
    {
     "data": {
      "text/plain": [
       "train_id                  0\n",
       "name                      0\n",
       "item_condition_id         0\n",
       "category_name          4382\n",
       "brand_name           442947\n",
       "price                     0\n",
       "shipping                  0\n",
       "item_description          2\n",
       "dtype: int64"
      ]
     },
     "execution_count": 219,
     "metadata": {
      "tags": []
     },
     "output_type": "execute_result"
    }
   ],
   "source": [
    "train_data.isnull().sum()"
   ]
  },
  {
   "cell_type": "code",
   "execution_count": 220,
   "metadata": {
    "colab": {
     "base_uri": "https://localhost:8080/"
    },
    "executionInfo": {
     "elapsed": 11472,
     "status": "ok",
     "timestamp": 1606214357082,
     "user": {
      "displayName": "Pratik Pawar",
      "photoUrl": "",
      "userId": "07854545271556537314"
     },
     "user_tz": -330
    },
    "id": "XF4Sq7ljl7rl",
    "outputId": "8e7d981f-f411-4608-af4a-7c4d4f2acc63"
   },
   "outputs": [
    {
     "data": {
      "text/plain": [
       "train_id                0\n",
       "name                    0\n",
       "item_condition_id       0\n",
       "category_name        4382\n",
       "brand_name              0\n",
       "price                   0\n",
       "shipping                0\n",
       "item_description        0\n",
       "dtype: int64"
      ]
     },
     "execution_count": 220,
     "metadata": {
      "tags": []
     },
     "output_type": "execute_result"
    }
   ],
   "source": [
    "train_data['brand_name'].fillna(value=\"Not known\", inplace=True)\n",
    "train_data['item_description'].fillna(value=\"No description\", inplace=True)\n",
    "train_data.isnull().sum()"
   ]
  },
  {
   "cell_type": "code",
   "execution_count": 221,
   "metadata": {
    "executionInfo": {
     "elapsed": 11466,
     "status": "ok",
     "timestamp": 1606214357084,
     "user": {
      "displayName": "Pratik Pawar",
      "photoUrl": "",
      "userId": "07854545271556537314"
     },
     "user_tz": -330
    },
    "id": "vKNqHhxPl7rl"
   },
   "outputs": [],
   "source": [
    "# differentiate into futher subcategories and adding columns\n",
    "def category_split(row):\n",
    "    try:\n",
    "        text = row\n",
    "        text1, text2, text3 = text.split('/')\n",
    "        return text1, text2, text3\n",
    "    except:\n",
    "        return (\"NoLabel\", \"NoLabel\", \"NoLabel\")"
   ]
  },
  {
   "cell_type": "code",
   "execution_count": 222,
   "metadata": {
    "colab": {
     "base_uri": "https://localhost:8080/",
     "height": 323
    },
    "executionInfo": {
     "elapsed": 17042,
     "status": "ok",
     "timestamp": 1606214362671,
     "user": {
      "displayName": "Pratik Pawar",
      "photoUrl": "",
      "userId": "07854545271556537314"
     },
     "user_tz": -330
    },
    "id": "m2h-nnhQl7rl",
    "outputId": "182f3be2-ae48-48ba-92e0-f11dec6118de"
   },
   "outputs": [
    {
     "data": {
      "text/html": [
       "<div>\n",
       "<style scoped>\n",
       "    .dataframe tbody tr th:only-of-type {\n",
       "        vertical-align: middle;\n",
       "    }\n",
       "\n",
       "    .dataframe tbody tr th {\n",
       "        vertical-align: top;\n",
       "    }\n",
       "\n",
       "    .dataframe thead th {\n",
       "        text-align: right;\n",
       "    }\n",
       "</style>\n",
       "<table border=\"1\" class=\"dataframe\">\n",
       "  <thead>\n",
       "    <tr style=\"text-align: right;\">\n",
       "      <th></th>\n",
       "      <th>train_id</th>\n",
       "      <th>name</th>\n",
       "      <th>item_condition_id</th>\n",
       "      <th>category_name</th>\n",
       "      <th>brand_name</th>\n",
       "      <th>price</th>\n",
       "      <th>shipping</th>\n",
       "      <th>item_description</th>\n",
       "      <th>subcat_1</th>\n",
       "      <th>subcat_2</th>\n",
       "      <th>subcat_3</th>\n",
       "    </tr>\n",
       "  </thead>\n",
       "  <tbody>\n",
       "    <tr>\n",
       "      <th>0</th>\n",
       "      <td>1436222</td>\n",
       "      <td>Tarte rainforest after dark colored clay</td>\n",
       "      <td>1</td>\n",
       "      <td>Beauty/Makeup/Makeup Palettes</td>\n",
       "      <td>Tarte</td>\n",
       "      <td>36.0</td>\n",
       "      <td>1</td>\n",
       "      <td>A brand-new, unused, unopened, undamaged item....</td>\n",
       "      <td>Beauty</td>\n",
       "      <td>Makeup</td>\n",
       "      <td>Makeup Palettes</td>\n",
       "    </tr>\n",
       "    <tr>\n",
       "      <th>1</th>\n",
       "      <td>402989</td>\n",
       "      <td>Mac mineralize skin finish</td>\n",
       "      <td>3</td>\n",
       "      <td>Beauty/Makeup/Face</td>\n",
       "      <td>MAC</td>\n",
       "      <td>15.0</td>\n",
       "      <td>1</td>\n",
       "      <td>Color is gold deposit, about 85% of product left</td>\n",
       "      <td>Beauty</td>\n",
       "      <td>Makeup</td>\n",
       "      <td>Face</td>\n",
       "    </tr>\n",
       "    <tr>\n",
       "      <th>2</th>\n",
       "      <td>638275</td>\n",
       "      <td>White Case iPhone 6/6s</td>\n",
       "      <td>1</td>\n",
       "      <td>Electronics/Cell Phones &amp; Accessories/Cases, C...</td>\n",
       "      <td>Not known</td>\n",
       "      <td>3.0</td>\n",
       "      <td>1</td>\n",
       "      <td>New Ultra thin Candy TPU Silicone Rubber Soft</td>\n",
       "      <td>Electronics</td>\n",
       "      <td>Cell Phones &amp; Accessories</td>\n",
       "      <td>Cases, Covers &amp; Skins</td>\n",
       "    </tr>\n",
       "    <tr>\n",
       "      <th>3</th>\n",
       "      <td>1113629</td>\n",
       "      <td>Victoria's Secret push-up plunge</td>\n",
       "      <td>3</td>\n",
       "      <td>Women/Underwear/Bras</td>\n",
       "      <td>Victoria's Secret</td>\n",
       "      <td>18.0</td>\n",
       "      <td>1</td>\n",
       "      <td>VS sexy little thing multi way bras both size ...</td>\n",
       "      <td>Women</td>\n",
       "      <td>Underwear</td>\n",
       "      <td>Bras</td>\n",
       "    </tr>\n",
       "    <tr>\n",
       "      <th>4</th>\n",
       "      <td>328823</td>\n",
       "      <td>Disney Princess Toddler Boots Size 10</td>\n",
       "      <td>2</td>\n",
       "      <td>Kids/Girls 2T-5T/Shoes</td>\n",
       "      <td>Disney</td>\n",
       "      <td>13.0</td>\n",
       "      <td>1</td>\n",
       "      <td>New with out box!</td>\n",
       "      <td>Kids</td>\n",
       "      <td>Girls 2T-5T</td>\n",
       "      <td>Shoes</td>\n",
       "    </tr>\n",
       "  </tbody>\n",
       "</table>\n",
       "</div>"
      ],
      "text/plain": [
       "   train_id  ...               subcat_3\n",
       "0   1436222  ...        Makeup Palettes\n",
       "1    402989  ...                   Face\n",
       "2    638275  ...  Cases, Covers & Skins\n",
       "3   1113629  ...                   Bras\n",
       "4    328823  ...                  Shoes\n",
       "\n",
       "[5 rows x 11 columns]"
      ]
     },
     "execution_count": 222,
     "metadata": {
      "tags": []
     },
     "output_type": "execute_result"
    }
   ],
   "source": [
    "train_data[\"subcat_1\"], train_data[\"subcat_2\"], train_data[\"subcat_3\"] = zip(*train_data[\"category_name\"].apply(lambda x: category_split(x)))\n",
    "train_data.head()"
   ]
  },
  {
   "cell_type": "code",
   "execution_count": 223,
   "metadata": {
    "colab": {
     "base_uri": "https://localhost:8080/",
     "height": 368
    },
    "executionInfo": {
     "elapsed": 18039,
     "status": "ok",
     "timestamp": 1606214363685,
     "user": {
      "displayName": "Pratik Pawar",
      "photoUrl": "",
      "userId": "07854545271556537314"
     },
     "user_tz": -330
    },
    "id": "ZvR0wje5l7rl",
    "outputId": "0f776fde-ac0a-45f8-b1ff-ce4ff3a07448"
   },
   "outputs": [
    {
     "name": "stdout",
     "output_type": "stream",
     "text": [
      "Number of unique categories: 11\n"
     ]
    },
    {
     "data": {
      "image/png": "[encoded data removed]",
      "text/plain": [
       "<Figure size 1080x360 with 1 Axes>"
      ]
     },
     "metadata": {
      "needs_background": "light",
      "tags": []
     },
     "output_type": "display_data"
    }
   ],
   "source": [
    "count = train_data['subcat_1'].value_counts()\n",
    "print(\"Number of unique categories: {}\".format(len(count)))\n",
    "plt.figure(figsize=(15, 5))\n",
    "sns.barplot(count.index, count)\n",
    "plt.title(\"Bar plot of number of items per each subcat_1\")\n",
    "plt.xlabel('subcat_1')\n",
    "plt.ylabel('count')\n",
    "plt.show()"
   ]
  },
  {
   "cell_type": "code",
   "execution_count": 224,
   "metadata": {
    "colab": {
     "base_uri": "https://localhost:8080/",
     "height": 368
    },
    "executionInfo": {
     "elapsed": 18029,
     "status": "ok",
     "timestamp": 1606214363691,
     "user": {
      "displayName": "Pratik Pawar",
      "photoUrl": "",
      "userId": "07854545271556537314"
     },
     "user_tz": -330
    },
    "id": "PYs-FP6yl7rl",
    "outputId": "c757fb39-3e63-4f3b-fe9f-c2ee543cb45c"
   },
   "outputs": [
    {
     "name": "stdout",
     "output_type": "stream",
     "text": [
      "Number of unique categories: 10\n"
     ]
    },
    {
     "data": {
      "image/png": "[encoded data removed]",
      "text/plain": [
       "<Figure size 1080x360 with 1 Axes>"
      ]
     },
     "metadata": {
      "needs_background": "light",
      "tags": []
     },
     "output_type": "display_data"
    }
   ],
   "source": [
    "count = train_data['subcat_2'].value_counts()[:10]\n",
    "print(\"Number of unique categories: {}\".format(len(count)))\n",
    "plt.figure(figsize=(15, 5))\n",
    "sns.barplot(count.index, count)\n",
    "plt.title(\"Bar plot of number of items per each top 10 subcat_2\")\n",
    "plt.xlabel('subcat_2')\n",
    "plt.ylabel('count')\n",
    "plt.show()"
   ]
  },
  {
   "cell_type": "code",
   "execution_count": 225,
   "metadata": {
    "colab": {
     "base_uri": "https://localhost:8080/",
     "height": 368
    },
    "executionInfo": {
     "elapsed": 18923,
     "status": "ok",
     "timestamp": 1606214364601,
     "user": {
      "displayName": "Pratik Pawar",
      "photoUrl": "",
      "userId": "07854545271556537314"
     },
     "user_tz": -330
    },
    "id": "Z5NA1iGAl7rm",
    "outputId": "ae972833-29e9-4d87-8c9e-ea0d490590e1"
   },
   "outputs": [
    {
     "name": "stdout",
     "output_type": "stream",
     "text": [
      "Number of unique categories: 10\n"
     ]
    },
    {
     "data": {
      "image/png": "[encoded data removed]",
      "text/plain": [
       "<Figure size 1080x360 with 1 Axes>"
      ]
     },
     "metadata": {
      "needs_background": "light",
      "tags": []
     },
     "output_type": "display_data"
    }
   ],
   "source": [
    "count = train_data['subcat_3'].value_counts()[:10]\n",
    "print(\"Number of unique categories: {}\".format(len(count)))\n",
    "plt.figure(figsize=(15, 5))\n",
    "sns.barplot(count.index, count)\n",
    "plt.title(\"Bar plot of number of items per each top 10 subcat_3\")\n",
    "plt.xlabel('subcat_3')\n",
    "plt.ylabel('count')\n",
    "plt.show()"
   ]
  },
  {
   "cell_type": "code",
   "execution_count": 226,
   "metadata": {
    "colab": {
     "base_uri": "https://localhost:8080/",
     "height": 368
    },
    "executionInfo": {
     "elapsed": 18909,
     "status": "ok",
     "timestamp": 1606214364603,
     "user": {
      "displayName": "Pratik Pawar",
      "photoUrl": "",
      "userId": "07854545271556537314"
     },
     "user_tz": -330
    },
    "id": "_nuya9lDl7rm",
    "outputId": "afdd1d6e-8ef3-4057-a306-114cca8246f4"
   },
   "outputs": [
    {
     "name": "stdout",
     "output_type": "stream",
     "text": [
      "Number of unique categories: 10\n"
     ]
    },
    {
     "data": {
      "image/png": "[encoded data removed]",
      "text/plain": [
       "<Figure size 1080x360 with 1 Axes>"
      ]
     },
     "metadata": {
      "needs_background": "light",
      "tags": []
     },
     "output_type": "display_data"
    }
   ],
   "source": [
    "count = train_data['brand_name'].value_counts()[1:11]\n",
    "print(\"Number of unique categories: {}\".format(len(count)))\n",
    "plt.figure(figsize=(15, 5))\n",
    "sns.barplot(count.index, count)\n",
    "plt.title(\"Bar plot of number of items per each top 10 Brands\")\n",
    "plt.xlabel('brand_name')\n",
    "plt.ylabel('count')\n",
    "plt.show()"
   ]
  },
  {
   "cell_type": "code",
   "execution_count": 227,
   "metadata": {
    "colab": {
     "base_uri": "https://localhost:8080/",
     "height": 367
    },
    "executionInfo": {
     "elapsed": 19764,
     "status": "ok",
     "timestamp": 1606214365474,
     "user": {
      "displayName": "Pratik Pawar",
      "photoUrl": "",
      "userId": "07854545271556537314"
     },
     "user_tz": -330
    },
    "id": "T46Y9i4El7rm",
    "outputId": "b331bb0a-764e-4718-eca7-253c3974680c"
   },
   "outputs": [
    {
     "name": "stdout",
     "output_type": "stream",
     "text": [
      "Number of unique categories: 10\n"
     ]
    },
    {
     "data": {
      "image/png": "[encoded data removed]",
      "text/plain": [
       "<Figure size 1080x360 with 1 Axes>"
      ]
     },
     "metadata": {
      "needs_background": "light",
      "tags": []
     },
     "output_type": "display_data"
    }
   ],
   "source": [
    "count = train_data['name'].value_counts()[:10]\n",
    "print(\"Number of unique categories: {}\".format(len(count)))\n",
    "plt.figure(figsize=(15, 5))\n",
    "sns.barplot(count.index, count)\n",
    "plt.title(\"Name and Count\")\n",
    "plt.xlabel('name')\n",
    "plt.ylabel('count')\n",
    "plt.show()"
   ]
  },
  {
   "cell_type": "code",
   "execution_count": 228,
   "metadata": {
    "colab": {
     "base_uri": "https://localhost:8080/",
     "height": 368
    },
    "executionInfo": {
     "elapsed": 19749,
     "status": "ok",
     "timestamp": 1606214365475,
     "user": {
      "displayName": "Pratik Pawar",
      "photoUrl": "",
      "userId": "07854545271556537314"
     },
     "user_tz": -330
    },
    "id": "RA4Pw5C1l7rm",
    "outputId": "01a8180f-5a15-4b97-c8a8-a3b1c4294f3f"
   },
   "outputs": [
    {
     "name": "stdout",
     "output_type": "stream",
     "text": [
      "Number of unique categories: 5\n"
     ]
    },
    {
     "data": {
      "image/png": "[encoded data removed]",
      "text/plain": [
       "<Figure size 1080x360 with 1 Axes>"
      ]
     },
     "metadata": {
      "needs_background": "light",
      "tags": []
     },
     "output_type": "display_data"
    }
   ],
   "source": [
    "count = train_data['item_condition_id'].value_counts()\n",
    "print(\"Number of unique categories: {}\".format(len(count)))\n",
    "plt.figure(figsize=(15, 5))\n",
    "sns.barplot(count.index, count)\n",
    "plt.title(\"item_condition and Count\")\n",
    "plt.xlabel('item_condition_id')\n",
    "plt.ylabel('count')\n",
    "plt.show()"
   ]
  },
  {
   "cell_type": "code",
   "execution_count": 229,
   "metadata": {
    "colab": {
     "base_uri": "https://localhost:8080/"
    },
    "executionInfo": {
     "elapsed": 21831,
     "status": "ok",
     "timestamp": 1606214367569,
     "user": {
      "displayName": "Pratik Pawar",
      "photoUrl": "",
      "userId": "07854545271556537314"
     },
     "user_tz": -330
    },
    "id": "0Km29uoll7rn",
    "outputId": "ba05fcf9-554a-4359-f3ae-e4e936b4cbde"
   },
   "outputs": [
    {
     "name": "stdout",
     "output_type": "stream",
     "text": [
      "(933453, 11)\n",
      "(103717, 11)\n"
     ]
    }
   ],
   "source": [
    "train_data = train_data[train_data['price'] > 0].reset_index(drop=True)\n",
    "train_data,cv_data=train_test_split(train_data,test_size=0.1,random_state=42)\n",
    "print(train_data.shape)\n",
    "print(cv_data.shape)"
   ]
  },
  {
   "cell_type": "code",
   "execution_count": 230,
   "metadata": {
    "colab": {
     "base_uri": "https://localhost:8080/",
     "height": 374
    },
    "executionInfo": {
     "elapsed": 21827,
     "status": "ok",
     "timestamp": 1606214367578,
     "user": {
      "displayName": "Pratik Pawar",
      "photoUrl": "",
      "userId": "07854545271556537314"
     },
     "user_tz": -330
    },
    "id": "LtkVXXoJl7rn",
    "outputId": "6f37917b-33ac-43d5-96cb-866859120bda"
   },
   "outputs": [
    {
     "data": {
      "text/html": [
       "<div>\n",
       "<style scoped>\n",
       "    .dataframe tbody tr th:only-of-type {\n",
       "        vertical-align: middle;\n",
       "    }\n",
       "\n",
       "    .dataframe tbody tr th {\n",
       "        vertical-align: top;\n",
       "    }\n",
       "\n",
       "    .dataframe thead th {\n",
       "        text-align: right;\n",
       "    }\n",
       "</style>\n",
       "<table border=\"1\" class=\"dataframe\">\n",
       "  <thead>\n",
       "    <tr style=\"text-align: right;\">\n",
       "      <th></th>\n",
       "      <th>train_id</th>\n",
       "      <th>name</th>\n",
       "      <th>item_condition_id</th>\n",
       "      <th>category_name</th>\n",
       "      <th>brand_name</th>\n",
       "      <th>price</th>\n",
       "      <th>shipping</th>\n",
       "      <th>item_description</th>\n",
       "      <th>subcat_1</th>\n",
       "      <th>subcat_2</th>\n",
       "      <th>subcat_3</th>\n",
       "    </tr>\n",
       "  </thead>\n",
       "  <tbody>\n",
       "    <tr>\n",
       "      <th>139488</th>\n",
       "      <td>1265533</td>\n",
       "      <td>Nike air Jordan 12 retro size 8</td>\n",
       "      <td>3</td>\n",
       "      <td>Men/Shoes/Athletic</td>\n",
       "      <td>Nike</td>\n",
       "      <td>96.0</td>\n",
       "      <td>0</td>\n",
       "      <td>Show regular signs of wear and comes with box</td>\n",
       "      <td>Men</td>\n",
       "      <td>Shoes</td>\n",
       "      <td>Athletic</td>\n",
       "    </tr>\n",
       "    <tr>\n",
       "      <th>792739</th>\n",
       "      <td>851595</td>\n",
       "      <td>Silktop scalp full lace wig human hair</td>\n",
       "      <td>2</td>\n",
       "      <td>Women/Women's Accessories/Hair Accessories</td>\n",
       "      <td>Not known</td>\n",
       "      <td>133.0</td>\n",
       "      <td>1</td>\n",
       "      <td>Please read No lower offers I ship fast Yes st...</td>\n",
       "      <td>Women</td>\n",
       "      <td>Women's Accessories</td>\n",
       "      <td>Hair Accessories</td>\n",
       "    </tr>\n",
       "    <tr>\n",
       "      <th>959523</th>\n",
       "      <td>782561</td>\n",
       "      <td>BBW 3 Wick Spooky Vanilla Candle</td>\n",
       "      <td>1</td>\n",
       "      <td>Beauty/Fragrance/Candles &amp; Home Scents</td>\n",
       "      <td>Bath &amp; Body Works</td>\n",
       "      <td>21.0</td>\n",
       "      <td>0</td>\n",
       "      <td>Brand New Spooky Vanilla 3 Wick 14.5oz Bath &amp; ...</td>\n",
       "      <td>Beauty</td>\n",
       "      <td>Fragrance</td>\n",
       "      <td>Candles &amp; Home Scents</td>\n",
       "    </tr>\n",
       "    <tr>\n",
       "      <th>944975</th>\n",
       "      <td>349188</td>\n",
       "      <td>New plus size leggings 1x 2x 3x</td>\n",
       "      <td>1</td>\n",
       "      <td>Women/Athletic Apparel/Pants, Tights, Leggings</td>\n",
       "      <td>Not known</td>\n",
       "      <td>25.0</td>\n",
       "      <td>1</td>\n",
       "      <td>New Plus size white leggings 1x 2x 3c FREE US ...</td>\n",
       "      <td>Women</td>\n",
       "      <td>Athletic Apparel</td>\n",
       "      <td>Pants, Tights, Leggings</td>\n",
       "    </tr>\n",
       "    <tr>\n",
       "      <th>371823</th>\n",
       "      <td>793599</td>\n",
       "      <td>Sparkly Jelly Sandal Flats</td>\n",
       "      <td>4</td>\n",
       "      <td>Women/Shoes/Flats</td>\n",
       "      <td>Not known</td>\n",
       "      <td>14.0</td>\n",
       "      <td>1</td>\n",
       "      <td>I love these so much and have them in a ton of...</td>\n",
       "      <td>Women</td>\n",
       "      <td>Shoes</td>\n",
       "      <td>Flats</td>\n",
       "    </tr>\n",
       "  </tbody>\n",
       "</table>\n",
       "</div>"
      ],
      "text/plain": [
       "        train_id  ...                 subcat_3\n",
       "139488   1265533  ...                 Athletic\n",
       "792739    851595  ...         Hair Accessories\n",
       "959523    782561  ...    Candles & Home Scents\n",
       "944975    349188  ...  Pants, Tights, Leggings\n",
       "371823    793599  ...                    Flats\n",
       "\n",
       "[5 rows x 11 columns]"
      ]
     },
     "execution_count": 230,
     "metadata": {
      "tags": []
     },
     "output_type": "execute_result"
    }
   ],
   "source": [
    "cv_data[\"subcat_1\"], cv_data[\"subcat_2\"], cv_data[\"subcat_3\"] = zip(*cv_data[\"category_name\"].apply(lambda x: category_split(x)))\n",
    "cv_data.head()"
   ]
  },
  {
   "cell_type": "code",
   "execution_count": 231,
   "metadata": {
    "colab": {
     "base_uri": "https://localhost:8080/"
    },
    "executionInfo": {
     "elapsed": 21813,
     "status": "ok",
     "timestamp": 1606214367580,
     "user": {
      "displayName": "Pratik Pawar",
      "photoUrl": "",
      "userId": "07854545271556537314"
     },
     "user_tz": -330
    },
    "id": "qYoQyLbrl7rn",
    "outputId": "91c8a020-6494-4b01-b405-5a830dcc55fd"
   },
   "outputs": [
    {
     "data": {
      "text/plain": [
       "train_id               0\n",
       "name                   0\n",
       "item_condition_id      0\n",
       "category_name        402\n",
       "brand_name             0\n",
       "price                  0\n",
       "shipping               0\n",
       "item_description       0\n",
       "subcat_1               0\n",
       "subcat_2               0\n",
       "subcat_3               0\n",
       "dtype: int64"
      ]
     },
     "execution_count": 231,
     "metadata": {
      "tags": []
     },
     "output_type": "execute_result"
    }
   ],
   "source": [
    "cv_data['item_description'].fillna(value='No description given',inplace=True)\n",
    "cv_data['brand_name'].fillna(value='Not known',inplace=True)\n",
    "cv_data.isnull().sum()"
   ]
  },
  {
   "cell_type": "code",
   "execution_count": 232,
   "metadata": {
    "colab": {
     "base_uri": "https://localhost:8080/",
     "height": 350
    },
    "executionInfo": {
     "elapsed": 23669,
     "status": "ok",
     "timestamp": 1606214369452,
     "user": {
      "displayName": "Pratik Pawar",
      "photoUrl": "",
      "userId": "07854545271556537314"
     },
     "user_tz": -330
    },
    "id": "08KJyozI6-sC",
    "outputId": "0cf5d1cf-3021-41e4-fefc-619aa0ac92bd"
   },
   "outputs": [
    {
     "data": {
      "image/png": "[encoded data removed]",
      "text/plain": [
       "<Figure size 1080x360 with 2 Axes>"
      ]
     },
     "metadata": {
      "needs_background": "light",
      "tags": []
     },
     "output_type": "display_data"
    }
   ],
   "source": [
    "plt.figure(figsize=(15,5))\n",
    "plt.subplot(1,2,1)\n",
    "plt.hist(train_data['price'],bins=50,range=[0,200],edgecolor='white')\n",
    "plt.title('Price Distribution')\n",
    "plt.xlabel('Price')\n",
    "plt.ylabel(\"Number Of Products\")\n",
    "plt.subplot(1,2,2)\n",
    "log_price=[np.log(i+1) for i in train_data['price']]\n",
    "plt.hist(np.log(train_data['price']+1),bins=50,edgecolor='white')\n",
    "plt.title(\"log(Price Distribution)\")\n",
    "plt.xlabel(\"log(Price+1)\")\n",
    "plt.ylabel(\"Number Of Products\")\n",
    "plt.show()"
   ]
  },
  {
   "cell_type": "code",
   "execution_count": 233,
   "metadata": {
    "executionInfo": {
     "elapsed": 23665,
     "status": "ok",
     "timestamp": 1606214369459,
     "user": {
      "displayName": "Pratik Pawar",
      "photoUrl": "",
      "userId": "07854545271556537314"
     },
     "user_tz": -330
    },
    "id": "gQnnTu7pl7rp"
   },
   "outputs": [],
   "source": [
    "train_data['target']=np.log(np.array(train_data['price'].values)+1)\n",
    "cv_data['target']=np.log(np.array(cv_data['price'].values)+1)"
   ]
  },
  {
   "cell_type": "code",
   "execution_count": 234,
   "metadata": {
    "colab": {
     "base_uri": "https://localhost:8080/",
     "height": 193
    },
    "executionInfo": {
     "elapsed": 27278,
     "status": "ok",
     "timestamp": 1606214373084,
     "user": {
      "displayName": "Pratik Pawar",
      "photoUrl": "",
      "userId": "07854545271556537314"
     },
     "user_tz": -330
    },
    "id": "o4DGMG6il7rn",
    "outputId": "0ef3e60f-7077-410c-e6c2-561b865eed5c"
   },
   "outputs": [
    {
     "data": {
      "text/html": [
       "<div>\n",
       "<style scoped>\n",
       "    .dataframe tbody tr th:only-of-type {\n",
       "        vertical-align: middle;\n",
       "    }\n",
       "\n",
       "    .dataframe tbody tr th {\n",
       "        vertical-align: top;\n",
       "    }\n",
       "\n",
       "    .dataframe thead th {\n",
       "        text-align: right;\n",
       "    }\n",
       "</style>\n",
       "<table border=\"1\" class=\"dataframe\">\n",
       "  <thead>\n",
       "    <tr style=\"text-align: right;\">\n",
       "      <th></th>\n",
       "      <th>id</th>\n",
       "      <th>name</th>\n",
       "      <th>item_condition_id</th>\n",
       "      <th>category_name</th>\n",
       "      <th>brand_name</th>\n",
       "      <th>shipping</th>\n",
       "      <th>item_description</th>\n",
       "    </tr>\n",
       "  </thead>\n",
       "  <tbody>\n",
       "    <tr>\n",
       "      <th>0</th>\n",
       "      <td>1048243</td>\n",
       "      <td>Herschel Retreat Backpack</td>\n",
       "      <td>2</td>\n",
       "      <td>Men/Men's Accessories/Backpacks, Bags &amp; Briefc...</td>\n",
       "      <td>Urban Outfitters</td>\n",
       "      <td>0</td>\n",
       "      <td>In great condition! Only issue is magnet that ...</td>\n",
       "    </tr>\n",
       "    <tr>\n",
       "      <th>1</th>\n",
       "      <td>86986</td>\n",
       "      <td>2 pairs of Lebron</td>\n",
       "      <td>3</td>\n",
       "      <td>Men/Shoes/Athletic</td>\n",
       "      <td>Nike</td>\n",
       "      <td>1</td>\n",
       "      <td>Lebron soldier 10 size 10.5 9/10 condition Leb...</td>\n",
       "    </tr>\n",
       "    <tr>\n",
       "      <th>2</th>\n",
       "      <td>698316</td>\n",
       "      <td>Mario Kart Double Dash with bonus disc</td>\n",
       "      <td>3</td>\n",
       "      <td>Vintage &amp; Collectibles/Electronics/Video Game</td>\n",
       "      <td>Nintendo</td>\n",
       "      <td>1</td>\n",
       "      <td>Good shape work no problem</td>\n",
       "    </tr>\n",
       "  </tbody>\n",
       "</table>\n",
       "</div>"
      ],
      "text/plain": [
       "        id  ...                                   item_description\n",
       "0  1048243  ...  In great condition! Only issue is magnet that ...\n",
       "1    86986  ...  Lebron soldier 10 size 10.5 9/10 condition Leb...\n",
       "2   698316  ...                         Good shape work no problem\n",
       "\n",
       "[3 rows x 7 columns]"
      ]
     },
     "execution_count": 234,
     "metadata": {
      "tags": []
     },
     "output_type": "execute_result"
    }
   ],
   "source": [
    "test_data=pd.read_csv(\"/content/drive/MyDrive/Colab Notebooks/test.tsv\", sep='\\t')\n",
    "test_data.head(3)"
   ]
  },
  {
   "cell_type": "code",
   "execution_count": 235,
   "metadata": {
    "colab": {
     "base_uri": "https://localhost:8080/"
    },
    "executionInfo": {
     "elapsed": 27266,
     "status": "ok",
     "timestamp": 1606214373085,
     "user": {
      "displayName": "Pratik Pawar",
      "photoUrl": "",
      "userId": "07854545271556537314"
     },
     "user_tz": -330
    },
    "id": "2_3v_OSRl7rn",
    "outputId": "824bd952-4a07-4910-f74d-a03304885e2d"
   },
   "outputs": [
    {
     "name": "stdout",
     "output_type": "stream",
     "text": [
      "shape of the test data:  (444761, 7)\n"
     ]
    },
    {
     "data": {
      "text/plain": [
       "id                        0\n",
       "name                      0\n",
       "item_condition_id         0\n",
       "category_name          1945\n",
       "brand_name           189735\n",
       "shipping                  0\n",
       "item_description          2\n",
       "dtype: int64"
      ]
     },
     "execution_count": 235,
     "metadata": {
      "tags": []
     },
     "output_type": "execute_result"
    }
   ],
   "source": [
    "print(\"shape of the test data: \",test_data.shape)\n",
    "test_data.isnull().sum()"
   ]
  },
  {
   "cell_type": "code",
   "execution_count": 236,
   "metadata": {
    "colab": {
     "base_uri": "https://localhost:8080/"
    },
    "executionInfo": {
     "elapsed": 27257,
     "status": "ok",
     "timestamp": 1606214373086,
     "user": {
      "displayName": "Pratik Pawar",
      "photoUrl": "",
      "userId": "07854545271556537314"
     },
     "user_tz": -330
    },
    "id": "-wK48aEul7rn",
    "outputId": "ae4ba529-562b-45ef-da4f-8dd7dda9e6df"
   },
   "outputs": [
    {
     "data": {
      "text/plain": [
       "id                      0\n",
       "name                    0\n",
       "item_condition_id       0\n",
       "category_name        1945\n",
       "brand_name              0\n",
       "shipping                0\n",
       "item_description        0\n",
       "dtype: int64"
      ]
     },
     "execution_count": 236,
     "metadata": {
      "tags": []
     },
     "output_type": "execute_result"
    }
   ],
   "source": [
    "test_data['item_description'].fillna(value='No description given',inplace=True)\n",
    "test_data['brand_name'].fillna(value='Not known',inplace=True)\n",
    "test_data.isnull().sum()"
   ]
  },
  {
   "cell_type": "code",
   "execution_count": 237,
   "metadata": {
    "colab": {
     "base_uri": "https://localhost:8080/",
     "height": 323
    },
    "executionInfo": {
     "elapsed": 29767,
     "status": "ok",
     "timestamp": 1606214375612,
     "user": {
      "displayName": "Pratik Pawar",
      "photoUrl": "",
      "userId": "07854545271556537314"
     },
     "user_tz": -330
    },
    "id": "J3H2hpldl7ro",
    "outputId": "d2dda0b1-a445-4fa4-d6b1-685a46c75e4f"
   },
   "outputs": [
    {
     "data": {
      "text/html": [
       "<div>\n",
       "<style scoped>\n",
       "    .dataframe tbody tr th:only-of-type {\n",
       "        vertical-align: middle;\n",
       "    }\n",
       "\n",
       "    .dataframe tbody tr th {\n",
       "        vertical-align: top;\n",
       "    }\n",
       "\n",
       "    .dataframe thead th {\n",
       "        text-align: right;\n",
       "    }\n",
       "</style>\n",
       "<table border=\"1\" class=\"dataframe\">\n",
       "  <thead>\n",
       "    <tr style=\"text-align: right;\">\n",
       "      <th></th>\n",
       "      <th>id</th>\n",
       "      <th>name</th>\n",
       "      <th>item_condition_id</th>\n",
       "      <th>category_name</th>\n",
       "      <th>brand_name</th>\n",
       "      <th>shipping</th>\n",
       "      <th>item_description</th>\n",
       "      <th>subcat_1</th>\n",
       "      <th>subcat_2</th>\n",
       "      <th>subcat_3</th>\n",
       "    </tr>\n",
       "  </thead>\n",
       "  <tbody>\n",
       "    <tr>\n",
       "      <th>0</th>\n",
       "      <td>1048243</td>\n",
       "      <td>Herschel Retreat Backpack</td>\n",
       "      <td>2</td>\n",
       "      <td>Men/Men's Accessories/Backpacks, Bags &amp; Briefc...</td>\n",
       "      <td>Urban Outfitters</td>\n",
       "      <td>0</td>\n",
       "      <td>In great condition! Only issue is magnet that ...</td>\n",
       "      <td>Men</td>\n",
       "      <td>Men's Accessories</td>\n",
       "      <td>Backpacks, Bags &amp; Briefcases</td>\n",
       "    </tr>\n",
       "    <tr>\n",
       "      <th>1</th>\n",
       "      <td>86986</td>\n",
       "      <td>2 pairs of Lebron</td>\n",
       "      <td>3</td>\n",
       "      <td>Men/Shoes/Athletic</td>\n",
       "      <td>Nike</td>\n",
       "      <td>1</td>\n",
       "      <td>Lebron soldier 10 size 10.5 9/10 condition Leb...</td>\n",
       "      <td>Men</td>\n",
       "      <td>Shoes</td>\n",
       "      <td>Athletic</td>\n",
       "    </tr>\n",
       "    <tr>\n",
       "      <th>2</th>\n",
       "      <td>698316</td>\n",
       "      <td>Mario Kart Double Dash with bonus disc</td>\n",
       "      <td>3</td>\n",
       "      <td>Vintage &amp; Collectibles/Electronics/Video Game</td>\n",
       "      <td>Nintendo</td>\n",
       "      <td>1</td>\n",
       "      <td>Good shape work no problem</td>\n",
       "      <td>Vintage &amp; Collectibles</td>\n",
       "      <td>Electronics</td>\n",
       "      <td>Video Game</td>\n",
       "    </tr>\n",
       "    <tr>\n",
       "      <th>3</th>\n",
       "      <td>268868</td>\n",
       "      <td>Tokidoki unicorno kaiju and strawberry</td>\n",
       "      <td>2</td>\n",
       "      <td>Vintage &amp; Collectibles/Collectibles/Figurine</td>\n",
       "      <td>tokidoki</td>\n",
       "      <td>1</td>\n",
       "      <td>Both new with foil and box.</td>\n",
       "      <td>Vintage &amp; Collectibles</td>\n",
       "      <td>Collectibles</td>\n",
       "      <td>Figurine</td>\n",
       "    </tr>\n",
       "    <tr>\n",
       "      <th>4</th>\n",
       "      <td>1360398</td>\n",
       "      <td>Like Ugg Cardy, grey knit top boot</td>\n",
       "      <td>2</td>\n",
       "      <td>Women/Shoes/Boots</td>\n",
       "      <td>Not known</td>\n",
       "      <td>0</td>\n",
       "      <td>Brand new, not even a foot near them! Size 8 b...</td>\n",
       "      <td>Women</td>\n",
       "      <td>Shoes</td>\n",
       "      <td>Boots</td>\n",
       "    </tr>\n",
       "  </tbody>\n",
       "</table>\n",
       "</div>"
      ],
      "text/plain": [
       "        id  ...                      subcat_3\n",
       "0  1048243  ...  Backpacks, Bags & Briefcases\n",
       "1    86986  ...                      Athletic\n",
       "2   698316  ...                    Video Game\n",
       "3   268868  ...                      Figurine\n",
       "4  1360398  ...                         Boots\n",
       "\n",
       "[5 rows x 10 columns]"
      ]
     },
     "execution_count": 237,
     "metadata": {
      "tags": []
     },
     "output_type": "execute_result"
    }
   ],
   "source": [
    "test_data[\"subcat_1\"], test_data[\"subcat_2\"], test_data[\"subcat_3\"] = zip(*test_data[\"category_name\"].apply(lambda x: category_split(x)))\n",
    "test_data.head()"
   ]
  },
  {
   "cell_type": "code",
   "execution_count": 238,
   "metadata": {
    "executionInfo": {
     "elapsed": 29759,
     "status": "ok",
     "timestamp": 1606214375614,
     "user": {
      "displayName": "Pratik Pawar",
      "photoUrl": "",
      "userId": "07854545271556537314"
     },
     "user_tz": -330
    },
    "id": "ccNE3qNvl7ro"
   },
   "outputs": [],
   "source": [
    "stopwords=set(stopwords.words('english'))"
   ]
  },
  {
   "cell_type": "code",
   "execution_count": 239,
   "metadata": {
    "executionInfo": {
     "elapsed": 29755,
     "status": "ok",
     "timestamp": 1606214375615,
     "user": {
      "displayName": "Pratik Pawar",
      "photoUrl": "",
      "userId": "07854545271556537314"
     },
     "user_tz": -330
    },
    "id": "O5zsjGVIl7ro"
   },
   "outputs": [],
   "source": [
    "def stopwords_count(data):\n",
    "    \"\"\"this function counts the number of stopwords in each of the item_description\"\"\"\n",
    "    count_stopwords=[]\n",
    "    for i in tqdm(data['item_description']):\n",
    "        count=0\n",
    "        for j in i.split(' '):\n",
    "            if j in stopwords: count+=1  #finding if the word is present in the nltk stopwords or not\n",
    "        count_stopwords.append(count)\n",
    "    return count_stopwords"
   ]
  },
  {
   "cell_type": "code",
   "execution_count": 240,
   "metadata": {
    "colab": {
     "base_uri": "https://localhost:8080/"
    },
    "executionInfo": {
     "elapsed": 36893,
     "status": "ok",
     "timestamp": 1606214382761,
     "user": {
      "displayName": "Pratik Pawar",
      "photoUrl": "",
      "userId": "07854545271556537314"
     },
     "user_tz": -330
    },
    "id": "rL7upg5Al7ro",
    "outputId": "3f06bca8-9ee8-44c6-b3ad-855c751082ac"
   },
   "outputs": [
    {
     "name": "stderr",
     "output_type": "stream",
     "text": [
      "\n",
      "  0%|          | 0/933453 [00:00<?, ?it/s]\u001b[A\n",
      "  2%|▏         | 23052/933453 [00:00<00:03, 230510.33it/s]\u001b[A\n",
      "  5%|▌         | 47311/933453 [00:00<00:03, 234005.26it/s]\u001b[A\n",
      "  8%|▊         | 72050/933453 [00:00<00:03, 237864.20it/s]\u001b[A\n",
      " 10%|█         | 96013/933453 [00:00<00:03, 238387.37it/s]\u001b[A\n",
      " 13%|█▎        | 120710/933453 [00:00<00:03, 240894.22it/s]\u001b[A\n",
      " 16%|█▌        | 144713/933453 [00:00<00:03, 240632.47it/s]\u001b[A\n",
      " 18%|█▊        | 170167/933453 [00:00<00:03, 244642.40it/s]\u001b[A\n",
      " 21%|██        | 193955/933453 [00:00<00:03, 242572.84it/s]\u001b[A\n",
      " 23%|██▎       | 219000/933453 [00:00<00:02, 244882.33it/s]\u001b[A\n",
      " 26%|██▌       | 243415/933453 [00:01<00:02, 244660.49it/s]\u001b[A\n",
      " 29%|██▊       | 267245/933453 [00:01<00:02, 237371.99it/s]\u001b[A\n",
      " 31%|███       | 290584/933453 [00:01<00:02, 233398.17it/s]\u001b[A\n",
      " 34%|███▎      | 314764/933453 [00:01<00:02, 235846.13it/s]\u001b[A\n",
      " 36%|███▌      | 338190/933453 [00:01<00:02, 235364.73it/s]\u001b[A\n",
      " 39%|███▉      | 362288/933453 [00:01<00:02, 237016.87it/s]\u001b[A\n",
      " 41%|████▏     | 386643/933453 [00:01<00:02, 238936.59it/s]\u001b[A\n",
      " 44%|████▍     | 410482/933453 [00:01<00:02, 236832.10it/s]\u001b[A\n",
      " 47%|████▋     | 434964/933453 [00:01<00:02, 239161.90it/s]\u001b[A\n",
      " 49%|████▉     | 459335/933453 [00:01<00:01, 240505.08it/s]\u001b[A\n",
      " 52%|█████▏    | 484556/933453 [00:02<00:01, 243900.60it/s]\u001b[A\n",
      " 55%|█████▍    | 508950/933453 [00:02<00:01, 239690.06it/s]\u001b[A\n",
      " 57%|█████▋    | 533845/933453 [00:02<00:01, 242394.80it/s]\u001b[A\n",
      " 60%|█████▉    | 558287/933453 [00:02<00:01, 242993.02it/s]\u001b[A\n",
      " 62%|██████▏   | 582766/933453 [00:02<00:01, 243529.06it/s]\u001b[A\n",
      " 65%|██████▌   | 607130/933453 [00:02<00:01, 243377.42it/s]\u001b[A\n",
      " 68%|██████▊   | 631934/933453 [00:02<00:01, 244748.94it/s]\u001b[A\n",
      " 70%|███████   | 656803/933453 [00:02<00:01, 245917.80it/s]\u001b[A\n",
      " 73%|███████▎  | 681402/933453 [00:02<00:01, 244327.90it/s]\u001b[A\n",
      " 76%|███████▌  | 706291/933453 [00:02<00:00, 245673.56it/s]\u001b[A\n",
      " 78%|███████▊  | 730865/933453 [00:03<00:00, 244981.58it/s]\u001b[A\n",
      " 81%|████████  | 755369/933453 [00:03<00:00, 237342.71it/s]\u001b[A\n",
      " 84%|████████▎ | 779821/933453 [00:03<00:00, 239449.49it/s]\u001b[A\n",
      " 86%|████████▌ | 804503/933453 [00:03<00:00, 241606.80it/s]\u001b[A\n",
      " 89%|████████▉ | 828699/933453 [00:03<00:00, 236263.83it/s]\u001b[A\n",
      " 91%|█████████▏| 852376/933453 [00:03<00:00, 233551.25it/s]\u001b[A\n",
      " 94%|█████████▍| 875774/933453 [00:03<00:00, 231631.35it/s]\u001b[A\n",
      " 96%|█████████▋| 899343/933453 [00:03<00:00, 232833.10it/s]\u001b[A\n",
      "100%|██████████| 933453/933453 [00:03<00:00, 239223.33it/s]\n",
      "\n",
      "  0%|          | 0/103717 [00:00<?, ?it/s]\u001b[A\n",
      " 21%|██        | 21410/103717 [00:00<00:00, 214099.18it/s]\u001b[A\n",
      " 43%|████▎     | 44458/103717 [00:00<00:00, 218758.92it/s]\u001b[A\n",
      " 65%|██████▍   | 67167/103717 [00:00<00:00, 221190.79it/s]\u001b[A\n",
      "100%|██████████| 103717/103717 [00:00<00:00, 225099.55it/s]\n",
      "\n",
      "  0%|          | 0/444761 [00:00<?, ?it/s]\u001b[A\n",
      "  6%|▌         | 25598/444761 [00:00<00:01, 255964.38it/s]\u001b[A\n",
      " 11%|█         | 49903/444761 [00:00<00:01, 251942.69it/s]\u001b[A\n",
      " 17%|█▋        | 75366/444761 [00:00<00:01, 252740.65it/s]\u001b[A\n",
      " 23%|██▎       | 100662/444761 [00:00<00:01, 252805.95it/s]\u001b[A\n",
      " 28%|██▊       | 125452/444761 [00:00<00:01, 251312.87it/s]\u001b[A\n",
      " 33%|███▎      | 148898/444761 [00:00<00:01, 246006.77it/s]\u001b[A\n",
      " 39%|███▉      | 172932/444761 [00:00<00:01, 244278.60it/s]\u001b[A\n",
      " 45%|████▍     | 198250/444761 [00:00<00:00, 246882.49it/s]\u001b[A\n",
      " 50%|█████     | 223981/444761 [00:00<00:00, 249919.94it/s]\u001b[A\n",
      " 56%|█████▌    | 249455/444761 [00:01<00:00, 251343.75it/s]\u001b[A\n",
      " 62%|██████▏   | 275494/444761 [00:01<00:00, 253978.25it/s]\u001b[A\n",
      " 68%|██████▊   | 300407/444761 [00:01<00:00, 252111.02it/s]\u001b[A\n",
      " 73%|███████▎  | 325753/444761 [00:01<00:00, 252513.73it/s]\u001b[A\n",
      " 79%|███████▉  | 351007/444761 [00:01<00:00, 252520.06it/s]\u001b[A\n",
      " 85%|████████▍ | 376604/444761 [00:01<00:00, 253541.36it/s]\u001b[A\n",
      " 90%|█████████ | 401844/444761 [00:01<00:00, 245435.28it/s]\u001b[A\n",
      "100%|██████████| 444761/444761 [00:01<00:00, 249319.07it/s]\n"
     ]
    }
   ],
   "source": [
    "train_data['count_stopwords']=stopwords_count(train_data)\n",
    "cv_data['count_stopwords']=stopwords_count(cv_data)\n",
    "test_data['count_stopwords']=stopwords_count(test_data)"
   ]
  },
  {
   "cell_type": "code",
   "execution_count": 241,
   "metadata": {
    "colab": {
     "base_uri": "https://localhost:8080/"
    },
    "executionInfo": {
     "elapsed": 36884,
     "status": "ok",
     "timestamp": 1606214382763,
     "user": {
      "displayName": "Pratik Pawar",
      "photoUrl": "",
      "userId": "07854545271556537314"
     },
     "user_tz": -330
    },
    "id": "GHZcxZvNl7ro",
    "outputId": "1b2ec941-3477-4848-f4fc-08c0fd80d7e5"
   },
   "outputs": [
    {
     "data": {
      "text/plain": [
       "count    933453.000000\n",
       "mean          5.983621\n",
       "std           9.063161\n",
       "min           0.000000\n",
       "25%           0.000000\n",
       "50%           3.000000\n",
       "75%           8.000000\n",
       "max         118.000000\n",
       "Name: count_stopwords, dtype: float64"
      ]
     },
     "execution_count": 241,
     "metadata": {
      "tags": []
     },
     "output_type": "execute_result"
    }
   ],
   "source": [
    "train_data['count_stopwords'].describe()"
   ]
  },
  {
   "cell_type": "code",
   "execution_count": 242,
   "metadata": {
    "executionInfo": {
     "elapsed": 36878,
     "status": "ok",
     "timestamp": 1606214382765,
     "user": {
      "displayName": "Pratik Pawar",
      "photoUrl": "",
      "userId": "07854545271556537314"
     },
     "user_tz": -330
    },
    "id": "iRTdX4w-l7ro"
   },
   "outputs": [],
   "source": [
    "def decontracted(phrase):\n",
    "    \"\"\"this function removies shorthands for the textual data...\"\"\"\n",
    "    phrase = re.sub(r\"won't\", \"will not\", phrase)\n",
    "    phrase = re.sub(r\"can\\'t\", \"can not\", phrase)\n",
    "    phrase = re.sub(r\"n\\'t\", \" not\", phrase)\n",
    "    phrase = re.sub(r\"\\'re\", \" are\", phrase)\n",
    "    phrase = re.sub(r\"\\'s\", \" is\", phrase)\n",
    "    phrase = re.sub(r\"\\'d\", \" would\", phrase)\n",
    "    phrase = re.sub(r\"\\'ll\", \" will\", phrase)\n",
    "    phrase = re.sub(r\"\\'t\", \" not\", phrase)\n",
    "    phrase = re.sub(r\"\\'ve\", \" have\", phrase)\n",
    "    phrase = re.sub(r\"\\'m\", \" am\", phrase)\n",
    "    return phrase"
   ]
  },
  {
   "cell_type": "code",
   "execution_count": 243,
   "metadata": {
    "executionInfo": {
     "elapsed": 36872,
     "status": "ok",
     "timestamp": 1606214382766,
     "user": {
      "displayName": "Pratik Pawar",
      "photoUrl": "",
      "userId": "07854545271556537314"
     },
     "user_tz": -330
    },
    "id": "4bDY3EECl7ro"
   },
   "outputs": [],
   "source": [
    "def text_preprocessing(data):\n",
    "    \"\"\"this function performs preprocessing the item_description \"\"\"\n",
    "    preprocessed_total = []\n",
    "    for sentance in tqdm(data['item_description'].values):\n",
    "        sent = decontracted(sentance)\n",
    "        sent = sent.replace('\\\\r', ' ')\n",
    "        sent = sent.replace('\\\\\"', ' ')\n",
    "        sent = sent.replace('\\\\n', ' ')\n",
    "        sent = re.sub('[^A-Za-z0-9]+', ' ', sent)\n",
    "        sent = ' '.join(e for e in sent.split() if e.lower() not in stopwords)  #removing stop words\n",
    "        preprocessed_total.append(sent.lower().strip())\n",
    "    return preprocessed_total"
   ]
  },
  {
   "cell_type": "code",
   "execution_count": 244,
   "metadata": {
    "colab": {
     "base_uri": "https://localhost:8080/"
    },
    "executionInfo": {
     "elapsed": 73930,
     "status": "ok",
     "timestamp": 1606214419833,
     "user": {
      "displayName": "Pratik Pawar",
      "photoUrl": "",
      "userId": "07854545271556537314"
     },
     "user_tz": -330
    },
    "id": "4IxZ_7nSl7ro",
    "outputId": "86f1b226-53b9-44c9-c912-8956fddc5db4"
   },
   "outputs": [
    {
     "name": "stderr",
     "output_type": "stream",
     "text": [
      "\n",
      "  0%|          | 0/933453 [00:00<?, ?it/s]\u001b[A\n",
      "  0%|          | 3930/933453 [00:00<00:23, 39285.99it/s]\u001b[A\n",
      "  1%|          | 8088/933453 [00:00<00:23, 39944.65it/s]\u001b[A\n",
      "  1%|▏         | 12076/933453 [00:00<00:23, 39924.96it/s]\u001b[A\n",
      "  2%|▏         | 16114/933453 [00:00<00:22, 40052.93it/s]\u001b[A\n",
      "  2%|▏         | 20179/933453 [00:00<00:22, 40226.14it/s]\u001b[A\n",
      "  3%|▎         | 24225/933453 [00:00<00:22, 40294.99it/s]\u001b[A\n",
      "  3%|▎         | 27921/933453 [00:00<00:23, 39232.59it/s]\u001b[A\n",
      "  3%|▎         | 31884/933453 [00:00<00:22, 39349.76it/s]\u001b[A\n",
      "  4%|▍         | 35963/933453 [00:00<00:22, 39761.81it/s]\u001b[A\n",
      "  4%|▍         | 40102/933453 [00:01<00:22, 40235.35it/s]\u001b[A\n",
      "  5%|▍         | 44234/933453 [00:01<00:21, 40553.76it/s]\u001b[A\n",
      "  5%|▌         | 48324/933453 [00:01<00:21, 40656.08it/s]\u001b[A\n",
      "  6%|▌         | 52356/933453 [00:01<00:21, 40554.65it/s]\u001b[A\n",
      "  6%|▌         | 56398/933453 [00:01<00:21, 40513.47it/s]\u001b[A\n",
      "  6%|▋         | 60435/933453 [00:01<00:21, 40468.60it/s]\u001b[A\n",
      "  7%|▋         | 64535/933453 [00:01<00:21, 40626.03it/s]\u001b[A\n",
      "  7%|▋         | 68586/933453 [00:01<00:22, 38856.24it/s]\u001b[A\n",
      "  8%|▊         | 72480/933453 [00:01<00:23, 37352.32it/s]\u001b[A\n",
      "  8%|▊         | 76585/933453 [00:01<00:22, 38389.69it/s]\u001b[A\n",
      "  9%|▊         | 80658/933453 [00:02<00:21, 39061.21it/s]\u001b[A\n",
      "  9%|▉         | 84626/933453 [00:02<00:21, 39243.93it/s]\u001b[A\n",
      " 10%|▉         | 88700/933453 [00:02<00:21, 39678.45it/s]\u001b[A\n",
      " 10%|▉         | 92678/933453 [00:02<00:21, 39406.58it/s]\u001b[A\n",
      " 10%|█         | 96659/933453 [00:02<00:21, 39523.61it/s]\u001b[A\n",
      " 11%|█         | 100617/933453 [00:02<00:21, 38960.31it/s]\u001b[A\n",
      " 11%|█         | 104665/933453 [00:02<00:21, 39404.05it/s]\u001b[A\n",
      " 12%|█▏        | 108611/933453 [00:02<00:21, 39110.18it/s]\u001b[A\n",
      " 12%|█▏        | 112576/933453 [00:02<00:20, 39265.50it/s]\u001b[A\n",
      " 12%|█▏        | 116625/933453 [00:02<00:20, 39622.71it/s]\u001b[A\n",
      " 13%|█▎        | 120591/933453 [00:03<00:21, 38707.43it/s]\u001b[A\n",
      " 13%|█▎        | 124528/933453 [00:03<00:20, 38902.13it/s]\u001b[A\n",
      " 14%|█▍        | 128658/933453 [00:03<00:20, 39586.97it/s]\u001b[A\n",
      " 14%|█▍        | 132624/933453 [00:03<00:20, 39440.72it/s]\u001b[A\n",
      " 15%|█▍        | 136677/933453 [00:03<00:20, 39755.29it/s]\u001b[A\n",
      " 15%|█▌        | 140791/933453 [00:03<00:19, 40159.79it/s]\u001b[A\n",
      " 16%|█▌        | 144811/933453 [00:03<00:19, 39866.93it/s]\u001b[A\n",
      " 16%|█▌        | 148801/933453 [00:03<00:20, 38673.67it/s]\u001b[A\n",
      " 16%|█▋        | 152870/933453 [00:03<00:19, 39253.24it/s]\u001b[A\n",
      " 17%|█▋        | 156866/933453 [00:03<00:19, 39461.39it/s]\u001b[A\n",
      " 17%|█▋        | 161014/933453 [00:04<00:19, 40045.94it/s]\u001b[A\n",
      " 18%|█▊        | 165089/933453 [00:04<00:19, 40251.58it/s]\u001b[A\n",
      " 18%|█▊        | 169152/933453 [00:04<00:18, 40363.06it/s]\u001b[A\n",
      " 19%|█▊        | 173192/933453 [00:04<00:18, 40275.86it/s]\u001b[A\n",
      " 19%|█▉        | 177364/933453 [00:04<00:18, 40697.06it/s]\u001b[A\n",
      " 19%|█▉        | 181437/933453 [00:04<00:18, 40125.05it/s]\u001b[A\n",
      " 20%|█▉        | 185454/933453 [00:04<00:18, 40060.83it/s]\u001b[A\n",
      " 20%|██        | 189463/933453 [00:04<00:19, 39065.31it/s]\u001b[A\n",
      " 21%|██        | 193464/933453 [00:04<00:18, 39342.80it/s]\u001b[A\n",
      " 21%|██        | 197404/933453 [00:04<00:18, 39240.98it/s]\u001b[A\n",
      " 22%|██▏       | 201488/933453 [00:05<00:18, 39705.55it/s]\u001b[A\n",
      " 22%|██▏       | 205516/933453 [00:05<00:18, 39873.60it/s]\u001b[A\n",
      " 22%|██▏       | 209507/933453 [00:05<00:18, 39779.97it/s]\u001b[A\n",
      " 23%|██▎       | 213488/933453 [00:05<00:18, 39714.49it/s]\u001b[A\n",
      " 23%|██▎       | 217513/933453 [00:05<00:17, 39871.70it/s]\u001b[A\n",
      " 24%|██▎       | 221589/933453 [00:05<00:17, 40133.60it/s]\u001b[A\n",
      " 24%|██▍       | 225683/933453 [00:05<00:17, 40371.38it/s]\u001b[A\n",
      " 25%|██▍       | 229722/933453 [00:05<00:18, 38790.63it/s]\u001b[A\n",
      " 25%|██▌       | 233894/933453 [00:05<00:17, 39624.17it/s]\u001b[A\n",
      " 25%|██▌       | 237871/933453 [00:05<00:17, 38965.89it/s]\u001b[A\n",
      " 26%|██▌       | 241895/933453 [00:06<00:17, 39338.76it/s]\u001b[A\n",
      " 26%|██▋       | 245839/933453 [00:06<00:17, 39122.36it/s]\u001b[A\n",
      " 27%|██▋       | 249837/933453 [00:06<00:17, 39374.97it/s]\u001b[A\n",
      " 27%|██▋       | 253836/933453 [00:06<00:17, 39556.49it/s]\u001b[A\n",
      " 28%|██▊       | 257821/933453 [00:06<00:17, 39643.56it/s]\u001b[A\n",
      " 28%|██▊       | 261789/933453 [00:06<00:17, 39500.73it/s]\u001b[A\n",
      " 28%|██▊       | 265749/933453 [00:06<00:16, 39528.41it/s]\u001b[A\n",
      " 29%|██▉       | 269704/933453 [00:06<00:16, 39142.28it/s]\u001b[A\n",
      " 29%|██▉       | 273741/933453 [00:06<00:16, 39502.06it/s]\u001b[A\n",
      " 30%|██▉       | 277781/933453 [00:07<00:16, 39767.18it/s]\u001b[A\n",
      " 30%|███       | 281760/933453 [00:07<00:16, 39650.21it/s]\u001b[A\n",
      " 31%|███       | 285727/933453 [00:07<00:16, 39467.06it/s]\u001b[A\n",
      " 31%|███       | 289675/933453 [00:07<00:16, 39205.43it/s]\u001b[A\n",
      " 31%|███▏      | 293721/933453 [00:07<00:16, 39573.23it/s]\u001b[A\n",
      " 32%|███▏      | 297741/933453 [00:07<00:15, 39758.42it/s]\u001b[A\n",
      " 32%|███▏      | 301775/933453 [00:07<00:15, 39929.90it/s]\u001b[A\n",
      " 33%|███▎      | 306028/933453 [00:07<00:15, 40674.71it/s]\u001b[A\n",
      " 33%|███▎      | 310100/933453 [00:07<00:15, 39946.21it/s]\u001b[A\n",
      " 34%|███▎      | 314101/933453 [00:07<00:15, 39755.35it/s]\u001b[A\n",
      " 34%|███▍      | 318259/933453 [00:08<00:15, 40284.74it/s]\u001b[A\n",
      " 35%|███▍      | 322482/933453 [00:08<00:14, 40845.57it/s]\u001b[A\n",
      " 35%|███▍      | 326572/933453 [00:08<00:14, 40818.87it/s]\u001b[A\n",
      " 35%|███▌      | 330658/933453 [00:08<00:15, 39607.97it/s]\u001b[A\n",
      " 36%|███▌      | 334630/933453 [00:08<00:15, 39235.58it/s]\u001b[A\n",
      " 36%|███▋      | 338766/933453 [00:08<00:14, 39845.69it/s]\u001b[A\n",
      " 37%|███▋      | 342759/933453 [00:08<00:14, 39800.26it/s]\u001b[A\n",
      " 37%|███▋      | 346745/933453 [00:08<00:14, 39618.04it/s]\u001b[A\n",
      " 38%|███▊      | 350711/933453 [00:08<00:14, 39334.60it/s]\u001b[A\n",
      " 38%|███▊      | 354852/933453 [00:08<00:14, 39933.81it/s]\u001b[A\n",
      " 38%|███▊      | 358868/933453 [00:09<00:14, 39998.96it/s]\u001b[A\n",
      " 39%|███▉      | 362990/933453 [00:09<00:14, 40345.05it/s]\u001b[A\n",
      " 39%|███▉      | 367028/933453 [00:09<00:14, 40335.87it/s]\u001b[A\n",
      " 40%|███▉      | 371106/933453 [00:09<00:13, 40467.10it/s]\u001b[A\n",
      " 40%|████      | 375155/933453 [00:09<00:13, 40288.73it/s]\u001b[A\n",
      " 41%|████      | 379342/933453 [00:09<00:13, 40748.91it/s]\u001b[A\n",
      " 41%|████      | 383448/933453 [00:09<00:13, 40840.59it/s]\u001b[A\n",
      " 42%|████▏     | 387534/933453 [00:09<00:13, 40776.21it/s]\u001b[A\n",
      " 42%|████▏     | 391613/933453 [00:09<00:13, 40158.13it/s]\u001b[A\n",
      " 42%|████▏     | 395632/933453 [00:09<00:13, 39871.84it/s]\u001b[A\n",
      " 43%|████▎     | 399670/933453 [00:10<00:13, 40022.67it/s]\u001b[A\n",
      " 43%|████▎     | 403844/933453 [00:10<00:13, 40521.95it/s]\u001b[A\n",
      " 44%|████▎     | 407900/933453 [00:10<00:13, 39711.31it/s]\u001b[A\n",
      " 44%|████▍     | 411878/933453 [00:10<00:13, 39731.25it/s]\u001b[A\n",
      " 45%|████▍     | 415904/933453 [00:10<00:12, 39887.29it/s]\u001b[A\n",
      " 45%|████▌     | 420141/933453 [00:10<00:12, 40599.71it/s]\u001b[A\n",
      " 45%|████▌     | 424207/933453 [00:10<00:12, 40569.73it/s]\u001b[A\n",
      " 46%|████▌     | 428268/933453 [00:10<00:12, 40048.13it/s]\u001b[A\n",
      " 46%|████▋     | 432277/933453 [00:10<00:12, 39870.65it/s]\u001b[A\n",
      " 47%|████▋     | 436475/933453 [00:10<00:12, 40478.44it/s]\u001b[A\n",
      " 47%|████▋     | 440528/933453 [00:11<00:12, 40329.69it/s]\u001b[A\n",
      " 48%|████▊     | 444565/933453 [00:11<00:12, 39657.58it/s]\u001b[A\n",
      " 48%|████▊     | 448633/933453 [00:11<00:12, 39956.86it/s]\u001b[A\n",
      " 49%|████▊     | 452738/933453 [00:11<00:11, 40275.63it/s]\u001b[A\n",
      " 49%|████▉     | 456802/933453 [00:11<00:11, 40381.13it/s]\u001b[A\n",
      " 49%|████▉     | 460843/933453 [00:11<00:11, 40322.49it/s]\u001b[A\n",
      " 50%|████▉     | 465002/933453 [00:11<00:11, 40694.08it/s]\u001b[A\n",
      " 50%|█████     | 469074/933453 [00:11<00:11, 40568.77it/s]\u001b[A\n",
      " 51%|█████     | 473133/933453 [00:11<00:11, 38907.02it/s]\u001b[A\n",
      " 51%|█████     | 477342/933453 [00:11<00:11, 39810.10it/s]\u001b[A\n",
      " 52%|█████▏    | 481365/933453 [00:12<00:11, 39933.37it/s]\u001b[A\n",
      " 52%|█████▏    | 485431/933453 [00:12<00:11, 40145.68it/s]\u001b[A\n",
      " 52%|█████▏    | 489584/933453 [00:12<00:10, 40549.56it/s]\u001b[A\n",
      " 53%|█████▎    | 493764/933453 [00:12<00:10, 40916.34it/s]\u001b[A\n",
      " 53%|█████▎    | 497862/933453 [00:12<00:10, 40471.22it/s]\u001b[A\n",
      " 54%|█████▍    | 501915/933453 [00:12<00:10, 40485.26it/s]\u001b[A\n",
      " 54%|█████▍    | 505967/933453 [00:12<00:10, 40324.75it/s]\u001b[A\n",
      " 55%|█████▍    | 510131/933453 [00:12<00:10, 40709.14it/s]\u001b[A\n",
      " 55%|█████▌    | 514205/933453 [00:12<00:10, 40262.91it/s]\u001b[A\n",
      " 56%|█████▌    | 518279/933453 [00:12<00:10, 40404.01it/s]\u001b[A\n",
      " 56%|█████▌    | 522355/933453 [00:13<00:10, 40509.13it/s]\u001b[A\n",
      " 56%|█████▋    | 526408/933453 [00:13<00:10, 39481.97it/s]\u001b[A\n",
      " 57%|█████▋    | 530516/933453 [00:13<00:10, 39948.10it/s]\u001b[A\n",
      " 57%|█████▋    | 534600/933453 [00:13<00:09, 40208.42it/s]\u001b[A\n",
      " 58%|█████▊    | 538672/933453 [00:13<00:09, 40359.66it/s]\u001b[A\n",
      " 58%|█████▊    | 542712/933453 [00:13<00:09, 39662.09it/s]\u001b[A\n",
      " 59%|█████▊    | 546907/933453 [00:13<00:09, 40313.13it/s]\u001b[A\n",
      " 59%|█████▉    | 550945/933453 [00:13<00:09, 39538.83it/s]\u001b[A\n",
      " 59%|█████▉    | 554907/933453 [00:13<00:09, 39254.11it/s]\u001b[A\n",
      " 60%|█████▉    | 559077/933453 [00:14<00:09, 39956.35it/s]\u001b[A\n",
      " 60%|██████    | 563208/933453 [00:14<00:09, 40352.62it/s]\u001b[A\n",
      " 61%|██████    | 567320/933453 [00:14<00:09, 40579.22it/s]\u001b[A\n",
      " 61%|██████    | 571383/933453 [00:14<00:09, 39894.00it/s]\u001b[A\n",
      " 62%|██████▏   | 575379/933453 [00:14<00:08, 39792.74it/s]\u001b[A\n",
      " 62%|██████▏   | 579363/933453 [00:14<00:08, 39799.41it/s]\u001b[A\n",
      " 62%|██████▏   | 583380/933453 [00:14<00:08, 39905.74it/s]\u001b[A\n",
      " 63%|██████▎   | 587455/933453 [00:14<00:08, 40149.50it/s]\u001b[A\n",
      " 63%|██████▎   | 591472/933453 [00:14<00:08, 40033.07it/s]\u001b[A\n",
      " 64%|██████▍   | 595477/933453 [00:14<00:08, 39792.12it/s]\u001b[A\n",
      " 64%|██████▍   | 599572/933453 [00:15<00:08, 40129.50it/s]\u001b[A\n",
      " 65%|██████▍   | 603701/933453 [00:15<00:08, 40469.70it/s]\u001b[A\n",
      " 65%|██████▌   | 607770/933453 [00:15<00:08, 40528.74it/s]\u001b[A\n",
      " 66%|██████▌   | 611825/933453 [00:15<00:07, 40492.80it/s]\u001b[A\n",
      " 66%|██████▌   | 615876/933453 [00:15<00:07, 39896.12it/s]\u001b[A\n",
      " 66%|██████▋   | 619912/933453 [00:15<00:07, 40033.10it/s]\u001b[A\n",
      " 67%|██████▋   | 623918/933453 [00:15<00:07, 39758.92it/s]\u001b[A\n",
      " 67%|██████▋   | 628125/933453 [00:15<00:07, 40419.45it/s]\u001b[A\n",
      " 68%|██████▊   | 632171/933453 [00:15<00:07, 40203.63it/s]\u001b[A\n",
      " 68%|██████▊   | 636195/933453 [00:15<00:07, 39716.17it/s]\u001b[A\n",
      " 69%|██████▊   | 640288/933453 [00:16<00:07, 40071.44it/s]\u001b[A\n",
      " 69%|██████▉   | 644299/933453 [00:16<00:07, 39415.12it/s]\u001b[A\n",
      " 69%|██████▉   | 648268/933453 [00:16<00:07, 39493.85it/s]\u001b[A\n",
      " 70%|██████▉   | 652221/933453 [00:16<00:07, 39447.60it/s]\u001b[A\n",
      " 70%|███████   | 656307/933453 [00:16<00:06, 39860.69it/s]\u001b[A\n",
      " 71%|███████   | 660296/933453 [00:16<00:07, 38585.55it/s]\u001b[A\n",
      " 71%|███████   | 664297/933453 [00:16<00:06, 39000.96it/s]\u001b[A\n",
      " 72%|███████▏  | 668446/933453 [00:16<00:06, 39715.73it/s]\u001b[A\n",
      " 72%|███████▏  | 672525/933453 [00:16<00:06, 40031.10it/s]\u001b[A\n",
      " 72%|███████▏  | 676536/933453 [00:16<00:06, 39331.90it/s]\u001b[A\n",
      " 73%|███████▎  | 680521/933453 [00:17<00:06, 39481.03it/s]\u001b[A\n",
      " 73%|███████▎  | 684615/933453 [00:17<00:06, 39906.52it/s]\u001b[A\n",
      " 74%|███████▍  | 688611/933453 [00:17<00:06, 38833.98it/s]\u001b[A\n",
      " 74%|███████▍  | 692628/933453 [00:17<00:06, 39219.56it/s]\u001b[A\n",
      " 75%|███████▍  | 696558/933453 [00:17<00:06, 39013.07it/s]\u001b[A\n",
      " 75%|███████▌  | 700542/933453 [00:17<00:05, 39255.10it/s]\u001b[A\n",
      " 75%|███████▌  | 704536/933453 [00:17<00:05, 39456.90it/s]\u001b[A\n",
      " 76%|███████▌  | 708684/933453 [00:17<00:05, 40040.54it/s]\u001b[A\n",
      " 76%|███████▋  | 712770/933453 [00:17<00:05, 40282.61it/s]\u001b[A\n",
      " 77%|███████▋  | 716802/933453 [00:17<00:05, 40028.74it/s]\u001b[A\n",
      " 77%|███████▋  | 720809/933453 [00:18<00:05, 40039.49it/s]\u001b[A\n",
      " 78%|███████▊  | 724851/933453 [00:18<00:05, 40150.25it/s]\u001b[A\n",
      " 78%|███████▊  | 728868/933453 [00:18<00:05, 40114.13it/s]\u001b[A\n",
      " 79%|███████▊  | 732881/933453 [00:18<00:05, 39186.87it/s]\u001b[A\n",
      " 79%|███████▉  | 736967/933453 [00:18<00:04, 39674.20it/s]\u001b[A\n",
      " 79%|███████▉  | 741032/933453 [00:18<00:04, 39961.60it/s]\u001b[A\n",
      " 80%|███████▉  | 745033/933453 [00:18<00:04, 39818.62it/s]\u001b[A\n",
      " 80%|████████  | 749150/933453 [00:18<00:04, 40214.44it/s]\u001b[A\n",
      " 81%|████████  | 753264/933453 [00:18<00:04, 40486.55it/s]\u001b[A\n",
      " 81%|████████  | 757316/933453 [00:18<00:04, 40081.08it/s]\u001b[A\n",
      " 82%|████████▏ | 761327/933453 [00:19<00:04, 39984.46it/s]\u001b[A\n",
      " 82%|████████▏ | 765328/933453 [00:19<00:04, 39151.04it/s]\u001b[A\n",
      " 82%|████████▏ | 769559/933453 [00:19<00:04, 40045.20it/s]\u001b[A\n",
      " 83%|████████▎ | 773683/933453 [00:19<00:03, 40395.47it/s]\u001b[A\n",
      " 83%|████████▎ | 777730/933453 [00:19<00:03, 39614.13it/s]\u001b[A\n",
      " 84%|████████▍ | 781829/933453 [00:19<00:03, 40016.27it/s]\u001b[A\n",
      " 84%|████████▍ | 785888/933453 [00:19<00:03, 40183.44it/s]\u001b[A\n",
      " 85%|████████▍ | 790132/933453 [00:19<00:03, 40826.75it/s]\u001b[A\n",
      " 85%|████████▌ | 794221/933453 [00:19<00:03, 39475.52it/s]\u001b[A\n",
      " 86%|████████▌ | 798183/933453 [00:20<00:03, 39499.88it/s]\u001b[A\n",
      " 86%|████████▌ | 802424/933453 [00:20<00:03, 40329.34it/s]\u001b[A\n",
      " 86%|████████▋ | 806593/933453 [00:20<00:03, 40727.05it/s]\u001b[A\n",
      " 87%|████████▋ | 810742/933453 [00:20<00:02, 40952.55it/s]\u001b[A\n",
      " 87%|████████▋ | 814950/933453 [00:20<00:02, 41282.35it/s]\u001b[A\n",
      " 88%|████████▊ | 819084/933453 [00:20<00:02, 41192.64it/s]\u001b[A\n",
      " 88%|████████▊ | 823207/933453 [00:20<00:02, 40511.70it/s]\u001b[A\n",
      " 89%|████████▊ | 827264/933453 [00:20<00:02, 39628.43it/s]\u001b[A\n",
      " 89%|████████▉ | 831505/933453 [00:20<00:02, 40423.66it/s]\u001b[A\n",
      " 90%|████████▉ | 835557/933453 [00:20<00:02, 38254.50it/s]\u001b[A\n",
      " 90%|████████▉ | 839414/933453 [00:21<00:02, 36734.79it/s]\u001b[A\n",
      " 90%|█████████ | 843122/933453 [00:21<00:02, 36311.19it/s]\u001b[A\n",
      " 91%|█████████ | 847095/933453 [00:21<00:02, 37271.80it/s]\u001b[A\n",
      " 91%|█████████ | 851101/933453 [00:21<00:02, 38064.99it/s]\u001b[A\n",
      " 92%|█████████▏| 854929/933453 [00:21<00:02, 37500.29it/s]\u001b[A\n",
      " 92%|█████████▏| 858929/933453 [00:21<00:01, 38216.26it/s]\u001b[A\n",
      " 92%|█████████▏| 862963/933453 [00:21<00:01, 38829.48it/s]\u001b[A\n",
      " 93%|█████████▎| 867105/933453 [00:21<00:01, 39564.94it/s]\u001b[A\n",
      " 93%|█████████▎| 871074/933453 [00:21<00:01, 39292.89it/s]\u001b[A\n",
      " 94%|█████████▎| 875013/933453 [00:21<00:01, 38899.66it/s]\u001b[A\n",
      " 94%|█████████▍| 878993/933453 [00:22<00:01, 39164.23it/s]\u001b[A\n",
      " 95%|█████████▍| 882915/933453 [00:22<00:01, 38674.52it/s]\u001b[A\n",
      " 95%|█████████▌| 886788/933453 [00:22<00:01, 37617.11it/s]\u001b[A\n",
      " 95%|█████████▌| 890776/933453 [00:22<00:01, 38268.08it/s]\u001b[A\n",
      " 96%|█████████▌| 894697/933453 [00:22<00:01, 38545.23it/s]\u001b[A\n",
      " 96%|█████████▋| 898614/933453 [00:22<00:00, 38723.48it/s]\u001b[A\n",
      " 97%|█████████▋| 902513/933453 [00:22<00:00, 38802.62it/s]\u001b[A\n",
      " 97%|█████████▋| 906398/933453 [00:22<00:00, 38303.39it/s]\u001b[A\n",
      " 98%|█████████▊| 910424/933453 [00:22<00:00, 38869.88it/s]\u001b[A\n",
      " 98%|█████████▊| 914316/933453 [00:23<00:00, 38678.52it/s]\u001b[A\n",
      " 98%|█████████▊| 918271/933453 [00:23<00:00, 38931.26it/s]\u001b[A\n",
      " 99%|█████████▉| 922294/933453 [00:23<00:00, 39311.81it/s]\u001b[A\n",
      " 99%|█████████▉| 926233/933453 [00:23<00:00, 39335.16it/s]\u001b[A\n",
      "100%|██████████| 933453/933453 [00:23<00:00, 39729.96it/s]\n",
      "\n",
      "  0%|          | 0/103717 [00:00<?, ?it/s]\u001b[A\n",
      "  4%|▍         | 4009/103717 [00:00<00:02, 40089.75it/s]\u001b[A\n",
      "  8%|▊         | 7815/103717 [00:00<00:02, 39458.41it/s]\u001b[A\n",
      " 11%|█         | 11648/103717 [00:00<00:02, 39112.27it/s]\u001b[A\n",
      " 15%|█▍        | 15482/103717 [00:00<00:02, 38877.21it/s]\u001b[A\n",
      " 18%|█▊        | 18889/103717 [00:00<00:02, 37296.62it/s]\u001b[A\n",
      " 22%|██▏       | 22440/103717 [00:00<00:02, 36741.26it/s]\u001b[A\n",
      " 26%|██▌       | 26517/103717 [00:00<00:02, 37862.78it/s]\u001b[A\n",
      " 29%|██▉       | 30589/103717 [00:00<00:01, 38676.45it/s]\u001b[A\n",
      " 33%|███▎      | 34522/103717 [00:00<00:01, 38862.79it/s]\u001b[A\n",
      " 37%|███▋      | 38259/103717 [00:01<00:01, 37957.26it/s]\u001b[A\n",
      " 41%|████      | 42027/103717 [00:01<00:01, 37871.95it/s]\u001b[A\n",
      " 44%|████▍     | 46131/103717 [00:01<00:01, 38768.83it/s]\u001b[A\n",
      " 48%|████▊     | 50129/103717 [00:01<00:01, 39118.04it/s]\u001b[A\n",
      " 52%|█████▏    | 54011/103717 [00:01<00:01, 38802.40it/s]\u001b[A\n",
      " 56%|█████▌    | 57871/103717 [00:01<00:01, 37753.74it/s]\u001b[A\n",
      " 59%|█████▉    | 61639/103717 [00:01<00:01, 37369.57it/s]\u001b[A\n",
      " 63%|██████▎   | 65638/103717 [00:01<00:00, 38117.79it/s]\u001b[A\n",
      " 67%|██████▋   | 69451/103717 [00:01<00:00, 37361.10it/s]\u001b[A\n",
      " 71%|███████   | 73330/103717 [00:01<00:00, 37775.87it/s]\u001b[A\n",
      " 75%|███████▍  | 77303/103717 [00:02<00:00, 38341.60it/s]\u001b[A\n",
      " 78%|███████▊  | 81294/103717 [00:02<00:00, 38798.63it/s]\u001b[A\n",
      " 82%|████████▏ | 85179/103717 [00:02<00:00, 37723.00it/s]\u001b[A\n",
      " 86%|████████▌ | 89299/103717 [00:02<00:00, 38701.48it/s]\u001b[A\n",
      " 90%|████████▉ | 93183/103717 [00:02<00:00, 38663.28it/s]\u001b[A\n",
      " 94%|█████████▎| 97168/103717 [00:02<00:00, 39007.07it/s]\u001b[A\n",
      "100%|██████████| 103717/103717 [00:02<00:00, 38263.89it/s]\n",
      "\n",
      "  0%|          | 0/444761 [00:00<?, ?it/s]\u001b[A\n",
      "  1%|          | 4215/444761 [00:00<00:10, 42147.43it/s]\u001b[A\n",
      "  2%|▏         | 8093/444761 [00:00<00:10, 41072.73it/s]\u001b[A\n",
      "  3%|▎         | 12177/444761 [00:00<00:10, 40997.26it/s]\u001b[A\n",
      "  4%|▎         | 15846/444761 [00:00<00:10, 39602.33it/s]\u001b[A\n",
      "  4%|▍         | 19838/444761 [00:00<00:10, 39695.22it/s]\u001b[A\n",
      "  5%|▌         | 23925/444761 [00:00<00:10, 40038.75it/s]\u001b[A\n",
      "  6%|▌         | 27720/444761 [00:00<00:10, 39384.96it/s]\u001b[A\n",
      "  7%|▋         | 31725/444761 [00:00<00:10, 39581.96it/s]\u001b[A\n",
      "  8%|▊         | 35469/444761 [00:00<00:10, 38913.88it/s]\u001b[A\n",
      "  9%|▉         | 39472/444761 [00:01<00:10, 39241.37it/s]\u001b[A\n",
      " 10%|▉         | 43365/444761 [00:01<00:10, 39146.74it/s]\u001b[A\n",
      " 11%|█         | 47200/444761 [00:01<00:10, 38710.05it/s]\u001b[A\n",
      " 12%|█▏        | 51380/444761 [00:01<00:09, 39586.89it/s]\u001b[A\n",
      " 12%|█▏        | 55306/444761 [00:01<00:10, 38687.91it/s]\u001b[A\n",
      " 13%|█▎        | 59439/444761 [00:01<00:09, 39440.02it/s]\u001b[A\n",
      " 14%|█▍        | 63374/444761 [00:01<00:09, 39355.41it/s]\u001b[A\n",
      " 15%|█▌        | 67303/444761 [00:01<00:09, 38783.82it/s]\u001b[A\n",
      " 16%|█▌        | 71373/444761 [00:01<00:09, 39338.79it/s]\u001b[A\n",
      " 17%|█▋        | 75307/444761 [00:01<00:09, 39313.94it/s]\u001b[A\n",
      " 18%|█▊        | 79388/444761 [00:02<00:09, 39750.76it/s]\u001b[A\n",
      " 19%|█▉        | 83466/444761 [00:02<00:09, 40053.94it/s]\u001b[A\n",
      " 20%|█▉        | 87473/444761 [00:02<00:08, 39838.05it/s]\u001b[A\n",
      " 21%|██        | 91591/444761 [00:02<00:08, 40227.50it/s]\u001b[A\n",
      " 21%|██▏       | 95616/444761 [00:02<00:08, 39680.71it/s]\u001b[A\n",
      " 22%|██▏       | 99618/444761 [00:02<00:08, 39780.07it/s]\u001b[A\n",
      " 23%|██▎       | 103670/444761 [00:02<00:08, 39998.64it/s]\u001b[A\n",
      " 24%|██▍       | 107672/444761 [00:02<00:08, 39476.46it/s]\u001b[A\n",
      " 25%|██▌       | 111623/444761 [00:02<00:08, 39367.04it/s]\u001b[A\n",
      " 26%|██▌       | 115562/444761 [00:02<00:08, 38897.68it/s]\u001b[A\n",
      " 27%|██▋       | 119562/444761 [00:03<00:08, 39217.50it/s]\u001b[A\n",
      " 28%|██▊       | 123704/444761 [00:03<00:08, 39851.98it/s]\u001b[A\n",
      " 29%|██▊       | 127694/444761 [00:03<00:08, 39319.98it/s]\u001b[A\n",
      " 30%|██▉       | 131631/444761 [00:03<00:08, 38274.55it/s]\u001b[A\n",
      " 30%|███       | 135585/444761 [00:03<00:08, 38645.31it/s]\u001b[A\n",
      " 31%|███▏      | 139553/444761 [00:03<00:07, 38946.19it/s]\u001b[A\n",
      " 32%|███▏      | 143624/444761 [00:03<00:07, 39458.51it/s]\u001b[A\n",
      " 33%|███▎      | 147576/444761 [00:03<00:07, 39101.70it/s]\u001b[A\n",
      " 34%|███▍      | 151491/444761 [00:03<00:07, 38172.19it/s]\u001b[A\n",
      " 35%|███▍      | 155601/444761 [00:03<00:07, 38993.85it/s]\u001b[A\n",
      " 36%|███▌      | 159652/444761 [00:04<00:07, 39435.80it/s]\u001b[A\n",
      " 37%|███▋      | 163604/444761 [00:04<00:07, 38740.59it/s]\u001b[A\n",
      " 38%|███▊      | 167487/444761 [00:04<00:07, 38145.06it/s]\u001b[A\n",
      " 39%|███▊      | 171656/444761 [00:04<00:06, 39142.70it/s]\u001b[A\n",
      " 39%|███▉      | 175668/444761 [00:04<00:06, 39429.59it/s]\u001b[A\n",
      " 40%|████      | 179820/444761 [00:04<00:06, 40033.51it/s]\u001b[A\n",
      " 41%|████▏     | 183886/444761 [00:04<00:06, 40217.73it/s]\u001b[A\n",
      " 42%|████▏     | 187914/444761 [00:04<00:06, 37058.04it/s]\u001b[A\n",
      " 43%|████▎     | 191674/444761 [00:04<00:06, 36788.52it/s]\u001b[A\n",
      " 44%|████▍     | 195909/444761 [00:05<00:06, 38296.39it/s]\u001b[A\n",
      " 45%|████▍     | 200001/444761 [00:05<00:06, 39046.70it/s]\u001b[A\n",
      " 46%|████▌     | 203939/444761 [00:05<00:06, 38895.17it/s]\u001b[A\n",
      " 47%|████▋     | 207872/444761 [00:05<00:06, 39024.00it/s]\u001b[A\n",
      " 48%|████▊     | 211980/444761 [00:05<00:05, 39618.11it/s]\u001b[A\n",
      " 49%|████▊     | 215991/444761 [00:05<00:05, 39763.60it/s]\u001b[A\n",
      " 49%|████▉     | 220071/444761 [00:05<00:05, 40068.59it/s]\u001b[A\n",
      " 50%|█████     | 224086/444761 [00:05<00:05, 39929.04it/s]\u001b[A\n",
      " 51%|█████▏    | 228104/444761 [00:05<00:05, 40002.81it/s]\u001b[A\n",
      " 52%|█████▏    | 232197/444761 [00:05<00:05, 40273.42it/s]\u001b[A\n",
      " 53%|█████▎    | 236228/444761 [00:06<00:05, 39985.26it/s]\u001b[A\n",
      " 54%|█████▍    | 240409/444761 [00:06<00:05, 40515.33it/s]\u001b[A\n",
      " 55%|█████▍    | 244465/444761 [00:06<00:04, 40450.93it/s]\u001b[A\n",
      " 56%|█████▌    | 248648/444761 [00:06<00:04, 40853.57it/s]\u001b[A\n",
      " 57%|█████▋    | 252875/444761 [00:06<00:04, 41267.03it/s]\u001b[A\n",
      " 58%|█████▊    | 257005/444761 [00:06<00:04, 40529.43it/s]\u001b[A\n",
      " 59%|█████▊    | 261115/444761 [00:06<00:04, 40696.06it/s]\u001b[A\n",
      " 60%|█████▉    | 265189/444761 [00:06<00:04, 40064.08it/s]\u001b[A\n",
      " 61%|██████    | 269439/444761 [00:06<00:04, 40761.01it/s]\u001b[A\n",
      " 61%|██████▏   | 273522/444761 [00:06<00:04, 40567.40it/s]\u001b[A\n",
      " 62%|██████▏   | 277666/444761 [00:07<00:04, 40824.45it/s]\u001b[A\n",
      " 63%|██████▎   | 281753/444761 [00:07<00:04, 39654.78it/s]\u001b[A\n",
      " 64%|██████▍   | 285861/444761 [00:07<00:03, 40067.87it/s]\u001b[A\n",
      " 65%|██████▌   | 290016/444761 [00:07<00:03, 40500.06it/s]\u001b[A\n",
      " 66%|██████▌   | 294073/444761 [00:07<00:03, 39789.81it/s]\u001b[A\n",
      " 67%|██████▋   | 298160/444761 [00:07<00:03, 40107.33it/s]\u001b[A\n",
      " 68%|██████▊   | 302278/444761 [00:07<00:03, 40421.98it/s]\u001b[A\n",
      " 69%|██████▉   | 306325/444761 [00:07<00:03, 40160.82it/s]\u001b[A\n",
      " 70%|██████▉   | 310345/444761 [00:07<00:03, 39877.09it/s]\u001b[A\n",
      " 71%|███████   | 314340/444761 [00:07<00:03, 39894.98it/s]\u001b[A\n",
      " 72%|███████▏  | 318415/444761 [00:08<00:03, 40146.49it/s]\u001b[A\n",
      " 73%|███████▎  | 322632/444761 [00:08<00:02, 40732.08it/s]\u001b[A\n",
      " 73%|███████▎  | 326709/444761 [00:08<00:02, 40519.03it/s]\u001b[A\n",
      " 74%|███████▍  | 330936/444761 [00:08<00:02, 41028.31it/s]\u001b[A\n",
      " 75%|███████▌  | 335043/444761 [00:08<00:02, 40763.45it/s]\u001b[A\n",
      " 76%|███████▋  | 339154/444761 [00:08<00:02, 40865.85it/s]\u001b[A\n",
      " 77%|███████▋  | 343243/444761 [00:08<00:02, 37935.68it/s]\u001b[A\n",
      " 78%|███████▊  | 347080/444761 [00:08<00:02, 37785.36it/s]\u001b[A\n",
      " 79%|███████▉  | 351299/444761 [00:08<00:02, 39005.74it/s]\u001b[A\n",
      " 80%|███████▉  | 355339/444761 [00:08<00:02, 39413.37it/s]\u001b[A\n",
      " 81%|████████  | 359304/444761 [00:09<00:02, 39201.98it/s]\u001b[A\n",
      " 82%|████████▏ | 363394/444761 [00:09<00:02, 39695.83it/s]\u001b[A\n",
      " 83%|████████▎ | 367477/444761 [00:09<00:01, 40026.98it/s]\u001b[A\n",
      " 84%|████████▎ | 371616/444761 [00:09<00:01, 40425.87it/s]\u001b[A\n",
      " 84%|████████▍ | 375667/444761 [00:09<00:01, 39432.20it/s]\u001b[A\n",
      " 85%|████████▌ | 379895/444761 [00:09<00:01, 40243.71it/s]\u001b[A\n",
      " 86%|████████▋ | 383932/444761 [00:09<00:01, 38564.77it/s]\u001b[A\n",
      " 87%|████████▋ | 387971/444761 [00:09<00:01, 39093.84it/s]\u001b[A\n",
      " 88%|████████▊ | 391899/444761 [00:09<00:01, 38420.01it/s]\u001b[A\n",
      " 89%|████████▉ | 396090/444761 [00:10<00:01, 39394.65it/s]\u001b[A\n",
      " 90%|████████▉ | 400112/444761 [00:10<00:01, 39638.57it/s]\u001b[A\n",
      " 91%|█████████ | 404094/444761 [00:10<00:01, 39691.48it/s]\u001b[A\n",
      " 92%|█████████▏| 408072/444761 [00:10<00:00, 39243.23it/s]\u001b[A\n",
      " 93%|█████████▎| 412202/444761 [00:10<00:00, 39836.68it/s]\u001b[A\n",
      " 94%|█████████▎| 416193/444761 [00:10<00:00, 39825.34it/s]\u001b[A\n",
      " 94%|█████████▍| 420224/444761 [00:10<00:00, 39962.98it/s]\u001b[A\n",
      " 95%|█████████▌| 424224/444761 [00:10<00:00, 39253.25it/s]\u001b[A\n",
      " 96%|█████████▋| 428155/444761 [00:10<00:00, 39164.32it/s]\u001b[A\n",
      " 97%|█████████▋| 432293/444761 [00:10<00:00, 39803.41it/s]\u001b[A\n",
      " 98%|█████████▊| 436461/444761 [00:11<00:00, 40347.83it/s]\u001b[A\n",
      " 99%|█████████▉| 440502/444761 [00:11<00:00, 39511.43it/s]\u001b[A\n",
      "100%|██████████| 444761/444761 [00:11<00:00, 39593.29it/s]\n"
     ]
    }
   ],
   "source": [
    "train_data['item_description']=text_preprocessing(train_data)\n",
    "cv_data['item_description']=text_preprocessing(cv_data)\n",
    "test_data['item_description']=text_preprocessing(test_data)"
   ]
  },
  {
   "cell_type": "code",
   "execution_count": 245,
   "metadata": {
    "executionInfo": {
     "elapsed": 73925,
     "status": "ok",
     "timestamp": 1606214419836,
     "user": {
      "displayName": "Pratik Pawar",
      "photoUrl": "",
      "userId": "07854545271556537314"
     },
     "user_tz": -330
    },
    "id": "DgFdxBMvl7ro"
   },
   "outputs": [],
   "source": [
    "def description_length(data):\n",
    "    \"\"\"this function finds the length of the description basing on spaces in the statement\"\"\"\n",
    "    description_length=[]\n",
    "    for i in data['item_description']:\n",
    "        description_length.append(len(i.split(' '))) #splitting statement using spaces and finding length of it\n",
    "    return description_length"
   ]
  },
  {
   "cell_type": "code",
   "execution_count": 246,
   "metadata": {
    "colab": {
     "base_uri": "https://localhost:8080/"
    },
    "executionInfo": {
     "elapsed": 75503,
     "status": "ok",
     "timestamp": 1606214421422,
     "user": {
      "displayName": "Pratik Pawar",
      "photoUrl": "",
      "userId": "07854545271556537314"
     },
     "user_tz": -330
    },
    "id": "ujJRdEeFl7ro",
    "outputId": "98cf9057-a10d-41a3-dd8f-1ead79ce7835"
   },
   "outputs": [
    {
     "name": "stdout",
     "output_type": "stream",
     "text": [
      "processing item_description in train_data...\n",
      "brand new 1 victoria secret tote bag limited edition tote 19 5 l x 7 w x 16 h 100 mesh items guaranteed brand new 100 authentic sales final returns exchanges please measure size colors order carefully sure get products work want issues purchase price firm discount items please ask discount combine shipping bundles shipping cost 1 oz 8 oz rm 8 oz 3 lbs rm 3 lbs 10 lbs rm 10 lbs 20 lbs rm 76\n",
      "====================================================================================================\n",
      "processing item_description in test_data...\n",
      "custom listing contains twilight solid perfume love apple bubble bar x4 bunny bubble bar x3 15\n"
     ]
    }
   ],
   "source": [
    "print(\"processing item_description in train_data...\")\n",
    "train_data['description_length']=description_length(train_data)\n",
    "cv_data['description_length']=description_length(cv_data)\n",
    "print(train_data.iloc[100]['item_description'],train_data.iloc[100]['description_length'])\n",
    "print(\"=\"*100)\n",
    "print(\"processing item_description in test_data...\")\n",
    "test_data['description_length']=description_length(test_data)\n",
    "print(test_data.iloc[100]['item_description'],test_data.iloc[100]['description_length'])"
   ]
  },
  {
   "cell_type": "code",
   "execution_count": 247,
   "metadata": {
    "colab": {
     "base_uri": "https://localhost:8080/"
    },
    "executionInfo": {
     "elapsed": 75493,
     "status": "ok",
     "timestamp": 1606214421423,
     "user": {
      "displayName": "Pratik Pawar",
      "photoUrl": "",
      "userId": "07854545271556537314"
     },
     "user_tz": -330
    },
    "id": "pIgFhHKQ8PU3",
    "outputId": "54abbed7-7ee6-4dfb-b784-f4a5b86f0d35"
   },
   "outputs": [
    {
     "data": {
      "text/plain": [
       "count    933453.000000\n",
       "mean         18.041188\n",
       "std          20.640420\n",
       "min           1.000000\n",
       "25%           6.000000\n",
       "50%          11.000000\n",
       "75%          21.000000\n",
       "max         251.000000\n",
       "Name: description_length, dtype: float64"
      ]
     },
     "execution_count": 247,
     "metadata": {
      "tags": []
     },
     "output_type": "execute_result"
    }
   ],
   "source": [
    "train_data['description_length'].describe()"
   ]
  },
  {
   "cell_type": "code",
   "execution_count": 248,
   "metadata": {
    "colab": {
     "base_uri": "https://localhost:8080/",
     "height": 103
    },
    "executionInfo": {
     "elapsed": 75871,
     "status": "ok",
     "timestamp": 1606214421809,
     "user": {
      "displayName": "Pratik Pawar",
      "photoUrl": "",
      "userId": "07854545271556537314"
     },
     "user_tz": -330
    },
    "id": "LLfDQXDNuM_B",
    "outputId": "3422fe74-2e88-464d-e50f-bad3e7687b71"
   },
   "outputs": [
    {
     "data": {
      "application/vnd.google.colaboratory.intrinsic+json": {
       "type": "string"
      },
      "text/plain": [
       "\"train_data['name_len'] = train_data['name'].apply(lambda x: len(x))\\ntrain_data['des_len'] = train_data['item_description'].apply(lambda x: len(x))\\ntrain_data['desc_word_count'] = train_data['item_description'].apply(lambda x: len(x.split()))\\ntrain_data['name_word_count'] = train_data['name'].apply(lambda x: len(x.split()))\\ntrain_data['desc_letters_per_word'] = train_data['des_len'] / train_data['desc_word_count']\\ntrain_data['name_letters_per_word'] = train_data['name_len'] / train_data['name_word_count']\\ntrain_data['price_in_description'] = train_data['item_description'].str.contains('[rm]', regex=False).astype('category')\\ntrain_data['price_in_name'] = train_data['name'].str.contains('[rm]', regex=False).astype('category')\""
      ]
     },
     "execution_count": 248,
     "metadata": {
      "tags": []
     },
     "output_type": "execute_result"
    }
   ],
   "source": [
    "\"\"\"train_data['name_len'] = train_data['name'].apply(lambda x: len(x))\n",
    "train_data['des_len'] = train_data['item_description'].apply(lambda x: len(x))\n",
    "train_data['desc_word_count'] = train_data['item_description'].apply(lambda x: len(x.split()))\n",
    "train_data['name_word_count'] = train_data['name'].apply(lambda x: len(x.split()))\n",
    "train_data['desc_letters_per_word'] = train_data['des_len'] / train_data['desc_word_count']\n",
    "train_data['name_letters_per_word'] = train_data['name_len'] / train_data['name_word_count']\n",
    "train_data['price_in_description'] = train_data['item_description'].str.contains('[rm]', regex=False).astype('category')\n",
    "train_data['price_in_name'] = train_data['name'].str.contains('[rm]', regex=False).astype('category')\"\"\""
   ]
  },
  {
   "cell_type": "code",
   "execution_count": 249,
   "metadata": {
    "colab": {
     "base_uri": "https://localhost:8080/"
    },
    "executionInfo": {
     "elapsed": 75864,
     "status": "ok",
     "timestamp": 1606214421810,
     "user": {
      "displayName": "Pratik Pawar",
      "photoUrl": "",
      "userId": "07854545271556537314"
     },
     "user_tz": -330
    },
    "id": "2hsfWQ_Xu3uV",
    "outputId": "2c7ca5ac-aeea-4d58-de38-9ee99778ed97"
   },
   "outputs": [
    {
     "data": {
      "text/plain": [
       "Index(['train_id', 'name', 'item_condition_id', 'category_name', 'brand_name',\n",
       "       'price', 'shipping', 'item_description', 'subcat_1', 'subcat_2',\n",
       "       'subcat_3', 'target', 'count_stopwords', 'description_length'],\n",
       "      dtype='object')"
      ]
     },
     "execution_count": 249,
     "metadata": {
      "tags": []
     },
     "output_type": "execute_result"
    }
   ],
   "source": [
    "train_data.columns"
   ]
  },
  {
   "cell_type": "code",
   "execution_count": 250,
   "metadata": {
    "colab": {
     "base_uri": "https://localhost:8080/",
     "height": 103
    },
    "executionInfo": {
     "elapsed": 75858,
     "status": "ok",
     "timestamp": 1606214421812,
     "user": {
      "displayName": "Pratik Pawar",
      "photoUrl": "",
      "userId": "07854545271556537314"
     },
     "user_tz": -330
    },
    "id": "FoMgZb3svP83",
    "outputId": "a31c4523-df69-46cc-85fa-63b98319d100"
   },
   "outputs": [
    {
     "data": {
      "application/vnd.google.colaboratory.intrinsic+json": {
       "type": "string"
      },
      "text/plain": [
       "\"test_data['name_len'] = test_data['name'].apply(lambda x: len(x))\\ntest_data['des_len'] = test_data['item_description'].apply(lambda x: len(x))\\ntest_data['desc_word_count'] = test_data['item_description'].apply(lambda x: len(x.split()))\\ntest_data['name_word_count'] = test_data['name'].apply(lambda x: len(x.split()))\\ntest_data['desc_letters_per_word'] = test_data['des_len'] / test_data['desc_word_count']\\ntest_data['name_letters_per_word'] = test_data['name_len'] / test_data['name_word_count']\\ntest_data['price_in_description'] = test_data['item_description'].str.contains('[rm]', regex=False).astype('category')\\ntest_data['price_in_name'] = test_data['name'].str.contains('[rm]', regex=False).astype('category')\""
      ]
     },
     "execution_count": 250,
     "metadata": {
      "tags": []
     },
     "output_type": "execute_result"
    }
   ],
   "source": [
    "\"\"\"test_data['name_len'] = test_data['name'].apply(lambda x: len(x))\n",
    "test_data['des_len'] = test_data['item_description'].apply(lambda x: len(x))\n",
    "test_data['desc_word_count'] = test_data['item_description'].apply(lambda x: len(x.split()))\n",
    "test_data['name_word_count'] = test_data['name'].apply(lambda x: len(x.split()))\n",
    "test_data['desc_letters_per_word'] = test_data['des_len'] / test_data['desc_word_count']\n",
    "test_data['name_letters_per_word'] = test_data['name_len'] / test_data['name_word_count']\n",
    "test_data['price_in_description'] = test_data['item_description'].str.contains('[rm]', regex=False).astype('category')\n",
    "test_data['price_in_name'] = test_data['name'].str.contains('[rm]', regex=False).astype('category')\"\"\""
   ]
  },
  {
   "cell_type": "code",
   "execution_count": 251,
   "metadata": {
    "colab": {
     "base_uri": "https://localhost:8080/",
     "height": 103
    },
    "executionInfo": {
     "elapsed": 75855,
     "status": "ok",
     "timestamp": 1606214421814,
     "user": {
      "displayName": "Pratik Pawar",
      "photoUrl": "",
      "userId": "07854545271556537314"
     },
     "user_tz": -330
    },
    "id": "gdQ-fhBGv2Wb",
    "outputId": "f4a8582d-d502-485e-d5ea-266c3190666a"
   },
   "outputs": [
    {
     "data": {
      "application/vnd.google.colaboratory.intrinsic+json": {
       "type": "string"
      },
      "text/plain": [
       "\"cv_data['name_len'] = cv_data['name'].apply(lambda x: len(x))\\ncv_data['des_len'] = cv_data['item_description'].apply(lambda x: len(x))\\ncv_data['desc_word_count'] = cv_data['item_description'].apply(lambda x: len(x.split()))\\ncv_data['name_word_count'] = cv_data['name'].apply(lambda x: len(x.split()))\\ncv_data['desc_letters_per_word'] = cv_data['des_len'] / cv_data['desc_word_count']\\ncv_data['name_letters_per_word'] = cv_data['name_len'] / cv_data['name_word_count']\\ncv_data['price_in_description'] = cv_data['item_description'].str.contains('[rm]', regex=False).astype('category')\\ncv_data['price_in_name'] = cv_data['name'].str.contains('[rm]', regex=False).astype('category')\""
      ]
     },
     "execution_count": 251,
     "metadata": {
      "tags": []
     },
     "output_type": "execute_result"
    }
   ],
   "source": [
    "\"\"\"cv_data['name_len'] = cv_data['name'].apply(lambda x: len(x))\n",
    "cv_data['des_len'] = cv_data['item_description'].apply(lambda x: len(x))\n",
    "cv_data['desc_word_count'] = cv_data['item_description'].apply(lambda x: len(x.split()))\n",
    "cv_data['name_word_count'] = cv_data['name'].apply(lambda x: len(x.split()))\n",
    "cv_data['desc_letters_per_word'] = cv_data['des_len'] / cv_data['desc_word_count']\n",
    "cv_data['name_letters_per_word'] = cv_data['name_len'] / cv_data['name_word_count']\n",
    "cv_data['price_in_description'] = cv_data['item_description'].str.contains('[rm]', regex=False).astype('category')\n",
    "cv_data['price_in_name'] = cv_data['name'].str.contains('[rm]', regex=False).astype('category')\"\"\""
   ]
  },
  {
   "cell_type": "code",
   "execution_count": 252,
   "metadata": {
    "executionInfo": {
     "elapsed": 76227,
     "status": "ok",
     "timestamp": 1606214422191,
     "user": {
      "displayName": "Pratik Pawar",
      "photoUrl": "",
      "userId": "07854545271556537314"
     },
     "user_tz": -330
    },
    "id": "cpmd56FZl7rp"
   },
   "outputs": [],
   "source": [
    "def branded(data):\n",
    "    \"\"\"this function assigns a value 1 if a product has brand_name else 0\"\"\"\n",
    "    is_branded=[]\n",
    "    for i in data['brand_name']:\n",
    "        if i=='Not known': is_branded.append(0) #if it is a Nan value i.e.. unknown brand make it as 0.\n",
    "        else: is_branded.append(1)\n",
    "    return is_branded\n",
    "train_data['is_branded']=branded(train_data)\n",
    "cv_data['is_branded']=branded(cv_data)\n",
    "test_data['is_branded']=branded(test_data)"
   ]
  },
  {
   "cell_type": "code",
   "execution_count": 253,
   "metadata": {
    "executionInfo": {
     "elapsed": 76223,
     "status": "ok",
     "timestamp": 1606214422192,
     "user": {
      "displayName": "Pratik Pawar",
      "photoUrl": "",
      "userId": "07854545271556537314"
     },
     "user_tz": -330
    },
    "id": "xJ3jvdbawBpG"
   },
   "outputs": [],
   "source": [
    "def transform_test(base_col, feat_col):\n",
    "    '''\n",
    "    Returns feat_col column of test data by mapping from the values already calculated for the same column in train data\n",
    "    \n",
    "    Parameters:\n",
    "    \n",
    "    base_col: column based on which a transform(count, mean, median) has been applied\n",
    "    \n",
    "    feat_col: desired feature column after applying the transform\n",
    "    '''\n",
    "    #Create dictionary of feature values from train data\n",
    "    di = pd.Series(train_data[feat_col].values, index = train_data[base_col].values).to_dict()\n",
    "    \n",
    "    #Map test data using dictionary and fill NAs with 0\n",
    "    \n",
    "    if base_col == 'item_condition_id':\n",
    "        #No chance of NAs\n",
    "        return test_data[base_col].map(di).astype(float)\n",
    "        \n",
    "    return test_data[base_col].map(di).fillna(0)"
   ]
  },
  {
   "cell_type": "code",
   "execution_count": 254,
   "metadata": {
    "executionInfo": {
     "elapsed": 76222,
     "status": "ok",
     "timestamp": 1606214422193,
     "user": {
      "displayName": "Pratik Pawar",
      "photoUrl": "",
      "userId": "07854545271556537314"
     },
     "user_tz": -330
    },
    "id": "wBqcjX-tnjUS"
   },
   "outputs": [],
   "source": [
    "def transform_test1(base_col, feat_col):\n",
    "    '''\n",
    "    Returns feat_col column of test data by mapping from the values already calculated for the same column in train data\n",
    "    \n",
    "    Parameters:\n",
    "    \n",
    "    base_col: column based on which a transform(count, mean, median) has been applied\n",
    "    \n",
    "    feat_col: desired feature column after applying the transform\n",
    "    '''\n",
    "    #Create dictionary of feature values from train data\n",
    "    di = pd.Series(cv_data[feat_col].values, index = cv_data[base_col].values).to_dict()\n",
    "    \n",
    "    #Map test data using dictionary and fill NAs with 0\n",
    "    \n",
    "    if base_col == 'item_condition_id':\n",
    "        #No chance of NAs\n",
    "        return test_data[base_col].map(di).astype(float)\n",
    "        \n",
    "    return test_data[base_col].map(di).fillna(0)"
   ]
  },
  {
   "cell_type": "code",
   "execution_count": 255,
   "metadata": {
    "colab": {
     "base_uri": "https://localhost:8080/",
     "height": 137
    },
    "executionInfo": {
     "elapsed": 76220,
     "status": "ok",
     "timestamp": 1606214422196,
     "user": {
      "displayName": "Pratik Pawar",
      "photoUrl": "",
      "userId": "07854545271556537314"
     },
     "user_tz": -330
    },
    "id": "yGdNWrb8wHn1",
    "outputId": "8aa42eda-9dbc-47fa-b205-386d037552ad"
   },
   "outputs": [
    {
     "data": {
      "application/vnd.google.colaboratory.intrinsic+json": {
       "type": "string"
      },
      "text/plain": [
       "\"train_data['brand_mean_price'] = train_data.groupby('brand_name')['price'].transform('mean')\\ncv_data['brand_mean_price'] = cv_data.groupby('brand_name')['price'].transform('mean')\\ntest_data['brand_mean_price'] = transform_test('brand_name', 'brand_mean_price')\\n\\ntrain_data['subcat_1_mean_price'] = train_data.groupby('subcat_1')['price'].transform('mean')\\ncv_data['subcat_1_mean_price'] = cv_data.groupby('subcat_1')['price'].transform('mean')\\ntest_data['subcat_1_mean_price'] = transform_test('subcat_1', 'subcat_1_mean_price')\\n\\ntrain_data['subcat_2_mean_price'] = train_data.groupby('subcat_2')['price'].transform('mean')\\ncv_data['subcat_2_mean_price'] = cv_data.groupby('subcat_2')['price'].transform('mean')\\ntest_data['subcat_2_mean_price'] = transform_test('subcat_2', 'subcat_2_mean_price')\\n\\ntrain_data['subcat_3_mean_price'] = train_data.groupby('subcat_3')['price'].transform('mean')\\ncv_data['subcat_3_mean_price'] = cv_data.groupby('subcat_3')['price'].transform('mean')\\ntest_data['subcat_3_mean_price'] = transform_test('subcat_3', 'subcat_3_mean_price')\\n\\ntrain_data['condition_mean_price'] = train_data.groupby('item_condition_id')['price'].transform('mean')\\ncv_data['condition_mean_price'] = cv_data.groupby('item_condition_id')['price'].transform('mean')\\ntest_data['condition_mean_price'] = transform_test('item_condition_id', 'condition_mean_price')\""
      ]
     },
     "execution_count": 255,
     "metadata": {
      "tags": []
     },
     "output_type": "execute_result"
    }
   ],
   "source": [
    "\"\"\"train_data['brand_mean_price'] = train_data.groupby('brand_name')['price'].transform('mean')\n",
    "cv_data['brand_mean_price'] = cv_data.groupby('brand_name')['price'].transform('mean')\n",
    "test_data['brand_mean_price'] = transform_test('brand_name', 'brand_mean_price')\n",
    "\n",
    "train_data['subcat_1_mean_price'] = train_data.groupby('subcat_1')['price'].transform('mean')\n",
    "cv_data['subcat_1_mean_price'] = cv_data.groupby('subcat_1')['price'].transform('mean')\n",
    "test_data['subcat_1_mean_price'] = transform_test('subcat_1', 'subcat_1_mean_price')\n",
    "\n",
    "train_data['subcat_2_mean_price'] = train_data.groupby('subcat_2')['price'].transform('mean')\n",
    "cv_data['subcat_2_mean_price'] = cv_data.groupby('subcat_2')['price'].transform('mean')\n",
    "test_data['subcat_2_mean_price'] = transform_test('subcat_2', 'subcat_2_mean_price')\n",
    "\n",
    "train_data['subcat_3_mean_price'] = train_data.groupby('subcat_3')['price'].transform('mean')\n",
    "cv_data['subcat_3_mean_price'] = cv_data.groupby('subcat_3')['price'].transform('mean')\n",
    "test_data['subcat_3_mean_price'] = transform_test('subcat_3', 'subcat_3_mean_price')\n",
    "\n",
    "train_data['condition_mean_price'] = train_data.groupby('item_condition_id')['price'].transform('mean')\n",
    "cv_data['condition_mean_price'] = cv_data.groupby('item_condition_id')['price'].transform('mean')\n",
    "test_data['condition_mean_price'] = transform_test('item_condition_id', 'condition_mean_price')\"\"\""
   ]
  },
  {
   "cell_type": "code",
   "execution_count": 256,
   "metadata": {
    "colab": {
     "base_uri": "https://localhost:8080/",
     "height": 137
    },
    "executionInfo": {
     "elapsed": 76215,
     "status": "ok",
     "timestamp": 1606214422198,
     "user": {
      "displayName": "Pratik Pawar",
      "photoUrl": "",
      "userId": "07854545271556537314"
     },
     "user_tz": -330
    },
    "id": "QaCzTmDoURkD",
    "outputId": "672411c4-31e9-47fb-ef63-828cf3484580"
   },
   "outputs": [
    {
     "data": {
      "application/vnd.google.colaboratory.intrinsic+json": {
       "type": "string"
      },
      "text/plain": [
       "\"train_data['brand_median_price'] = train_data.groupby('brand_name')['price'].transform('median')\\ncv_data['brand_median_price'] = cv_data.groupby('brand_name')['price'].transform('median')\\ntest_data['brand_median_price'] = transform_test('brand_name', 'brand_median_price')\\n\\ntrain_data['subcat_1_median_price'] = train_data.groupby('subcat_1')['price'].transform('median')\\ncv_data['subcat_1_median_price'] = cv_data.groupby('subcat_1')['price'].transform('median')\\ntest_data['subcat_1_median_price'] = transform_test('subcat_1', 'subcat_1_median_price')\\n\\ntrain_data['subcat_2_median_price'] = train_data.groupby('subcat_2')['price'].transform('median')\\ncv_data['subcat_2_median_price'] = cv_data.groupby('subcat_2')['price'].transform('median')\\ntest_data['subcat_2_median_price'] = transform_test('subcat_2', 'subcat_2_median_price')\\n\\ntrain_data['subcat_3_median_price'] = train_data.groupby('subcat_3')['price'].transform('median')\\ncv_data['subcat_3_median_price'] = cv_data.groupby('subcat_3')['price'].transform('median')\\ntest_data['subcat_3_median_price'] = transform_test('subcat_3', 'subcat_3_median_price')\\n\\ntrain_data['condition_median_price'] = train_data.groupby('item_condition_id')['price'].transform('median')\\ncv_data['condition_median_price'] = cv_data.groupby('item_condition_id')['price'].transform('median')\\ntest_data['condition_median_price'] = transform_test('item_condition_id', 'condition_median_price')\""
      ]
     },
     "execution_count": 256,
     "metadata": {
      "tags": []
     },
     "output_type": "execute_result"
    }
   ],
   "source": [
    "\"\"\"train_data['brand_median_price'] = train_data.groupby('brand_name')['price'].transform('median')\n",
    "cv_data['brand_median_price'] = cv_data.groupby('brand_name')['price'].transform('median')\n",
    "test_data['brand_median_price'] = transform_test('brand_name', 'brand_median_price')\n",
    "\n",
    "train_data['subcat_1_median_price'] = train_data.groupby('subcat_1')['price'].transform('median')\n",
    "cv_data['subcat_1_median_price'] = cv_data.groupby('subcat_1')['price'].transform('median')\n",
    "test_data['subcat_1_median_price'] = transform_test('subcat_1', 'subcat_1_median_price')\n",
    "\n",
    "train_data['subcat_2_median_price'] = train_data.groupby('subcat_2')['price'].transform('median')\n",
    "cv_data['subcat_2_median_price'] = cv_data.groupby('subcat_2')['price'].transform('median')\n",
    "test_data['subcat_2_median_price'] = transform_test('subcat_2', 'subcat_2_median_price')\n",
    "\n",
    "train_data['subcat_3_median_price'] = train_data.groupby('subcat_3')['price'].transform('median')\n",
    "cv_data['subcat_3_median_price'] = cv_data.groupby('subcat_3')['price'].transform('median')\n",
    "test_data['subcat_3_median_price'] = transform_test('subcat_3', 'subcat_3_median_price')\n",
    "\n",
    "train_data['condition_median_price'] = train_data.groupby('item_condition_id')['price'].transform('median')\n",
    "cv_data['condition_median_price'] = cv_data.groupby('item_condition_id')['price'].transform('median')\n",
    "test_data['condition_median_price'] = transform_test('item_condition_id', 'condition_median_price')\"\"\""
   ]
  },
  {
   "cell_type": "code",
   "execution_count": 257,
   "metadata": {
    "colab": {
     "base_uri": "https://localhost:8080/"
    },
    "executionInfo": {
     "elapsed": 106292,
     "status": "ok",
     "timestamp": 1606214452282,
     "user": {
      "displayName": "Pratik Pawar",
      "photoUrl": "",
      "userId": "07854545271556537314"
     },
     "user_tz": -330
    },
    "id": "WvzCYsAhl7rp",
    "outputId": "0e1e62e1-8713-4714-ff7b-e08745410309"
   },
   "outputs": [
    {
     "name": "stdout",
     "output_type": "stream",
     "text": [
      "After Vectorization of sub category1 feature: \n",
      "(933453, 13)\n",
      "(103717, 13)\n",
      "(444761, 13)\n",
      "Some Features are: \n",
      "['beauty', 'collectibles', 'electronics', 'handmade', 'home', 'kids', 'men', 'nolabel', 'other', 'outdoors', 'sports', 'vintage', 'women']\n",
      "=============================================================================================================================\n",
      "After Vectorization of sub category2 feature: \n",
      "(933453, 142)\n",
      "(103717, 142)\n",
      "(444761, 142)\n",
      "Some Features are: \n",
      "['feeding', 'footwear', 'fragrance', 'furniture', 'games', 'gear', 'geekery', 'girls', 'glass', 'golf', 'goods', 'gps', 'hair', 'handbags', 'health', 'holidays', 'home', 'hoodies', 'housewares', 'instruments', 'items', 'jackets', 'jeans', 'jewelry', 'kids']\n",
      "=============================================================================================================================\n",
      "After Vectorization of sub category3 feature: \n",
      "(933453, 941)\n",
      "(103717, 941)\n",
      "(444761, 941)\n",
      "Some Features are: \n",
      "['baskets', 'bass', 'bath', 'bathing', 'bathroom', 'batteries', 'beach', 'bead', 'beads', 'bear', 'bears', 'bed', 'bedding', 'bedroom', 'beds', 'bedspreads', 'beer', 'belt', 'belts', 'beverage', 'bibles', 'bibs', 'bike', 'binoculars', 'bins']\n",
      "=============================================================================================================================\n",
      "After Vectorization of brand_name feature: \n",
      "(933453, 4580)\n",
      "(103717, 4580)\n",
      "(444761, 4580)\n",
      "Some Features are: \n",
      "['activewear', 'activision', 'actron', 'ad', 'adagio', 'adam', 'adams', 'addario', 'addison', 'adee', 'aden', 'adidas', 'adolfo', 'adonna', 'adora', 'adrianna', 'adriano', 'adrienne', 'advanced', 'advantage', 'advantix', 'advent', 'advil', 'aerie', 'aerin']\n",
      "=============================================================================================================================\n"
     ]
    }
   ],
   "source": [
    "from sklearn.feature_extraction.text import CountVectorizer\n",
    "countvectorizer=CountVectorizer().fit(train_data['subcat_1'])                     #fitting\n",
    "bow_cat1_train=countvectorizer.transform(train_data['subcat_1'])\n",
    "bow_cat1_cv=countvectorizer.transform(cv_data['subcat_1'])\n",
    "bow_cat1_test=countvectorizer.transform(test_data['subcat_1'])\n",
    "print(\"After Vectorization of sub category1 feature: \")\n",
    "print(bow_cat1_train.shape)\n",
    "print(bow_cat1_cv.shape)\n",
    "print(bow_cat1_test.shape)\n",
    "print(\"Some Features are: \")\n",
    "print(countvectorizer.get_feature_names())\n",
    "print(\"=\"*125)\n",
    "countvectorizer=CountVectorizer().fit(train_data['subcat_2'])   #fitting\n",
    "bow_cat2_train=countvectorizer.transform(train_data['subcat_2'])\n",
    "bow_cat2_cv=countvectorizer.transform(cv_data['subcat_2'])\n",
    "bow_cat2_test=countvectorizer.transform(test_data['subcat_2'])\n",
    "print(\"After Vectorization of sub category2 feature: \")\n",
    "print(bow_cat2_train.shape)\n",
    "print(bow_cat2_cv.shape)\n",
    "print(bow_cat2_test.shape)\n",
    "print(\"Some Features are: \")\n",
    "print(countvectorizer.get_feature_names()[50:75])\n",
    "print(\"=\"*125)\n",
    "countvectorizer=CountVectorizer().fit(train_data['subcat_3'])   #fitting\n",
    "bow_cat3_train=countvectorizer.transform(train_data['subcat_3'])\n",
    "bow_cat3_cv=countvectorizer.transform(cv_data['subcat_3'])\n",
    "bow_cat3_test=countvectorizer.transform(test_data['subcat_3'])\n",
    "print(\"After Vectorization of sub category3 feature: \")\n",
    "print(bow_cat3_train.shape)\n",
    "print(bow_cat3_cv.shape)\n",
    "print(bow_cat3_test.shape)\n",
    "print(\"Some Features are: \")\n",
    "print(countvectorizer.get_feature_names()[50:75])\n",
    "print(\"=\"*125)\n",
    "countvectorizer=CountVectorizer().fit(train_data['brand_name'])  #fitting\n",
    "bow_brand_train=countvectorizer.transform(train_data['brand_name'])\n",
    "bow_brand_cv=countvectorizer.transform(cv_data['brand_name'])\n",
    "bow_brand_test=countvectorizer.transform(test_data['brand_name'])\n",
    "print(\"After Vectorization of brand_name feature: \")\n",
    "print(bow_brand_train.shape)\n",
    "print(bow_brand_cv.shape)\n",
    "print(bow_brand_test.shape)\n",
    "print(\"Some Features are: \")\n",
    "print(countvectorizer.get_feature_names()[50:75])\n",
    "print(\"=\"*125)"
   ]
  },
  {
   "cell_type": "code",
   "execution_count": 258,
   "metadata": {
    "colab": {
     "base_uri": "https://localhost:8080/"
    },
    "executionInfo": {
     "elapsed": 120189,
     "status": "ok",
     "timestamp": 1606214466190,
     "user": {
      "displayName": "Pratik Pawar",
      "photoUrl": "",
      "userId": "07854545271556537314"
     },
     "user_tz": -330
    },
    "id": "nYl6B-YBl7rp",
    "outputId": "ff91d4b6-a442-4d57-fd8d-089b2660d7f6"
   },
   "outputs": [
    {
     "name": "stdout",
     "output_type": "stream",
     "text": [
      "After Vectorization of brand_name feature: \n",
      "(933453, 14158)\n",
      "(103717, 14158)\n",
      "(444761, 14158)\n",
      "Some Features are: \n",
      "['premiere', 'premium', 'prenatal', 'preowned', 'prep', 'prepaid', 'preppy', 'preschool', 'prescott', 'prescription', 'present', 'presents', 'president', 'presidio', 'presley', 'press', 'pressed', 'pressure', 'prestige', 'presto', 'preston', 'prestos', 'pretend', 'pretty', 'pretzel']\n"
     ]
    }
   ],
   "source": [
    "countvectorizer=CountVectorizer(min_df=10).fit(train_data['name'])  #fitting\n",
    "bow_name_train=countvectorizer.transform(train_data['name'])\n",
    "bow_name_cv=countvectorizer.transform(cv_data['name'])\n",
    "bow_name_test=countvectorizer.transform(test_data['name'])\n",
    "print(\"After Vectorization of brand_name feature: \")\n",
    "print(bow_name_train.shape)\n",
    "print(bow_name_cv.shape)\n",
    "print(bow_name_test.shape)\n",
    "print(\"Some Features are: \")\n",
    "print(countvectorizer.get_feature_names()[10000:10025])"
   ]
  },
  {
   "cell_type": "code",
   "execution_count": 259,
   "metadata": {
    "colab": {
     "base_uri": "https://localhost:8080/"
    },
    "executionInfo": {
     "elapsed": 206869,
     "status": "ok",
     "timestamp": 1606214552880,
     "user": {
      "displayName": "Pratik Pawar",
      "photoUrl": "",
      "userId": "07854545271556537314"
     },
     "user_tz": -330
    },
    "id": "IlifJaEyl7rp",
    "outputId": "189cdd40-2782-44b8-919d-4eda38e39aa4"
   },
   "outputs": [
    {
     "name": "stdout",
     "output_type": "stream",
     "text": [
      "After Vectorization of item description feature: \n",
      "(933453, 5000)\n",
      "(103717, 5000)\n",
      "(444761, 5000)\n",
      "Some Features are: \n",
      "['packets', 'packing', 'packs', 'pacsun', 'pad', 'padded', 'padding', 'pads', 'page', 'pages', 'paid', 'paid product', 'paid rm', 'pain', 'paint', 'painted', 'pair', 'pair rm', 'paired', 'pairs', 'pairs rm', 'paisley', 'pajama', 'pajamas', 'pale']\n"
     ]
    }
   ],
   "source": [
    "tfidfvectorizer=TfidfVectorizer(ngram_range=(1,2),min_df=10,max_features=5000).fit(train_data['item_description']) #fitting\n",
    "tfidf_description_train=tfidfvectorizer.transform(train_data['item_description'])\n",
    "tfidf_description_cv=tfidfvectorizer.transform(cv_data['item_description'])\n",
    "tfidf_description_test=tfidfvectorizer.transform(test_data['item_description'])\n",
    "print(\"After Vectorization of item description feature: \")\n",
    "print(tfidf_description_train.shape)\n",
    "print(tfidf_description_cv.shape)\n",
    "print(tfidf_description_test.shape)\n",
    "print(\"Some Features are: \")\n",
    "print(tfidfvectorizer.get_feature_names()[3025:3050])"
   ]
  },
  {
   "cell_type": "code",
   "execution_count": 260,
   "metadata": {
    "colab": {
     "base_uri": "https://localhost:8080/"
    },
    "executionInfo": {
     "elapsed": 207261,
     "status": "ok",
     "timestamp": 1606214553283,
     "user": {
      "displayName": "Pratik Pawar",
      "photoUrl": "",
      "userId": "07854545271556537314"
     },
     "user_tz": -330
    },
    "id": "sMka-dEhqwHc",
    "outputId": "f8894271-7dd0-4a94-b92a-a6f0af7339ae"
   },
   "outputs": [
    {
     "name": "stdout",
     "output_type": "stream",
     "text": [
      "[-0.48648202 -0.48648202 -0.38958471  1.01542619]\n",
      "After Preprocessing of description length:\n",
      "(933453, 1)\n",
      "(103717, 1)\n",
      "(444761, 1)\n",
      "=============================================================================================================================\n",
      "[-0.3292033   1.8775334   0.99483872  0.11214404 -0.66021381]\n",
      "After Preprocessing of count_stopwords feature:\n",
      "(933453, 1)\n",
      "(103717, 1)\n",
      "(444761, 1)\n"
     ]
    }
   ],
   "source": [
    "scaler = StandardScaler().fit(np.array(train_data['description_length']).reshape(-1,1))  #fitting\n",
    "length_train=scaler.transform(np.array(train_data['description_length']).reshape(-1,1))\n",
    "length_cv=scaler.transform(np.array(cv_data['description_length']).reshape(-1,1))\n",
    "length_test=scaler.transform(np.array(test_data['description_length']).reshape(-1,1))\n",
    "print(length_train[1:5].reshape(1,-1)[0])       #printing 5 random description lengths\n",
    "print(\"After Preprocessing of description length:\")\n",
    "print(length_train.shape)\n",
    "print(length_cv.shape)\n",
    "print(length_test.shape)\n",
    "print(\"=\"*125)\n",
    "\"\"\"\n",
    "scaler = StandardScaler().fit(np.array(train_data['name_len']).reshape(-1,1))  #fitting\n",
    "lengthName_train=scaler.transform(np.array(train_data['name_len']).reshape(-1,1))\n",
    "lengthName_cv=scaler.transform(np.array(cv_data['name_len']).reshape(-1,1))\n",
    "lengthName_test=scaler.transform(np.array(test_data['name_len']).reshape(-1,1))\n",
    "print(lengthName_train[1:5].reshape(1,-1)[0])       #printing 5 random description lengths\n",
    "print(\"After Preprocessing of description length:\")\n",
    "print(lengthName_train.shape)\n",
    "print(lengthName_cv.shape)\n",
    "print(lengthName_test.shape)\n",
    "print(\"=\"*125)\n",
    "\n",
    "scaler = StandardScaler().fit(np.array(train_data['des_len']).reshape(-1,1))  #fitting\n",
    "lengthDes_train=scaler.transform(np.array(train_data['des_len']).reshape(-1,1))\n",
    "lengthDes_cv=scaler.transform(np.array(cv_data['des_len']).reshape(-1,1))\n",
    "lengthDes_test=scaler.transform(np.array(test_data['des_len']).reshape(-1,1))\n",
    "print(lengthDes_train[1:5].reshape(1,-1)[0])       #printing 5 random description lengths\n",
    "print(\"After Preprocessing of description length:\")\n",
    "print(lengthDes_train.shape)\n",
    "print(lengthDes_cv.shape)\n",
    "print(lengthDes_test.shape)\n",
    "print(\"=\"*125)\n",
    "\n",
    "scaler = StandardScaler().fit(np.array(train_data['desc_word_count']).reshape(-1,1))  #fitting\n",
    "lengthDwc_train=scaler.transform(np.array(train_data['desc_word_count']).reshape(-1,1))\n",
    "lengthDwc_cv=scaler.transform(np.array(cv_data['desc_word_count']).reshape(-1,1))\n",
    "lengthDwc_test=scaler.transform(np.array(test_data['desc_word_count']).reshape(-1,1))\n",
    "print(lengthDwc_train[1:5].reshape(1,-1)[0])       #printing 5 random description lengths\n",
    "print(\"After Preprocessing of description length:\")\n",
    "print(lengthDwc_train.shape)\n",
    "print(lengthDwc_cv.shape)\n",
    "print(lengthDwc_test.shape)\n",
    "print(\"=\"*125)\n",
    "\n",
    "scaler = StandardScaler().fit(np.array(train_data['name_word_count']).reshape(-1,1))  #fitting\n",
    "lengthNwc_train=scaler.transform(np.array(train_data['name_word_count']).reshape(-1,1))\n",
    "lengthNwc_cv=scaler.transform(np.array(cv_data['name_word_count']).reshape(-1,1))\n",
    "lengthNwc_test=scaler.transform(np.array(test_data['name_word_count']).reshape(-1,1))\n",
    "print(lengthNwc_train[1:5].reshape(1,-1)[0])       #printing 5 random description lengths\n",
    "print(\"After Preprocessing of description length:\")\n",
    "print(lengthNwc_train.shape)\n",
    "print(lengthNwc_cv.shape)\n",
    "print(lengthNwc_test.shape)\n",
    "print(\"=\"*125)\n",
    "\n",
    "scaler = StandardScaler().fit(np.array(train_data['name_letters_per_word']).reshape(-1,1))  #fitting\n",
    "lengthNlpw_train=scaler.transform(np.array(train_data['name_letters_per_word']).reshape(-1,1))\n",
    "lengthNlpw_cv=scaler.transform(np.array(cv_data['name_letters_per_word']).reshape(-1,1))\n",
    "lengthNlpw_test=scaler.transform(np.array(test_data['name_letters_per_word']).reshape(-1,1))\n",
    "print(lengthNlpw_train[1:5].reshape(1,-1)[0])       #printing 5 random description lengths\n",
    "print(\"After Preprocessing of description length:\")\n",
    "print(lengthNlpw_train.shape)\n",
    "print(lengthNlpw_cv.shape)\n",
    "print(lengthNlpw_test.shape)\n",
    "print(\"=\"*125)\n",
    "\"\"\"\n",
    "scaler = StandardScaler().fit(np.array(train_data['count_stopwords']).reshape(-1,1))   #fitting\n",
    "stopword_train=scaler.transform(np.array(train_data['count_stopwords']).reshape(-1,1))\n",
    "stopword_cv=scaler.transform(np.array(cv_data['count_stopwords']).reshape(-1,1))\n",
    "stopword_test=scaler.transform(np.array(test_data['count_stopwords']).reshape(-1,1))\n",
    "print(stopword_train[15:20].reshape(1,-1)[0])   #printing 5 random stopwords count\n",
    "print(\"After Preprocessing of count_stopwords feature:\")\n",
    "print(stopword_train.shape)\n",
    "print(stopword_cv.shape)\n",
    "print(stopword_test.shape)"
   ]
  },
  {
   "cell_type": "code",
   "execution_count": 261,
   "metadata": {
    "colab": {
     "base_uri": "https://localhost:8080/",
     "height": 137
    },
    "executionInfo": {
     "elapsed": 207252,
     "status": "ok",
     "timestamp": 1606214553286,
     "user": {
      "displayName": "Pratik Pawar",
      "photoUrl": "",
      "userId": "07854545271556537314"
     },
     "user_tz": -330
    },
    "id": "Vo-Mf0vofwOf",
    "outputId": "285d195e-74f3-479b-e78e-1b931d59a1a9"
   },
   "outputs": [
    {
     "data": {
      "application/vnd.google.colaboratory.intrinsic+json": {
       "type": "string"
      },
      "text/plain": [
       "'\\nbrand_mean_price             0\\nsubcat_1_mean_price          0\\nsubcat_2_mean_price          0\\nsubcat_3_mean_price          0\\ncondition_mean_price         0\\nbrand_median_price           0\\nsubcat_1_median_price        0\\nsubcat_2_median_price        0\\nsubcat_3_median_price        0\\ncondition_median_price \\n\\nscaler = StandardScaler().fit(np.array(train_data[\\'brand_mean_price\\']).reshape(-1,1))   #fitting\\nbmp_train=scaler.transform(np.array(train_data[\\'brand_mean_price\\']).reshape(-1,1))\\nbmp_cv=scaler.transform(np.array(cv_data[\\'brand_mean_price\\']).reshape(-1,1))\\nbmp_test=scaler.transform(np.array(test_data[\\'brand_mean_price\\']).reshape(-1,1))\\nprint(bmp_train[15:20].reshape(1,-1)[0])   #printing 5 random stopwords count\\nprint(\"After Preprocessing of count_stopwords feature:\")\\nprint(bmp_train.shape)\\nprint(bmp_cv.shape)\\nprint(bmp_test.shape)\\n\\nscaler = StandardScaler().fit(np.array(train_data[\\'subcat_1_mean_price\\']).reshape(-1,1))   #fitting\\nsubmean1_train=scaler.transform(np.array(train_data[\\'subcat_1_mean_price\\']).reshape(-1,1))\\nsubmean1_cv=scaler.transform(np.array(cv_data[\\'subcat_1_mean_price\\']).reshape(-1,1))\\nsubmean1_test=scaler.transform(np.array(test_data[\\'subcat_1_mean_price\\']).reshape(-1,1))\\nprint(submean1_train[15:20].reshape(1,-1)[0])   #printing 5 random stopwords count\\nprint(\"After Preprocessing of count_stopwords feature:\")\\nprint(submean1_train.shape)\\nprint(submean1_cv.shape)\\nprint(submean1_test.shape)\\n\\nscaler = StandardScaler().fit(np.array(train_data[\\'subcat_2_mean_price\\']).reshape(-1,1))   #fitting\\nsubmean2_train=scaler.transform(np.array(train_data[\\'subcat_2_mean_price\\']).reshape(-1,1))\\nsubmean2_cv=scaler.transform(np.array(cv_data[\\'subcat_2_mean_price\\']).reshape(-1,1))\\nsubmean2_test=scaler.transform(np.array(test_data[\\'subcat_2_mean_price\\']).reshape(-1,1))\\nprint(submean2_train[15:20].reshape(1,-1)[0])   #printing 5 random stopwords count\\nprint(\"After Preprocessing of count_stopwords feature:\")\\nprint(submean2_train.shape)\\nprint(submean2_cv.shape)\\nprint(submean2_test.shape)\\n\\nscaler = StandardScaler().fit(np.array(train_data[\\'subcat_3_mean_price\\']).reshape(-1,1))   #fitting\\nsubmean3_train=scaler.transform(np.array(train_data[\\'subcat_3_mean_price\\']).reshape(-1,1))\\nsubmean3_cv=scaler.transform(np.array(cv_data[\\'subcat_3_mean_price\\']).reshape(-1,1))\\nsubmean3_test=scaler.transform(np.array(test_data[\\'subcat_3_mean_price\\']).reshape(-1,1))\\nprint(submean3_train[15:20].reshape(1,-1)[0])   #printing 5 random stopwords count\\nprint(\"After Preprocessing of count_stopwords feature:\")\\nprint(submean3_train.shape)\\nprint(submean3_cv.shape)\\nprint(submean3_test.shape)\\n\\nscaler = StandardScaler().fit(np.array(train_data[\\'condition_mean_price\\']).reshape(-1,1))   #fitting\\ncmp_train=scaler.transform(np.array(train_data[\\'condition_mean_price\\']).reshape(-1,1))\\ncmp_cv=scaler.transform(np.array(cv_data[\\'condition_mean_price\\']).reshape(-1,1))\\ncmp_test=scaler.transform(np.array(test_data[\\'condition_mean_price\\']).reshape(-1,1))\\nprint(cmp_train[15:20].reshape(1,-1)[0])   #printing 5 random stopwords count\\nprint(\"After Preprocessing of count_stopwords feature:\")\\nprint(cmp_train.shape)\\nprint(cmp_cv.shape)\\nprint(cmp_test.shape)\\n\\nscaler = StandardScaler().fit(np.array(train_data[\\'brand_median_price\\']).reshape(-1,1))   #fitting\\nbmedp_train=scaler.transform(np.array(train_data[\\'brand_median_price\\']).reshape(-1,1))\\nbmedp_cv=scaler.transform(np.array(cv_data[\\'brand_median_price\\']).reshape(-1,1))\\nbmedp_test=scaler.transform(np.array(test_data[\\'brand_median_price\\']).reshape(-1,1))\\nprint(bmedp_train[15:20].reshape(1,-1)[0])   #printing 5 random stopwords count\\nprint(\"After Preprocessing of count_stopwords feature:\")\\nprint(bmedp_train.shape)\\nprint(bmedp_cv.shape)\\nprint(bmedp_test.shape)\\n\\nscaler = StandardScaler().fit(np.array(train_data[\\'subcat_1_median_price\\']).reshape(-1,1))   #fitting\\nsubmedian1_train=scaler.transform(np.array(train_data[\\'subcat_1_median_price\\']).reshape(-1,1))\\nsubmedian1_cv=scaler.transform(np.array(cv_data[\\'subcat_1_median_price\\']).reshape(-1,1))\\nsubmedian1_test=scaler.transform(np.array(test_data[\\'subcat_1_median_price\\']).reshape(-1,1))\\nprint(submedian1_train[15:20].reshape(1,-1)[0])   #printing 5 random stopwords count\\nprint(\"After Preprocessing of count_stopwords feature:\")\\nprint(submedian1_train.shape)\\nprint(submedian1_cv.shape)\\nprint(submedian1_test.shape)\\n\\nscaler = StandardScaler().fit(np.array(train_data[\\'subcat_2_median_price\\']).reshape(-1,1))   #fitting\\nsubmedian2_train=scaler.transform(np.array(train_data[\\'subcat_2_median_price\\']).reshape(-1,1))\\nsubmedian2_cv=scaler.transform(np.array(cv_data[\\'subcat_2_median_price\\']).reshape(-1,1))\\nsubmedian2_test=scaler.transform(np.array(test_data[\\'subcat_2_median_price\\']).reshape(-1,1))\\nprint(submedian2_train[15:20].reshape(1,-1)[0])   #printing 5 random stopwords count\\nprint(\"After Preprocessing of count_stopwords feature:\")\\nprint(submedian2_train.shape)\\nprint(submedian2_cv.shape)\\nprint(submedian2_test.shape)\\n\\nscaler = StandardScaler().fit(np.array(train_data[\\'subcat_3_median_price\\']).reshape(-1,1))   #fitting\\nsubmedian3_train=scaler.transform(np.array(train_data[\\'subcat_3_median_price\\']).reshape(-1,1))\\nsubmedian3_cv=scaler.transform(np.array(cv_data[\\'subcat_3_median_price\\']).reshape(-1,1))\\nsubmedian3_test=scaler.transform(np.array(test_data[\\'subcat_3_median_price\\']).reshape(-1,1))\\nprint(submedian3_train[15:20].reshape(1,-1)[0])   #printing 5 random stopwords count\\nprint(\"After Preprocessing of count_stopwords feature:\")\\nprint(submedian3_train.shape)\\nprint(submedian3_cv.shape)\\nprint(submedian3_test.shape)\\n\\nscaler = StandardScaler().fit(np.array(train_data[\\'condition_median_price\\']).reshape(-1,1))   #fitting\\ncmedp_train=scaler.transform(np.array(train_data[\\'condition_median_price\\']).reshape(-1,1))\\ncmedp_cv=scaler.transform(np.array(cv_data[\\'condition_median_price\\']).reshape(-1,1))\\ncmedp_test=scaler.transform(np.array(test_data[\\'condition_median_price\\']).reshape(-1,1))\\nprint(cmedp_train[15:20].reshape(1,-1)[0])   #printing 5 random stopwords count\\nprint(\"After Preprocessing of count_stopwords feature:\")\\nprint(cmedp_train.shape)\\nprint(cmedp_cv.shape)\\nprint(cmedp_test.shape)'"
      ]
     },
     "execution_count": 261,
     "metadata": {
      "tags": []
     },
     "output_type": "execute_result"
    }
   ],
   "source": [
    "\"\"\"\n",
    "brand_mean_price             0\n",
    "subcat_1_mean_price          0\n",
    "subcat_2_mean_price          0\n",
    "subcat_3_mean_price          0\n",
    "condition_mean_price         0\n",
    "brand_median_price           0\n",
    "subcat_1_median_price        0\n",
    "subcat_2_median_price        0\n",
    "subcat_3_median_price        0\n",
    "condition_median_price \n",
    "\n",
    "scaler = StandardScaler().fit(np.array(train_data['brand_mean_price']).reshape(-1,1))   #fitting\n",
    "bmp_train=scaler.transform(np.array(train_data['brand_mean_price']).reshape(-1,1))\n",
    "bmp_cv=scaler.transform(np.array(cv_data['brand_mean_price']).reshape(-1,1))\n",
    "bmp_test=scaler.transform(np.array(test_data['brand_mean_price']).reshape(-1,1))\n",
    "print(bmp_train[15:20].reshape(1,-1)[0])   #printing 5 random stopwords count\n",
    "print(\"After Preprocessing of count_stopwords feature:\")\n",
    "print(bmp_train.shape)\n",
    "print(bmp_cv.shape)\n",
    "print(bmp_test.shape)\n",
    "\n",
    "scaler = StandardScaler().fit(np.array(train_data['subcat_1_mean_price']).reshape(-1,1))   #fitting\n",
    "submean1_train=scaler.transform(np.array(train_data['subcat_1_mean_price']).reshape(-1,1))\n",
    "submean1_cv=scaler.transform(np.array(cv_data['subcat_1_mean_price']).reshape(-1,1))\n",
    "submean1_test=scaler.transform(np.array(test_data['subcat_1_mean_price']).reshape(-1,1))\n",
    "print(submean1_train[15:20].reshape(1,-1)[0])   #printing 5 random stopwords count\n",
    "print(\"After Preprocessing of count_stopwords feature:\")\n",
    "print(submean1_train.shape)\n",
    "print(submean1_cv.shape)\n",
    "print(submean1_test.shape)\n",
    "\n",
    "scaler = StandardScaler().fit(np.array(train_data['subcat_2_mean_price']).reshape(-1,1))   #fitting\n",
    "submean2_train=scaler.transform(np.array(train_data['subcat_2_mean_price']).reshape(-1,1))\n",
    "submean2_cv=scaler.transform(np.array(cv_data['subcat_2_mean_price']).reshape(-1,1))\n",
    "submean2_test=scaler.transform(np.array(test_data['subcat_2_mean_price']).reshape(-1,1))\n",
    "print(submean2_train[15:20].reshape(1,-1)[0])   #printing 5 random stopwords count\n",
    "print(\"After Preprocessing of count_stopwords feature:\")\n",
    "print(submean2_train.shape)\n",
    "print(submean2_cv.shape)\n",
    "print(submean2_test.shape)\n",
    "\n",
    "scaler = StandardScaler().fit(np.array(train_data['subcat_3_mean_price']).reshape(-1,1))   #fitting\n",
    "submean3_train=scaler.transform(np.array(train_data['subcat_3_mean_price']).reshape(-1,1))\n",
    "submean3_cv=scaler.transform(np.array(cv_data['subcat_3_mean_price']).reshape(-1,1))\n",
    "submean3_test=scaler.transform(np.array(test_data['subcat_3_mean_price']).reshape(-1,1))\n",
    "print(submean3_train[15:20].reshape(1,-1)[0])   #printing 5 random stopwords count\n",
    "print(\"After Preprocessing of count_stopwords feature:\")\n",
    "print(submean3_train.shape)\n",
    "print(submean3_cv.shape)\n",
    "print(submean3_test.shape)\n",
    "\n",
    "scaler = StandardScaler().fit(np.array(train_data['condition_mean_price']).reshape(-1,1))   #fitting\n",
    "cmp_train=scaler.transform(np.array(train_data['condition_mean_price']).reshape(-1,1))\n",
    "cmp_cv=scaler.transform(np.array(cv_data['condition_mean_price']).reshape(-1,1))\n",
    "cmp_test=scaler.transform(np.array(test_data['condition_mean_price']).reshape(-1,1))\n",
    "print(cmp_train[15:20].reshape(1,-1)[0])   #printing 5 random stopwords count\n",
    "print(\"After Preprocessing of count_stopwords feature:\")\n",
    "print(cmp_train.shape)\n",
    "print(cmp_cv.shape)\n",
    "print(cmp_test.shape)\n",
    "\n",
    "scaler = StandardScaler().fit(np.array(train_data['brand_median_price']).reshape(-1,1))   #fitting\n",
    "bmedp_train=scaler.transform(np.array(train_data['brand_median_price']).reshape(-1,1))\n",
    "bmedp_cv=scaler.transform(np.array(cv_data['brand_median_price']).reshape(-1,1))\n",
    "bmedp_test=scaler.transform(np.array(test_data['brand_median_price']).reshape(-1,1))\n",
    "print(bmedp_train[15:20].reshape(1,-1)[0])   #printing 5 random stopwords count\n",
    "print(\"After Preprocessing of count_stopwords feature:\")\n",
    "print(bmedp_train.shape)\n",
    "print(bmedp_cv.shape)\n",
    "print(bmedp_test.shape)\n",
    "\n",
    "scaler = StandardScaler().fit(np.array(train_data['subcat_1_median_price']).reshape(-1,1))   #fitting\n",
    "submedian1_train=scaler.transform(np.array(train_data['subcat_1_median_price']).reshape(-1,1))\n",
    "submedian1_cv=scaler.transform(np.array(cv_data['subcat_1_median_price']).reshape(-1,1))\n",
    "submedian1_test=scaler.transform(np.array(test_data['subcat_1_median_price']).reshape(-1,1))\n",
    "print(submedian1_train[15:20].reshape(1,-1)[0])   #printing 5 random stopwords count\n",
    "print(\"After Preprocessing of count_stopwords feature:\")\n",
    "print(submedian1_train.shape)\n",
    "print(submedian1_cv.shape)\n",
    "print(submedian1_test.shape)\n",
    "\n",
    "scaler = StandardScaler().fit(np.array(train_data['subcat_2_median_price']).reshape(-1,1))   #fitting\n",
    "submedian2_train=scaler.transform(np.array(train_data['subcat_2_median_price']).reshape(-1,1))\n",
    "submedian2_cv=scaler.transform(np.array(cv_data['subcat_2_median_price']).reshape(-1,1))\n",
    "submedian2_test=scaler.transform(np.array(test_data['subcat_2_median_price']).reshape(-1,1))\n",
    "print(submedian2_train[15:20].reshape(1,-1)[0])   #printing 5 random stopwords count\n",
    "print(\"After Preprocessing of count_stopwords feature:\")\n",
    "print(submedian2_train.shape)\n",
    "print(submedian2_cv.shape)\n",
    "print(submedian2_test.shape)\n",
    "\n",
    "scaler = StandardScaler().fit(np.array(train_data['subcat_3_median_price']).reshape(-1,1))   #fitting\n",
    "submedian3_train=scaler.transform(np.array(train_data['subcat_3_median_price']).reshape(-1,1))\n",
    "submedian3_cv=scaler.transform(np.array(cv_data['subcat_3_median_price']).reshape(-1,1))\n",
    "submedian3_test=scaler.transform(np.array(test_data['subcat_3_median_price']).reshape(-1,1))\n",
    "print(submedian3_train[15:20].reshape(1,-1)[0])   #printing 5 random stopwords count\n",
    "print(\"After Preprocessing of count_stopwords feature:\")\n",
    "print(submedian3_train.shape)\n",
    "print(submedian3_cv.shape)\n",
    "print(submedian3_test.shape)\n",
    "\n",
    "scaler = StandardScaler().fit(np.array(train_data['condition_median_price']).reshape(-1,1))   #fitting\n",
    "cmedp_train=scaler.transform(np.array(train_data['condition_median_price']).reshape(-1,1))\n",
    "cmedp_cv=scaler.transform(np.array(cv_data['condition_median_price']).reshape(-1,1))\n",
    "cmedp_test=scaler.transform(np.array(test_data['condition_median_price']).reshape(-1,1))\n",
    "print(cmedp_train[15:20].reshape(1,-1)[0])   #printing 5 random stopwords count\n",
    "print(\"After Preprocessing of count_stopwords feature:\")\n",
    "print(cmedp_train.shape)\n",
    "print(cmedp_cv.shape)\n",
    "print(cmedp_test.shape)\"\"\""
   ]
  },
  {
   "cell_type": "code",
   "execution_count": 262,
   "metadata": {
    "colab": {
     "base_uri": "https://localhost:8080/"
    },
    "executionInfo": {
     "elapsed": 207690,
     "status": "ok",
     "timestamp": 1606214553735,
     "user": {
      "displayName": "Pratik Pawar",
      "photoUrl": "",
      "userId": "07854545271556537314"
     },
     "user_tz": -330
    },
    "id": "bovSz1uhl7rp",
    "outputId": "902411c6-cb71-40ba-dfcc-659af899a19d"
   },
   "outputs": [
    {
     "name": "stdout",
     "output_type": "stream",
     "text": [
      "(933453, 3)\n",
      "(103717, 3)\n",
      "(444761, 3)\n"
     ]
    }
   ],
   "source": [
    "features_train = csr_matrix(pd.get_dummies(train_data[['item_condition_id', 'shipping','is_branded']],sparse=True).values)\n",
    "features_cv = csr_matrix(pd.get_dummies(cv_data[['item_condition_id', 'shipping','is_branded']],sparse=True).values)\n",
    "features_test = csr_matrix(pd.get_dummies(test_data[['item_condition_id', 'shipping','is_branded']],sparse=True).values)\n",
    "print(features_train.shape)\n",
    "print(features_cv.shape)\n",
    "print(features_test.shape)"
   ]
  },
  {
   "cell_type": "code",
   "execution_count": 263,
   "metadata": {
    "colab": {
     "base_uri": "https://localhost:8080/",
     "height": 69
    },
    "executionInfo": {
     "elapsed": 207675,
     "status": "ok",
     "timestamp": 1606214553737,
     "user": {
      "displayName": "Pratik Pawar",
      "photoUrl": "",
      "userId": "07854545271556537314"
     },
     "user_tz": -330
    },
    "id": "6AN6V3HWxbN4",
    "outputId": "ca2b753c-d956-473a-f116-aaa80932cd08"
   },
   "outputs": [
    {
     "data": {
      "application/vnd.google.colaboratory.intrinsic+json": {
       "type": "string"
      },
      "text/plain": [
       "\"morefeatures_train = train_data[['name_len', 'des_len', 'desc_word_count','name_word_count', 'name_letters_per_word']]\\nmorefeatures_cv = cv_data[['name_len', 'des_len', 'desc_word_count','name_word_count', 'name_letters_per_word']]\\nmorefeatures_test = test_data[['name_len', 'des_len', 'desc_word_count','name_word_count', 'name_letters_per_word']]\\n\\nprint(morefeatures_train.shape)\\nprint(morefeatures_cv.shape)\\nprint(morefeatures_test.shape)\""
      ]
     },
     "execution_count": 263,
     "metadata": {
      "tags": []
     },
     "output_type": "execute_result"
    }
   ],
   "source": [
    "\"\"\"morefeatures_train = train_data[['name_len', 'des_len', 'desc_word_count','name_word_count', 'name_letters_per_word']]\n",
    "morefeatures_cv = cv_data[['name_len', 'des_len', 'desc_word_count','name_word_count', 'name_letters_per_word']]\n",
    "morefeatures_test = test_data[['name_len', 'des_len', 'desc_word_count','name_word_count', 'name_letters_per_word']]\n",
    "\n",
    "print(morefeatures_train.shape)\n",
    "print(morefeatures_cv.shape)\n",
    "print(morefeatures_test.shape)\"\"\""
   ]
  },
  {
   "cell_type": "code",
   "execution_count": 264,
   "metadata": {
    "colab": {
     "base_uri": "https://localhost:8080/"
    },
    "executionInfo": {
     "elapsed": 207655,
     "status": "ok",
     "timestamp": 1606214553739,
     "user": {
      "displayName": "Pratik Pawar",
      "photoUrl": "",
      "userId": "07854545271556537314"
     },
     "user_tz": -330
    },
    "id": "C1wDD3g7p1yu",
    "outputId": "4528be33-7673-4d04-b9bd-348c39b6e79f"
   },
   "outputs": [
    {
     "data": {
      "text/plain": [
       "train_id                0\n",
       "name                    0\n",
       "item_condition_id       0\n",
       "category_name         402\n",
       "brand_name              0\n",
       "price                   0\n",
       "shipping                0\n",
       "item_description        0\n",
       "subcat_1                0\n",
       "subcat_2                0\n",
       "subcat_3                0\n",
       "target                  0\n",
       "count_stopwords         0\n",
       "description_length      0\n",
       "is_branded              0\n",
       "dtype: int64"
      ]
     },
     "execution_count": 264,
     "metadata": {
      "tags": []
     },
     "output_type": "execute_result"
    }
   ],
   "source": [
    "cv_data.isnull().sum()"
   ]
  },
  {
   "cell_type": "code",
   "execution_count": 267,
   "metadata": {
    "colab": {
     "base_uri": "https://localhost:8080/"
    },
    "executionInfo": {
     "elapsed": 3645,
     "status": "ok",
     "timestamp": 1606214742435,
     "user": {
      "displayName": "Pratik Pawar",
      "photoUrl": "",
      "userId": "07854545271556537314"
     },
     "user_tz": -330
    },
    "id": "MFU3MIPil7rq",
    "outputId": "e9b21355-294c-4927-b25c-21c5ca41f8c0"
   },
   "outputs": [
    {
     "name": "stdout",
     "output_type": "stream",
     "text": [
      "Shape of train data:  (933453, 24839)\n",
      "Shape of cv data:  (103717, 24839)\n",
      "Shape of test data:  (444761, 24839)\n"
     ]
    }
   ],
   "source": [
    "#\"\"\",lengthName_train,lengthDes_train,lengthDwc_train,lengthNwc_train,lengthNlpw_train,bmp_train,submean1_train,submean2_train,submean3_train,cmp_train,bmedp_train,submedian1_train,submedian2_train,submedian3_train,cmedp_train\"\"\"\n",
    "#\"\"\",lengthName_cv,lengthDes_cv,lengthDwc_cv,lengthNwc_cv,lengthNlpw_cv,bmp_cv,submean1_cv,submean2_cv,submean3_cv,cmp_cv,bmedp_cv,submedian1_cv,submedian2_cv,submedian3_cv,cmedp_cv\n",
    "#\"\"\",lengthName_test,lengthDes_test,lengthDwc_test,lengthNwc_test,lengthNlpw_test,bmp_test,submean1_test,submean2_test,submean3_test,cmp_test,bmedp_test,submedian1_test,submedian2_test,submedian3_test,cmedp_test\n",
    "from scipy.sparse import hstack\n",
    "X_train=hstack((bow_cat1_train,bow_cat2_train,bow_cat3_train,bow_brand_train,bow_name_train,tfidf_description_train,features_train,length_train,stopword_train)).tocsr()\n",
    "X_cv=hstack((bow_cat1_cv,bow_cat2_cv,bow_cat3_cv,bow_brand_cv,bow_name_cv,tfidf_description_cv,features_cv,length_cv,stopword_cv)).tocsr()\n",
    "X_test=hstack((bow_cat1_test,bow_cat2_test,bow_cat3_test,bow_brand_test,bow_name_test,tfidf_description_test,features_test,length_test,stopword_test)).tocsr()\n",
    "print(\"Shape of train data: \",X_train.shape) #train\n",
    "print(\"Shape of cv data: \",X_cv.shape)   #cv\n",
    "print(\"Shape of test data: \",X_test.shape)   #test"
   ]
  },
  {
   "cell_type": "markdown",
   "metadata": {
    "id": "OX4-QUeHl7rq"
   },
   "source": [
    "# Linear Regression"
   ]
  },
  {
   "cell_type": "code",
   "execution_count": null,
   "metadata": {
    "colab": {
     "base_uri": "https://localhost:8080/"
    },
    "executionInfo": {
     "elapsed": 249481,
     "status": "ok",
     "timestamp": 1605910105494,
     "user": {
      "displayName": "Pratik Pawar",
      "photoUrl": "",
      "userId": "07854545271556537314"
     },
     "user_tz": -330
    },
    "id": "6BVG5ITXl7rq",
    "outputId": "24910d6d-dcb7-4437-f53c-5a67110611b8"
   },
   "outputs": [
    {
     "name": "stdout",
     "output_type": "stream",
     "text": [
      "With Linear Regression RMSLE on train is 0.46156213192552203 RMSLE on cv is 0.47396398949396923\n"
     ]
    }
   ],
   "source": [
    "from sklearn.linear_model import LinearRegression\n",
    "linearregression=LinearRegression(normalize=True)\n",
    "linearregression.fit(X_train,train_data['target'])  #fitting\n",
    "ytrain_predict=linearregression.predict(X_train)\n",
    "ycv_predict=linearregression.predict(X_cv)\n",
    "ytest_predict=linearregression.predict(X_test)\n",
    "test_data['target'] = ytest_predict\n",
    "train_error=np.sqrt(mean_squared_error(train_data['target'],ytrain_predict))\n",
    "cv_error=np.sqrt(mean_squared_error(cv_data['target'],ycv_predict))\n",
    "print(\"With Linear Regression RMSLE on train is {} RMSLE on cv is {}\".format(train_error,cv_error))"
   ]
  },
  {
   "cell_type": "code",
   "execution_count": null,
   "metadata": {
    "id": "thO0OHuyl7rq"
   },
   "outputs": [],
   "source": [
    "test_data['target1'] = np.exp(test_data['target']) - 1  \n",
    "submission = pd.DataFrame({'id':test_data['id'],'price':test_data['target1']})\n",
    "\n",
    "#Visualize the first 5 rows\n",
    "submission.head()"
   ]
  },
  {
   "cell_type": "code",
   "execution_count": null,
   "metadata": {
    "id": "dj_Soi5Hl7rq",
    "outputId": "beb49b05-2c0f-4ff6-ee42-19becc0ef8fa"
   },
   "outputs": [
    {
     "name": "stdout",
     "output_type": "stream",
     "text": [
      "Saved file: newSub.csv\n"
     ]
    }
   ],
   "source": [
    "filename = 'newSub.csv'\n",
    "submission.to_csv(filename,index=False)\n",
    "print('Saved file: ' + filename)"
   ]
  },
  {
   "cell_type": "markdown",
   "metadata": {
    "id": "0ixMPkY1l7rq"
   },
   "source": [
    "# Lasso"
   ]
  },
  {
   "cell_type": "code",
   "execution_count": null,
   "metadata": {
    "colab": {
     "base_uri": "https://localhost:8080/"
    },
    "executionInfo": {
     "elapsed": 1285368,
     "status": "ok",
     "timestamp": 1605913264944,
     "user": {
      "displayName": "Pratik Pawar",
      "photoUrl": "",
      "userId": "07854545271556537314"
     },
     "user_tz": -330
    },
    "id": "CBL82Ltwl7rq",
    "outputId": "b27a7c58-a95f-45de-944c-59ff185ad2b5"
   },
   "outputs": [
    {
     "name": "stdout",
     "output_type": "stream",
     "text": [
      "Here 1\n",
      "Here 2\n",
      "Fitting 3 folds for each of 7 candidates, totalling 21 fits\n"
     ]
    },
    {
     "name": "stderr",
     "output_type": "stream",
     "text": [
      "[Parallel(n_jobs=-1)]: Using backend LokyBackend with 2 concurrent workers.\n",
      "[Parallel(n_jobs=-1)]: Done  21 out of  21 | elapsed: 24.8min finished\n"
     ]
    },
    {
     "data": {
      "text/plain": [
       "GridSearchCV(cv=3, error_score=nan,\n",
       "             estimator=Lasso(alpha=1.0, copy_X=True, fit_intercept=False,\n",
       "                             max_iter=1000, normalize=False, positive=False,\n",
       "                             precompute=False, random_state=None,\n",
       "                             selection='cyclic', tol=0.0001, warm_start=False),\n",
       "             iid='deprecated', n_jobs=-1,\n",
       "             param_grid={'alpha': [1e-06, 1e-05, 0.0001, 0.001, 0.01, 0.1, 1]},\n",
       "             pre_dispatch='2*n_jobs', refit=True, return_train_score=True,\n",
       "             scoring=None, verbose=1)"
      ]
     },
     "execution_count": 47,
     "metadata": {
      "tags": []
     },
     "output_type": "execute_result"
    }
   ],
   "source": [
    "from sklearn.linear_model import Lasso\n",
    "params={'alpha':[0.000001,0.00001,0.0001,0.001,0.01,0.1,1]}\n",
    "lasso=Lasso(fit_intercept=False)\n",
    "print(\"Here 1\")\n",
    "gridsearchcv_lasso=GridSearchCV(lasso,param_grid=params,n_jobs=-1,cv=3,verbose=1,return_train_score=True)\n",
    "print(\"Here 2\")\n",
    "gridsearchcv_lasso.fit(X_train,train_data['target'])"
   ]
  },
  {
   "cell_type": "code",
   "execution_count": null,
   "metadata": {
    "id": "wkckum-_l7rq"
   },
   "outputs": [],
   "source": [
    "gridsearchcv_lasso.best_params_"
   ]
  },
  {
   "cell_type": "code",
   "execution_count": null,
   "metadata": {
    "colab": {
     "base_uri": "https://localhost:8080/"
    },
    "executionInfo": {
     "elapsed": 276450,
     "status": "ok",
     "timestamp": 1605910998726,
     "user": {
      "displayName": "Pratik Pawar",
      "photoUrl": "",
      "userId": "07854545271556537314"
     },
     "user_tz": -330
    },
    "id": "pfUsqmfRl7rr",
    "outputId": "322bfa03-4dc0-4d26-e8b9-bca845b86fbe"
   },
   "outputs": [
    {
     "name": "stdout",
     "output_type": "stream",
     "text": [
      "Model is fitting!!!\n",
      "Lasso Regression with alpha = 1e-06 RMSLE on train is 0.4629485488910152 RMSLE on cv is 0.4729198768814901\n"
     ]
    }
   ],
   "source": [
    "lasso = Lasso(alpha=1e-06,fit_intercept=False)\n",
    "print(\"Model is fitting!!!\")\n",
    "lasso.fit(X_train, train_data['target'])\n",
    "ytrain_predict=lasso.predict(X_train)\n",
    "ycv_predict=lasso.predict(X_cv)\n",
    "train_ = np.sqrt(mean_squared_error(train_data['target'], ytrain_predict))\n",
    "cv_=np.sqrt(mean_squared_error(cv_data['target'],ycv_predict))\n",
    "print(\"Lasso Regression with alpha = {} RMSLE on train is {} RMSLE on cv is {}\".format(1e-06,train_,cv_))"
   ]
  },
  {
   "cell_type": "code",
   "execution_count": null,
   "metadata": {
    "id": "xv3uCS1sl7rr"
   },
   "outputs": [],
   "source": [
    "ycv_lasso=lasso.predict(X_cv)\n",
    "ytest_lasso=lasso.predict(X_test)\n",
    "test_data['target'] = ytest_lasso"
   ]
  },
  {
   "cell_type": "code",
   "execution_count": null,
   "metadata": {
    "colab": {
     "base_uri": "https://localhost:8080/",
     "height": 204
    },
    "executionInfo": {
     "elapsed": 1431,
     "status": "ok",
     "timestamp": 1605911025077,
     "user": {
      "displayName": "Pratik Pawar",
      "photoUrl": "",
      "userId": "07854545271556537314"
     },
     "user_tz": -330
    },
    "id": "Xey5fb8yl7rr",
    "outputId": "dc067eac-dc8f-4b1a-d630-edf473b68641"
   },
   "outputs": [
    {
     "data": {
      "text/html": [
       "<div>\n",
       "<style scoped>\n",
       "    .dataframe tbody tr th:only-of-type {\n",
       "        vertical-align: middle;\n",
       "    }\n",
       "\n",
       "    .dataframe tbody tr th {\n",
       "        vertical-align: top;\n",
       "    }\n",
       "\n",
       "    .dataframe thead th {\n",
       "        text-align: right;\n",
       "    }\n",
       "</style>\n",
       "<table border=\"1\" class=\"dataframe\">\n",
       "  <thead>\n",
       "    <tr style=\"text-align: right;\">\n",
       "      <th></th>\n",
       "      <th>id</th>\n",
       "      <th>price</th>\n",
       "    </tr>\n",
       "  </thead>\n",
       "  <tbody>\n",
       "    <tr>\n",
       "      <th>0</th>\n",
       "      <td>1048243</td>\n",
       "      <td>41.719969</td>\n",
       "    </tr>\n",
       "    <tr>\n",
       "      <th>1</th>\n",
       "      <td>86986</td>\n",
       "      <td>43.435219</td>\n",
       "    </tr>\n",
       "    <tr>\n",
       "      <th>2</th>\n",
       "      <td>698316</td>\n",
       "      <td>23.808089</td>\n",
       "    </tr>\n",
       "    <tr>\n",
       "      <th>3</th>\n",
       "      <td>268868</td>\n",
       "      <td>14.477758</td>\n",
       "    </tr>\n",
       "    <tr>\n",
       "      <th>4</th>\n",
       "      <td>1360398</td>\n",
       "      <td>35.647026</td>\n",
       "    </tr>\n",
       "  </tbody>\n",
       "</table>\n",
       "</div>"
      ],
      "text/plain": [
       "        id      price\n",
       "0  1048243  41.719969\n",
       "1    86986  43.435219\n",
       "2   698316  23.808089\n",
       "3   268868  14.477758\n",
       "4  1360398  35.647026"
      ]
     },
     "execution_count": 44,
     "metadata": {
      "tags": []
     },
     "output_type": "execute_result"
    }
   ],
   "source": [
    "test_data['target1'] = np.exp(test_data['target']) - 1  \n",
    "submission = pd.DataFrame({'id':test_data['id'],'price':test_data['target1']})\n",
    "\n",
    "#Visualize the first 5 rows\n",
    "submission.head()"
   ]
  },
  {
   "cell_type": "code",
   "execution_count": null,
   "metadata": {
    "colab": {
     "base_uri": "https://localhost:8080/"
    },
    "executionInfo": {
     "elapsed": 2736,
     "status": "ok",
     "timestamp": 1605911126421,
     "user": {
      "displayName": "Pratik Pawar",
      "photoUrl": "",
      "userId": "07854545271556537314"
     },
     "user_tz": -330
    },
    "id": "qWPATh7Dl7rr",
    "outputId": "6da463eb-0356-404a-ba22-03903103d1a8"
   },
   "outputs": [
    {
     "name": "stdout",
     "output_type": "stream",
     "text": [
      "Saved file: /content/drive/MyDrive/Colab Notebooks/lasso.csv\n"
     ]
    }
   ],
   "source": [
    "filename = '/content/drive/MyDrive/Colab Notebooks/lasso.csv'\n",
    "submission.to_csv(filename,index=False)\n",
    "print('Saved file: ' + filename)"
   ]
  },
  {
   "cell_type": "markdown",
   "metadata": {
    "id": "6NOZezcy9iaG"
   },
   "source": [
    "# Ridge\n"
   ]
  },
  {
   "cell_type": "code",
   "execution_count": null,
   "metadata": {
    "colab": {
     "base_uri": "https://localhost:8080/"
    },
    "id": "yxqo8IwA9cFc",
    "outputId": "3cab4f47-7e4a-4199-bfb0-3fba8edf85a3"
   },
   "outputs": [
    {
     "name": "stdout",
     "output_type": "stream",
     "text": [
      "Fitting 3 folds for each of 32 candidates, totalling 96 fits\n"
     ]
    },
    {
     "name": "stderr",
     "output_type": "stream",
     "text": [
      "[Parallel(n_jobs=1)]: Using backend SequentialBackend with 1 concurrent workers.\n"
     ]
    }
   ],
   "source": [
    "from sklearn.linear_model import Ridge\n",
    "params={'alpha':[0.00001,0.0001,0.001,0.01,0.1,1,2,3,4,5,6,7,8,9,10,100],'solver':['cholesky','lsqr']}\n",
    "ridge=Ridge(fit_intercept=False)\n",
    "gridsearchcv_ridge=GridSearchCV(ridge,param_grid=params,cv=3,verbose=1,return_train_score=True)\n",
    "gridsearchcv_ridge.fit(X_train,train_data['target'])\n",
    "\"\"\"0.4618401113520639 RMSLE on cv is 0.4727242370600865\"\"\""
   ]
  },
  {
   "cell_type": "code",
   "execution_count": 207,
   "metadata": {
    "colab": {
     "base_uri": "https://localhost:8080/"
    },
    "executionInfo": {
     "elapsed": 210615,
     "status": "ok",
     "timestamp": 1606211971951,
     "user": {
      "displayName": "Pratik Pawar",
      "photoUrl": "",
      "userId": "07854545271556537314"
     },
     "user_tz": -330
    },
    "id": "V6BGNPnr96cD",
    "outputId": "ae850d0d-a177-4a09-94ce-623b48ef8296"
   },
   "outputs": [
    {
     "name": "stdout",
     "output_type": "stream",
     "text": [
      "Model is fitting!!!\n",
      "Here 1\n",
      "Here 2\n",
      "Ridge Regression with alpha = 1 RMSLE on train is 0.46249292830038 RMSLE on cv is 0.47036545345389025\n"
     ]
    }
   ],
   "source": [
    "from sklearn.linear_model import Ridge\n",
    "ridge = Ridge(alpha=2,solver='sag',fit_intercept=False)\n",
    "print(\"Model is fitting!!!\")\n",
    "ridge.fit(X_train, train_data['target'])\n",
    "ytrain_cholesky_predict=ridge.predict(X_train)\n",
    "print(\"Here 1\")\n",
    "ycv_cholesky_predict=ridge.predict(X_cv)\n",
    "print(\"Here 2\")\n",
    "train_ = np.sqrt(mean_squared_error(train_data['target'], ytrain_cholesky_predict))\n",
    "cv_=np.sqrt(mean_squared_error(cv_data['target'],ycv_cholesky_predict))\n",
    "print(\"Ridge Regression with alpha = {} RMSLE on train is {} RMSLE on cv is {}\".format(1,train_,cv_))"
   ]
  },
  {
   "cell_type": "markdown",
   "metadata": {
    "id": "0_yr0GtauPxC"
   },
   "source": [
    "LGBM Regressor"
   ]
  },
  {
   "cell_type": "code",
   "execution_count": null,
   "metadata": {
    "id": "lhZdRisJuGnQ"
   },
   "outputs": [],
   "source": [
    "LGBM Regressor"
   ]
  },
  {
   "cell_type": "code",
   "execution_count": 274,
   "metadata": {
    "colab": {
     "base_uri": "https://localhost:8080/",
     "height": 802
    },
    "executionInfo": {
     "elapsed": 10625,
     "status": "error",
     "timestamp": 1606215307983,
     "user": {
      "displayName": "Pratik Pawar",
      "photoUrl": "",
      "userId": "07854545271556537314"
     },
     "user_tz": -330
    },
    "id": "89-lwkTrumN_",
    "outputId": "30b648e7-c866-4254-9faf-c2ae4d081b86"
   },
   "outputs": [
    {
     "name": "stdout",
     "output_type": "stream",
     "text": [
      "Fitting 3 folds for each of 256 candidates, totalling 768 fits\n"
     ]
    },
    {
     "name": "stderr",
     "output_type": "stream",
     "text": [
      "[Parallel(n_jobs=-1)]: Using backend LokyBackend with 2 concurrent workers.\n",
      "exception calling callback for <Future at 0x7fd519553c18 state=finished raised TerminatedWorkerError>\n",
      "Traceback (most recent call last):\n",
      "  File \"/usr/local/lib/python3.6/dist-packages/joblib/externals/loky/_base.py\", line 625, in _invoke_callbacks\n",
      "    callback(self)\n",
      "  File \"/usr/local/lib/python3.6/dist-packages/joblib/parallel.py\", line 366, in __call__\n",
      "    self.parallel.dispatch_next()\n",
      "  File \"/usr/local/lib/python3.6/dist-packages/joblib/parallel.py\", line 799, in dispatch_next\n",
      "    if not self.dispatch_one_batch(self._original_iterator):\n",
      "  File \"/usr/local/lib/python3.6/dist-packages/joblib/parallel.py\", line 866, in dispatch_one_batch\n",
      "    self._dispatch(tasks)\n",
      "  File \"/usr/local/lib/python3.6/dist-packages/joblib/parallel.py\", line 784, in _dispatch\n",
      "    job = self._backend.apply_async(batch, callback=cb)\n",
      "  File \"/usr/local/lib/python3.6/dist-packages/joblib/_parallel_backends.py\", line 531, in apply_async\n",
      "    future = self._workers.submit(SafeFunction(func))\n",
      "  File \"/usr/local/lib/python3.6/dist-packages/joblib/externals/loky/reusable_executor.py\", line 178, in submit\n",
      "    fn, *args, **kwargs)\n",
      "  File \"/usr/local/lib/python3.6/dist-packages/joblib/externals/loky/process_executor.py\", line 1102, in submit\n",
      "    raise self._flags.broken\n",
      "joblib.externals.loky.process_executor.TerminatedWorkerError: A worker process managed by the executor was unexpectedly terminated. This could be caused by a segmentation fault while calling the function or by an excessive memory usage causing the Operating System to kill the worker.\n",
      "\n",
      "The exit codes of the workers are {SIGKILL(-9)}\n"
     ]
    },
    {
     "ename": "TerminatedWorkerError",
     "evalue": "ignored",
     "output_type": "error",
     "traceback": [
      "\u001b[0;31m---------------------------------------------------------------------------\u001b[0m",
      "\u001b[0;31mTerminatedWorkerError\u001b[0m                     Traceback (most recent call last)",
      "\u001b[0;32m<ipython-input-274-301594300362>\u001b[0m in \u001b[0;36m<module>\u001b[0;34m()\u001b[0m\n\u001b[1;32m      3\u001b[0m \u001b[0mlgbm_regressor\u001b[0m\u001b[0;34m=\u001b[0m\u001b[0mLGBMRegressor\u001b[0m\u001b[0;34m(\u001b[0m\u001b[0;34m**\u001b[0m\u001b[0mlgbm_params\u001b[0m\u001b[0;34m)\u001b[0m\u001b[0;34m\u001b[0m\u001b[0;34m\u001b[0m\u001b[0m\n\u001b[1;32m      4\u001b[0m \u001b[0mgridsearchcv\u001b[0m\u001b[0;34m=\u001b[0m\u001b[0mGridSearchCV\u001b[0m\u001b[0;34m(\u001b[0m\u001b[0mlgbm_regressor\u001b[0m\u001b[0;34m,\u001b[0m\u001b[0mparam_grid\u001b[0m\u001b[0;34m=\u001b[0m\u001b[0mparams\u001b[0m\u001b[0;34m,\u001b[0m\u001b[0mn_jobs\u001b[0m\u001b[0;34m=\u001b[0m\u001b[0;34m-\u001b[0m\u001b[0;36m1\u001b[0m\u001b[0;34m,\u001b[0m\u001b[0mcv\u001b[0m\u001b[0;34m=\u001b[0m\u001b[0;36m3\u001b[0m\u001b[0;34m,\u001b[0m\u001b[0mverbose\u001b[0m\u001b[0;34m=\u001b[0m\u001b[0;36m1\u001b[0m\u001b[0;34m)\u001b[0m\u001b[0;34m\u001b[0m\u001b[0;34m\u001b[0m\u001b[0m\n\u001b[0;32m----> 5\u001b[0;31m \u001b[0mgridsearchcv\u001b[0m\u001b[0;34m.\u001b[0m\u001b[0mfit\u001b[0m\u001b[0;34m(\u001b[0m\u001b[0mX_train\u001b[0m\u001b[0;34m,\u001b[0m\u001b[0mtrain_data\u001b[0m\u001b[0;34m[\u001b[0m\u001b[0;34m'target'\u001b[0m\u001b[0;34m]\u001b[0m\u001b[0;34m,\u001b[0m\u001b[0mearly_stopping_rounds\u001b[0m\u001b[0;34m=\u001b[0m\u001b[0;36m100\u001b[0m\u001b[0;34m,\u001b[0m\u001b[0mverbose\u001b[0m\u001b[0;34m=\u001b[0m\u001b[0;32mTrue\u001b[0m\u001b[0;34m)\u001b[0m\u001b[0;34m\u001b[0m\u001b[0;34m\u001b[0m\u001b[0m\n\u001b[0m",
      "\u001b[0;32m/usr/local/lib/python3.6/dist-packages/sklearn/model_selection/_search.py\u001b[0m in \u001b[0;36mfit\u001b[0;34m(self, X, y, groups, **fit_params)\u001b[0m\n\u001b[1;32m    708\u001b[0m                 \u001b[0;32mreturn\u001b[0m \u001b[0mresults\u001b[0m\u001b[0;34m\u001b[0m\u001b[0;34m\u001b[0m\u001b[0m\n\u001b[1;32m    709\u001b[0m \u001b[0;34m\u001b[0m\u001b[0m\n\u001b[0;32m--> 710\u001b[0;31m             \u001b[0mself\u001b[0m\u001b[0;34m.\u001b[0m\u001b[0m_run_search\u001b[0m\u001b[0;34m(\u001b[0m\u001b[0mevaluate_candidates\u001b[0m\u001b[0;34m)\u001b[0m\u001b[0;34m\u001b[0m\u001b[0;34m\u001b[0m\u001b[0m\n\u001b[0m\u001b[1;32m    711\u001b[0m \u001b[0;34m\u001b[0m\u001b[0m\n\u001b[1;32m    712\u001b[0m         \u001b[0;31m# For multi-metric evaluation, store the best_index_, best_params_ and\u001b[0m\u001b[0;34m\u001b[0m\u001b[0;34m\u001b[0m\u001b[0;34m\u001b[0m\u001b[0m\n",
      "\u001b[0;32m/usr/local/lib/python3.6/dist-packages/sklearn/model_selection/_search.py\u001b[0m in \u001b[0;36m_run_search\u001b[0;34m(self, evaluate_candidates)\u001b[0m\n\u001b[1;32m   1149\u001b[0m     \u001b[0;32mdef\u001b[0m \u001b[0m_run_search\u001b[0m\u001b[0;34m(\u001b[0m\u001b[0mself\u001b[0m\u001b[0;34m,\u001b[0m \u001b[0mevaluate_candidates\u001b[0m\u001b[0;34m)\u001b[0m\u001b[0;34m:\u001b[0m\u001b[0;34m\u001b[0m\u001b[0;34m\u001b[0m\u001b[0m\n\u001b[1;32m   1150\u001b[0m         \u001b[0;34m\"\"\"Search all candidates in param_grid\"\"\"\u001b[0m\u001b[0;34m\u001b[0m\u001b[0;34m\u001b[0m\u001b[0m\n\u001b[0;32m-> 1151\u001b[0;31m         \u001b[0mevaluate_candidates\u001b[0m\u001b[0;34m(\u001b[0m\u001b[0mParameterGrid\u001b[0m\u001b[0;34m(\u001b[0m\u001b[0mself\u001b[0m\u001b[0;34m.\u001b[0m\u001b[0mparam_grid\u001b[0m\u001b[0;34m)\u001b[0m\u001b[0;34m)\u001b[0m\u001b[0;34m\u001b[0m\u001b[0;34m\u001b[0m\u001b[0m\n\u001b[0m\u001b[1;32m   1152\u001b[0m \u001b[0;34m\u001b[0m\u001b[0m\n\u001b[1;32m   1153\u001b[0m \u001b[0;34m\u001b[0m\u001b[0m\n",
      "\u001b[0;32m/usr/local/lib/python3.6/dist-packages/sklearn/model_selection/_search.py\u001b[0m in \u001b[0;36mevaluate_candidates\u001b[0;34m(candidate_params)\u001b[0m\n\u001b[1;32m    687\u001b[0m                                \u001b[0;32mfor\u001b[0m \u001b[0mparameters\u001b[0m\u001b[0;34m,\u001b[0m \u001b[0;34m(\u001b[0m\u001b[0mtrain\u001b[0m\u001b[0;34m,\u001b[0m \u001b[0mtest\u001b[0m\u001b[0;34m)\u001b[0m\u001b[0;34m\u001b[0m\u001b[0;34m\u001b[0m\u001b[0m\n\u001b[1;32m    688\u001b[0m                                in product(candidate_params,\n\u001b[0;32m--> 689\u001b[0;31m                                           cv.split(X, y, groups)))\n\u001b[0m\u001b[1;32m    690\u001b[0m \u001b[0;34m\u001b[0m\u001b[0m\n\u001b[1;32m    691\u001b[0m                 \u001b[0;32mif\u001b[0m \u001b[0mlen\u001b[0m\u001b[0;34m(\u001b[0m\u001b[0mout\u001b[0m\u001b[0;34m)\u001b[0m \u001b[0;34m<\u001b[0m \u001b[0;36m1\u001b[0m\u001b[0;34m:\u001b[0m\u001b[0;34m\u001b[0m\u001b[0;34m\u001b[0m\u001b[0m\n",
      "\u001b[0;32m/usr/local/lib/python3.6/dist-packages/joblib/parallel.py\u001b[0m in \u001b[0;36m__call__\u001b[0;34m(self, iterable)\u001b[0m\n\u001b[1;32m   1059\u001b[0m \u001b[0;34m\u001b[0m\u001b[0m\n\u001b[1;32m   1060\u001b[0m             \u001b[0;32mwith\u001b[0m \u001b[0mself\u001b[0m\u001b[0;34m.\u001b[0m\u001b[0m_backend\u001b[0m\u001b[0;34m.\u001b[0m\u001b[0mretrieval_context\u001b[0m\u001b[0;34m(\u001b[0m\u001b[0;34m)\u001b[0m\u001b[0;34m:\u001b[0m\u001b[0;34m\u001b[0m\u001b[0;34m\u001b[0m\u001b[0m\n\u001b[0;32m-> 1061\u001b[0;31m                 \u001b[0mself\u001b[0m\u001b[0;34m.\u001b[0m\u001b[0mretrieve\u001b[0m\u001b[0;34m(\u001b[0m\u001b[0;34m)\u001b[0m\u001b[0;34m\u001b[0m\u001b[0;34m\u001b[0m\u001b[0m\n\u001b[0m\u001b[1;32m   1062\u001b[0m             \u001b[0;31m# Make sure that we get a last message telling us we are done\u001b[0m\u001b[0;34m\u001b[0m\u001b[0;34m\u001b[0m\u001b[0;34m\u001b[0m\u001b[0m\n\u001b[1;32m   1063\u001b[0m             \u001b[0melapsed_time\u001b[0m \u001b[0;34m=\u001b[0m \u001b[0mtime\u001b[0m\u001b[0;34m.\u001b[0m\u001b[0mtime\u001b[0m\u001b[0;34m(\u001b[0m\u001b[0;34m)\u001b[0m \u001b[0;34m-\u001b[0m \u001b[0mself\u001b[0m\u001b[0;34m.\u001b[0m\u001b[0m_start_time\u001b[0m\u001b[0;34m\u001b[0m\u001b[0;34m\u001b[0m\u001b[0m\n",
      "\u001b[0;32m/usr/local/lib/python3.6/dist-packages/joblib/parallel.py\u001b[0m in \u001b[0;36mretrieve\u001b[0;34m(self)\u001b[0m\n\u001b[1;32m    938\u001b[0m             \u001b[0;32mtry\u001b[0m\u001b[0;34m:\u001b[0m\u001b[0;34m\u001b[0m\u001b[0;34m\u001b[0m\u001b[0m\n\u001b[1;32m    939\u001b[0m                 \u001b[0;32mif\u001b[0m \u001b[0mgetattr\u001b[0m\u001b[0;34m(\u001b[0m\u001b[0mself\u001b[0m\u001b[0;34m.\u001b[0m\u001b[0m_backend\u001b[0m\u001b[0;34m,\u001b[0m \u001b[0;34m'supports_timeout'\u001b[0m\u001b[0;34m,\u001b[0m \u001b[0;32mFalse\u001b[0m\u001b[0;34m)\u001b[0m\u001b[0;34m:\u001b[0m\u001b[0;34m\u001b[0m\u001b[0;34m\u001b[0m\u001b[0m\n\u001b[0;32m--> 940\u001b[0;31m                     \u001b[0mself\u001b[0m\u001b[0;34m.\u001b[0m\u001b[0m_output\u001b[0m\u001b[0;34m.\u001b[0m\u001b[0mextend\u001b[0m\u001b[0;34m(\u001b[0m\u001b[0mjob\u001b[0m\u001b[0;34m.\u001b[0m\u001b[0mget\u001b[0m\u001b[0;34m(\u001b[0m\u001b[0mtimeout\u001b[0m\u001b[0;34m=\u001b[0m\u001b[0mself\u001b[0m\u001b[0;34m.\u001b[0m\u001b[0mtimeout\u001b[0m\u001b[0;34m)\u001b[0m\u001b[0;34m)\u001b[0m\u001b[0;34m\u001b[0m\u001b[0;34m\u001b[0m\u001b[0m\n\u001b[0m\u001b[1;32m    941\u001b[0m                 \u001b[0;32melse\u001b[0m\u001b[0;34m:\u001b[0m\u001b[0;34m\u001b[0m\u001b[0;34m\u001b[0m\u001b[0m\n\u001b[1;32m    942\u001b[0m                     \u001b[0mself\u001b[0m\u001b[0;34m.\u001b[0m\u001b[0m_output\u001b[0m\u001b[0;34m.\u001b[0m\u001b[0mextend\u001b[0m\u001b[0;34m(\u001b[0m\u001b[0mjob\u001b[0m\u001b[0;34m.\u001b[0m\u001b[0mget\u001b[0m\u001b[0;34m(\u001b[0m\u001b[0;34m)\u001b[0m\u001b[0;34m)\u001b[0m\u001b[0;34m\u001b[0m\u001b[0;34m\u001b[0m\u001b[0m\n",
      "\u001b[0;32m/usr/local/lib/python3.6/dist-packages/joblib/_parallel_backends.py\u001b[0m in \u001b[0;36mwrap_future_result\u001b[0;34m(future, timeout)\u001b[0m\n\u001b[1;32m    540\u001b[0m         AsyncResults.get from multiprocessing.\"\"\"\n\u001b[1;32m    541\u001b[0m         \u001b[0;32mtry\u001b[0m\u001b[0;34m:\u001b[0m\u001b[0;34m\u001b[0m\u001b[0;34m\u001b[0m\u001b[0m\n\u001b[0;32m--> 542\u001b[0;31m             \u001b[0;32mreturn\u001b[0m \u001b[0mfuture\u001b[0m\u001b[0;34m.\u001b[0m\u001b[0mresult\u001b[0m\u001b[0;34m(\u001b[0m\u001b[0mtimeout\u001b[0m\u001b[0;34m=\u001b[0m\u001b[0mtimeout\u001b[0m\u001b[0;34m)\u001b[0m\u001b[0;34m\u001b[0m\u001b[0;34m\u001b[0m\u001b[0m\n\u001b[0m\u001b[1;32m    543\u001b[0m         \u001b[0;32mexcept\u001b[0m \u001b[0mCfTimeoutError\u001b[0m \u001b[0;32mas\u001b[0m \u001b[0me\u001b[0m\u001b[0;34m:\u001b[0m\u001b[0;34m\u001b[0m\u001b[0;34m\u001b[0m\u001b[0m\n\u001b[1;32m    544\u001b[0m             \u001b[0;32mraise\u001b[0m \u001b[0mTimeoutError\u001b[0m \u001b[0;32mfrom\u001b[0m \u001b[0me\u001b[0m\u001b[0;34m\u001b[0m\u001b[0;34m\u001b[0m\u001b[0m\n",
      "\u001b[0;32m/usr/lib/python3.6/concurrent/futures/_base.py\u001b[0m in \u001b[0;36mresult\u001b[0;34m(self, timeout)\u001b[0m\n\u001b[1;32m    430\u001b[0m                 \u001b[0;32mraise\u001b[0m \u001b[0mCancelledError\u001b[0m\u001b[0;34m(\u001b[0m\u001b[0;34m)\u001b[0m\u001b[0;34m\u001b[0m\u001b[0;34m\u001b[0m\u001b[0m\n\u001b[1;32m    431\u001b[0m             \u001b[0;32melif\u001b[0m \u001b[0mself\u001b[0m\u001b[0;34m.\u001b[0m\u001b[0m_state\u001b[0m \u001b[0;34m==\u001b[0m \u001b[0mFINISHED\u001b[0m\u001b[0;34m:\u001b[0m\u001b[0;34m\u001b[0m\u001b[0;34m\u001b[0m\u001b[0m\n\u001b[0;32m--> 432\u001b[0;31m                 \u001b[0;32mreturn\u001b[0m \u001b[0mself\u001b[0m\u001b[0;34m.\u001b[0m\u001b[0m__get_result\u001b[0m\u001b[0;34m(\u001b[0m\u001b[0;34m)\u001b[0m\u001b[0;34m\u001b[0m\u001b[0;34m\u001b[0m\u001b[0m\n\u001b[0m\u001b[1;32m    433\u001b[0m             \u001b[0;32melse\u001b[0m\u001b[0;34m:\u001b[0m\u001b[0;34m\u001b[0m\u001b[0;34m\u001b[0m\u001b[0m\n\u001b[1;32m    434\u001b[0m                 \u001b[0;32mraise\u001b[0m \u001b[0mTimeoutError\u001b[0m\u001b[0;34m(\u001b[0m\u001b[0;34m)\u001b[0m\u001b[0;34m\u001b[0m\u001b[0;34m\u001b[0m\u001b[0m\n",
      "\u001b[0;32m/usr/lib/python3.6/concurrent/futures/_base.py\u001b[0m in \u001b[0;36m__get_result\u001b[0;34m(self)\u001b[0m\n\u001b[1;32m    382\u001b[0m     \u001b[0;32mdef\u001b[0m \u001b[0m__get_result\u001b[0m\u001b[0;34m(\u001b[0m\u001b[0mself\u001b[0m\u001b[0;34m)\u001b[0m\u001b[0;34m:\u001b[0m\u001b[0;34m\u001b[0m\u001b[0;34m\u001b[0m\u001b[0m\n\u001b[1;32m    383\u001b[0m         \u001b[0;32mif\u001b[0m \u001b[0mself\u001b[0m\u001b[0;34m.\u001b[0m\u001b[0m_exception\u001b[0m\u001b[0;34m:\u001b[0m\u001b[0;34m\u001b[0m\u001b[0;34m\u001b[0m\u001b[0m\n\u001b[0;32m--> 384\u001b[0;31m             \u001b[0;32mraise\u001b[0m \u001b[0mself\u001b[0m\u001b[0;34m.\u001b[0m\u001b[0m_exception\u001b[0m\u001b[0;34m\u001b[0m\u001b[0;34m\u001b[0m\u001b[0m\n\u001b[0m\u001b[1;32m    385\u001b[0m         \u001b[0;32melse\u001b[0m\u001b[0;34m:\u001b[0m\u001b[0;34m\u001b[0m\u001b[0;34m\u001b[0m\u001b[0m\n\u001b[1;32m    386\u001b[0m             \u001b[0;32mreturn\u001b[0m \u001b[0mself\u001b[0m\u001b[0;34m.\u001b[0m\u001b[0m_result\u001b[0m\u001b[0;34m\u001b[0m\u001b[0;34m\u001b[0m\u001b[0m\n",
      "\u001b[0;32m/usr/local/lib/python3.6/dist-packages/joblib/externals/loky/_base.py\u001b[0m in \u001b[0;36m_invoke_callbacks\u001b[0;34m(self)\u001b[0m\n\u001b[1;32m    623\u001b[0m         \u001b[0;32mfor\u001b[0m \u001b[0mcallback\u001b[0m \u001b[0;32min\u001b[0m \u001b[0mself\u001b[0m\u001b[0;34m.\u001b[0m\u001b[0m_done_callbacks\u001b[0m\u001b[0;34m:\u001b[0m\u001b[0;34m\u001b[0m\u001b[0;34m\u001b[0m\u001b[0m\n\u001b[1;32m    624\u001b[0m             \u001b[0;32mtry\u001b[0m\u001b[0;34m:\u001b[0m\u001b[0;34m\u001b[0m\u001b[0;34m\u001b[0m\u001b[0m\n\u001b[0;32m--> 625\u001b[0;31m                 \u001b[0mcallback\u001b[0m\u001b[0;34m(\u001b[0m\u001b[0mself\u001b[0m\u001b[0;34m)\u001b[0m\u001b[0;34m\u001b[0m\u001b[0;34m\u001b[0m\u001b[0m\n\u001b[0m\u001b[1;32m    626\u001b[0m             \u001b[0;32mexcept\u001b[0m \u001b[0mBaseException\u001b[0m\u001b[0;34m:\u001b[0m\u001b[0;34m\u001b[0m\u001b[0;34m\u001b[0m\u001b[0m\n\u001b[1;32m    627\u001b[0m                 \u001b[0mLOGGER\u001b[0m\u001b[0;34m.\u001b[0m\u001b[0mexception\u001b[0m\u001b[0;34m(\u001b[0m\u001b[0;34m'exception calling callback for %r'\u001b[0m\u001b[0;34m,\u001b[0m \u001b[0mself\u001b[0m\u001b[0;34m)\u001b[0m\u001b[0;34m\u001b[0m\u001b[0;34m\u001b[0m\u001b[0m\n",
      "\u001b[0;32m/usr/local/lib/python3.6/dist-packages/joblib/parallel.py\u001b[0m in \u001b[0;36m__call__\u001b[0;34m(self, out)\u001b[0m\n\u001b[1;32m    364\u001b[0m         \u001b[0;32mwith\u001b[0m \u001b[0mself\u001b[0m\u001b[0;34m.\u001b[0m\u001b[0mparallel\u001b[0m\u001b[0;34m.\u001b[0m\u001b[0m_lock\u001b[0m\u001b[0;34m:\u001b[0m\u001b[0;34m\u001b[0m\u001b[0;34m\u001b[0m\u001b[0m\n\u001b[1;32m    365\u001b[0m             \u001b[0;32mif\u001b[0m \u001b[0mself\u001b[0m\u001b[0;34m.\u001b[0m\u001b[0mparallel\u001b[0m\u001b[0;34m.\u001b[0m\u001b[0m_original_iterator\u001b[0m \u001b[0;32mis\u001b[0m \u001b[0;32mnot\u001b[0m \u001b[0;32mNone\u001b[0m\u001b[0;34m:\u001b[0m\u001b[0;34m\u001b[0m\u001b[0;34m\u001b[0m\u001b[0m\n\u001b[0;32m--> 366\u001b[0;31m                 \u001b[0mself\u001b[0m\u001b[0;34m.\u001b[0m\u001b[0mparallel\u001b[0m\u001b[0;34m.\u001b[0m\u001b[0mdispatch_next\u001b[0m\u001b[0;34m(\u001b[0m\u001b[0;34m)\u001b[0m\u001b[0;34m\u001b[0m\u001b[0;34m\u001b[0m\u001b[0m\n\u001b[0m\u001b[1;32m    367\u001b[0m \u001b[0;34m\u001b[0m\u001b[0m\n\u001b[1;32m    368\u001b[0m \u001b[0;34m\u001b[0m\u001b[0m\n",
      "\u001b[0;32m/usr/local/lib/python3.6/dist-packages/joblib/parallel.py\u001b[0m in \u001b[0;36mdispatch_next\u001b[0;34m(self)\u001b[0m\n\u001b[1;32m    797\u001b[0m \u001b[0;34m\u001b[0m\u001b[0m\n\u001b[1;32m    798\u001b[0m         \"\"\"\n\u001b[0;32m--> 799\u001b[0;31m         \u001b[0;32mif\u001b[0m \u001b[0;32mnot\u001b[0m \u001b[0mself\u001b[0m\u001b[0;34m.\u001b[0m\u001b[0mdispatch_one_batch\u001b[0m\u001b[0;34m(\u001b[0m\u001b[0mself\u001b[0m\u001b[0;34m.\u001b[0m\u001b[0m_original_iterator\u001b[0m\u001b[0;34m)\u001b[0m\u001b[0;34m:\u001b[0m\u001b[0;34m\u001b[0m\u001b[0;34m\u001b[0m\u001b[0m\n\u001b[0m\u001b[1;32m    800\u001b[0m             \u001b[0mself\u001b[0m\u001b[0;34m.\u001b[0m\u001b[0m_iterating\u001b[0m \u001b[0;34m=\u001b[0m \u001b[0;32mFalse\u001b[0m\u001b[0;34m\u001b[0m\u001b[0;34m\u001b[0m\u001b[0m\n\u001b[1;32m    801\u001b[0m             \u001b[0mself\u001b[0m\u001b[0;34m.\u001b[0m\u001b[0m_original_iterator\u001b[0m \u001b[0;34m=\u001b[0m \u001b[0;32mNone\u001b[0m\u001b[0;34m\u001b[0m\u001b[0;34m\u001b[0m\u001b[0m\n",
      "\u001b[0;32m/usr/local/lib/python3.6/dist-packages/joblib/parallel.py\u001b[0m in \u001b[0;36mdispatch_one_batch\u001b[0;34m(self, iterator)\u001b[0m\n\u001b[1;32m    864\u001b[0m                 \u001b[0;32mreturn\u001b[0m \u001b[0;32mFalse\u001b[0m\u001b[0;34m\u001b[0m\u001b[0;34m\u001b[0m\u001b[0m\n\u001b[1;32m    865\u001b[0m             \u001b[0;32melse\u001b[0m\u001b[0;34m:\u001b[0m\u001b[0;34m\u001b[0m\u001b[0;34m\u001b[0m\u001b[0m\n\u001b[0;32m--> 866\u001b[0;31m                 \u001b[0mself\u001b[0m\u001b[0;34m.\u001b[0m\u001b[0m_dispatch\u001b[0m\u001b[0;34m(\u001b[0m\u001b[0mtasks\u001b[0m\u001b[0;34m)\u001b[0m\u001b[0;34m\u001b[0m\u001b[0;34m\u001b[0m\u001b[0m\n\u001b[0m\u001b[1;32m    867\u001b[0m                 \u001b[0;32mreturn\u001b[0m \u001b[0;32mTrue\u001b[0m\u001b[0;34m\u001b[0m\u001b[0;34m\u001b[0m\u001b[0m\n\u001b[1;32m    868\u001b[0m \u001b[0;34m\u001b[0m\u001b[0m\n",
      "\u001b[0;32m/usr/local/lib/python3.6/dist-packages/joblib/parallel.py\u001b[0m in \u001b[0;36m_dispatch\u001b[0;34m(self, batch)\u001b[0m\n\u001b[1;32m    782\u001b[0m         \u001b[0;32mwith\u001b[0m \u001b[0mself\u001b[0m\u001b[0;34m.\u001b[0m\u001b[0m_lock\u001b[0m\u001b[0;34m:\u001b[0m\u001b[0;34m\u001b[0m\u001b[0;34m\u001b[0m\u001b[0m\n\u001b[1;32m    783\u001b[0m             \u001b[0mjob_idx\u001b[0m \u001b[0;34m=\u001b[0m \u001b[0mlen\u001b[0m\u001b[0;34m(\u001b[0m\u001b[0mself\u001b[0m\u001b[0;34m.\u001b[0m\u001b[0m_jobs\u001b[0m\u001b[0;34m)\u001b[0m\u001b[0;34m\u001b[0m\u001b[0;34m\u001b[0m\u001b[0m\n\u001b[0;32m--> 784\u001b[0;31m             \u001b[0mjob\u001b[0m \u001b[0;34m=\u001b[0m \u001b[0mself\u001b[0m\u001b[0;34m.\u001b[0m\u001b[0m_backend\u001b[0m\u001b[0;34m.\u001b[0m\u001b[0mapply_async\u001b[0m\u001b[0;34m(\u001b[0m\u001b[0mbatch\u001b[0m\u001b[0;34m,\u001b[0m \u001b[0mcallback\u001b[0m\u001b[0;34m=\u001b[0m\u001b[0mcb\u001b[0m\u001b[0;34m)\u001b[0m\u001b[0;34m\u001b[0m\u001b[0;34m\u001b[0m\u001b[0m\n\u001b[0m\u001b[1;32m    785\u001b[0m             \u001b[0;31m# A job can complete so quickly than its callback is\u001b[0m\u001b[0;34m\u001b[0m\u001b[0;34m\u001b[0m\u001b[0;34m\u001b[0m\u001b[0m\n\u001b[1;32m    786\u001b[0m             \u001b[0;31m# called before we get here, causing self._jobs to\u001b[0m\u001b[0;34m\u001b[0m\u001b[0;34m\u001b[0m\u001b[0;34m\u001b[0m\u001b[0m\n",
      "\u001b[0;32m/usr/local/lib/python3.6/dist-packages/joblib/_parallel_backends.py\u001b[0m in \u001b[0;36mapply_async\u001b[0;34m(self, func, callback)\u001b[0m\n\u001b[1;32m    529\u001b[0m     \u001b[0;32mdef\u001b[0m \u001b[0mapply_async\u001b[0m\u001b[0;34m(\u001b[0m\u001b[0mself\u001b[0m\u001b[0;34m,\u001b[0m \u001b[0mfunc\u001b[0m\u001b[0;34m,\u001b[0m \u001b[0mcallback\u001b[0m\u001b[0;34m=\u001b[0m\u001b[0;32mNone\u001b[0m\u001b[0;34m)\u001b[0m\u001b[0;34m:\u001b[0m\u001b[0;34m\u001b[0m\u001b[0;34m\u001b[0m\u001b[0m\n\u001b[1;32m    530\u001b[0m         \u001b[0;34m\"\"\"Schedule a func to be run\"\"\"\u001b[0m\u001b[0;34m\u001b[0m\u001b[0;34m\u001b[0m\u001b[0m\n\u001b[0;32m--> 531\u001b[0;31m         \u001b[0mfuture\u001b[0m \u001b[0;34m=\u001b[0m \u001b[0mself\u001b[0m\u001b[0;34m.\u001b[0m\u001b[0m_workers\u001b[0m\u001b[0;34m.\u001b[0m\u001b[0msubmit\u001b[0m\u001b[0;34m(\u001b[0m\u001b[0mSafeFunction\u001b[0m\u001b[0;34m(\u001b[0m\u001b[0mfunc\u001b[0m\u001b[0;34m)\u001b[0m\u001b[0;34m)\u001b[0m\u001b[0;34m\u001b[0m\u001b[0;34m\u001b[0m\u001b[0m\n\u001b[0m\u001b[1;32m    532\u001b[0m         \u001b[0mfuture\u001b[0m\u001b[0;34m.\u001b[0m\u001b[0mget\u001b[0m \u001b[0;34m=\u001b[0m \u001b[0mfunctools\u001b[0m\u001b[0;34m.\u001b[0m\u001b[0mpartial\u001b[0m\u001b[0;34m(\u001b[0m\u001b[0mself\u001b[0m\u001b[0;34m.\u001b[0m\u001b[0mwrap_future_result\u001b[0m\u001b[0;34m,\u001b[0m \u001b[0mfuture\u001b[0m\u001b[0;34m)\u001b[0m\u001b[0;34m\u001b[0m\u001b[0;34m\u001b[0m\u001b[0m\n\u001b[1;32m    533\u001b[0m         \u001b[0;32mif\u001b[0m \u001b[0mcallback\u001b[0m \u001b[0;32mis\u001b[0m \u001b[0;32mnot\u001b[0m \u001b[0;32mNone\u001b[0m\u001b[0;34m:\u001b[0m\u001b[0;34m\u001b[0m\u001b[0;34m\u001b[0m\u001b[0m\n",
      "\u001b[0;32m/usr/local/lib/python3.6/dist-packages/joblib/externals/loky/reusable_executor.py\u001b[0m in \u001b[0;36msubmit\u001b[0;34m(self, fn, *args, **kwargs)\u001b[0m\n\u001b[1;32m    176\u001b[0m         \u001b[0;32mwith\u001b[0m \u001b[0mself\u001b[0m\u001b[0;34m.\u001b[0m\u001b[0m_submit_resize_lock\u001b[0m\u001b[0;34m:\u001b[0m\u001b[0;34m\u001b[0m\u001b[0;34m\u001b[0m\u001b[0m\n\u001b[1;32m    177\u001b[0m             return super(_ReusablePoolExecutor, self).submit(\n\u001b[0;32m--> 178\u001b[0;31m                 fn, *args, **kwargs)\n\u001b[0m\u001b[1;32m    179\u001b[0m \u001b[0;34m\u001b[0m\u001b[0m\n\u001b[1;32m    180\u001b[0m     \u001b[0;32mdef\u001b[0m \u001b[0m_resize\u001b[0m\u001b[0;34m(\u001b[0m\u001b[0mself\u001b[0m\u001b[0;34m,\u001b[0m \u001b[0mmax_workers\u001b[0m\u001b[0;34m)\u001b[0m\u001b[0;34m:\u001b[0m\u001b[0;34m\u001b[0m\u001b[0;34m\u001b[0m\u001b[0m\n",
      "\u001b[0;32m/usr/local/lib/python3.6/dist-packages/joblib/externals/loky/process_executor.py\u001b[0m in \u001b[0;36msubmit\u001b[0;34m(self, fn, *args, **kwargs)\u001b[0m\n\u001b[1;32m   1100\u001b[0m         \u001b[0;32mwith\u001b[0m \u001b[0mself\u001b[0m\u001b[0;34m.\u001b[0m\u001b[0m_flags\u001b[0m\u001b[0;34m.\u001b[0m\u001b[0mshutdown_lock\u001b[0m\u001b[0;34m:\u001b[0m\u001b[0;34m\u001b[0m\u001b[0;34m\u001b[0m\u001b[0m\n\u001b[1;32m   1101\u001b[0m             \u001b[0;32mif\u001b[0m \u001b[0mself\u001b[0m\u001b[0;34m.\u001b[0m\u001b[0m_flags\u001b[0m\u001b[0;34m.\u001b[0m\u001b[0mbroken\u001b[0m \u001b[0;32mis\u001b[0m \u001b[0;32mnot\u001b[0m \u001b[0;32mNone\u001b[0m\u001b[0;34m:\u001b[0m\u001b[0;34m\u001b[0m\u001b[0;34m\u001b[0m\u001b[0m\n\u001b[0;32m-> 1102\u001b[0;31m                 \u001b[0;32mraise\u001b[0m \u001b[0mself\u001b[0m\u001b[0;34m.\u001b[0m\u001b[0m_flags\u001b[0m\u001b[0;34m.\u001b[0m\u001b[0mbroken\u001b[0m\u001b[0;34m\u001b[0m\u001b[0;34m\u001b[0m\u001b[0m\n\u001b[0m\u001b[1;32m   1103\u001b[0m             \u001b[0;32mif\u001b[0m \u001b[0mself\u001b[0m\u001b[0;34m.\u001b[0m\u001b[0m_flags\u001b[0m\u001b[0;34m.\u001b[0m\u001b[0mshutdown\u001b[0m\u001b[0;34m:\u001b[0m\u001b[0;34m\u001b[0m\u001b[0;34m\u001b[0m\u001b[0m\n\u001b[1;32m   1104\u001b[0m                 raise ShutdownExecutorError(\n",
      "\u001b[0;31mTerminatedWorkerError\u001b[0m: A worker process managed by the executor was unexpectedly terminated. This could be caused by a segmentation fault while calling the function or by an excessive memory usage causing the Operating System to kill the worker.\n\nThe exit codes of the workers are {SIGKILL(-9)}"
     ]
    }
   ],
   "source": [
    "params={'learning_rate':[0.1,0.3,0.5,0.6],'max_depth':[5,8,12,15],'n_estimators':[50,100,150,200],'num_leaves':[15,25,50,75],'boosting_type':['gbdt']}\n",
    "lgbm_params={'sub_sample':0.9,'colsample_bytree':0.8,'min_child_samples':50,'objective':'regression'}\n",
    "lgbm_regressor=LGBMRegressor(**lgbm_params)\n",
    "gridsearchcv=GridSearchCV(lgbm_regressor,param_grid=params,n_jobs=-1,cv=3,verbose=1)\n",
    "gridsearchcv.fit(X_train,train_data['target'],early_stopping_rounds=100,verbose=True)"
   ]
  },
  {
   "cell_type": "code",
   "execution_count": 268,
   "metadata": {
    "colab": {
     "base_uri": "https://localhost:8080/"
    },
    "executionInfo": {
     "elapsed": 288047,
     "status": "ok",
     "timestamp": 1606215052605,
     "user": {
      "displayName": "Pratik Pawar",
      "photoUrl": "",
      "userId": "07854545271556537314"
     },
     "user_tz": -330
    },
    "id": "Od6XFWnOu6dz",
    "outputId": "f652caca-916a-4152-98d7-01323c842765"
   },
   "outputs": [
    {
     "data": {
      "text/plain": [
       "LGBMRegressor(boosting_type='gbdt', class_weight=None, colsample_bytree=0.8,\n",
       "              importance_type='split', learning_rate=0.5, max_depth=8,\n",
       "              min_child_samples=50, min_child_weight=0.001, min_split_gain=0.0,\n",
       "              n_estimators=500, n_jobs=-1, num_leaves=80, objective=None,\n",
       "              random_state=None, reg_alpha=0.0, reg_lambda=0.0, silent=True,\n",
       "              sub_sample=0.9, subsample=1.0, subsample_for_bin=200000,\n",
       "              subsample_freq=0)"
      ]
     },
     "execution_count": 268,
     "metadata": {
      "tags": []
     },
     "output_type": "execute_result"
    }
   ],
   "source": [
    "from lightgbm import LGBMRegressor\n",
    "#params={'learning_rate':[0.1],'max_depth':[15],'n_estimators':[200],'num_leaves':[75],'boosting_type':['gbdt']}\n",
    "lgbm_regressor=LGBMRegressor(learning_rate=0.5,max_depth=8,n_estimators=500,num_leaves=80,boosting_type='gbdt',sub_sample=0.9,colsample_bytree=0.8,min_child_samples=50)\n",
    "lgbm_regressor.fit(X_train,train_data['target'])"
   ]
  },
  {
   "cell_type": "code",
   "execution_count": 269,
   "metadata": {
    "colab": {
     "base_uri": "https://localhost:8080/"
    },
    "executionInfo": {
     "elapsed": 18407,
     "status": "ok",
     "timestamp": 1606215077761,
     "user": {
      "displayName": "Pratik Pawar",
      "photoUrl": "",
      "userId": "07854545271556537314"
     },
     "user_tz": -330
    },
    "id": "nRtAE2KdvAEs",
    "outputId": "f5cfbf1b-9a94-4ba4-890c-f0f216be3ea8"
   },
   "outputs": [
    {
     "name": "stdout",
     "output_type": "stream",
     "text": [
      "RMSLE of train is 0.4411035641982534 RMSLE of test is 0.4644319987465199\n"
     ]
    }
   ],
   "source": [
    "ytrain_predict=lgbm_regressor.predict(X_train)\n",
    "ycv_predict=lgbm_regressor.predict(X_cv)\n",
    "training = np.sqrt(mean_squared_error(train_data['target'], ytrain_predict))\n",
    "cving=np.sqrt(mean_squared_error(cv_data['target'],ycv_predict))\n",
    "print(\"RMSLE of train is {} RMSLE of test is {}\".format(training,cving))"
   ]
  },
  {
   "cell_type": "code",
   "execution_count": 270,
   "metadata": {
    "executionInfo": {
     "elapsed": 10575,
     "status": "ok",
     "timestamp": 1606215098565,
     "user": {
      "displayName": "Pratik Pawar",
      "photoUrl": "",
      "userId": "07854545271556537314"
     },
     "user_tz": -330
    },
    "id": "k3MpFjgxyEt3"
   },
   "outputs": [],
   "source": [
    "ycv_lgbm=lgbm_regressor.predict(X_cv)\n",
    "ytest_lgbm=lgbm_regressor.predict(X_test)"
   ]
  },
  {
   "cell_type": "code",
   "execution_count": 271,
   "metadata": {
    "colab": {
     "base_uri": "https://localhost:8080/",
     "height": 204
    },
    "executionInfo": {
     "elapsed": 1116,
     "status": "ok",
     "timestamp": 1606215102131,
     "user": {
      "displayName": "Pratik Pawar",
      "photoUrl": "",
      "userId": "07854545271556537314"
     },
     "user_tz": -330
    },
    "id": "Jnn3vTSlyFs6",
    "outputId": "e55e8a24-bfe5-49f3-9837-9bbcaca9f1ab"
   },
   "outputs": [
    {
     "data": {
      "text/html": [
       "<div>\n",
       "<style scoped>\n",
       "    .dataframe tbody tr th:only-of-type {\n",
       "        vertical-align: middle;\n",
       "    }\n",
       "\n",
       "    .dataframe tbody tr th {\n",
       "        vertical-align: top;\n",
       "    }\n",
       "\n",
       "    .dataframe thead th {\n",
       "        text-align: right;\n",
       "    }\n",
       "</style>\n",
       "<table border=\"1\" class=\"dataframe\">\n",
       "  <thead>\n",
       "    <tr style=\"text-align: right;\">\n",
       "      <th></th>\n",
       "      <th>id</th>\n",
       "      <th>price</th>\n",
       "    </tr>\n",
       "  </thead>\n",
       "  <tbody>\n",
       "    <tr>\n",
       "      <th>0</th>\n",
       "      <td>1048243</td>\n",
       "      <td>39.020616</td>\n",
       "    </tr>\n",
       "    <tr>\n",
       "      <th>1</th>\n",
       "      <td>86986</td>\n",
       "      <td>64.342669</td>\n",
       "    </tr>\n",
       "    <tr>\n",
       "      <th>2</th>\n",
       "      <td>698316</td>\n",
       "      <td>20.606528</td>\n",
       "    </tr>\n",
       "    <tr>\n",
       "      <th>3</th>\n",
       "      <td>268868</td>\n",
       "      <td>20.565706</td>\n",
       "    </tr>\n",
       "    <tr>\n",
       "      <th>4</th>\n",
       "      <td>1360398</td>\n",
       "      <td>28.874220</td>\n",
       "    </tr>\n",
       "  </tbody>\n",
       "</table>\n",
       "</div>"
      ],
      "text/plain": [
       "        id      price\n",
       "0  1048243  39.020616\n",
       "1    86986  64.342669\n",
       "2   698316  20.606528\n",
       "3   268868  20.565706\n",
       "4  1360398  28.874220"
      ]
     },
     "execution_count": 271,
     "metadata": {
      "tags": []
     },
     "output_type": "execute_result"
    }
   ],
   "source": [
    "test_data['target'] = ytest_lgbm\n",
    "test_data['target1'] = np.exp(test_data['target']) - 1  \n",
    "submission = pd.DataFrame({'id':test_data['id'],'price':test_data['target1']})\n",
    "\n",
    "#Visualize the first 5 rows\n",
    "submission.head()"
   ]
  },
  {
   "cell_type": "code",
   "execution_count": 272,
   "metadata": {
    "colab": {
     "base_uri": "https://localhost:8080/"
    },
    "executionInfo": {
     "elapsed": 2662,
     "status": "ok",
     "timestamp": 1606215112300,
     "user": {
      "displayName": "Pratik Pawar",
      "photoUrl": "",
      "userId": "07854545271556537314"
     },
     "user_tz": -330
    },
    "id": "6rHZAIoSy-a2",
    "outputId": "778a5e7c-0002-4696-9bda-76618448e84d"
   },
   "outputs": [
    {
     "name": "stdout",
     "output_type": "stream",
     "text": [
      "Saved file: /content/drive/MyDrive/Colab Notebooks/lgbmTry2.csv\n"
     ]
    }
   ],
   "source": [
    "filename = '/content/drive/MyDrive/Colab Notebooks/lgbmTry2.csv'\n",
    "submission.to_csv(filename,index=False)\n",
    "print('Saved file: ' + filename)"
   ]
  }
 ],
 "metadata": {
  "accelerator": "GPU",
  "colab": {
   "name": "Untitled.ipynb",
   "provenance": []
  },
  "kernelspec": {
   "display_name": "Python 3",
   "language": "python",
   "name": "python3"
  },
  "language_info": {
   "codemirror_mode": {
    "name": "ipython",
    "version": 3
   },
   "file_extension": ".py",
   "mimetype": "text/x-python",
   "name": "python",
   "nbconvert_exporter": "python",
   "pygments_lexer": "ipython3",
   "version": "3.6.8"
  }
 },
 "nbformat": 4,
 "nbformat_minor": 1
}
